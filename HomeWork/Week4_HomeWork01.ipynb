{
 "cells": [
  {
   "cell_type": "code",
   "execution_count": 1,
   "metadata": {
    "executionInfo": {
     "elapsed": 997,
     "status": "ok",
     "timestamp": 1611610731229,
     "user": {
      "displayName": "K S",
      "photoUrl": "",
      "userId": "11621002665546969972"
     },
     "user_tz": -540
    },
    "id": "qOoPVmVXNCjU"
   },
   "outputs": [],
   "source": [
    "from sklearn.datasets import load_iris\n",
    "import pandas as pd\n",
    "import numpy as np\n",
    "import itertools\n",
    "import matplotlib.pyplot as plt\n",
    "import seaborn as sns\n",
    "from sklearn.model_selection import train_test_split\n",
    "from sklearn.preprocessing import StandardScaler\n",
    "from sklearn.neighbors import KNeighborsClassifier\n",
    "from sklearn.metrics import accuracy_score\n",
    "from sklearn.metrics import precision_score\n",
    "from sklearn.metrics import recall_score\n",
    "from sklearn.metrics import f1_score\n",
    "from sklearn.metrics import confusion_matrix\n",
    "from sklearn.model_selection import train_test_split\n",
    "from sklearn.linear_model import LogisticRegression\n",
    "from sklearn.svm import SVC\n",
    "from sklearn import tree\n",
    "from sklearn.ensemble import RandomForestClassifier"
   ]
  },
  {
   "cell_type": "markdown",
   "metadata": {
    "id": "CUVi0AUnM2Sr"
   },
   "source": [
    "**【課題1】練習のために特徴量とカテゴリを選択**\n",
    "\n",
    "選び方は合計18通りありますが、以下の組み合わせで練習することにします。irisデータセットをWeek3同様に取得した後、データフレームからこれらを抜き出してください。\n",
    "\n",
    "virgicolorとvirginica\n",
    "\n",
    "\n",
    "sepal_lengthとpetal_length"
   ]
  },
  {
   "cell_type": "code",
   "execution_count": 2,
   "metadata": {
    "executionInfo": {
     "elapsed": 1414,
     "status": "ok",
     "timestamp": 1611610731662,
     "user": {
      "displayName": "K S",
      "photoUrl": "",
      "userId": "11621002665546969972"
     },
     "user_tz": -540
    },
    "id": "fy_8ncdnM3xG"
   },
   "outputs": [],
   "source": [
    "# irisデータセットの読み込み\n",
    "iris_dataset = load_iris()\n",
    "X = pd.DataFrame(iris_dataset.data, columns=[\"sepal_length\", \"sepal_width\", \"petal_length\", \"petal_width\"])\n",
    "y = pd.DataFrame(iris_dataset.target, columns=[\"Species\"])\n",
    "\n",
    "df = pd.concat([X, y], axis=1)\n",
    "\n",
    "# virgicolorとvirginicaの列を抽出\n",
    "df = df.loc[:,[\"sepal_length\",\"petal_length\",\"Species\"]]\n",
    "\n",
    "# virgicolorとvirginicaの行を抽出\n",
    "df = df[df[\"Species\"].isin([1,2])]"
   ]
  },
  {
   "cell_type": "code",
   "execution_count": 3,
   "metadata": {
    "colab": {
     "base_uri": "https://localhost:8080/",
     "height": 411
    },
    "executionInfo": {
     "elapsed": 1394,
     "status": "ok",
     "timestamp": 1611610731662,
     "user": {
      "displayName": "K S",
      "photoUrl": "",
      "userId": "11621002665546969972"
     },
     "user_tz": -540
    },
    "id": "jub4U0m3NcCW",
    "outputId": "e6adfcf9-b828-44ce-8cb0-7c6522a80482"
   },
   "outputs": [
    {
     "data": {
      "text/html": [
       "<div>\n",
       "<style scoped>\n",
       "    .dataframe tbody tr th:only-of-type {\n",
       "        vertical-align: middle;\n",
       "    }\n",
       "\n",
       "    .dataframe tbody tr th {\n",
       "        vertical-align: top;\n",
       "    }\n",
       "\n",
       "    .dataframe thead th {\n",
       "        text-align: right;\n",
       "    }\n",
       "</style>\n",
       "<table border=\"1\" class=\"dataframe\">\n",
       "  <thead>\n",
       "    <tr style=\"text-align: right;\">\n",
       "      <th></th>\n",
       "      <th>sepal_length</th>\n",
       "      <th>petal_length</th>\n",
       "      <th>Species</th>\n",
       "    </tr>\n",
       "  </thead>\n",
       "  <tbody>\n",
       "    <tr>\n",
       "      <th>50</th>\n",
       "      <td>7.0</td>\n",
       "      <td>4.7</td>\n",
       "      <td>1</td>\n",
       "    </tr>\n",
       "    <tr>\n",
       "      <th>51</th>\n",
       "      <td>6.4</td>\n",
       "      <td>4.5</td>\n",
       "      <td>1</td>\n",
       "    </tr>\n",
       "    <tr>\n",
       "      <th>52</th>\n",
       "      <td>6.9</td>\n",
       "      <td>4.9</td>\n",
       "      <td>1</td>\n",
       "    </tr>\n",
       "    <tr>\n",
       "      <th>53</th>\n",
       "      <td>5.5</td>\n",
       "      <td>4.0</td>\n",
       "      <td>1</td>\n",
       "    </tr>\n",
       "    <tr>\n",
       "      <th>54</th>\n",
       "      <td>6.5</td>\n",
       "      <td>4.6</td>\n",
       "      <td>1</td>\n",
       "    </tr>\n",
       "    <tr>\n",
       "      <th>...</th>\n",
       "      <td>...</td>\n",
       "      <td>...</td>\n",
       "      <td>...</td>\n",
       "    </tr>\n",
       "    <tr>\n",
       "      <th>145</th>\n",
       "      <td>6.7</td>\n",
       "      <td>5.2</td>\n",
       "      <td>2</td>\n",
       "    </tr>\n",
       "    <tr>\n",
       "      <th>146</th>\n",
       "      <td>6.3</td>\n",
       "      <td>5.0</td>\n",
       "      <td>2</td>\n",
       "    </tr>\n",
       "    <tr>\n",
       "      <th>147</th>\n",
       "      <td>6.5</td>\n",
       "      <td>5.2</td>\n",
       "      <td>2</td>\n",
       "    </tr>\n",
       "    <tr>\n",
       "      <th>148</th>\n",
       "      <td>6.2</td>\n",
       "      <td>5.4</td>\n",
       "      <td>2</td>\n",
       "    </tr>\n",
       "    <tr>\n",
       "      <th>149</th>\n",
       "      <td>5.9</td>\n",
       "      <td>5.1</td>\n",
       "      <td>2</td>\n",
       "    </tr>\n",
       "  </tbody>\n",
       "</table>\n",
       "<p>100 rows × 3 columns</p>\n",
       "</div>"
      ],
      "text/plain": [
       "     sepal_length  petal_length  Species\n",
       "50            7.0           4.7        1\n",
       "51            6.4           4.5        1\n",
       "52            6.9           4.9        1\n",
       "53            5.5           4.0        1\n",
       "54            6.5           4.6        1\n",
       "..            ...           ...      ...\n",
       "145           6.7           5.2        2\n",
       "146           6.3           5.0        2\n",
       "147           6.5           5.2        2\n",
       "148           6.2           5.4        2\n",
       "149           5.9           5.1        2\n",
       "\n",
       "[100 rows x 3 columns]"
      ]
     },
     "execution_count": 3,
     "metadata": {},
     "output_type": "execute_result"
    }
   ],
   "source": [
    "df"
   ]
  },
  {
   "cell_type": "markdown",
   "metadata": {
    "id": "0JGIoTKvPT79"
   },
   "source": [
    "**【問題2】データの分析**\n",
    "\n",
    "まずはデータの分析を行いますが、これはWeek3の課題1で行いました。その際出力した散布図行列を見ることで、先ほどの18通りそれぞれの散布図も確認できます。sepal_lengthとpetal_lengthを使い、virgicolorとvirginicaを分類するのは少し難しそうな状況であることが分かるはずです。\n",
    "\n",
    "ここでは復習を兼ねて、抜き出したデータの散布図と箱ひげ図（boxplot）、バイオリン図（violinplot）を表示してください。"
   ]
  },
  {
   "cell_type": "code",
   "execution_count": 4,
   "metadata": {
    "colab": {
     "base_uri": "https://localhost:8080/",
     "height": 509
    },
    "executionInfo": {
     "elapsed": 2291,
     "status": "ok",
     "timestamp": 1611610732585,
     "user": {
      "displayName": "K S",
      "photoUrl": "",
      "userId": "11621002665546969972"
     },
     "user_tz": -540
    },
    "id": "vpACyEJCOnr6",
    "outputId": "06546f6a-7523-49f6-d301-78de6a5bfec3"
   },
   "outputs": [
    {
     "name": "stderr",
     "output_type": "stream",
     "text": [
      "/Users/satouwataru/.pyenv/versions/anaconda3-2020.07/lib/python3.8/site-packages/seaborn/_decorators.py:36: FutureWarning: Pass the following variables as keyword args: x, y. From version 0.12, the only valid positional argument will be `data`, and passing other arguments without an explicit keyword will result in an error or misinterpretation.\n",
      "  warnings.warn(\n"
     ]
    },
    {
     "data": {
      "text/plain": [
       "<seaborn.axisgrid.JointGrid at 0x7fe530f94100>"
      ]
     },
     "execution_count": 4,
     "metadata": {},
     "output_type": "execute_result"
    },
    {
     "data": {
      "image/png": "[encoded data removed]",
      "text/plain": [
       "<Figure size 432x432 with 3 Axes>"
      ]
     },
     "metadata": {
      "needs_background": "light"
     },
     "output_type": "display_data"
    }
   ],
   "source": [
    "# 散布図\n",
    "sns.jointplot('sepal_length', 'petal_length', data=df, hue=\"Species\")"
   ]
  },
  {
   "cell_type": "code",
   "execution_count": 5,
   "metadata": {
    "colab": {
     "base_uri": "https://localhost:8080/",
     "height": 281
    },
    "executionInfo": {
     "elapsed": 3053,
     "status": "ok",
     "timestamp": 1611610733379,
     "user": {
      "displayName": "K S",
      "photoUrl": "",
      "userId": "11621002665546969972"
     },
     "user_tz": -540
    },
    "id": "mbw--0ltRYxG",
    "outputId": "b28c2bb6-3e9e-4cad-d90c-225283bbbd74"
   },
   "outputs": [
    {
     "data": {
      "text/plain": [
       "<AxesSubplot:>"
      ]
     },
     "execution_count": 5,
     "metadata": {},
     "output_type": "execute_result"
    },
    {
     "data": {
      "image/png": "[encoded data removed]",
      "text/plain": [
       "<Figure size 432x288 with 1 Axes>"
      ]
     },
     "metadata": {
      "needs_background": "light"
     },
     "output_type": "display_data"
    }
   ],
   "source": [
    "# 箱ひげ図\n",
    "sns.boxplot(data=df.loc[:,[\"sepal_length\",\"petal_length\"]])"
   ]
  },
  {
   "cell_type": "code",
   "execution_count": 6,
   "metadata": {
    "colab": {
     "base_uri": "https://localhost:8080/",
     "height": 281
    },
    "executionInfo": {
     "elapsed": 3024,
     "status": "ok",
     "timestamp": 1611610733379,
     "user": {
      "displayName": "K S",
      "photoUrl": "",
      "userId": "11621002665546969972"
     },
     "user_tz": -540
    },
    "id": "Np0gG-xaSVXx",
    "outputId": "56d1178e-9ea8-4192-86d7-28e0c1e2ebdd"
   },
   "outputs": [
    {
     "data": {
      "text/plain": [
       "<AxesSubplot:>"
      ]
     },
     "execution_count": 6,
     "metadata": {},
     "output_type": "execute_result"
    },
    {
     "data": {
      "image/png": "[encoded data removed]",
      "text/plain": [
       "<Figure size 432x288 with 1 Axes>"
      ]
     },
     "metadata": {
      "needs_background": "light"
     },
     "output_type": "display_data"
    }
   ],
   "source": [
    "# バイオリン図\n",
    "sns.violinplot(data=df.loc[:,[\"sepal_length\",\"petal_length\"]])"
   ]
  },
  {
   "cell_type": "markdown",
   "metadata": {
    "id": "vu3Ega1qTeBv"
   },
   "source": [
    "**【問題3】前処理・訓練データと検証データの分割**\n",
    "\n",
    "前処理の一貫として、訓練データと検証データの分割を行います。今回は訓練データ75%、検証データ25%として分割してください。\n",
    "\n",
    "scikit-learnのtrain_test_splitが利用できます。公式ドキュメントのExamplesを参考に動かしてください。"
   ]
  },
  {
   "cell_type": "code",
   "execution_count": 7,
   "metadata": {
    "colab": {
     "base_uri": "https://localhost:8080/"
    },
    "executionInfo": {
     "elapsed": 2994,
     "status": "ok",
     "timestamp": 1611610733380,
     "user": {
      "displayName": "K S",
      "photoUrl": "",
      "userId": "11621002665546969972"
     },
     "user_tz": -540
    },
    "id": "-Pg1TBscTXsr",
    "outputId": "8209ee9e-a6a6-4e87-b97b-4a69f147b2bb"
   },
   "outputs": [
    {
     "name": "stdout",
     "output_type": "stream",
     "text": [
      "[[6.2 5.4]\n",
      " [6.3 4.9]\n",
      " [5.9 4.2]\n",
      " [5.4 4.5]\n",
      " [6.9 5.4]\n",
      " [7.1 5.9]\n",
      " [6.6 4.6]\n",
      " [5.6 4.5]\n",
      " [5.8 3.9]\n",
      " [5.7 4.1]\n",
      " [7.2 5.8]\n",
      " [7.7 6.9]\n",
      " [7.2 6. ]\n",
      " [6.4 5.3]\n",
      " [7.7 6.1]\n",
      " [6.1 5.6]\n",
      " [5.6 3.6]\n",
      " [6.4 4.3]\n",
      " [6.5 5.2]\n",
      " [6.  5.1]\n",
      " [6.9 5.1]\n",
      " [5.7 4.2]\n",
      " [6.7 5.2]\n",
      " [6.5 5.8]\n",
      " [5.5 4.4]\n",
      " [6.3 4.7]\n",
      " [6.6 4.4]\n",
      " [6.5 4.6]\n",
      " [6.8 5.9]\n",
      " [5.6 4.9]\n",
      " [5.7 4.2]\n",
      " [7.7 6.7]\n",
      " [5.  3.3]\n",
      " [6.  4.5]\n",
      " [5.7 3.5]\n",
      " [4.9 4.5]\n",
      " [6.2 4.5]\n",
      " [5.7 4.5]\n",
      " [5.6 3.9]\n",
      " [6.7 5. ]\n",
      " [5.2 3.9]\n",
      " [6.4 4.5]\n",
      " [7.7 6.7]\n",
      " [6.7 5.6]\n",
      " [7.  4.7]\n",
      " [7.9 6.4]\n",
      " [5.1 3. ]\n",
      " [6.3 5. ]\n",
      " [5.8 5.1]\n",
      " [5.8 4.1]\n",
      " [7.2 6.1]\n",
      " [5.9 4.8]\n",
      " [6.1 4.7]\n",
      " [6.  4. ]\n",
      " [5.7 5. ]\n",
      " [5.5 3.7]\n",
      " [6.5 5.5]\n",
      " [6.3 5.1]\n",
      " [7.6 6.6]\n",
      " [5.5 3.8]\n",
      " [6.1 4.7]\n",
      " [5.5 4. ]\n",
      " [5.9 5.1]\n",
      " [6.4 5.3]\n",
      " [6.2 4.8]\n",
      " [5.8 5.1]\n",
      " [6.4 5.6]\n",
      " [6.5 5.1]\n",
      " [6.4 5.5]\n",
      " [6.7 4.7]\n",
      " [6.9 4.9]\n",
      " [5.  3.5]\n",
      " [6.1 4.6]\n",
      " [6.3 4.9]\n",
      " [5.6 4.1]]\n",
      "[[2]\n",
      " [2]\n",
      " [1]\n",
      " [1]\n",
      " [2]\n",
      " [2]\n",
      " [1]\n",
      " [1]\n",
      " [1]\n",
      " [1]\n",
      " [2]\n",
      " [2]\n",
      " [2]\n",
      " [2]\n",
      " [2]\n",
      " [2]\n",
      " [1]\n",
      " [1]\n",
      " [2]\n",
      " [1]\n",
      " [2]\n",
      " [1]\n",
      " [2]\n",
      " [2]\n",
      " [1]\n",
      " [1]\n",
      " [1]\n",
      " [1]\n",
      " [2]\n",
      " [2]\n",
      " [1]\n",
      " [2]\n",
      " [1]\n",
      " [1]\n",
      " [1]\n",
      " [2]\n",
      " [1]\n",
      " [1]\n",
      " [1]\n",
      " [1]\n",
      " [1]\n",
      " [1]\n",
      " [2]\n",
      " [2]\n",
      " [1]\n",
      " [2]\n",
      " [1]\n",
      " [2]\n",
      " [2]\n",
      " [1]\n",
      " [2]\n",
      " [1]\n",
      " [1]\n",
      " [1]\n",
      " [2]\n",
      " [1]\n",
      " [2]\n",
      " [2]\n",
      " [2]\n",
      " [1]\n",
      " [1]\n",
      " [1]\n",
      " [2]\n",
      " [2]\n",
      " [2]\n",
      " [2]\n",
      " [2]\n",
      " [2]\n",
      " [2]\n",
      " [1]\n",
      " [1]\n",
      " [1]\n",
      " [1]\n",
      " [1]\n",
      " [1]]\n"
     ]
    }
   ],
   "source": [
    "# 訓練データと検証データの分割\n",
    "df_train, df_test = train_test_split(df)\n",
    "\n",
    "# numpy.ndarrayに変換\n",
    "arr_train_x = df_train.loc[:,[\"sepal_length\",\"petal_length\"]].values\n",
    "arr_train_y = df_train.loc[:,[\"Species\"]].values\n",
    "\n",
    "arr_test_x = df_test.loc[:,[\"sepal_length\",\"petal_length\"]].values\n",
    "arr_test_y = df_test.loc[:,[\"Species\"]].values\n",
    "\n",
    "# 訓練データ\n",
    "print(arr_train_x)\n",
    "print(arr_train_y)"
   ]
  },
  {
   "cell_type": "markdown",
   "metadata": {
    "id": "ppJxttdsl0Bu"
   },
   "source": [
    "**【問題4】前処理・標準化**\n",
    "\n",
    "分類精度をあげるための加工を行います。手法ごとに適切な方法は異なりますが、ここでは一例として 標準化 を行うことにします。\n",
    "\n",
    "標準化を行うライブラリもscikit-learnに用意されています。これを使って標準化してください。\n",
    "\n",
    "sklearn.model_selection.train_test_split — scikit-learn 0.21.3 documentation\n",
    "\n",
    "《注意点》\n",
    "\n",
    "標準化は訓練用のデータでfitを行い、訓練用、検証用双方のデータにtransformを行います。検証データは学習の段階には存在しない未知のデータの代わりなので、標準化のための平均や標準偏差の計算に使ってはいけません。また、今回は分類問題なので、ラベルについては標準化させる必要はありません。"
   ]
  },
  {
   "cell_type": "code",
   "execution_count": 8,
   "metadata": {
    "colab": {
     "base_uri": "https://localhost:8080/"
    },
    "executionInfo": {
     "elapsed": 2963,
     "status": "ok",
     "timestamp": 1611610733380,
     "user": {
      "displayName": "K S",
      "photoUrl": "",
      "userId": "11621002665546969972"
     },
     "user_tz": -540
    },
    "id": "CjT8rTBcf39k",
    "outputId": "dd639471-5d88-4b99-c683-0ab5159f05ae"
   },
   "outputs": [
    {
     "name": "stdout",
     "output_type": "stream",
     "text": [
      "[[-0.06950714  0.63770184]\n",
      " [ 0.0752994   0.03533864]\n",
      " [-0.50392674 -0.80796984]\n",
      " [-1.22795941 -0.44655192]\n",
      " [ 0.9441386   0.63770184]\n",
      " [ 1.23375167  1.24006504]\n",
      " [ 0.509719   -0.32607928]\n",
      " [-0.93834634 -0.44655192]\n",
      " [-0.64873327 -1.16938776]\n",
      " [-0.79353981 -0.92844248]\n",
      " [ 1.37855821  1.1195924 ]\n",
      " [ 2.10259088  2.44479144]\n",
      " [ 1.37855821  1.36053768]\n",
      " [ 0.22010593  0.5172292 ]\n",
      " [ 2.10259088  1.48101032]\n",
      " [-0.21431367  0.87864712]\n",
      " [-0.93834634 -1.53080568]\n",
      " [ 0.22010593 -0.6874972 ]\n",
      " [ 0.36491247  0.39675656]\n",
      " [-0.35912021  0.27628392]\n",
      " [ 0.9441386   0.27628392]\n",
      " [-0.79353981 -0.80796984]\n",
      " [ 0.65452554  0.39675656]\n",
      " [ 0.36491247  1.1195924 ]\n",
      " [-1.08315288 -0.56702456]\n",
      " [ 0.0752994  -0.20560664]\n",
      " [ 0.509719   -0.56702456]\n",
      " [ 0.36491247 -0.32607928]\n",
      " [ 0.79933207  1.24006504]\n",
      " [-0.93834634  0.03533864]\n",
      " [-0.79353981 -0.80796984]\n",
      " [ 2.10259088  2.20384616]\n",
      " [-1.80718555 -1.8922236 ]\n",
      " [-0.35912021 -0.44655192]\n",
      " [-0.79353981 -1.65127832]\n",
      " [-1.95199208 -0.44655192]\n",
      " [-0.06950714 -0.44655192]\n",
      " [-0.79353981 -0.44655192]\n",
      " [-0.93834634 -1.16938776]\n",
      " [ 0.65452554  0.15581128]\n",
      " [-1.51757248 -1.16938776]\n",
      " [ 0.22010593 -0.44655192]\n",
      " [ 2.10259088  2.20384616]\n",
      " [ 0.65452554  0.87864712]\n",
      " [ 1.08894514 -0.20560664]\n",
      " [ 2.39220395  1.84242824]\n",
      " [-1.66237902 -2.25364152]\n",
      " [ 0.0752994   0.15581128]\n",
      " [-0.64873327  0.27628392]\n",
      " [-0.64873327 -0.92844248]\n",
      " [ 1.37855821  1.48101032]\n",
      " [-0.50392674 -0.085134  ]\n",
      " [-0.21431367 -0.20560664]\n",
      " [-0.35912021 -1.04891512]\n",
      " [-0.79353981  0.15581128]\n",
      " [-1.08315288 -1.41033304]\n",
      " [ 0.36491247  0.75817448]\n",
      " [ 0.0752994   0.27628392]\n",
      " [ 1.95778435  2.08337352]\n",
      " [-1.08315288 -1.2898604 ]\n",
      " [-0.21431367 -0.20560664]\n",
      " [-1.08315288 -1.04891512]\n",
      " [-0.50392674  0.27628392]\n",
      " [ 0.22010593  0.5172292 ]\n",
      " [-0.06950714 -0.085134  ]\n",
      " [-0.64873327  0.27628392]\n",
      " [ 0.22010593  0.87864712]\n",
      " [ 0.36491247  0.27628392]\n",
      " [ 0.22010593  0.75817448]\n",
      " [ 0.65452554 -0.20560664]\n",
      " [ 0.9441386   0.03533864]\n",
      " [-1.80718555 -1.65127832]\n",
      " [-0.21431367 -0.32607928]\n",
      " [ 0.0752994   0.03533864]\n",
      " [-0.93834634 -0.92844248]]\n"
     ]
    }
   ],
   "source": [
    "# 標準化\n",
    "sc = StandardScaler()\n",
    "\n",
    "# 訓練用データ\n",
    "sc = sc.fit(arr_train_x)\n",
    "arr_train_x = sc.transform(arr_train_x)\n",
    "\n",
    "# 検証用データ\n",
    "arr_test_x = sc.transform(arr_test_x)\n",
    "\n",
    "print(arr_train_x)"
   ]
  },
  {
   "cell_type": "markdown",
   "metadata": {
    "id": "H2VVyWoLzCC5"
   },
   "source": [
    "**【問題5】学習と推定**\n",
    "\n",
    "最近傍法（k-nearest neighbors, k-nn）で学習を行います。scikit-learnの公式ドキュメントのExamplesを参考に、k-nnの学習を行ってください。ここで入力するのは訓練データです。\n",
    "\n",
    "sklearn.neighbors.KNeighborsClassifier — scikit-learn 0.21.3 documentation\n",
    "\n",
    "学習が終わった後、検証データをpredictメソッドに入力し、推定を行ってください。\n",
    "\n",
    "パラメータが複数ありますが、今はそれらの理解を重視しません。最も基本的な要素として、n_neighborsの数があるため、これは複数試してみましょう。デフォルトの5、および1と3を最低限行ってください。5の場合を5-nn、3の場合を3-nnのように呼びます。"
   ]
  },
  {
   "cell_type": "code",
   "execution_count": 9,
   "metadata": {
    "colab": {
     "base_uri": "https://localhost:8080/"
    },
    "executionInfo": {
     "elapsed": 2934,
     "status": "ok",
     "timestamp": 1611610733381,
     "user": {
      "displayName": "K S",
      "photoUrl": "",
      "userId": "11621002665546969972"
     },
     "user_tz": -540
    },
    "id": "94n0oyoVmKby",
    "outputId": "f8f245a9-1944-4651-ca29-f2fa42c9b2fb"
   },
   "outputs": [
    {
     "name": "stderr",
     "output_type": "stream",
     "text": [
      "/Users/satouwataru/.pyenv/versions/anaconda3-2020.07/lib/python3.8/site-packages/sklearn/neighbors/_classification.py:179: DataConversionWarning: A column-vector y was passed when a 1d array was expected. Please change the shape of y to (n_samples,), for example using ravel().\n",
      "  return self._fit(X, y)\n",
      "/Users/satouwataru/.pyenv/versions/anaconda3-2020.07/lib/python3.8/site-packages/sklearn/neighbors/_classification.py:179: DataConversionWarning: A column-vector y was passed when a 1d array was expected. Please change the shape of y to (n_samples,), for example using ravel().\n",
      "  return self._fit(X, y)\n",
      "/Users/satouwataru/.pyenv/versions/anaconda3-2020.07/lib/python3.8/site-packages/sklearn/neighbors/_classification.py:179: DataConversionWarning: A column-vector y was passed when a 1d array was expected. Please change the shape of y to (n_samples,), for example using ravel().\n",
      "  return self._fit(X, y)\n"
     ]
    }
   ],
   "source": [
    "# 学習\n",
    "neigh_1 = KNeighborsClassifier(n_neighbors=1).fit(arr_train_x, arr_train_y)\n",
    "neigh_3 = KNeighborsClassifier(n_neighbors=3).fit(arr_train_x, arr_train_y)\n",
    "neigh_5 = KNeighborsClassifier(n_neighbors=5).fit(arr_train_x, arr_train_y)\n",
    "\n",
    "# 評価\n",
    "pred_1 = neigh_1.predict(arr_test_x)\n",
    "pred_3 = neigh_3.predict(arr_test_x)\n",
    "pred_5 = neigh_5.predict(arr_test_x)"
   ]
  },
  {
   "cell_type": "markdown",
   "metadata": {
    "id": "xbwrHtMo2U-g"
   },
   "source": [
    "**【問題6】評価**\n",
    "\n",
    "検証データの特徴量を入力して得られた推定値と、検証データの正解値の近さを計算し、学習したモデルを評価します。\n",
    "\n",
    "2値分類を評価するための指標値には Accuracy（正解率）、Precision（適合率）、Recall（再現率）、F値 があります。それぞれの意味を理解するには、 混同行列（confusion matrix） を見ることになります。"
   ]
  },
  {
   "cell_type": "markdown",
   "metadata": {
    "id": "2h8o7_B92ZUY"
   },
   "source": [
    "*scikit-learnを使い4種類の指標を計算する*"
   ]
  },
  {
   "cell_type": "markdown",
   "metadata": {
    "id": "TBeU35Ya5TeG"
   },
   "source": [
    "・Accuracy（正解率）\n",
    "\n",
    "正解率（accuracy）は、すべてのサンプルのうち正解したサンプルの割合。\n"
   ]
  },
  {
   "cell_type": "code",
   "execution_count": 10,
   "metadata": {
    "colab": {
     "base_uri": "https://localhost:8080/"
    },
    "executionInfo": {
     "elapsed": 2904,
     "status": "ok",
     "timestamp": 1611610733381,
     "user": {
      "displayName": "K S",
      "photoUrl": "",
      "userId": "11621002665546969972"
     },
     "user_tz": -540
    },
    "id": "9p5aHfUx0Lc0",
    "outputId": "9d1733d8-8f00-432e-c26f-e4c0c5bc2834"
   },
   "outputs": [
    {
     "name": "stdout",
     "output_type": "stream",
     "text": [
      "n_neighbors = 1 : 正解率 0.92\n",
      "n_neighbors = 3 : 正解率 0.88\n",
      "n_neighbors = 5 : 正解率 0.92\n"
     ]
    }
   ],
   "source": [
    "# Accuracy（正解率）\n",
    "print(\"n_neighbors = 1 : 正解率 {}\".format(accuracy_score(arr_test_y, pred_1)))\n",
    "print(\"n_neighbors = 3 : 正解率 {}\".format(accuracy_score(arr_test_y, pred_3)))\n",
    "print(\"n_neighbors = 5 : 正解率 {}\".format(accuracy_score(arr_test_y, pred_5)))"
   ]
  },
  {
   "cell_type": "markdown",
   "metadata": {
    "id": "4cqBD-wR5b7c"
   },
   "source": [
    "・Precision（適合率）\n",
    "\n",
    "適合率（precision）は、陽性と予測されたサンプルのうち正解したサンプルの割合。\n",
    "\n",
    "PPV（positive predictive value）とも呼ばれる。"
   ]
  },
  {
   "cell_type": "code",
   "execution_count": 11,
   "metadata": {
    "colab": {
     "base_uri": "https://localhost:8080/"
    },
    "executionInfo": {
     "elapsed": 2873,
     "status": "ok",
     "timestamp": 1611610733381,
     "user": {
      "displayName": "K S",
      "photoUrl": "",
      "userId": "11621002665546969972"
     },
     "user_tz": -540
    },
    "id": "cIS0QgOq2m-l",
    "outputId": "1665305a-0d2b-4c84-8faf-75f1fd73554c"
   },
   "outputs": [
    {
     "name": "stdout",
     "output_type": "stream",
     "text": [
      "n_neighbors = 1 : 適合率 0.8333333333333334\n",
      "n_neighbors = 3 : 適合率 0.7692307692307693\n",
      "n_neighbors = 5 : 適合率 0.8333333333333334\n"
     ]
    }
   ],
   "source": [
    "# Precision（適合率）\n",
    "print(\"n_neighbors = 1 : 適合率 {}\".format(precision_score(arr_test_y, pred_1)))\n",
    "print(\"n_neighbors = 3 : 適合率 {}\".format(precision_score(arr_test_y, pred_3)))\n",
    "print(\"n_neighbors = 5 : 適合率 {}\".format(precision_score(arr_test_y, pred_5)))"
   ]
  },
  {
   "cell_type": "markdown",
   "metadata": {
    "id": "1813gNsw5j1E"
   },
   "source": [
    "・Recall（再現率）\n",
    "\n",
    "再現率（recall）は実際に陽性のサンプルのうち正解したサンプルの割合。\n",
    "\n",
    "sensitivityやhit rate, TPR（true positive rate, 真陽性率）などとも呼ばれる。"
   ]
  },
  {
   "cell_type": "code",
   "execution_count": 12,
   "metadata": {
    "colab": {
     "base_uri": "https://localhost:8080/"
    },
    "executionInfo": {
     "elapsed": 2845,
     "status": "ok",
     "timestamp": 1611610733382,
     "user": {
      "displayName": "K S",
      "photoUrl": "",
      "userId": "11621002665546969972"
     },
     "user_tz": -540
    },
    "id": "aVHhDDE_36tX",
    "outputId": "aae02c3b-513c-42e0-cc0c-d32bf3115017"
   },
   "outputs": [
    {
     "name": "stdout",
     "output_type": "stream",
     "text": [
      "n_neighbors = 1 : 再現率 1.0\n",
      "n_neighbors = 3 : 再現率 1.0\n",
      "n_neighbors = 5 : 再現率 1.0\n"
     ]
    }
   ],
   "source": [
    "# Recall（再現率）\n",
    "print(\"n_neighbors = 1 : 再現率 {}\".format(recall_score(arr_test_y, pred_1)))\n",
    "print(\"n_neighbors = 3 : 再現率 {}\".format(recall_score(arr_test_y, pred_3)))\n",
    "print(\"n_neighbors = 5 : 再現率 {}\".format(recall_score(arr_test_y, pred_5)))"
   ]
  },
  {
   "cell_type": "markdown",
   "metadata": {
    "id": "xMKW-HgY5t4f"
   },
   "source": [
    "・F値\n",
    "\n",
    "F1値（F1-measure）は適合率と再現率の調和平均。\n",
    "\n",
    " 単純にF値（F-measure, F-score）と呼ばれることもある。"
   ]
  },
  {
   "cell_type": "code",
   "execution_count": 13,
   "metadata": {
    "colab": {
     "base_uri": "https://localhost:8080/"
    },
    "executionInfo": {
     "elapsed": 2826,
     "status": "ok",
     "timestamp": 1611610733382,
     "user": {
      "displayName": "K S",
      "photoUrl": "",
      "userId": "11621002665546969972"
     },
     "user_tz": -540
    },
    "id": "adIXy68G4GU8",
    "outputId": "0003e646-fbb3-4ba7-b559-cb7352400c8b"
   },
   "outputs": [
    {
     "name": "stdout",
     "output_type": "stream",
     "text": [
      "n_neighbors = 1 : F値 0.9090909090909091\n",
      "n_neighbors = 3 : F値 0.8695652173913044\n",
      "n_neighbors = 5 : F値 0.9090909090909091\n"
     ]
    }
   ],
   "source": [
    "# F値\n",
    "print(\"n_neighbors = 1 : F値 {}\".format(f1_score(arr_test_y, pred_1)))\n",
    "print(\"n_neighbors = 3 : F値 {}\".format(f1_score(arr_test_y, pred_3)))\n",
    "print(\"n_neighbors = 5 : F値 {}\".format(f1_score(arr_test_y, pred_5)))"
   ]
  },
  {
   "cell_type": "markdown",
   "metadata": {
    "id": "PyNoCxJa4dG0"
   },
   "source": [
    "*混同行列をscikit-learnを使い表示する*"
   ]
  },
  {
   "cell_type": "code",
   "execution_count": 14,
   "metadata": {
    "colab": {
     "base_uri": "https://localhost:8080/"
    },
    "executionInfo": {
     "elapsed": 2808,
     "status": "ok",
     "timestamp": 1611610733383,
     "user": {
      "displayName": "K S",
      "photoUrl": "",
      "userId": "11621002665546969972"
     },
     "user_tz": -540
    },
    "id": "eLCedPUo4gKM",
    "outputId": "1651679a-9a6d-495b-f106-7b7e16c8caec"
   },
   "outputs": [
    {
     "name": "stdout",
     "output_type": "stream",
     "text": [
      "n_neighbors = 1 : 混合行列\n",
      "[[10  0]\n",
      " [ 2 13]]\n",
      "n_neighbors = 3 : 混合行列\n",
      "[[10  0]\n",
      " [ 3 12]]\n",
      "n_neighbors = 5 : 混合行列\n",
      "[[10  0]\n",
      " [ 2 13]]\n"
     ]
    }
   ],
   "source": [
    "cm_1 = confusion_matrix(arr_test_y, pred_1)\n",
    "cm_3 = confusion_matrix(arr_test_y, pred_3)\n",
    "cm_5 = confusion_matrix(arr_test_y, pred_5)\n",
    "\n",
    "print(\"n_neighbors = 1 : 混合行列\" )\n",
    "print(cm_1)\n",
    "\n",
    "print(\"n_neighbors = 3 : 混合行列\" )\n",
    "print(cm_3)\n",
    "\n",
    "print(\"n_neighbors = 5 : 混合行列\" )\n",
    "print(cm_5)"
   ]
  },
  {
   "cell_type": "markdown",
   "metadata": {
    "id": "Enx-kIoP6ITt"
   },
   "source": [
    "**【問題7】可視化**\n",
    "\n",
    "\n",
    "評価の一貫として可視化を行います。\n",
    "\n",
    "今回の場合2次元の特徴量で分類を行いましたから、散布図で可視化が可能です。\n",
    "\n",
    "以下にどう分割するかという 決定領域 を描く関数を用意しました。\n",
    "\n",
    "これを利用して可視化を行ってください。Xとyには訓練データまたは検証データを与えます。"
   ]
  },
  {
   "cell_type": "code",
   "execution_count": 15,
   "metadata": {
    "executionInfo": {
     "elapsed": 2796,
     "status": "ok",
     "timestamp": 1611610733383,
     "user": {
      "displayName": "K S",
      "photoUrl": "",
      "userId": "11621002665546969972"
     },
     "user_tz": -540
    },
    "id": "2IbMaOld6jAX"
   },
   "outputs": [],
   "source": [
    "# 各指標値と結果の可視化を行う\n",
    "def showResult(y, pred):\n",
    "\n",
    "  print(\"正解率 {}\".format(accuracy_score(y, pred)))\n",
    "  print(\"適合率 {}\".format(precision_score(y, pred)))\n",
    "  print(\"再現率 {}\".format(recall_score(y, pred)))\n",
    "  print(\"F値 {}\".format(f1_score(y, pred)))\n",
    "  print(\"混合行列 {}\".format(confusion_matrix(y, pred)))\n",
    "  print(\"\")"
   ]
  },
  {
   "cell_type": "code",
   "execution_count": 16,
   "metadata": {
    "executionInfo": {
     "elapsed": 2790,
     "status": "ok",
     "timestamp": 1611610733383,
     "user": {
      "displayName": "K S",
      "photoUrl": "",
      "userId": "11621002665546969972"
     },
     "user_tz": -540
    },
    "id": "WmVHjInC6OYj"
   },
   "outputs": [],
   "source": [
    "import matplotlib.pyplot as plt\n",
    "from matplotlib.colors import ListedColormap\n",
    "import matplotlib.patches as mpatches\n",
    "def decision_region(X, y, model, step=0.01, title='decision region', xlabel='xlabel', ylabel='ylabel', target_names=['versicolor', 'virginica']):\n",
    "    \"\"\"\n",
    "    2値分類を2次元の特徴量で学習したモデルの決定領域を描く。\n",
    "    背景の色が学習したモデルによる推定値から描画される。\n",
    "    散布図の点は訓練データまたは検証データである。\n",
    "    Parameters\n",
    "    ----------------\n",
    "    X : ndarray, shape(n_samples, 2)\n",
    "        特徴量\n",
    "    y : ndarray, shape(n_samples,)\n",
    "        ラベル\n",
    "    model : object\n",
    "        学習したモデルのインスンタスを入れる\n",
    "    step : float, (default : 0.1)\n",
    "        推定値を計算する間隔を設定する\n",
    "    title : str\n",
    "        グラフのタイトルの文章を与える\n",
    "    xlabel, ylabel : str\n",
    "        軸ラベルの文章を与える\n",
    "    target_names= : list of str\n",
    "        凡例の一覧を与える\n",
    "    \"\"\"\n",
    "    \n",
    "    # setting\n",
    "    scatter_color = ['red', 'blue']\n",
    "    contourf_color = ['pink', 'skyblue']\n",
    "    n_class = 2\n",
    "    # pred\n",
    "    mesh_f0, mesh_f1  = np.meshgrid(np.arange(np.min(X[:,0])-0.5, np.max(X[:,0])+0.5, step), np.arange(np.min(X[:,1])-0.5, np.max(X[:,1])+0.5, step))\n",
    "    mesh = np.c_[np.ravel(mesh_f0),np.ravel(mesh_f1)]\n",
    "    y_pred = model.predict(mesh).reshape(mesh_f0.shape)\n",
    "    # plot\n",
    "    plt.title(title)\n",
    "    plt.xlabel(xlabel)\n",
    "    plt.ylabel(ylabel)\n",
    "    plt.contourf(mesh_f0, mesh_f1, y_pred, n_class-1, cmap=ListedColormap(contourf_color))\n",
    "    plt.contour(mesh_f0, mesh_f1, y_pred, n_class-1, colors='y', linewidths=3, alpha=0.5)\n",
    "    for i, target in enumerate(set(y)):\n",
    "        plt.scatter(X[y==target][:, 0], X[y==target][:, 1], s=80, color=scatter_color[i], label=target_names[i], marker='o')\n",
    "    patches = [mpatches.Patch(color=scatter_color[i], label=target_names[i]) for i in range(n_class)]\n",
    "    plt.legend(handles=patches)\n",
    "    plt.legend()\n",
    "    plt.show()"
   ]
  },
  {
   "cell_type": "code",
   "execution_count": 17,
   "metadata": {
    "colab": {
     "base_uri": "https://localhost:8080/",
     "height": 310
    },
    "executionInfo": {
     "elapsed": 11024,
     "status": "ok",
     "timestamp": 1611610741620,
     "user": {
      "displayName": "K S",
      "photoUrl": "",
      "userId": "11621002665546969972"
     },
     "user_tz": -540
    },
    "id": "YKOeOtAU6YAl",
    "outputId": "54867337-f95b-4c5b-e426-059467312635"
   },
   "outputs": [
    {
     "name": "stdout",
     "output_type": "stream",
     "text": [
      "訓練用データ\n"
     ]
    },
    {
     "data": {
      "image/png": "[encoded data removed]",
      "text/plain": [
       "<Figure size 432x288 with 1 Axes>"
      ]
     },
     "metadata": {
      "needs_background": "light"
     },
     "output_type": "display_data"
    }
   ],
   "source": [
    "print(\"訓練用データ\")\n",
    "decision_region(arr_train_x, np.reshape(arr_train_y,[len(arr_train_y),]), neigh_5)"
   ]
  },
  {
   "cell_type": "code",
   "execution_count": 18,
   "metadata": {
    "colab": {
     "base_uri": "https://localhost:8080/",
     "height": 310
    },
    "executionInfo": {
     "elapsed": 19377,
     "status": "ok",
     "timestamp": 1611610749985,
     "user": {
      "displayName": "K S",
      "photoUrl": "",
      "userId": "11621002665546969972"
     },
     "user_tz": -540
    },
    "id": "CCgTlnJW8iXJ",
    "outputId": "080b5bb4-2088-4ddc-d59c-b9dfda3de319"
   },
   "outputs": [
    {
     "name": "stdout",
     "output_type": "stream",
     "text": [
      "検証用データ\n"
     ]
    },
    {
     "data": {
      "image/png": "[encoded data removed]",
      "text/plain": [
       "<Figure size 432x288 with 1 Axes>"
      ]
     },
     "metadata": {
      "needs_background": "light"
     },
     "output_type": "display_data"
    }
   ],
   "source": [
    "print(\"検証用データ\")\n",
    "decision_region(arr_test_x, np.reshape(arr_test_y,[len(arr_test_y),]), neigh_5)"
   ]
  },
  {
   "cell_type": "markdown",
   "metadata": {
    "id": "Rypad27z-A_l"
   },
   "source": [
    "**【問題8】他の手法の学習**\n",
    "\n",
    "以下の全ての手法について学習・推定・評価・可視化を行ってください。\n",
    "\n",
    "そして、指標値を１つの表にまとめてください。\n",
    "\n",
    "その表と決定領域を利用して結果を簡単に考察してください。\n",
    "\n",
    "どの手法がどの指標値で良かったかや、どういった決定領域になっていたかを述べてください。"
   ]
  },
  {
   "cell_type": "markdown",
   "metadata": {
    "id": "nDCo_7VX-I-Q"
   },
   "source": [
    "*最近傍法*"
   ]
  },
  {
   "cell_type": "code",
   "execution_count": 19,
   "metadata": {
    "colab": {
     "base_uri": "https://localhost:8080/",
     "height": 442
    },
    "executionInfo": {
     "elapsed": 27105,
     "status": "ok",
     "timestamp": 1611610757725,
     "user": {
      "displayName": "K S",
      "photoUrl": "",
      "userId": "11621002665546969972"
     },
     "user_tz": -540
    },
    "id": "zfeiLDdS9l2b",
    "outputId": "5a41f7f0-5b36-4368-e536-e343bf698572"
   },
   "outputs": [
    {
     "name": "stdout",
     "output_type": "stream",
     "text": [
      "最近傍法\n"
     ]
    },
    {
     "data": {
      "image/png": "[encoded data removed]",
      "text/plain": [
       "<Figure size 432x288 with 1 Axes>"
      ]
     },
     "metadata": {
      "needs_background": "light"
     },
     "output_type": "display_data"
    },
    {
     "name": "stdout",
     "output_type": "stream",
     "text": [
      "正解率 0.92\n",
      "適合率 0.8333333333333334\n",
      "再現率 1.0\n",
      "F値 0.9090909090909091\n",
      "混合行列 [[10  0]\n",
      " [ 2 13]]\n",
      "\n",
      "<class 'numpy.ndarray'>\n"
     ]
    }
   ],
   "source": [
    "print(\"最近傍法\")\n",
    "decision_region(arr_test_x, np.reshape(arr_test_y,[len(arr_test_y),]), neigh_1)\n",
    "showResult(arr_test_y, pred_1)\n",
    "\n",
    "print(type(pred_1))"
   ]
  },
  {
   "cell_type": "markdown",
   "metadata": {
    "id": "M734l2Sh5NVz"
   },
   "source": [
    "*ロジスティック回帰*"
   ]
  },
  {
   "cell_type": "code",
   "execution_count": 20,
   "metadata": {
    "colab": {
     "base_uri": "https://localhost:8080/"
    },
    "executionInfo": {
     "elapsed": 27094,
     "status": "ok",
     "timestamp": 1611610757726,
     "user": {
      "displayName": "K S",
      "photoUrl": "",
      "userId": "11621002665546969972"
     },
     "user_tz": -540
    },
    "id": "6kjbYEo75L2s",
    "outputId": "43f76100-4703-4435-c2f1-13c7a8ef62a2"
   },
   "outputs": [
    {
     "name": "stderr",
     "output_type": "stream",
     "text": [
      "/Users/satouwataru/.pyenv/versions/anaconda3-2020.07/lib/python3.8/site-packages/sklearn/utils/validation.py:63: DataConversionWarning: A column-vector y was passed when a 1d array was expected. Please change the shape of y to (n_samples, ), for example using ravel().\n",
      "  return f(*args, **kwargs)\n"
     ]
    }
   ],
   "source": [
    "lr = LogisticRegression() # ロジスティック回帰モデルのインスタンスを作成\n",
    "lr.fit(arr_train_x, arr_train_y) # ロジスティック回帰モデルの重みを学習\n",
    "\n",
    "pred_lr = lr.predict(arr_test_x)"
   ]
  },
  {
   "cell_type": "code",
   "execution_count": 21,
   "metadata": {
    "colab": {
     "base_uri": "https://localhost:8080/",
     "height": 425
    },
    "executionInfo": {
     "elapsed": 27597,
     "status": "ok",
     "timestamp": 1611610758242,
     "user": {
      "displayName": "K S",
      "photoUrl": "",
      "userId": "11621002665546969972"
     },
     "user_tz": -540
    },
    "id": "yf_hDTum5Ya5",
    "outputId": "b3386d03-f0c6-4d0a-c545-f916080859fc"
   },
   "outputs": [
    {
     "name": "stdout",
     "output_type": "stream",
     "text": [
      "ロジスティック回帰\n"
     ]
    },
    {
     "data": {
      "image/png": "[encoded data removed]",
      "text/plain": [
       "<Figure size 432x288 with 1 Axes>"
      ]
     },
     "metadata": {
      "needs_background": "light"
     },
     "output_type": "display_data"
    },
    {
     "name": "stdout",
     "output_type": "stream",
     "text": [
      "正解率 0.96\n",
      "適合率 0.9090909090909091\n",
      "再現率 1.0\n",
      "F値 0.9523809523809523\n",
      "混合行列 [[10  0]\n",
      " [ 1 14]]\n",
      "\n"
     ]
    }
   ],
   "source": [
    "print(\"ロジスティック回帰\")\n",
    "decision_region(arr_test_x, np.reshape(arr_test_y,[len(arr_test_y),]), lr)\n",
    "showResult(arr_test_y, pred_lr)"
   ]
  },
  {
   "cell_type": "markdown",
   "metadata": {
    "id": "GomKQqvlBMVi"
   },
   "source": [
    "*SVM*"
   ]
  },
  {
   "cell_type": "code",
   "execution_count": 22,
   "metadata": {
    "colab": {
     "base_uri": "https://localhost:8080/"
    },
    "executionInfo": {
     "elapsed": 27585,
     "status": "ok",
     "timestamp": 1611610758242,
     "user": {
      "displayName": "K S",
      "photoUrl": "",
      "userId": "11621002665546969972"
     },
     "user_tz": -540
    },
    "id": "hHbB9FCq9t64",
    "outputId": "a517b1d9-0dd3-4b59-b5cf-3ae1435f5c9c"
   },
   "outputs": [
    {
     "name": "stderr",
     "output_type": "stream",
     "text": [
      "/Users/satouwataru/.pyenv/versions/anaconda3-2020.07/lib/python3.8/site-packages/sklearn/utils/validation.py:63: DataConversionWarning: A column-vector y was passed when a 1d array was expected. Please change the shape of y to (n_samples, ), for example using ravel().\n",
      "  return f(*args, **kwargs)\n"
     ]
    }
   ],
   "source": [
    "svm = SVC(kernel='linear') # 線形svmモデルのインスタンスを作成\n",
    "svm.fit(arr_train_x, arr_train_y) # 線形svmモデルの重みを学習\n",
    "\n",
    "pred_svm = svm.predict(arr_test_x)"
   ]
  },
  {
   "cell_type": "code",
   "execution_count": 23,
   "metadata": {
    "colab": {
     "base_uri": "https://localhost:8080/",
     "height": 425
    },
    "executionInfo": {
     "elapsed": 27573,
     "status": "ok",
     "timestamp": 1611610758243,
     "user": {
      "displayName": "K S",
      "photoUrl": "",
      "userId": "11621002665546969972"
     },
     "user_tz": -540
    },
    "id": "4sojYLjAEbcc",
    "outputId": "0903a32c-4645-4b73-ab1b-633576722505"
   },
   "outputs": [
    {
     "name": "stdout",
     "output_type": "stream",
     "text": [
      "(線形)SVM\n"
     ]
    },
    {
     "data": {
      "image/png": "[encoded data removed]",
      "text/plain": [
       "<Figure size 432x288 with 1 Axes>"
      ]
     },
     "metadata": {
      "needs_background": "light"
     },
     "output_type": "display_data"
    },
    {
     "name": "stdout",
     "output_type": "stream",
     "text": [
      "正解率 0.96\n",
      "適合率 0.9090909090909091\n",
      "再現率 1.0\n",
      "F値 0.9523809523809523\n",
      "混合行列 [[10  0]\n",
      " [ 1 14]]\n",
      "\n"
     ]
    }
   ],
   "source": [
    "print(\"(線形)SVM\")\n",
    "decision_region(arr_test_x, np.reshape(arr_test_y,[len(arr_test_y),]), svm)\n",
    "showResult(arr_test_y, pred_svm)"
   ]
  },
  {
   "cell_type": "markdown",
   "metadata": {
    "id": "YkpFKfBdFLNe"
   },
   "source": [
    "*決定木*"
   ]
  },
  {
   "cell_type": "code",
   "execution_count": 24,
   "metadata": {
    "executionInfo": {
     "elapsed": 27563,
     "status": "ok",
     "timestamp": 1611610758244,
     "user": {
      "displayName": "K S",
      "photoUrl": "",
      "userId": "11621002665546969972"
     },
     "user_tz": -540
    },
    "id": "HYPkMiXSErGK"
   },
   "outputs": [],
   "source": [
    "clf = tree.DecisionTreeClassifier() # 決定木モデルのインスタンスを作成\n",
    "clf = clf.fit(arr_train_x, arr_train_y) # 決定木モデルの重みを学習\n",
    "\n",
    "# 作成したモデルを用いて予測を実行\n",
    "pred_clf = clf.predict(arr_test_x)"
   ]
  },
  {
   "cell_type": "code",
   "execution_count": 25,
   "metadata": {
    "colab": {
     "base_uri": "https://localhost:8080/",
     "height": 425
    },
    "executionInfo": {
     "elapsed": 28047,
     "status": "ok",
     "timestamp": 1611610758732,
     "user": {
      "displayName": "K S",
      "photoUrl": "",
      "userId": "11621002665546969972"
     },
     "user_tz": -540
    },
    "id": "pyslX6lwaaoW",
    "outputId": "c7f79a1b-0ad9-4a55-f5b1-30b2a9224f4b"
   },
   "outputs": [
    {
     "name": "stdout",
     "output_type": "stream",
     "text": [
      "決定木\n"
     ]
    },
    {
     "data": {
      "image/png": "[encoded data removed]",
      "text/plain": [
       "<Figure size 432x288 with 1 Axes>"
      ]
     },
     "metadata": {
      "needs_background": "light"
     },
     "output_type": "display_data"
    },
    {
     "name": "stdout",
     "output_type": "stream",
     "text": [
      "正解率 0.88\n",
      "適合率 0.8181818181818182\n",
      "再現率 0.9\n",
      "F値 0.8571428571428572\n",
      "混合行列 [[ 9  1]\n",
      " [ 2 13]]\n",
      "\n"
     ]
    }
   ],
   "source": [
    "print(\"決定木\")\n",
    "decision_region(arr_test_x, np.reshape(arr_test_y,[len(arr_test_y),]), clf)\n",
    "showResult(arr_test_y, pred_clf)"
   ]
  },
  {
   "cell_type": "markdown",
   "metadata": {
    "id": "v_KYESZJcIfZ"
   },
   "source": [
    "*ランダムフォレスト*"
   ]
  },
  {
   "cell_type": "code",
   "execution_count": 26,
   "metadata": {
    "colab": {
     "base_uri": "https://localhost:8080/"
    },
    "executionInfo": {
     "elapsed": 28035,
     "status": "ok",
     "timestamp": 1611610758732,
     "user": {
      "displayName": "K S",
      "photoUrl": "",
      "userId": "11621002665546969972"
     },
     "user_tz": -540
    },
    "id": "UTtycfTnbSIu",
    "outputId": "cedc6357-2cfa-43ff-de24-064cb480fc21"
   },
   "outputs": [
    {
     "name": "stderr",
     "output_type": "stream",
     "text": [
      "<ipython-input-26-5c063df497b5>:2: DataConversionWarning: A column-vector y was passed when a 1d array was expected. Please change the shape of y to (n_samples,), for example using ravel().\n",
      "  random_forest = random_forest.fit(arr_train_x, arr_train_y) # 決定木モデルの重みを学習\n"
     ]
    }
   ],
   "source": [
    "random_forest = RandomForestClassifier() # ランダムフォレストのインスタンスを作成\n",
    "random_forest = random_forest.fit(arr_train_x, arr_train_y) # 決定木モデルの重みを学習\n",
    "\n",
    "# 作成したモデルを用いて予測を実行\n",
    "pred_random_forest = random_forest.predict(arr_test_x)"
   ]
  },
  {
   "cell_type": "code",
   "execution_count": 27,
   "metadata": {
    "colab": {
     "base_uri": "https://localhost:8080/",
     "height": 425
    },
    "executionInfo": {
     "elapsed": 30007,
     "status": "ok",
     "timestamp": 1611610760716,
     "user": {
      "displayName": "K S",
      "photoUrl": "",
      "userId": "11621002665546969972"
     },
     "user_tz": -540
    },
    "id": "o2LxTFHddNiu",
    "outputId": "c77e0e1d-51c2-4212-ac8c-7aa932245663"
   },
   "outputs": [
    {
     "name": "stdout",
     "output_type": "stream",
     "text": [
      "ランダムフォレスト\n"
     ]
    },
    {
     "data": {
      "image/png": "[encoded data removed]",
      "text/plain": [
       "<Figure size 432x288 with 1 Axes>"
      ]
     },
     "metadata": {
      "needs_background": "light"
     },
     "output_type": "display_data"
    },
    {
     "name": "stdout",
     "output_type": "stream",
     "text": [
      "正解率 0.92\n",
      "適合率 0.8333333333333334\n",
      "再現率 1.0\n",
      "F値 0.9090909090909091\n",
      "混合行列 [[10  0]\n",
      " [ 2 13]]\n",
      "\n"
     ]
    }
   ],
   "source": [
    "print(\"ランダムフォレスト\")\n",
    "decision_region(arr_test_x, np.reshape(arr_test_y,[len(arr_test_y),]), random_forest)\n",
    "showResult(arr_test_y, pred_random_forest)"
   ]
  },
  {
   "cell_type": "markdown",
   "metadata": {
    "id": "Yhu_ZYTCf3kE"
   },
   "source": [
    "***考察***\n",
    "\n",
    "今回の結果ではそれぞれの手法での結果にそれほど違いはなかった。"
   ]
  }
 ],
 "metadata": {
  "colab": {
   "authorship_tag": "ABX9TyPN+9oZ44P7wAdzEngQFKba",
   "collapsed_sections": [],
   "name": "Week4_HomeWork01.ipynb",
   "provenance": []
  },
  "kernelspec": {
   "display_name": "Python 3",
   "language": "python",
   "name": "python3"
  },
  "language_info": {
   "codemirror_mode": {
    "name": "ipython",
    "version": 3
   },
   "file_extension": ".py",
   "mimetype": "text/x-python",
   "name": "python",
   "nbconvert_exporter": "python",
   "pygments_lexer": "ipython3",
   "version": "3.8.8"
  }
 },
 "nbformat": 4,
 "nbformat_minor": 1
}
