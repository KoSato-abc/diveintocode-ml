{
 "cells": [
  {
   "cell_type": "code",
   "execution_count": 1,
   "id": "addressed-sharing",
   "metadata": {},
   "outputs": [
    {
     "name": "stdout",
     "output_type": "stream",
     "text": [
      "/Users/satouwataru/Desktop/DiveIntoCode/git/diveintocode-ml/GraduationWork/v1/codes\n"
     ]
    }
   ],
   "source": [
    "cd .."
   ]
  },
  {
   "cell_type": "code",
   "execution_count": 2,
   "id": "promising-drunk",
   "metadata": {},
   "outputs": [
    {
     "name": "stdout",
     "output_type": "stream",
     "text": [
      "/Users/satouwataru/Desktop/DiveIntoCode/git/diveintocode-ml/GraduationWork/v1\n"
     ]
    }
   ],
   "source": [
    "cd .."
   ]
  },
  {
   "cell_type": "code",
   "execution_count": 3,
   "id": "interested-position",
   "metadata": {},
   "outputs": [],
   "source": []
  },
  {
   "cell_type": "code",
   "execution_count": 22,
   "id": "temporal-knock",
   "metadata": {},
   "outputs": [],
   "source": [
    "import numpy as np\n",
    "import pandas as pd\n",
    "from sklearn.model_selection import train_test_split\n",
    "import optuna.integration.lightgbm as lgb_o\n",
    "from sklearn.metrics import mean_squared_error\n",
    "\n",
    "class model():\n",
    "\n",
    "    def __init__(self):\n",
    "        self.model = None\n",
    "        \n",
    "    def fit(self, x_train, x_val, x_test, y_train, y_val, y_test):\n",
    "\n",
    "        lgb_train = lgb_o.Dataset(x_train, y_train)\n",
    "        lgb_eval = lgb_o.Dataset(x_val, y_val) \n",
    "        # LightGBM parameters\n",
    "        params = {\n",
    "            'objective': 'regression', # 回帰  \n",
    "            'metric': 'rmse', # rsme(平均二乗誤差の平方根) \n",
    "        }\n",
    "        # モデルの学習\n",
    "        model = lgb_o.train(params,\n",
    "                          train_set=lgb_train,\n",
    "                          valid_sets=lgb_eval,\n",
    "                          early_stopping_rounds=100,\n",
    "                          verbose_eval=200,\n",
    "                          )\n",
    "        \n",
    "        self.model = model\n",
    "        \n",
    "        # テストデータの予測\n",
    "        y_pred = model.predict(x_test, num_iteration=model.best_iteration)\n",
    "        # rmse : 平均二乗誤差の平方根\n",
    "        mse = mean_squared_error(y_test, y_pred) # MSE(平均二乗誤差)の算出\n",
    "        rmse = np.sqrt(mse) # RSME = √MSEの算出\n",
    "        print('goal_deff rmse : ', rmse)\n",
    "        \n",
    "    def predict(self, x_toto):\n",
    "\n",
    "        y_pred = self.model.predict(x_toto, num_iteration=self.model.best_iteration)\n",
    "        return y_pred"
   ]
  }
 ],
 "metadata": {
  "kernelspec": {
   "display_name": "Python 3",
   "language": "python",
   "name": "python3"
  },
  "language_info": {
   "codemirror_mode": {
    "name": "ipython",
    "version": 3
   },
   "file_extension": ".py",
   "mimetype": "text/x-python",
   "name": "python",
   "nbconvert_exporter": "python",
   "pygments_lexer": "ipython3",
   "version": "3.8.8"
  }
 },
 "nbformat": 4,
 "nbformat_minor": 5
}
