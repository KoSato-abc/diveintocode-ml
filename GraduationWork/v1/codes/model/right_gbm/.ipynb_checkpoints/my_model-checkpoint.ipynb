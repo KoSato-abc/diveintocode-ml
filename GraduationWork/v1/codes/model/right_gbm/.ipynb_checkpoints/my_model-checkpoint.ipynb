{
 "cells": [
  {
   "cell_type": "code",
   "execution_count": 1,
   "id": "manual-beatles",
   "metadata": {},
   "outputs": [
    {
     "name": "stdout",
     "output_type": "stream",
     "text": [
      "/Users/satouwataru/Desktop/DiveIntoCode/git/diveintocode-ml/GraduationWork/v1/codes/model\n"
     ]
    }
   ],
   "source": [
    "cd .."
   ]
  },
  {
   "cell_type": "code",
   "execution_count": 2,
   "id": "deluxe-donna",
   "metadata": {},
   "outputs": [
    {
     "name": "stdout",
     "output_type": "stream",
     "text": [
      "/Users/satouwataru/Desktop/DiveIntoCode/git/diveintocode-ml/GraduationWork/v1/codes\n"
     ]
    }
   ],
   "source": [
    "cd .."
   ]
  },
  {
   "cell_type": "code",
   "execution_count": 3,
   "id": "solid-calibration",
   "metadata": {},
   "outputs": [
    {
     "name": "stdout",
     "output_type": "stream",
     "text": [
      "/Users/satouwataru/Desktop/DiveIntoCode/git/diveintocode-ml/GraduationWork/v1\n"
     ]
    }
   ],
   "source": [
    "cd .."
   ]
  },
  {
   "cell_type": "code",
   "execution_count": null,
   "id": "specific-inspiration",
   "metadata": {},
   "outputs": [],
   "source": []
  },
  {
   "cell_type": "code",
   "execution_count": 4,
   "id": "continuous-vienna",
   "metadata": {},
   "outputs": [],
   "source": [
    "import numpy as np\n",
    "import pandas as pd\n",
    "from sklearn.model_selection import train_test_split\n",
    "\n",
    "import model_for_goaldeff\n",
    "import model_for_stats\n",
    "import preprocessing\n",
    "\n",
    "def predict_toto(toto_n, toto_kind):\n",
    "    train_columns = ['年月日', '節', 'H_勝点', 'H_試合', 'H_勝', 'H_分', 'H_敗', 'H_得点', 'H_失点', 'H_得失点差', 'H_rest_days', 'A_勝点', 'A_試合', 'A_勝', 'A_分', 'A_敗', 'A_得点', 'A_失点', 'A_得失点差', 'A_rest_days', 'J1_flg', 'J2_flg', 'J3_flg', 'H_DF', 'H_MF', 'H_FW', 'A_DF', 'A_MF', 'A_FW', 'H_Team', 'A_Team', 'H_監督', 'A_監督']\n",
    "    stats_columns = ['H_シュート', 'H_枠内シュート', 'H_PKによるシュート', 'H_直接ＦＫ', 'H_間接ＦＫ', 'H_ＣＫ', 'H_クリア', 'H_インターセプト', 'H_オフサイド', 'H_３０ｍライン進入', 'H_ペナルティエリア進入', 'H_攻撃回数', 'H_チャンス構築率', 'H_ボール支配率', 'A_シュート', 'A_枠内シュート', 'A_PKによるシュート', 'A_直接ＦＫ', 'A_間接ＦＫ', 'A_ＣＫ', 'A_クリア', 'A_インターセプト', 'A_オフサイド', 'A_３０ｍライン進入', 'A_ペナルティエリア進入', 'A_攻撃回数', 'A_チャンス構築率', 'A_ボール支配率', 'H_成功したパス', 'H_失敗したパス', 'H_成功したクロス', 'H_失敗したクロス', 'H_成功したスローイン', 'H_失敗したスローイン', 'H_成功したドリブル', 'H_失敗したドリブル', 'H_成功したタックル', 'H_失敗したタックル', 'A_成功したパス', 'A_失敗したパス', 'A_成功したクロス', 'A_失敗したクロス', 'A_成功したスローイン', 'A_失敗したスローイン', 'A_成功したドリブル', 'A_失敗したドリブル', 'A_成功したタックル', 'A_失敗したタックル']\n",
    "    drop_columns = ['H_goal', 'A_goal', 'H_result']\n",
    "    y_column = 'goal_difference'\n",
    "    \n",
    "    data = preprocessing.preprocessing(toto_n, toto_kind)\n",
    "    data.drop(columns = drop_columns, inplace = True)\n",
    "\n",
    "    x_train = data[data['train_test'] == 'train'].drop(columns = [y_column] + ['train_test'])\n",
    "    x_train, x_val = train_test_split(x_train, train_size=0.80)\n",
    "    x_test = data[data['train_test'] == 'test'].drop(columns = [y_column] + ['train_test'])\n",
    "    x_toto = data[data['train_test'] == 'toto'].drop(columns = [y_column] + ['train_test'])\n",
    "    \n",
    "    y_train = x_train[stats_columns]\n",
    "    x_train.drop(columns = stats_columns, inplace = True)\n",
    "    y_val = x_val[stats_columns]\n",
    "    x_val.drop(columns = stats_columns, inplace = True)\n",
    "    y_test = x_test[stats_columns]\n",
    "    x_test.drop(columns = stats_columns, inplace = True)\n",
    "    y_toto = x_toto[stats_columns]\n",
    "    x_toto.drop(columns = stats_columns, inplace = True)\n",
    "    \n",
    "    m_stats = model_for_stats.model()\n",
    "    m_stats.fit(x_train, x_val, x_test, y_train, y_val, y_test)\n",
    "    y_toto = m_stats.predict(x_toto)\n",
    "    \n",
    "    x_train = data[data['train_test'] == 'train'].drop(columns = ['train_test'])\n",
    "    x_train, x_val = train_test_split(x_train, train_size=0.80)\n",
    "    x_test = data[data['train_test'] == 'test'].drop(columns = ['train_test'])\n",
    "    x_toto = pd.concat([x_toto.reset_index(drop = True), y_toto], axis = 1)\n",
    "    \n",
    "    y_train = x_train[y_column]\n",
    "    x_train.drop(columns = [y_column], inplace = True)\n",
    "    y_val = x_val[y_column]\n",
    "    x_val.drop(columns = [y_column], inplace = True)\n",
    "    y_test = x_test[y_column]\n",
    "    x_test.drop(columns = [y_column], inplace = True)\n",
    "    \n",
    "    m_goal = model_for_goaldeff.model()\n",
    "    m_goal.fit(x_train, x_val, x_test, y_train, y_val, y_test)\n",
    "    \n",
    "    y_toto = m_goal.predict(x_toto)\n",
    "    \n",
    "    columns = ['第n回', '種別', 'No', '開催日', 'ホーム', 'アウェイ', '試合結果', 'くじ結果']\n",
    "    df_toto = pd.read_csv(\"data/marge/toto_info.csv\", index_col=0).reset_index(drop = True)\n",
    "    df_toto = df_toto[(df_toto['第n回'] == toto_n) & (df_toto['種別'] == toto_kind)][columns].reset_index(drop = True)\n",
    "    \n",
    "    df_result = pd.concat([df_toto, pd.DataFrame(y_toto, columns = ['rGBM_pred_得失点'])], axis = 1)\n",
    "\n",
    "    df = pd.read_csv(\"data/model/toto_pred.csv\", index_col=0).reset_index(drop = True)\n",
    "    df_result = pd.concat([df, df_result])\n",
    "\n",
    "    df_result.to_csv(\"data/model/toto_pred.csv\")"
   ]
  },
  {
   "cell_type": "code",
   "execution_count": null,
   "id": "sixth-budapest",
   "metadata": {},
   "outputs": [],
   "source": []
  },
  {
   "cell_type": "code",
   "execution_count": 5,
   "id": "intense-scope",
   "metadata": {},
   "outputs": [],
   "source": [
    "import time\n",
    "start = time.time()\n",
    "\n",
    "df_toto = pd.read_csv(\"data/marge/toto_info.csv\", index_col=0).reset_index(drop = True)\n",
    "df = df_toto[(20200101 < df_toto['開催日']) & ( df_toto['開催日'] < 20210101) ]\n",
    "df = df[['第n回', '種別']].reset_index(drop = True)\n",
    "toto_list = df.value_counts().index\n",
    "count = 0\n",
    "for toto in toto_list:\n",
    "    count += 1\n",
    "    print(count, ' / ', len(toto_list))\n",
    "    toto_n, toto_kind = toto[0], toto[1]\n",
    "    predict_toto(toto_n, toto_kind)\n",
    "    break"
   ]
  },
  {
   "cell_type": "code",
   "execution_count": 6,
   "id": "welcome-winter",
   "metadata": {},
   "outputs": [],
   "source": [
    "# e_time = time.time() - start\n",
    "# print (\"e_time:{0}\".format(e_time) + \"[s]\")"
   ]
  },
  {
   "cell_type": "code",
   "execution_count": 7,
   "id": "animated-corrections",
   "metadata": {},
   "outputs": [
    {
     "name": "stderr",
     "output_type": "stream",
     "text": [
      "/Users/satouwataru/.pyenv/versions/anaconda3-2020.07/lib/python3.8/site-packages/IPython/core/interactiveshell.py:3437: DtypeWarning: Columns (13,24) have mixed types.Specify dtype option on import or set low_memory=False.\n",
      "  exec(code_obj, self.user_global_ns, self.user_ns)\n"
     ]
    }
   ],
   "source": [
    "df = predict_toto(1032,'toto')"
   ]
  },
  {
   "cell_type": "code",
   "execution_count": 8,
   "id": "advisory-safety",
   "metadata": {},
   "outputs": [],
   "source": [
    "# df['H_Team'] = pd.Series(df['H_Team']).astype('category')"
   ]
  },
  {
   "cell_type": "code",
   "execution_count": 9,
   "id": "intimate-dover",
   "metadata": {},
   "outputs": [
    {
     "name": "stdout",
     "output_type": "stream",
     "text": [
      "<class 'pandas.core.frame.DataFrame'>\n",
      "RangeIndex: 9000 entries, 0 to 8999\n",
      "Data columns (total 87 columns):\n",
      " #   Column           Non-Null Count  Dtype   \n",
      "---  ------           --------------  -----   \n",
      " 0   年月日              9000 non-null   float64 \n",
      " 1   節                9000 non-null   float64 \n",
      " 2   H_勝点             9000 non-null   float64 \n",
      " 3   H_試合             9000 non-null   float64 \n",
      " 4   H_勝              9000 non-null   float64 \n",
      " 5   H_分              9000 non-null   float64 \n",
      " 6   H_敗              9000 non-null   float64 \n",
      " 7   H_得点             9000 non-null   float64 \n",
      " 8   H_失点             9000 non-null   float64 \n",
      " 9   H_得失点差           9000 non-null   float64 \n",
      " 10  H_rest_days      9000 non-null   float64 \n",
      " 11  A_勝点             9000 non-null   float64 \n",
      " 12  A_試合             9000 non-null   float64 \n",
      " 13  A_勝              9000 non-null   float64 \n",
      " 14  A_分              9000 non-null   float64 \n",
      " 15  A_敗              9000 non-null   float64 \n",
      " 16  A_得点             9000 non-null   float64 \n",
      " 17  A_失点             9000 non-null   float64 \n",
      " 18  A_得失点差           9000 non-null   float64 \n",
      " 19  A_rest_days      9000 non-null   float64 \n",
      " 20  H_シュート           9000 non-null   float64 \n",
      " 21  H_枠内シュート         9000 non-null   float64 \n",
      " 22  H_PKによるシュート      9000 non-null   float64 \n",
      " 23  H_直接ＦＫ           9000 non-null   float64 \n",
      " 24  H_間接ＦＫ           9000 non-null   float64 \n",
      " 25  H_ＣＫ             9000 non-null   float64 \n",
      " 26  H_クリア            9000 non-null   float64 \n",
      " 27  H_インターセプト        9000 non-null   float64 \n",
      " 28  H_オフサイド          9000 non-null   float64 \n",
      " 29  H_警告             9000 non-null   float64 \n",
      " 30  H_退場             9000 non-null   float64 \n",
      " 31  H_３０ｍライン進入       9000 non-null   float64 \n",
      " 32  H_ペナルティエリア進入     9000 non-null   float64 \n",
      " 33  H_攻撃回数           9000 non-null   float64 \n",
      " 34  H_チャンス構築率        9000 non-null   float64 \n",
      " 35  H_ボール支配率         9000 non-null   float64 \n",
      " 36  A_シュート           9000 non-null   float64 \n",
      " 37  A_枠内シュート         9000 non-null   float64 \n",
      " 38  A_PKによるシュート      9000 non-null   float64 \n",
      " 39  A_直接ＦＫ           9000 non-null   float64 \n",
      " 40  A_間接ＦＫ           9000 non-null   float64 \n",
      " 41  A_ＣＫ             9000 non-null   float64 \n",
      " 42  A_クリア            9000 non-null   float64 \n",
      " 43  A_インターセプト        9000 non-null   float64 \n",
      " 44  A_オフサイド          9000 non-null   float64 \n",
      " 45  A_警告             9000 non-null   float64 \n",
      " 46  A_退場             9000 non-null   float64 \n",
      " 47  A_３０ｍライン進入       9000 non-null   float64 \n",
      " 48  A_ペナルティエリア進入     9000 non-null   float64 \n",
      " 49  A_攻撃回数           9000 non-null   float64 \n",
      " 50  A_チャンス構築率        9000 non-null   float64 \n",
      " 51  A_ボール支配率         9000 non-null   float64 \n",
      " 52  goal_difference  9000 non-null   float64 \n",
      " 53  H_成功したパス         9000 non-null   float64 \n",
      " 54  H_失敗したパス         9000 non-null   float64 \n",
      " 55  H_成功したクロス        9000 non-null   float64 \n",
      " 56  H_失敗したクロス        9000 non-null   float64 \n",
      " 57  H_成功したスローイン      9000 non-null   float64 \n",
      " 58  H_失敗したスローイン      9000 non-null   float64 \n",
      " 59  H_成功したドリブル       9000 non-null   float64 \n",
      " 60  H_失敗したドリブル       9000 non-null   float64 \n",
      " 61  H_成功したタックル       9000 non-null   float64 \n",
      " 62  H_失敗したタックル       9000 non-null   float64 \n",
      " 63  A_成功したパス         9000 non-null   float64 \n",
      " 64  A_失敗したパス         9000 non-null   float64 \n",
      " 65  A_成功したクロス        9000 non-null   float64 \n",
      " 66  A_失敗したクロス        9000 non-null   float64 \n",
      " 67  A_成功したスローイン      9000 non-null   float64 \n",
      " 68  A_失敗したスローイン      9000 non-null   float64 \n",
      " 69  A_成功したドリブル       9000 non-null   float64 \n",
      " 70  A_失敗したドリブル       9000 non-null   float64 \n",
      " 71  A_成功したタックル       9000 non-null   float64 \n",
      " 72  A_失敗したタックル       9000 non-null   float64 \n",
      " 73  J1_flg           9000 non-null   float64 \n",
      " 74  J2_flg           9000 non-null   float64 \n",
      " 75  J3_flg           9000 non-null   float64 \n",
      " 76  H_DF             9000 non-null   float64 \n",
      " 77  H_MF             9000 non-null   float64 \n",
      " 78  H_FW             9000 non-null   float64 \n",
      " 79  A_DF             9000 non-null   float64 \n",
      " 80  A_MF             9000 non-null   float64 \n",
      " 81  A_FW             9000 non-null   float64 \n",
      " 82  H_Team           9000 non-null   category\n",
      " 83  A_Team           9000 non-null   category\n",
      " 84  H_監督             9000 non-null   category\n",
      " 85  A_監督             9000 non-null   category\n",
      " 86  train_test       9000 non-null   object  \n",
      "dtypes: category(4), float64(82), object(1)\n",
      "memory usage: 5.8+ MB\n"
     ]
    }
   ],
   "source": [
    "df.info()"
   ]
  },
  {
   "cell_type": "code",
   "execution_count": null,
   "id": "quick-hungarian",
   "metadata": {},
   "outputs": [],
   "source": []
  }
 ],
 "metadata": {
  "kernelspec": {
   "display_name": "Python 3",
   "language": "python",
   "name": "python3"
  },
  "language_info": {
   "codemirror_mode": {
    "name": "ipython",
    "version": 3
   },
   "file_extension": ".py",
   "mimetype": "text/x-python",
   "name": "python",
   "nbconvert_exporter": "python",
   "pygments_lexer": "ipython3",
   "version": "3.8.8"
  }
 },
 "nbformat": 4,
 "nbformat_minor": 5
}
