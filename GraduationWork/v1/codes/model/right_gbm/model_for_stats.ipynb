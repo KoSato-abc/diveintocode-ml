{
 "cells": [
  {
   "cell_type": "code",
   "execution_count": 1,
   "id": "fifth-aspect",
   "metadata": {},
   "outputs": [
    {
     "name": "stdout",
     "output_type": "stream",
     "text": [
      "/Users/satouwataru/Desktop/DiveIntoCode/git/diveintocode-ml/GraduationWork/v1/codes\n"
     ]
    }
   ],
   "source": [
    "cd .."
   ]
  },
  {
   "cell_type": "code",
   "execution_count": 2,
   "id": "respiratory-anime",
   "metadata": {},
   "outputs": [
    {
     "name": "stdout",
     "output_type": "stream",
     "text": [
      "/Users/satouwataru/Desktop/DiveIntoCode/git/diveintocode-ml/GraduationWork/v1\n"
     ]
    }
   ],
   "source": [
    "cd .."
   ]
  },
  {
   "cell_type": "code",
   "execution_count": 30,
   "id": "tropical-jonathan",
   "metadata": {},
   "outputs": [],
   "source": []
  },
  {
   "cell_type": "code",
   "execution_count": 39,
   "id": "talented-photograph",
   "metadata": {},
   "outputs": [],
   "source": [
    "import numpy as np\n",
    "import pandas as pd\n",
    "import optuna.integration.lightgbm as lgb_o\n",
    "from sklearn.metrics import mean_squared_error\n",
    "\n",
    "class model():\n",
    "    \n",
    "    def __init__(self):\n",
    "        self.model_dict = {}\n",
    "        self.stats_columns = []\n",
    "        \n",
    "    def fit(self, x_train, x_val, x_test, y_trains, y_vals, y_tests):\n",
    "        \n",
    "        self.stats_columns = y_trains.columns.tolist()\n",
    "        \n",
    "        for y_col in self.stats_columns:\n",
    "\n",
    "            y_train = y_trains[y_col]\n",
    "            y_val = y_vals[y_col]\n",
    "            y_test = y_tests[y_col]\n",
    "\n",
    "            lgb_train = lgb_o.Dataset(x_train, y_train)\n",
    "            lgb_eval = lgb_o.Dataset(x_val, y_val) \n",
    "            # LightGBM parameters\n",
    "            params = {\n",
    "                'objective': 'regression', # 回帰  \n",
    "                'metric': 'rmse', # rsme(平均二乗誤差の平方根) \n",
    "            }\n",
    "            # モデルの学習\n",
    "            model = lgb_o.train(params,\n",
    "                              train_set=lgb_train,\n",
    "                              valid_sets=lgb_eval,\n",
    "                              early_stopping_rounds=100,\n",
    "                              verbose_eval=200,\n",
    "                              )\n",
    "\n",
    "            self.model_dict[y_col] = model\n",
    "            \n",
    "            # テストデータの予測\n",
    "            y_pred = model.predict(x_test, num_iteration=model.best_iteration)\n",
    "\n",
    "            # rmse : 平均二乗誤差の平方根\n",
    "            mse = mean_squared_error(y_test, y_pred) # MSE(平均二乗誤差)の算出\n",
    "            rmse = np.sqrt(mse) # RSME = √MSEの算出\n",
    "            print(y_col,' rmse : ', rmse)\n",
    "        \n",
    "    def predict(self, x_toto):\n",
    "        \n",
    "        result_df = None\n",
    "        for y_col in self.stats_columns:\n",
    "            model = self.model_dict[y_col]\n",
    "            y_pred = model.predict(x_toto, num_iteration=model.best_iteration)\n",
    "            df = pd.DataFrame(y_pred, columns = [y_col])\n",
    "            result_df = pd.concat([result_df, df], axis = 1)\n",
    "        return result_df"
   ]
  },
  {
   "cell_type": "code",
   "execution_count": null,
   "id": "vital-commercial",
   "metadata": {},
   "outputs": [],
   "source": []
  }
 ],
 "metadata": {
  "kernelspec": {
   "display_name": "Python 3",
   "language": "python",
   "name": "python3"
  },
  "language_info": {
   "codemirror_mode": {
    "name": "ipython",
    "version": 3
   },
   "file_extension": ".py",
   "mimetype": "text/x-python",
   "name": "python",
   "nbconvert_exporter": "python",
   "pygments_lexer": "ipython3",
   "version": "3.8.8"
  }
 },
 "nbformat": 4,
 "nbformat_minor": 5
}
