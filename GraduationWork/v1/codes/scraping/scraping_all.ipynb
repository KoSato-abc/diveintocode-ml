{
 "cells": [
  {
   "cell_type": "code",
   "execution_count": 1,
   "id": "emerging-accused",
   "metadata": {},
   "outputs": [
    {
     "name": "stdout",
     "output_type": "stream",
     "text": [
      "/Users/satouwataru/Desktop/DiveIntoCode/git/diveintocode-ml/GraduationWork/v1/codes\n"
     ]
    }
   ],
   "source": [
    "cd .."
   ]
  },
  {
   "cell_type": "code",
   "execution_count": 2,
   "id": "historic-symbol",
   "metadata": {},
   "outputs": [
    {
     "name": "stdout",
     "output_type": "stream",
     "text": [
      "/Users/satouwataru/Desktop/DiveIntoCode/git/diveintocode-ml/GraduationWork/v1\n"
     ]
    }
   ],
   "source": [
    "cd .."
   ]
  },
  {
   "cell_type": "code",
   "execution_count": 3,
   "id": "prepared-willow",
   "metadata": {},
   "outputs": [],
   "source": [
    "from codes.scraping.football_lab import football_lab\n",
    "from codes.scraping.j_league_data_site import j_league_data_site\n",
    "from codes.scraping.toto import toto"
   ]
  },
  {
   "cell_type": "code",
   "execution_count": 4,
   "id": "altered-melissa",
   "metadata": {},
   "outputs": [],
   "source": [
    "class  scraping_all():\n",
    "    \n",
    "    def __init__(self):\n",
    "        self.fbl = football_lab.football_lab()\n",
    "        self.jlds = j_league_data_site.j_league_data_site()\n",
    "        self.toto = toto.toto()\n",
    "        \n",
    "    def scraping_and_clean(self, only_new_data_flg):\n",
    "        \n",
    "        self.fbl.scraping_and_clean(only_new_data_flg)\n",
    "        self.jlds.scraping_and_clean(only_new_data_flg)\n",
    "        self.toto.scraping_and_clean(only_new_data_flg)"
   ]
  },
  {
   "cell_type": "code",
   "execution_count": 5,
   "id": "spectacular-album",
   "metadata": {},
   "outputs": [],
   "source": [
    "s = scraping_all()"
   ]
  },
  {
   "cell_type": "code",
   "execution_count": 6,
   "id": "going-movement",
   "metadata": {},
   "outputs": [
    {
     "name": "stdout",
     "output_type": "stream",
     "text": [
      "処理中: 1234 https://store.toto-dream.com/dcs/subos/screen/pi04/spin011/PGSPIN01101LnkHoldCntLotResultLsttoto.form?holdCntId=1234\n",
      "処理中: 1235 https://store.toto-dream.com/dcs/subos/screen/pi04/spin011/PGSPIN01101LnkHoldCntLotResultLsttoto.form?holdCntId=1235\n",
      "処理中: 1236 https://store.toto-dream.com/dcs/subos/screen/pi04/spin011/PGSPIN01101LnkHoldCntLotResultLsttoto.form?holdCntId=1236\n",
      "処理中: 1237 https://store.toto-dream.com/dcs/subos/screen/pi04/spin011/PGSPIN01101LnkHoldCntLotResultLsttoto.form?holdCntId=1237\n",
      "処理中: 1238 https://store.toto-dream.com/dcs/subos/screen/pi04/spin011/PGSPIN01101LnkHoldCntLotResultLsttoto.form?holdCntId=1238\n",
      "処理中: 1239 https://store.toto-dream.com/dcs/subos/screen/pi04/spin011/PGSPIN01101LnkHoldCntLotResultLsttoto.form?holdCntId=1239\n",
      "処理中: 1239 https://store.toto-dream.com/dcs/subos/screen/pi01/spin000/PGSPIN00001DisptotoLotInfo.form?holdCntId=1239\n",
      "処理中: 1240 https://store.toto-dream.com/dcs/subos/screen/pi04/spin011/PGSPIN01101LnkHoldCntLotResultLsttoto.form?holdCntId=1240\n",
      "処理中: 1240 https://store.toto-dream.com/dcs/subos/screen/pi01/spin000/PGSPIN00001DisptotoLotInfo.form?holdCntId=1240\n",
      "処理中: 1241 https://store.toto-dream.com/dcs/subos/screen/pi04/spin011/PGSPIN01101LnkHoldCntLotResultLsttoto.form?holdCntId=1241\n",
      "処理中: 1241 https://store.toto-dream.com/dcs/subos/screen/pi01/spin000/PGSPIN00001DisptotoLotInfo.form?holdCntId=1241\n",
      "処理中: 1242 https://store.toto-dream.com/dcs/subos/screen/pi04/spin011/PGSPIN01101LnkHoldCntLotResultLsttoto.form?holdCntId=1242\n",
      "処理中: 1242 https://store.toto-dream.com/dcs/subos/screen/pi01/spin000/PGSPIN00001DisptotoLotInfo.form?holdCntId=1242\n",
      "処理中: 1243 https://store.toto-dream.com/dcs/subos/screen/pi04/spin011/PGSPIN01101LnkHoldCntLotResultLsttoto.form?holdCntId=1243\n",
      "処理中: 1243 https://store.toto-dream.com/dcs/subos/screen/pi01/spin000/PGSPIN00001DisptotoLotInfo.form?holdCntId=1243\n",
      "処理中: 1244 https://store.toto-dream.com/dcs/subos/screen/pi04/spin011/PGSPIN01101LnkHoldCntLotResultLsttoto.form?holdCntId=1244\n",
      "処理中: 1244 https://store.toto-dream.com/dcs/subos/screen/pi01/spin000/PGSPIN00001DisptotoLotInfo.form?holdCntId=1244\n"
     ]
    }
   ],
   "source": [
    "s.scraping_and_clean(True)"
   ]
  },
  {
   "cell_type": "code",
   "execution_count": null,
   "id": "royal-neighborhood",
   "metadata": {},
   "outputs": [],
   "source": []
  }
 ],
 "metadata": {
  "kernelspec": {
   "display_name": "Python 3",
   "language": "python",
   "name": "python3"
  },
  "language_info": {
   "codemirror_mode": {
    "name": "ipython",
    "version": 3
   },
   "file_extension": ".py",
   "mimetype": "text/x-python",
   "name": "python",
   "nbconvert_exporter": "python",
   "pygments_lexer": "ipython3",
   "version": "3.8.8"
  }
 },
 "nbformat": 4,
 "nbformat_minor": 5
}
