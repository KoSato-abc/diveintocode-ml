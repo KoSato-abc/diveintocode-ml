{
 "cells": [
  {
   "cell_type": "code",
   "execution_count": 3,
   "id": "surrounded-congress",
   "metadata": {},
   "outputs": [],
   "source": []
  },
  {
   "cell_type": "code",
   "execution_count": 4,
   "id": "pursuant-encounter",
   "metadata": {},
   "outputs": [],
   "source": [
    "import numpy as np\n",
    "import pandas as pd\n",
    "import optuna.integration.lightgbm as lgb_o\n",
    "from sklearn.metrics import mean_squared_error\n",
    "\n",
    "class rightgbm_category:\n",
    "    \n",
    "    def fit(self, x_train, x_val, x_test, y_train, y_val, y_test, num_class):\n",
    "\n",
    "        lgb_train = lgb_o.Dataset(x_train, y_train)\n",
    "        lgb_eval = lgb_o.Dataset(x_val, y_val) \n",
    "        # 学習用パラメータ\n",
    "        lgbm_params = {\n",
    "            'objective': 'multiclass',\n",
    "            'metric': 'multi_logloss',\n",
    "            'num_class': num_class,\n",
    "        }\n",
    "        # 学習\n",
    "        model = lgb_o.train(lgbm_params,\n",
    "                        lgb_train,\n",
    "                        valid_sets=lgb_eval,\n",
    "                        early_stopping_rounds=100,\n",
    "                        verbose_eval=200,)\n",
    "\n",
    "        y_pred_proba = model.predict(x_test, num_iteration=model.best_iteration)\n",
    "        y_pred = np.argmax(y_pred_proba, axis=1)\n",
    "\n",
    "        # Accuracy の計算\n",
    "        accuracy = sum(y_test == y_pred) / len(y_test)\n",
    "        print('accuracy:', accuracy)\n",
    "        \n",
    "        self.model = model\n",
    "        \n",
    "        return y_pred, y_pred_proba, accuracy\n",
    "    \n",
    "    def predict(self, x_toto):\n",
    "        y_pred_proba = self.model.predict(x_toto, num_iteration=self.model.best_iteration)\n",
    "        y_pred = np.argmax(y_pred_proba, axis=1)\n",
    "        return y_pred, y_pred_proba"
   ]
  },
  {
   "cell_type": "code",
   "execution_count": null,
   "id": "residential-shame",
   "metadata": {},
   "outputs": [],
   "source": []
  }
 ],
 "metadata": {
  "kernelspec": {
   "display_name": "Python 3",
   "language": "python",
   "name": "python3"
  },
  "language_info": {
   "codemirror_mode": {
    "name": "ipython",
    "version": 3
   },
   "file_extension": ".py",
   "mimetype": "text/x-python",
   "name": "python",
   "nbconvert_exporter": "python",
   "pygments_lexer": "ipython3",
   "version": "3.8.8"
  }
 },
 "nbformat": 4,
 "nbformat_minor": 5
}
