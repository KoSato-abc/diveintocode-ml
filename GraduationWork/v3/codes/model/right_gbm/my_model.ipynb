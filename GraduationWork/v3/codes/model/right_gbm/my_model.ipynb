{
 "cells": [
  {
   "cell_type": "code",
   "execution_count": 1,
   "id": "manual-beatles",
   "metadata": {},
   "outputs": [
    {
     "name": "stdout",
     "output_type": "stream",
     "text": [
      "/Users/satouwataru/Desktop/DiveIntoCode/git/diveintocode-ml/GraduationWork/v2/codes/model\n"
     ]
    }
   ],
   "source": [
    "cd .."
   ]
  },
  {
   "cell_type": "code",
   "execution_count": 2,
   "id": "deluxe-donna",
   "metadata": {},
   "outputs": [
    {
     "name": "stdout",
     "output_type": "stream",
     "text": [
      "/Users/satouwataru/Desktop/DiveIntoCode/git/diveintocode-ml/GraduationWork/v2/codes\n"
     ]
    }
   ],
   "source": [
    "cd .."
   ]
  },
  {
   "cell_type": "code",
   "execution_count": 3,
   "id": "solid-calibration",
   "metadata": {},
   "outputs": [
    {
     "name": "stdout",
     "output_type": "stream",
     "text": [
      "/Users/satouwataru/Desktop/DiveIntoCode/git/diveintocode-ml/GraduationWork/v2\n"
     ]
    }
   ],
   "source": [
    "cd .."
   ]
  },
  {
   "cell_type": "code",
   "execution_count": null,
   "id": "accepted-mercury",
   "metadata": {},
   "outputs": [],
   "source": []
  },
  {
   "cell_type": "code",
   "execution_count": 4,
   "id": "literary-territory",
   "metadata": {},
   "outputs": [],
   "source": [
    "import numpy as np\n",
    "import pandas as pd\n",
    "from sklearn.model_selection import train_test_split\n",
    "\n",
    "# import preprocessing\n",
    "import rightgbm_category\n",
    "import rightgbm_regression\n",
    "\n",
    "def predict_toto(year = None):\n",
    "    \n",
    "    acuracy_val_list = []\n",
    "    acuracy_title_list = []\n",
    "    \n",
    "    model_category =  rightgbm_category.rightgbm_category()\n",
    "    model_regression =  rightgbm_regression.rightgbm_regression()\n",
    "    \n",
    "    data = pd.read_csv('data/model/preprocessing.csv', index_col=0).reset_index(drop = True)\n",
    "    data = data.sort_values('年月日', ascending=False)\n",
    "    # y_columns = ['y_H_goal', 'y_A_goal', 'y_goal_deff', 'y_even_flg', 'y_H_result']\n",
    "    y_columns = []\n",
    "    for col in data.columns:\n",
    "        if col[:2] == 'y_':\n",
    "            y_columns += [col]\n",
    "    \n",
    "    '''\n",
    "    引き分け、その他の二値分類\n",
    "    '''\n",
    "    # train、test、totoに分ける\n",
    "    train = data[data['train_test'] == 'train'].drop(columns = ['train_test'])\n",
    "    test = data[data['train_test'] == 'test'].drop(columns = ['train_test'])\n",
    "    toto = data[data['train_test'] == 'toto'].drop(columns = ['train_test'])\n",
    "    if test.shape[0] == 0:\n",
    "        train, test = train_test_split(train, test_size=0.05)\n",
    "    \n",
    "    # trainとvalに分ける\n",
    "    train, val = train_test_split(train, train_size=0.8)\n",
    "\n",
    "    train = train.sort_values('年月日', ascending=False).reset_index(drop = True)\n",
    "    val = val.sort_values('年月日', ascending=False).reset_index(drop = True)\n",
    "    test = test.sort_values('年月日', ascending=False).reset_index(drop = True)\n",
    "    toto = toto.sort_values('年月日', ascending=False).reset_index(drop = True)\n",
    "    \n",
    "    # x_とy_に分ける\n",
    "    x_train = train.drop(columns = y_columns)\n",
    "    x_val = val.drop(columns = y_columns)\n",
    "    x_test = test.drop(columns = y_columns)\n",
    "    x_toto = toto.drop(columns = y_columns)\n",
    "    y_train = train['y_even_flg']\n",
    "    y_val = val['y_even_flg']\n",
    "    y_test = test['y_even_flg']\n",
    "    \n",
    "    df_result = x_toto[['年月日', 'H_Team', 'A_Team']]\n",
    "    \n",
    "    # 学習\n",
    "    y_pred, y_pred_proba, accuracy = model_category.fit(x_train, x_val, x_test, y_train, y_val, y_test, 2, year, 'is_even_lgbm')\n",
    "    # 予測\n",
    "    y_toto, y_toto_proba = model_category.predict(x_toto)\n",
    "    \n",
    "    df_pred_even = pd.DataFrame(y_toto, columns = ['is_even_lgbm'])\n",
    "    df_pred_even_prova = pd.DataFrame(y_toto_proba, columns = ['is_even_0_1_lgbm', 'is_even_1_1_lgbm'])\n",
    "    df_pred_even_prova['is_even_lgbm_acc'] = accuracy\n",
    "    df_result = pd.concat([df_result, df_pred_even, df_pred_even_prova], axis = 1)\n",
    "    acuracy_val_list += [accuracy]\n",
    "    acuracy_title_list += ['is_even_lgbm']\n",
    "    \n",
    "    '''\n",
    "    勝敗の二値分類\n",
    "    '''\n",
    "    # y_columns = ['y_H_goal', 'y_A_goal', 'y_goal_deff', 'y_even_flg', 'y_H_result']\n",
    "    # train、test、totoに分ける\n",
    "    train = data[data['train_test'] == 'train'].drop(columns = ['train_test'])\n",
    "    test = data[data['train_test'] == 'testa'].drop(columns = ['train_test'])\n",
    "    if test.shape[0] == 0:\n",
    "        train, test = train_test_split(train, test_size=0.05)\n",
    "    \n",
    "    # trainの勝敗のみを使用\n",
    "    train = train[train['y_H_result'] != 0]\n",
    "    \n",
    "    # trainとvalに分ける\n",
    "    train, val = train_test_split(train, train_size=0.8)\n",
    "\n",
    "    train = train.sort_values('年月日', ascending=False).reset_index(drop = True)\n",
    "    val = val.sort_values('年月日', ascending=False).reset_index(drop = True)\n",
    "    test = test.sort_values('年月日', ascending=False).reset_index(drop = True)\n",
    "    \n",
    "    train['y_H_result'] = train['y_H_result'] -1\n",
    "    val['y_H_result'] = val['y_H_result'] -1\n",
    "    test['y_H_result'] = test['y_H_result'] -1\n",
    "    \n",
    "    # x_とy_に分ける\n",
    "    x_train = train.drop(columns = y_columns)\n",
    "    x_val = val.drop(columns = y_columns)\n",
    "    x_test = test.drop(columns = y_columns)\n",
    "    y_train = train['y_H_result']\n",
    "    y_val = val['y_H_result']\n",
    "    y_test = test['y_H_result']\n",
    "    \n",
    "    # 学習\n",
    "    y_pred, y_pred_proba, accuracy = model_category.fit(x_train, x_val, x_test, y_train, y_val, y_test, 2, year, 'is_lose_lgbm')\n",
    "    # 予測\n",
    "    y_toto, y_toto_proba = model_category.predict(x_toto)\n",
    "    # 結果を保存\n",
    "    df_pred = pd.DataFrame(y_toto, columns = ['is_lose_lgbm'])\n",
    "    df_pred_prova = pd.DataFrame(y_toto_proba, columns = ['is_lose_0_1_lgbm', 'is_lose_1_1_lgbm'])\n",
    "    df_pred_prova['is_lose_lgbm_acc'] = accuracy\n",
    "    df_result = pd.concat([df_result, df_pred, df_pred_prova], axis = 1)\n",
    "    acuracy_val_list += [accuracy]\n",
    "    acuracy_title_list += ['is_lose_lgbm']\n",
    "    \n",
    "    '''\n",
    "    勝分敗の3値分類\n",
    "    '''\n",
    "    # y_columns = ['y_H_goal', 'y_A_goal', 'y_goal_deff', 'y_even_flg', 'y_H_result']\n",
    "    # train、test、totoに分ける\n",
    "    train = data[data['train_test'] == 'train'].drop(columns = ['train_test'])\n",
    "    test = data[data['train_test'] == 'testa'].drop(columns = ['train_test'])\n",
    "    if test.shape[0] == 0:\n",
    "        train, test = train_test_split(train, test_size=0.05)\n",
    "        \n",
    "    # trainとvalに分ける\n",
    "    train, val = train_test_split(train, train_size=0.8)\n",
    "\n",
    "    train = train.sort_values('年月日', ascending=False).reset_index(drop = True)\n",
    "    val = val.sort_values('年月日', ascending=False).reset_index(drop = True)\n",
    "    test = test.sort_values('年月日', ascending=False).reset_index(drop = True)\n",
    "    \n",
    "    # x_とy_に分ける\n",
    "    x_train = train.drop(columns = y_columns)\n",
    "    x_val = val.drop(columns = y_columns)\n",
    "    x_test = test.drop(columns = y_columns)\n",
    "    y_train = train['y_H_result']\n",
    "    y_val = val['y_H_result']\n",
    "    y_test = test['y_H_result']\n",
    "    \n",
    "    # 学習\n",
    "    y_pred, y_pred_proba, accuracy = model_category.fit(x_train, x_val, x_test, y_train, y_val, y_test, 3, year, 'w_e_l_lgbm')\n",
    "    # 予測\n",
    "    y_toto, y_toto_proba = model_category.predict(x_toto)\n",
    "    # 結果を保存\n",
    "    df_pred = pd.DataFrame(y_toto, columns = ['w_e_l_lgbm'])\n",
    "    df_pred_prova = pd.DataFrame(y_toto_proba, columns = ['w_e_l_0_2_lgbm', 'w_e_l_1_2_lgbm', 'w_e_l_2_2_lgbm'])\n",
    "    df_pred_prova['w_e_l_lgbm_acc'] = accuracy\n",
    "    df_result = pd.concat([df_result, df_pred, df_pred_prova], axis = 1)\n",
    "    acuracy_val_list += [accuracy]\n",
    "    acuracy_title_list += ['w_e_l_lgbm']\n",
    "    \n",
    "    '''\n",
    "    得失点の回帰\n",
    "    '''\n",
    "    # y_columns = ['y_H_goal', 'y_A_goal', 'y_goal_deff', 'y_even_flg', 'y_H_result']\n",
    "    # train、test、totoに分ける\n",
    "    train = data[data['train_test'] == 'train'].drop(columns = ['train_test'])\n",
    "    test = data[data['train_test'] == 'testa'].drop(columns = ['train_test'])\n",
    "    if test.shape[0] == 0:\n",
    "        train, test = train_test_split(train, test_size=0.05)\n",
    "        \n",
    "    # trainとvalに分ける\n",
    "    train, val = train_test_split(train, train_size=0.8)\n",
    "\n",
    "    train = train.sort_values('年月日', ascending=False).reset_index(drop = True)\n",
    "    val = val.sort_values('年月日', ascending=False).reset_index(drop = True)\n",
    "    test = test.sort_values('年月日', ascending=False).reset_index(drop = True)\n",
    "    \n",
    "    # x_とy_に分ける\n",
    "    x_train = train.drop(columns = y_columns)\n",
    "    x_val = val.drop(columns = y_columns)\n",
    "    x_test = test.drop(columns = y_columns)\n",
    "    y_train = train['y_goal_deff']\n",
    "    y_val = val['y_goal_deff']\n",
    "    y_test = test['y_goal_deff']\n",
    "    \n",
    "    # 学習\n",
    "    y_pred, rmse = model_regression.fit(x_train, x_val, x_test, y_train, y_val, y_test, year, 'goal_deff_lgbm')\n",
    "    # 予測\n",
    "    y_toto = model_regression.predict(x_toto)\n",
    "    # 結果を保存\n",
    "    df_pred = pd.DataFrame(y_toto, columns = ['goal_deff_lgbm'])\n",
    "    df_pred['goal_deff_lgbm_rmse'] = rmse\n",
    "    df_result = pd.concat([df_result, df_pred], axis = 1)\n",
    "    acuracy_val_list += [rmse]\n",
    "    acuracy_title_list += ['goal_deff_lgbm']\n",
    "    \n",
    "    '''\n",
    "    得点の回帰\n",
    "    '''\n",
    "    # y_columns = ['y_H_goal', 'y_A_goal', 'y_goal_deff', 'y_even_flg', 'y_H_result']\n",
    "    # train、test、totoに分ける\n",
    "    train = data[data['train_test'] == 'train'].drop(columns = ['train_test'])\n",
    "    test = data[data['train_test'] == 'testa'].drop(columns = ['train_test'])\n",
    "    if test.shape[0] == 0:\n",
    "        train, test = train_test_split(train, test_size=0.05)\n",
    "        \n",
    "    # trainとvalに分ける\n",
    "    train, val = train_test_split(train, train_size=0.8)\n",
    "\n",
    "    train = train.sort_values('年月日', ascending=False).reset_index(drop = True)\n",
    "    val = val.sort_values('年月日', ascending=False).reset_index(drop = True)\n",
    "    test = test.sort_values('年月日', ascending=False).reset_index(drop = True)\n",
    "    \n",
    "    # x_とy_に分ける\n",
    "    x_train = train.drop(columns = y_columns)\n",
    "    x_val = val.drop(columns = y_columns)\n",
    "    x_test = test.drop(columns = y_columns)\n",
    "    y_train = train['y_H_goal']\n",
    "    y_val = val['y_H_goal']\n",
    "    y_test = test['y_H_goal']\n",
    "    \n",
    "    # 学習\n",
    "    y_pred, rmse = model_regression.fit(x_train, x_val, x_test, y_train, y_val, y_test, year, 'H_goal_lgbm')\n",
    "    # 予測\n",
    "    y_toto = model_regression.predict(x_toto)\n",
    "    # 結果を保存\n",
    "    df_pred = pd.DataFrame(y_toto, columns = ['H_goal_lgbm'])\n",
    "    df_pred['H_goal_lgbm_rmse'] = rmse\n",
    "    df_result = pd.concat([df_result, df_pred], axis = 1)\n",
    "    acuracy_val_list += [rmse]\n",
    "    acuracy_title_list += ['H_goal_lgbm']\n",
    "    \n",
    "    '''\n",
    "    失点の回帰\n",
    "    '''\n",
    "    # y_columns = ['y_H_goal', 'y_A_goal', 'y_goal_deff', 'y_even_flg', 'y_H_result']\n",
    "    # train、test、totoに分ける\n",
    "    train = data[data['train_test'] == 'train'].drop(columns = ['train_test'])\n",
    "    test = data[data['train_test'] == 'testa'].drop(columns = ['train_test'])\n",
    "    if test.shape[0] == 0:\n",
    "        train, test = train_test_split(train, test_size=0.05)\n",
    "        \n",
    "    # trainとvalに分ける\n",
    "    train, val = train_test_split(train, train_size=0.8)\n",
    "\n",
    "    train = train.sort_values('年月日', ascending=False).reset_index(drop = True)\n",
    "    val = val.sort_values('年月日', ascending=False).reset_index(drop = True)\n",
    "    test = test.sort_values('年月日', ascending=False).reset_index(drop = True)\n",
    "    \n",
    "    # x_とy_に分ける\n",
    "    x_train = train.drop(columns = y_columns)\n",
    "    x_val = val.drop(columns = y_columns)\n",
    "    x_test = test.drop(columns = y_columns)\n",
    "    y_train = train['y_A_goal']\n",
    "    y_val = val['y_A_goal']\n",
    "    y_test = test['y_A_goal']\n",
    "    \n",
    "    # 学習\n",
    "    y_pred, rmse = model_regression.fit(x_train, x_val, x_test, y_train, y_val, y_test, year, 'A_goal_lgbm')\n",
    "    # 予測\n",
    "    y_toto = model_regression.predict(x_toto)\n",
    "    # 結果を保存\n",
    "    df_pred = pd.DataFrame(y_toto, columns = ['A_goal_lgbm'])\n",
    "    df_pred['A_goal_lgbm_rmse'] = rmse\n",
    "    df_result = pd.concat([df_result, df_pred], axis = 1)\n",
    "    acuracy_val_list += [rmse]\n",
    "    acuracy_title_list += ['A_goal_lgbm']\n",
    "    \n",
    "#     df_result.drop(columns = ['even_1_lgbm', 'wl_1_lgbm', 'wel_2_lgbm'])\n",
    "    df_acuracy = pd.DataFrame([acuracy_val_list], columns = acuracy_title_list).T\n",
    "    return df_result, df_acuracy"
   ]
  },
  {
   "cell_type": "code",
   "execution_count": 5,
   "id": "honest-clause",
   "metadata": {},
   "outputs": [
    {
     "name": "stderr",
     "output_type": "stream",
     "text": [
      "\u001b[32m[I 2021-05-11 09:41:34,527]\u001b[0m A new study created in memory with name: no-name-bffe215b-83f3-40cd-8de7-93c224979e1d\u001b[0m\n",
      "feature_fraction, val_score: inf:   0%|          | 0/7 [00:00<?, ?it/s]"
     ]
    },
    {
     "name": "stdout",
     "output_type": "stream",
     "text": [
      "Training until validation scores don't improve for 100 rounds\n"
     ]
    },
    {
     "name": "stderr",
     "output_type": "stream",
     "text": [
      "feature_fraction, val_score: 0.693140:  14%|#4        | 1/7 [00:00<00:05,  1.01it/s]\u001b[32m[I 2021-05-11 09:41:35,532]\u001b[0m Trial 0 finished with value: 0.6931400900214685 and parameters: {'feature_fraction': 0.8}. Best is trial 0 with value: 0.6931400900214685.\u001b[0m\n",
      "feature_fraction, val_score: 0.693140:  14%|#4        | 1/7 [00:00<00:05,  1.01it/s]"
     ]
    },
    {
     "name": "stdout",
     "output_type": "stream",
     "text": [
      "Early stopping, best iteration is:\n",
      "[1]\tvalid_0's multi_logloss: 0.69314\n",
      "Training until validation scores don't improve for 100 rounds\n"
     ]
    },
    {
     "name": "stderr",
     "output_type": "stream",
     "text": [
      "feature_fraction, val_score: 0.691434:  29%|##8       | 2/7 [00:01<00:04,  1.00it/s]\u001b[32m[I 2021-05-11 09:41:36,532]\u001b[0m Trial 1 finished with value: 0.6914340619071239 and parameters: {'feature_fraction': 0.4}. Best is trial 1 with value: 0.6914340619071239.\u001b[0m\n",
      "feature_fraction, val_score: 0.691434:  29%|##8       | 2/7 [00:01<00:04,  1.00it/s]"
     ]
    },
    {
     "name": "stdout",
     "output_type": "stream",
     "text": [
      "Early stopping, best iteration is:\n",
      "[4]\tvalid_0's multi_logloss: 0.691434\n",
      "Training until validation scores don't improve for 100 rounds\n"
     ]
    },
    {
     "name": "stderr",
     "output_type": "stream",
     "text": [
      "feature_fraction, val_score: 0.691434:  43%|####2     | 3/7 [00:03<00:04,  1.04s/it]\u001b[32m[I 2021-05-11 09:41:37,622]\u001b[0m Trial 2 finished with value: 0.6923362953729942 and parameters: {'feature_fraction': 0.5}. Best is trial 1 with value: 0.6914340619071239.\u001b[0m\n",
      "feature_fraction, val_score: 0.691434:  43%|####2     | 3/7 [00:03<00:04,  1.04s/it]"
     ]
    },
    {
     "name": "stdout",
     "output_type": "stream",
     "text": [
      "Early stopping, best iteration is:\n",
      "[4]\tvalid_0's multi_logloss: 0.692336\n",
      "Training until validation scores don't improve for 100 rounds\n"
     ]
    },
    {
     "name": "stderr",
     "output_type": "stream",
     "text": [
      "feature_fraction, val_score: 0.691434:  57%|#####7    | 4/7 [00:04<00:03,  1.05s/it]\u001b[32m[I 2021-05-11 09:41:38,697]\u001b[0m Trial 3 finished with value: 0.6924479663331405 and parameters: {'feature_fraction': 0.6}. Best is trial 1 with value: 0.6914340619071239.\u001b[0m\n",
      "feature_fraction, val_score: 0.691434:  57%|#####7    | 4/7 [00:04<00:03,  1.05s/it]"
     ]
    },
    {
     "name": "stdout",
     "output_type": "stream",
     "text": [
      "Early stopping, best iteration is:\n",
      "[7]\tvalid_0's multi_logloss: 0.692448\n",
      "Training until validation scores don't improve for 100 rounds\n"
     ]
    },
    {
     "name": "stderr",
     "output_type": "stream",
     "text": [
      "feature_fraction, val_score: 0.691434:  71%|#######1  | 5/7 [00:05<00:02,  1.09s/it]\u001b[32m[I 2021-05-11 09:41:39,844]\u001b[0m Trial 4 finished with value: 0.6934857528177195 and parameters: {'feature_fraction': 0.7}. Best is trial 1 with value: 0.6914340619071239.\u001b[0m\n",
      "feature_fraction, val_score: 0.691434:  71%|#######1  | 5/7 [00:05<00:02,  1.09s/it]"
     ]
    },
    {
     "name": "stdout",
     "output_type": "stream",
     "text": [
      "Early stopping, best iteration is:\n",
      "[1]\tvalid_0's multi_logloss: 0.693486\n",
      "Training until validation scores don't improve for 100 rounds\n"
     ]
    },
    {
     "name": "stderr",
     "output_type": "stream",
     "text": [
      "feature_fraction, val_score: 0.691434:  86%|########5 | 6/7 [00:06<00:00,  1.03it/s]\u001b[32m[I 2021-05-11 09:41:40,579]\u001b[0m Trial 5 finished with value: 0.6925094774063725 and parameters: {'feature_fraction': 0.8999999999999999}. Best is trial 1 with value: 0.6914340619071239.\u001b[0m\n",
      "feature_fraction, val_score: 0.691434:  86%|########5 | 6/7 [00:06<00:00,  1.03it/s]"
     ]
    },
    {
     "name": "stdout",
     "output_type": "stream",
     "text": [
      "Early stopping, best iteration is:\n",
      "[3]\tvalid_0's multi_logloss: 0.692509\n",
      "Training until validation scores don't improve for 100 rounds\n"
     ]
    },
    {
     "name": "stderr",
     "output_type": "stream",
     "text": [
      "feature_fraction, val_score: 0.691434: 100%|##########| 7/7 [00:06<00:00,  1.22it/s]\u001b[32m[I 2021-05-11 09:41:41,101]\u001b[0m Trial 6 finished with value: 0.6933939702291833 and parameters: {'feature_fraction': 1.0}. Best is trial 1 with value: 0.6914340619071239.\u001b[0m\n",
      "feature_fraction, val_score: 0.691434: 100%|##########| 7/7 [00:06<00:00,  1.07it/s]\n",
      "num_leaves, val_score: 0.691434:   0%|          | 0/20 [00:00<?, ?it/s]"
     ]
    },
    {
     "name": "stdout",
     "output_type": "stream",
     "text": [
      "Early stopping, best iteration is:\n",
      "[1]\tvalid_0's multi_logloss: 0.693394\n",
      "Training until validation scores don't improve for 100 rounds\n"
     ]
    },
    {
     "name": "stderr",
     "output_type": "stream",
     "text": [
      "num_leaves, val_score: 0.690350:   5%|5         | 1/20 [00:00<00:15,  1.20it/s]\u001b[32m[I 2021-05-11 09:41:41,940]\u001b[0m Trial 7 finished with value: 0.6903503966289262 and parameters: {'num_leaves': 231}. Best is trial 7 with value: 0.6903503966289262.\u001b[0m\n",
      "num_leaves, val_score: 0.690350:   5%|5         | 1/20 [00:00<00:15,  1.20it/s]"
     ]
    },
    {
     "name": "stdout",
     "output_type": "stream",
     "text": [
      "Early stopping, best iteration is:\n",
      "[2]\tvalid_0's multi_logloss: 0.69035\n",
      "Training until validation scores don't improve for 100 rounds\n"
     ]
    },
    {
     "name": "stderr",
     "output_type": "stream",
     "text": [
      "num_leaves, val_score: 0.690350:  10%|#         | 2/20 [00:01<00:15,  1.19it/s]\u001b[32m[I 2021-05-11 09:41:42,783]\u001b[0m Trial 8 finished with value: 0.6903503966289262 and parameters: {'num_leaves': 137}. Best is trial 7 with value: 0.6903503966289262.\u001b[0m\n",
      "num_leaves, val_score: 0.690350:  10%|#         | 2/20 [00:01<00:15,  1.19it/s]"
     ]
    },
    {
     "name": "stdout",
     "output_type": "stream",
     "text": [
      "Early stopping, best iteration is:\n",
      "[2]\tvalid_0's multi_logloss: 0.69035\n",
      "Training until validation scores don't improve for 100 rounds\n"
     ]
    },
    {
     "name": "stderr",
     "output_type": "stream",
     "text": [
      "num_leaves, val_score: 0.690350:  15%|#5        | 3/20 [00:02<00:11,  1.49it/s]\u001b[32m[I 2021-05-11 09:41:43,252]\u001b[0m Trial 9 finished with value: 0.6911800657228143 and parameters: {'num_leaves': 61}. Best is trial 7 with value: 0.6903503966289262.\u001b[0m\n",
      "num_leaves, val_score: 0.690350:  15%|#5        | 3/20 [00:02<00:11,  1.49it/s]"
     ]
    },
    {
     "name": "stdout",
     "output_type": "stream",
     "text": [
      "Early stopping, best iteration is:\n",
      "[2]\tvalid_0's multi_logloss: 0.69118\n",
      "Training until validation scores don't improve for 100 rounds\n"
     ]
    },
    {
     "name": "stderr",
     "output_type": "stream",
     "text": [
      "num_leaves, val_score: 0.690350:  20%|##        | 4/20 [00:02<00:11,  1.44it/s]\u001b[32m[I 2021-05-11 09:41:43,981]\u001b[0m Trial 10 finished with value: 0.6903503966289262 and parameters: {'num_leaves': 242}. Best is trial 7 with value: 0.6903503966289262.\u001b[0m\n",
      "num_leaves, val_score: 0.690350:  20%|##        | 4/20 [00:02<00:11,  1.44it/s]"
     ]
    },
    {
     "name": "stdout",
     "output_type": "stream",
     "text": [
      "Early stopping, best iteration is:\n",
      "[2]\tvalid_0's multi_logloss: 0.69035\n",
      "Training until validation scores don't improve for 100 rounds\n"
     ]
    },
    {
     "name": "stderr",
     "output_type": "stream",
     "text": [
      "num_leaves, val_score: 0.690350:  25%|##5       | 5/20 [00:03<00:09,  1.50it/s]\u001b[32m[I 2021-05-11 09:41:44,596]\u001b[0m Trial 11 finished with value: 0.6903503966289262 and parameters: {'num_leaves': 222}. Best is trial 7 with value: 0.6903503966289262.\u001b[0m\n",
      "num_leaves, val_score: 0.690350:  25%|##5       | 5/20 [00:03<00:09,  1.50it/s]"
     ]
    },
    {
     "name": "stdout",
     "output_type": "stream",
     "text": [
      "Early stopping, best iteration is:\n",
      "[2]\tvalid_0's multi_logloss: 0.69035\n",
      "Training until validation scores don't improve for 100 rounds\n"
     ]
    },
    {
     "name": "stderr",
     "output_type": "stream",
     "text": [
      "num_leaves, val_score: 0.690350:  30%|###       | 6/20 [00:04<00:08,  1.56it/s]\u001b[32m[I 2021-05-11 09:41:45,184]\u001b[0m Trial 12 finished with value: 0.6903503966289262 and parameters: {'num_leaves': 157}. Best is trial 7 with value: 0.6903503966289262.\u001b[0m\n",
      "num_leaves, val_score: 0.690350:  30%|###       | 6/20 [00:04<00:08,  1.56it/s]"
     ]
    },
    {
     "name": "stdout",
     "output_type": "stream",
     "text": [
      "Early stopping, best iteration is:\n",
      "[2]\tvalid_0's multi_logloss: 0.69035\n",
      "Training until validation scores don't improve for 100 rounds\n"
     ]
    },
    {
     "name": "stderr",
     "output_type": "stream",
     "text": [
      "num_leaves, val_score: 0.690350:  35%|###5      | 7/20 [00:04<00:08,  1.51it/s]\u001b[32m[I 2021-05-11 09:41:45,900]\u001b[0m Trial 13 finished with value: 0.6903503966289262 and parameters: {'num_leaves': 174}. Best is trial 7 with value: 0.6903503966289262.\u001b[0m\n",
      "num_leaves, val_score: 0.690350:  35%|###5      | 7/20 [00:04<00:08,  1.51it/s]"
     ]
    },
    {
     "name": "stdout",
     "output_type": "stream",
     "text": [
      "Early stopping, best iteration is:\n",
      "[2]\tvalid_0's multi_logloss: 0.69035\n",
      "Training until validation scores don't improve for 100 rounds\n"
     ]
    },
    {
     "name": "stderr",
     "output_type": "stream",
     "text": [
      "num_leaves, val_score: 0.690350:  40%|####      | 8/20 [00:05<00:07,  1.60it/s]\u001b[32m[I 2021-05-11 09:41:46,436]\u001b[0m Trial 14 finished with value: 0.6903503966289262 and parameters: {'num_leaves': 197}. Best is trial 7 with value: 0.6903503966289262.\u001b[0m\n",
      "num_leaves, val_score: 0.690350:  40%|####      | 8/20 [00:05<00:07,  1.60it/s]"
     ]
    },
    {
     "name": "stdout",
     "output_type": "stream",
     "text": [
      "Early stopping, best iteration is:\n",
      "[2]\tvalid_0's multi_logloss: 0.69035\n",
      "Training until validation scores don't improve for 100 rounds\n"
     ]
    },
    {
     "name": "stderr",
     "output_type": "stream",
     "text": [
      "num_leaves, val_score: 0.690350:  45%|####5     | 9/20 [00:05<00:05,  1.86it/s]\u001b[32m[I 2021-05-11 09:41:46,789]\u001b[0m Trial 15 finished with value: 0.6911848907906103 and parameters: {'num_leaves': 59}. Best is trial 7 with value: 0.6903503966289262.\u001b[0m\n",
      "num_leaves, val_score: 0.690350:  50%|#####     | 10/20 [00:05<00:04,  2.46it/s]\u001b[32m[I 2021-05-11 09:41:46,902]\u001b[0m Trial 16 finished with value: 0.6917099168886168 and parameters: {'num_leaves': 13}. Best is trial 7 with value: 0.6903503966289262.\u001b[0m\n",
      "num_leaves, val_score: 0.690350:  50%|#####     | 10/20 [00:05<00:04,  2.46it/s]"
     ]
    },
    {
     "name": "stdout",
     "output_type": "stream",
     "text": [
      "Early stopping, best iteration is:\n",
      "[4]\tvalid_0's multi_logloss: 0.691185\n",
      "Training until validation scores don't improve for 100 rounds\n",
      "Early stopping, best iteration is:\n",
      "[3]\tvalid_0's multi_logloss: 0.69171\n",
      "Training until validation scores don't improve for 100 rounds\n"
     ]
    },
    {
     "name": "stderr",
     "output_type": "stream",
     "text": [
      "num_leaves, val_score: 0.690350:  55%|#####5    | 11/20 [00:06<00:04,  1.96it/s]\u001b[32m[I 2021-05-11 09:41:47,647]\u001b[0m Trial 17 finished with value: 0.6903503966289262 and parameters: {'num_leaves': 255}. Best is trial 7 with value: 0.6903503966289262.\u001b[0m\n",
      "num_leaves, val_score: 0.690350:  55%|#####5    | 11/20 [00:06<00:04,  1.96it/s]"
     ]
    },
    {
     "name": "stdout",
     "output_type": "stream",
     "text": [
      "Early stopping, best iteration is:\n",
      "[2]\tvalid_0's multi_logloss: 0.69035\n",
      "Training until validation scores don't improve for 100 rounds\n"
     ]
    },
    {
     "name": "stderr",
     "output_type": "stream",
     "text": [
      "num_leaves, val_score: 0.690144:  60%|######    | 12/20 [00:07<00:04,  1.67it/s]\u001b[32m[I 2021-05-11 09:41:48,445]\u001b[0m Trial 18 finished with value: 0.6901444945359696 and parameters: {'num_leaves': 107}. Best is trial 18 with value: 0.6901444945359696.\u001b[0m\n",
      "num_leaves, val_score: 0.690144:  60%|######    | 12/20 [00:07<00:04,  1.67it/s]"
     ]
    },
    {
     "name": "stdout",
     "output_type": "stream",
     "text": [
      "Early stopping, best iteration is:\n",
      "[3]\tvalid_0's multi_logloss: 0.690144\n",
      "Training until validation scores don't improve for 100 rounds\n"
     ]
    },
    {
     "name": "stderr",
     "output_type": "stream",
     "text": [
      "num_leaves, val_score: 0.690144:  65%|######5   | 13/20 [00:07<00:04,  1.63it/s]\u001b[32m[I 2021-05-11 09:41:49,093]\u001b[0m Trial 19 finished with value: 0.691635881499238 and parameters: {'num_leaves': 91}. Best is trial 18 with value: 0.6901444945359696.\u001b[0m\n",
      "num_leaves, val_score: 0.690144:  65%|######5   | 13/20 [00:07<00:04,  1.63it/s]"
     ]
    },
    {
     "name": "stdout",
     "output_type": "stream",
     "text": [
      "Early stopping, best iteration is:\n",
      "[2]\tvalid_0's multi_logloss: 0.691636\n",
      "Training until validation scores don't improve for 100 rounds\n"
     ]
    },
    {
     "name": "stderr",
     "output_type": "stream",
     "text": [
      "num_leaves, val_score: 0.690119:  70%|#######   | 14/20 [00:08<00:03,  1.52it/s]\u001b[32m[I 2021-05-11 09:41:49,851]\u001b[0m Trial 20 finished with value: 0.6901194513209253 and parameters: {'num_leaves': 102}. Best is trial 20 with value: 0.6901194513209253.\u001b[0m\n",
      "num_leaves, val_score: 0.690119:  70%|#######   | 14/20 [00:08<00:03,  1.52it/s]"
     ]
    },
    {
     "name": "stdout",
     "output_type": "stream",
     "text": [
      "Early stopping, best iteration is:\n",
      "[3]\tvalid_0's multi_logloss: 0.690119\n",
      "Training until validation scores don't improve for 100 rounds\n"
     ]
    },
    {
     "name": "stderr",
     "output_type": "stream",
     "text": [
      "num_leaves, val_score: 0.690119:  75%|#######5  | 15/20 [00:09<00:03,  1.39it/s]\u001b[32m[I 2021-05-11 09:41:50,715]\u001b[0m Trial 21 finished with value: 0.6901194513209253 and parameters: {'num_leaves': 102}. Best is trial 20 with value: 0.6901194513209253.\u001b[0m\n",
      "num_leaves, val_score: 0.690119:  80%|########  | 16/20 [00:09<00:02,  1.84it/s]\u001b[32m[I 2021-05-11 09:41:50,848]\u001b[0m Trial 22 finished with value: 0.6918381318243535 and parameters: {'num_leaves': 7}. Best is trial 20 with value: 0.6901194513209253.\u001b[0m\n",
      "num_leaves, val_score: 0.690119:  80%|########  | 16/20 [00:09<00:02,  1.84it/s]"
     ]
    },
    {
     "name": "stdout",
     "output_type": "stream",
     "text": [
      "Early stopping, best iteration is:\n",
      "[3]\tvalid_0's multi_logloss: 0.690119\n",
      "Training until validation scores don't improve for 100 rounds\n",
      "Early stopping, best iteration is:\n",
      "[2]\tvalid_0's multi_logloss: 0.691838\n",
      "Training until validation scores don't improve for 100 rounds\n"
     ]
    },
    {
     "name": "stderr",
     "output_type": "stream",
     "text": [
      "num_leaves, val_score: 0.690119:  85%|########5 | 17/20 [00:10<00:01,  2.07it/s]\u001b[32m[I 2021-05-11 09:41:51,193]\u001b[0m Trial 23 finished with value: 0.6913414657075523 and parameters: {'num_leaves': 64}. Best is trial 20 with value: 0.6901194513209253.\u001b[0m\n",
      "num_leaves, val_score: 0.690119:  85%|########5 | 17/20 [00:10<00:01,  2.07it/s]"
     ]
    },
    {
     "name": "stdout",
     "output_type": "stream",
     "text": [
      "Early stopping, best iteration is:\n",
      "[2]\tvalid_0's multi_logloss: 0.691341\n",
      "Training until validation scores don't improve for 100 rounds\n"
     ]
    },
    {
     "name": "stderr",
     "output_type": "stream",
     "text": [
      "num_leaves, val_score: 0.690119:  90%|######### | 18/20 [00:10<00:00,  2.04it/s]\u001b[32m[I 2021-05-11 09:41:51,698]\u001b[0m Trial 24 finished with value: 0.6903503966289262 and parameters: {'num_leaves': 117}. Best is trial 20 with value: 0.6901194513209253.\u001b[0m\n",
      "num_leaves, val_score: 0.690119:  90%|######### | 18/20 [00:10<00:00,  2.04it/s]"
     ]
    },
    {
     "name": "stdout",
     "output_type": "stream",
     "text": [
      "Early stopping, best iteration is:\n",
      "[2]\tvalid_0's multi_logloss: 0.69035\n",
      "Training until validation scores don't improve for 100 rounds\n"
     ]
    },
    {
     "name": "stderr",
     "output_type": "stream",
     "text": [
      "num_leaves, val_score: 0.689490:  95%|#########5| 19/20 [00:10<00:00,  2.48it/s]\u001b[32m[I 2021-05-11 09:41:51,899]\u001b[0m Trial 25 finished with value: 0.6894895879304935 and parameters: {'num_leaves': 34}. Best is trial 25 with value: 0.6894895879304935.\u001b[0m\n",
      "num_leaves, val_score: 0.689490:  95%|#########5| 19/20 [00:10<00:00,  2.48it/s]"
     ]
    },
    {
     "name": "stdout",
     "output_type": "stream",
     "text": [
      "Early stopping, best iteration is:\n",
      "[6]\tvalid_0's multi_logloss: 0.68949\n",
      "Training until validation scores don't improve for 100 rounds\n"
     ]
    },
    {
     "name": "stderr",
     "output_type": "stream",
     "text": [
      "num_leaves, val_score: 0.689490: 100%|##########| 20/20 [00:11<00:00,  2.82it/s]\u001b[32m[I 2021-05-11 09:41:52,141]\u001b[0m Trial 26 finished with value: 0.6909798900486217 and parameters: {'num_leaves': 43}. Best is trial 25 with value: 0.6894895879304935.\u001b[0m\n",
      "num_leaves, val_score: 0.689490: 100%|##########| 20/20 [00:11<00:00,  1.81it/s]\n",
      "bagging, val_score: 0.689490:   0%|          | 0/10 [00:00<?, ?it/s]"
     ]
    },
    {
     "name": "stdout",
     "output_type": "stream",
     "text": [
      "Early stopping, best iteration is:\n",
      "[3]\tvalid_0's multi_logloss: 0.69098\n",
      "Training until validation scores don't improve for 100 rounds\n"
     ]
    },
    {
     "name": "stderr",
     "output_type": "stream",
     "text": [
      "bagging, val_score: 0.689490:  10%|#         | 1/10 [00:00<00:02,  4.17it/s]\u001b[32m[I 2021-05-11 09:41:52,385]\u001b[0m Trial 27 finished with value: 0.6917605427301532 and parameters: {'bagging_fraction': 0.5376463797103341, 'bagging_freq': 1}. Best is trial 27 with value: 0.6917605427301532.\u001b[0m\n",
      "bagging, val_score: 0.689490:  10%|#         | 1/10 [00:00<00:02,  4.17it/s]"
     ]
    },
    {
     "name": "stdout",
     "output_type": "stream",
     "text": [
      "Early stopping, best iteration is:\n",
      "[4]\tvalid_0's multi_logloss: 0.691761\n",
      "Training until validation scores don't improve for 100 rounds\n"
     ]
    },
    {
     "name": "stderr",
     "output_type": "stream",
     "text": [
      "bagging, val_score: 0.689490:  20%|##        | 2/10 [00:00<00:01,  4.08it/s]\u001b[32m[I 2021-05-11 09:41:52,634]\u001b[0m Trial 28 finished with value: 0.6918979167055261 and parameters: {'bagging_fraction': 0.8884756634307824, 'bagging_freq': 4}. Best is trial 27 with value: 0.6917605427301532.\u001b[0m\n",
      "bagging, val_score: 0.689490:  20%|##        | 2/10 [00:00<00:01,  4.08it/s]"
     ]
    },
    {
     "name": "stdout",
     "output_type": "stream",
     "text": [
      "Early stopping, best iteration is:\n",
      "[1]\tvalid_0's multi_logloss: 0.691898\n",
      "Training until validation scores don't improve for 100 rounds\n"
     ]
    },
    {
     "name": "stderr",
     "output_type": "stream",
     "text": [
      "bagging, val_score: 0.689490:  30%|###       | 3/10 [00:00<00:01,  4.07it/s]\u001b[32m[I 2021-05-11 09:41:52,881]\u001b[0m Trial 29 finished with value: 0.6924724165175512 and parameters: {'bagging_fraction': 0.7223549781209417, 'bagging_freq': 7}. Best is trial 27 with value: 0.6917605427301532.\u001b[0m\n",
      "bagging, val_score: 0.689490:  30%|###       | 3/10 [00:00<00:01,  4.07it/s]"
     ]
    },
    {
     "name": "stdout",
     "output_type": "stream",
     "text": [
      "Early stopping, best iteration is:\n",
      "[1]\tvalid_0's multi_logloss: 0.692472\n",
      "Training until validation scores don't improve for 100 rounds\n"
     ]
    },
    {
     "name": "stderr",
     "output_type": "stream",
     "text": [
      "bagging, val_score: 0.689490:  40%|####      | 4/10 [00:01<00:01,  3.48it/s]\u001b[32m[I 2021-05-11 09:41:53,232]\u001b[0m Trial 30 finished with value: 0.6938046905884763 and parameters: {'bagging_fraction': 0.8788533957028303, 'bagging_freq': 1}. Best is trial 27 with value: 0.6917605427301532.\u001b[0m\n",
      "bagging, val_score: 0.689490:  40%|####      | 4/10 [00:01<00:01,  3.48it/s]"
     ]
    },
    {
     "name": "stdout",
     "output_type": "stream",
     "text": [
      "Early stopping, best iteration is:\n",
      "[1]\tvalid_0's multi_logloss: 0.693805\n",
      "Training until validation scores don't improve for 100 rounds\n"
     ]
    },
    {
     "name": "stderr",
     "output_type": "stream",
     "text": [
      "bagging, val_score: 0.689490:  50%|#####     | 5/10 [00:01<00:01,  3.64it/s]\u001b[32m[I 2021-05-11 09:41:53,484]\u001b[0m Trial 31 finished with value: 0.6926215520609704 and parameters: {'bagging_fraction': 0.7049118097391743, 'bagging_freq': 2}. Best is trial 27 with value: 0.6917605427301532.\u001b[0m\n",
      "bagging, val_score: 0.689490:  50%|#####     | 5/10 [00:01<00:01,  3.64it/s]"
     ]
    },
    {
     "name": "stdout",
     "output_type": "stream",
     "text": [
      "Early stopping, best iteration is:\n",
      "[1]\tvalid_0's multi_logloss: 0.692622\n",
      "Training until validation scores don't improve for 100 rounds\n"
     ]
    },
    {
     "name": "stderr",
     "output_type": "stream",
     "text": [
      "bagging, val_score: 0.689490:  60%|######    | 6/10 [00:01<00:01,  3.50it/s]\u001b[32m[I 2021-05-11 09:41:53,791]\u001b[0m Trial 32 finished with value: 0.692589275440079 and parameters: {'bagging_fraction': 0.6713916738168384, 'bagging_freq': 2}. Best is trial 27 with value: 0.6917605427301532.\u001b[0m\n",
      "bagging, val_score: 0.689490:  60%|######    | 6/10 [00:01<00:01,  3.50it/s]"
     ]
    },
    {
     "name": "stdout",
     "output_type": "stream",
     "text": [
      "Early stopping, best iteration is:\n",
      "[1]\tvalid_0's multi_logloss: 0.692589\n",
      "Training until validation scores don't improve for 100 rounds\n"
     ]
    },
    {
     "name": "stderr",
     "output_type": "stream",
     "text": [
      "bagging, val_score: 0.689490:  70%|#######   | 7/10 [00:01<00:00,  3.47it/s]\u001b[32m[I 2021-05-11 09:41:54,085]\u001b[0m Trial 33 finished with value: 0.6920438641181333 and parameters: {'bagging_fraction': 0.983144375400437, 'bagging_freq': 6}. Best is trial 27 with value: 0.6917605427301532.\u001b[0m\n",
      "bagging, val_score: 0.689490:  70%|#######   | 7/10 [00:01<00:00,  3.47it/s]"
     ]
    },
    {
     "name": "stdout",
     "output_type": "stream",
     "text": [
      "Early stopping, best iteration is:\n",
      "[9]\tvalid_0's multi_logloss: 0.692044\n",
      "Training until validation scores don't improve for 100 rounds\n"
     ]
    },
    {
     "name": "stderr",
     "output_type": "stream",
     "text": [
      "bagging, val_score: 0.689490:  80%|########  | 8/10 [00:02<00:00,  3.53it/s]\u001b[32m[I 2021-05-11 09:41:54,358]\u001b[0m Trial 34 finished with value: 0.6930572392824315 and parameters: {'bagging_fraction': 0.9927658782471662, 'bagging_freq': 2}. Best is trial 27 with value: 0.6917605427301532.\u001b[0m\n",
      "bagging, val_score: 0.689490:  80%|########  | 8/10 [00:02<00:00,  3.53it/s]"
     ]
    },
    {
     "name": "stdout",
     "output_type": "stream",
     "text": [
      "Early stopping, best iteration is:\n",
      "[2]\tvalid_0's multi_logloss: 0.693057\n",
      "Training until validation scores don't improve for 100 rounds\n"
     ]
    },
    {
     "name": "stderr",
     "output_type": "stream",
     "text": [
      "bagging, val_score: 0.689490:  90%|######### | 9/10 [00:02<00:00,  3.75it/s]\u001b[32m[I 2021-05-11 09:41:54,588]\u001b[0m Trial 35 finished with value: 0.6934572742061161 and parameters: {'bagging_fraction': 0.7605388901329715, 'bagging_freq': 3}. Best is trial 27 with value: 0.6917605427301532.\u001b[0m\n",
      "bagging, val_score: 0.689490:  90%|######### | 9/10 [00:02<00:00,  3.75it/s]"
     ]
    },
    {
     "name": "stdout",
     "output_type": "stream",
     "text": [
      "Early stopping, best iteration is:\n",
      "[1]\tvalid_0's multi_logloss: 0.693457\n",
      "Training until validation scores don't improve for 100 rounds\n"
     ]
    },
    {
     "name": "stderr",
     "output_type": "stream",
     "text": [
      "bagging, val_score: 0.689490: 100%|##########| 10/10 [00:02<00:00,  3.84it/s]\u001b[32m[I 2021-05-11 09:41:54,834]\u001b[0m Trial 36 finished with value: 0.6935688293612791 and parameters: {'bagging_fraction': 0.9465937089673462, 'bagging_freq': 5}. Best is trial 27 with value: 0.6917605427301532.\u001b[0m\n",
      "bagging, val_score: 0.689490: 100%|##########| 10/10 [00:02<00:00,  3.72it/s]\n",
      "feature_fraction_stage2, val_score: 0.689490:   0%|          | 0/3 [00:00<?, ?it/s]"
     ]
    },
    {
     "name": "stdout",
     "output_type": "stream",
     "text": [
      "Early stopping, best iteration is:\n",
      "[1]\tvalid_0's multi_logloss: 0.693569\n",
      "Training until validation scores don't improve for 100 rounds\n"
     ]
    },
    {
     "name": "stderr",
     "output_type": "stream",
     "text": [
      "feature_fraction_stage2, val_score: 0.689490:  33%|###3      | 1/3 [00:00<00:00,  4.11it/s]\u001b[32m[I 2021-05-11 09:41:55,081]\u001b[0m Trial 37 finished with value: 0.6919364085340777 and parameters: {'feature_fraction': 0.41600000000000004}. Best is trial 37 with value: 0.6919364085340777.\u001b[0m\n",
      "feature_fraction_stage2, val_score: 0.689490:  33%|###3      | 1/3 [00:00<00:00,  4.11it/s]"
     ]
    },
    {
     "name": "stdout",
     "output_type": "stream",
     "text": [
      "Early stopping, best iteration is:\n",
      "[3]\tvalid_0's multi_logloss: 0.691936\n",
      "Training until validation scores don't improve for 100 rounds\n"
     ]
    },
    {
     "name": "stderr",
     "output_type": "stream",
     "text": [
      "feature_fraction_stage2, val_score: 0.689490:  67%|######6   | 2/3 [00:00<00:00,  4.35it/s]\u001b[32m[I 2021-05-11 09:41:55,301]\u001b[0m Trial 38 finished with value: 0.6921626954956047 and parameters: {'feature_fraction': 0.44800000000000006}. Best is trial 37 with value: 0.6919364085340777.\u001b[0m\n",
      "feature_fraction_stage2, val_score: 0.689490:  67%|######6   | 2/3 [00:00<00:00,  4.35it/s]"
     ]
    },
    {
     "name": "stdout",
     "output_type": "stream",
     "text": [
      "Early stopping, best iteration is:\n",
      "[4]\tvalid_0's multi_logloss: 0.692163\n",
      "Training until validation scores don't improve for 100 rounds\n"
     ]
    },
    {
     "name": "stderr",
     "output_type": "stream",
     "text": [
      "feature_fraction_stage2, val_score: 0.689490: 100%|##########| 3/3 [00:00<00:00,  3.94it/s]\u001b[32m[I 2021-05-11 09:41:55,583]\u001b[0m Trial 39 finished with value: 0.692332912907947 and parameters: {'feature_fraction': 0.48000000000000004}. Best is trial 37 with value: 0.6919364085340777.\u001b[0m\n",
      "feature_fraction_stage2, val_score: 0.689490: 100%|##########| 3/3 [00:00<00:00,  4.01it/s]\n",
      "regularization_factors, val_score: 0.689490:   0%|          | 0/20 [00:00<?, ?it/s]"
     ]
    },
    {
     "name": "stdout",
     "output_type": "stream",
     "text": [
      "Early stopping, best iteration is:\n",
      "[5]\tvalid_0's multi_logloss: 0.692333\n",
      "Training until validation scores don't improve for 100 rounds\n"
     ]
    },
    {
     "name": "stderr",
     "output_type": "stream",
     "text": [
      "regularization_factors, val_score: 0.689490:   5%|5         | 1/20 [00:00<00:04,  3.88it/s]\u001b[32m[I 2021-05-11 09:41:55,845]\u001b[0m Trial 40 finished with value: 0.6894895886326031 and parameters: {'lambda_l1': 5.806434619990987e-06, 'lambda_l2': 1.086036523044173e-05}. Best is trial 40 with value: 0.6894895886326031.\u001b[0m\n",
      "regularization_factors, val_score: 0.689490:   5%|5         | 1/20 [00:00<00:04,  3.88it/s]"
     ]
    },
    {
     "name": "stdout",
     "output_type": "stream",
     "text": [
      "Early stopping, best iteration is:\n",
      "[6]\tvalid_0's multi_logloss: 0.68949\n",
      "Training until validation scores don't improve for 100 rounds\n"
     ]
    },
    {
     "name": "stderr",
     "output_type": "stream",
     "text": [
      "regularization_factors, val_score: 0.689490:  10%|#         | 2/20 [00:00<00:04,  4.41it/s]\u001b[32m[I 2021-05-11 09:41:56,050]\u001b[0m Trial 41 finished with value: 0.6894901146183995 and parameters: {'lambda_l1': 1.0479646551680212e-06, 'lambda_l2': 0.011042865319259566}. Best is trial 40 with value: 0.6894895886326031.\u001b[0m\n",
      "regularization_factors, val_score: 0.689490:  10%|#         | 2/20 [00:00<00:04,  4.41it/s]"
     ]
    },
    {
     "name": "stdout",
     "output_type": "stream",
     "text": [
      "Early stopping, best iteration is:\n",
      "[6]\tvalid_0's multi_logloss: 0.68949\n",
      "Training until validation scores don't improve for 100 rounds\n"
     ]
    },
    {
     "name": "stderr",
     "output_type": "stream",
     "text": [
      "regularization_factors, val_score: 0.689490:  15%|#5        | 3/20 [00:00<00:03,  4.61it/s]\u001b[32m[I 2021-05-11 09:41:56,255]\u001b[0m Trial 42 finished with value: 0.6895277240348716 and parameters: {'lambda_l1': 0.0009895392382773137, 'lambda_l2': 0.13574509543343932}. Best is trial 40 with value: 0.6894895886326031.\u001b[0m\n",
      "regularization_factors, val_score: 0.689490:  15%|#5        | 3/20 [00:00<00:03,  4.61it/s]"
     ]
    },
    {
     "name": "stdout",
     "output_type": "stream",
     "text": [
      "Early stopping, best iteration is:\n",
      "[6]\tvalid_0's multi_logloss: 0.689528\n",
      "Training until validation scores don't improve for 100 rounds\n"
     ]
    },
    {
     "name": "stderr",
     "output_type": "stream",
     "text": [
      "regularization_factors, val_score: 0.689490:  20%|##        | 4/20 [00:00<00:03,  4.61it/s]\u001b[32m[I 2021-05-11 09:41:56,472]\u001b[0m Trial 43 finished with value: 0.689615541445073 and parameters: {'lambda_l1': 0.001468263868459062, 'lambda_l2': 2.5468678462283336e-06}. Best is trial 40 with value: 0.6894895886326031.\u001b[0m\n",
      "regularization_factors, val_score: 0.689490:  20%|##        | 4/20 [00:00<00:03,  4.61it/s]"
     ]
    },
    {
     "name": "stdout",
     "output_type": "stream",
     "text": [
      "Early stopping, best iteration is:\n",
      "[6]\tvalid_0's multi_logloss: 0.689616\n",
      "Training until validation scores don't improve for 100 rounds\n"
     ]
    },
    {
     "name": "stderr",
     "output_type": "stream",
     "text": [
      "regularization_factors, val_score: 0.689490:  25%|##5       | 5/20 [00:01<00:03,  4.61it/s]\u001b[32m[I 2021-05-11 09:41:56,689]\u001b[0m Trial 44 finished with value: 0.6923485121425536 and parameters: {'lambda_l1': 5.4912999852674345, 'lambda_l2': 2.2757325575290342e-06}. Best is trial 40 with value: 0.6894895886326031.\u001b[0m\n",
      "regularization_factors, val_score: 0.689490:  25%|##5       | 5/20 [00:01<00:03,  4.61it/s]"
     ]
    },
    {
     "name": "stdout",
     "output_type": "stream",
     "text": [
      "Early stopping, best iteration is:\n",
      "[2]\tvalid_0's multi_logloss: 0.692349\n",
      "Training until validation scores don't improve for 100 rounds\n"
     ]
    },
    {
     "name": "stderr",
     "output_type": "stream",
     "text": [
      "regularization_factors, val_score: 0.689490:  30%|###       | 6/20 [00:01<00:03,  4.66it/s]\u001b[32m[I 2021-05-11 09:41:56,899]\u001b[0m Trial 45 finished with value: 0.6896156362855337 and parameters: {'lambda_l1': 0.0044601715241992645, 'lambda_l2': 0.00042398957583534436}. Best is trial 40 with value: 0.6894895886326031.\u001b[0m\n",
      "regularization_factors, val_score: 0.689490:  30%|###       | 6/20 [00:01<00:03,  4.66it/s]"
     ]
    },
    {
     "name": "stdout",
     "output_type": "stream",
     "text": [
      "Early stopping, best iteration is:\n",
      "[6]\tvalid_0's multi_logloss: 0.689616\n",
      "Training until validation scores don't improve for 100 rounds\n",
      "Early stopping, best iteration is:\n",
      "[6]\tvalid_0's multi_logloss: 0.68949\n"
     ]
    },
    {
     "name": "stderr",
     "output_type": "stream",
     "text": [
      "regularization_factors, val_score: 0.689490:  35%|###5      | 7/20 [00:01<00:02,  4.77it/s]\u001b[32m[I 2021-05-11 09:41:57,098]\u001b[0m Trial 46 finished with value: 0.6894895879529519 and parameters: {'lambda_l1': 6.196963005927703e-07, 'lambda_l2': 4.580809213953552e-08}. Best is trial 46 with value: 0.6894895879529519.\u001b[0m\n",
      "regularization_factors, val_score: 0.689490:  40%|####      | 8/20 [00:01<00:02,  4.85it/s]\u001b[32m[I 2021-05-11 09:41:57,297]\u001b[0m Trial 47 finished with value: 0.689693654446846 and parameters: {'lambda_l1': 0.00023452971328246595, 'lambda_l2': 0.02805464484048043}. Best is trial 46 with value: 0.6894895879529519.\u001b[0m\n",
      "regularization_factors, val_score: 0.689490:  40%|####      | 8/20 [00:01<00:02,  4.85it/s]"
     ]
    },
    {
     "name": "stdout",
     "output_type": "stream",
     "text": [
      "Training until validation scores don't improve for 100 rounds\n",
      "Early stopping, best iteration is:\n",
      "[4]\tvalid_0's multi_logloss: 0.689694\n",
      "Training until validation scores don't improve for 100 rounds\n"
     ]
    },
    {
     "name": "stderr",
     "output_type": "stream",
     "text": [
      "regularization_factors, val_score: 0.689490:  45%|####5     | 9/20 [00:01<00:02,  4.90it/s]\u001b[32m[I 2021-05-11 09:41:57,497]\u001b[0m Trial 48 finished with value: 0.6904781976866247 and parameters: {'lambda_l1': 0.013522581860318295, 'lambda_l2': 0.736280950376466}. Best is trial 46 with value: 0.6894895879529519.\u001b[0m\n",
      "regularization_factors, val_score: 0.689490:  45%|####5     | 9/20 [00:01<00:02,  4.90it/s]"
     ]
    },
    {
     "name": "stdout",
     "output_type": "stream",
     "text": [
      "Early stopping, best iteration is:\n",
      "[4]\tvalid_0's multi_logloss: 0.690478\n",
      "Training until validation scores don't improve for 100 rounds\n"
     ]
    },
    {
     "name": "stderr",
     "output_type": "stream",
     "text": [
      "regularization_factors, val_score: 0.689490:  50%|#####     | 10/20 [00:02<00:02,  4.68it/s]\u001b[32m[I 2021-05-11 09:41:57,732]\u001b[0m Trial 49 finished with value: 0.6922234971311103 and parameters: {'lambda_l1': 4.455915748134433e-07, 'lambda_l2': 5.7215861999517}. Best is trial 46 with value: 0.6894895879529519.\u001b[0m\n",
      "regularization_factors, val_score: 0.689490:  50%|#####     | 10/20 [00:02<00:02,  4.68it/s]"
     ]
    },
    {
     "name": "stdout",
     "output_type": "stream",
     "text": [
      "Early stopping, best iteration is:\n",
      "[5]\tvalid_0's multi_logloss: 0.692223\n",
      "Training until validation scores don't improve for 100 rounds\n"
     ]
    },
    {
     "name": "stderr",
     "output_type": "stream",
     "text": [
      "regularization_factors, val_score: 0.689490:  55%|#####5    | 11/20 [00:02<00:01,  4.66it/s]\u001b[32m[I 2021-05-11 09:41:57,948]\u001b[0m Trial 50 finished with value: 0.6894895879301506 and parameters: {'lambda_l1': 1.9583615796584153e-08, 'lambda_l2': 1.5927929559225627e-08}. Best is trial 50 with value: 0.6894895879301506.\u001b[0m\n",
      "regularization_factors, val_score: 0.689490:  55%|#####5    | 11/20 [00:02<00:01,  4.66it/s]"
     ]
    },
    {
     "name": "stdout",
     "output_type": "stream",
     "text": [
      "Early stopping, best iteration is:\n",
      "[6]\tvalid_0's multi_logloss: 0.68949\n",
      "Training until validation scores don't improve for 100 rounds\n",
      "Early stopping, best iteration is:\n",
      "[6]\tvalid_0's multi_logloss: 0.68949\n"
     ]
    },
    {
     "name": "stderr",
     "output_type": "stream",
     "text": [
      "regularization_factors, val_score: 0.689490:  60%|######    | 12/20 [00:02<00:01,  4.77it/s]\u001b[32m[I 2021-05-11 09:41:58,147]\u001b[0m Trial 51 finished with value: 0.6894895879305766 and parameters: {'lambda_l1': 1.0795117828511069e-08, 'lambda_l2': 1.3729875021585378e-08}. Best is trial 50 with value: 0.6894895879301506.\u001b[0m\n",
      "regularization_factors, val_score: 0.689490:  65%|######5   | 13/20 [00:02<00:01,  4.85it/s]\u001b[32m[I 2021-05-11 09:41:58,345]\u001b[0m Trial 52 finished with value: 0.6894895879308924 and parameters: {'lambda_l1': 2.4531741108262505e-08, 'lambda_l2': 1.192609689833011e-08}. Best is trial 50 with value: 0.6894895879301506.\u001b[0m\n",
      "regularization_factors, val_score: 0.689490:  65%|######5   | 13/20 [00:02<00:01,  4.85it/s]"
     ]
    },
    {
     "name": "stdout",
     "output_type": "stream",
     "text": [
      "Training until validation scores don't improve for 100 rounds\n",
      "Early stopping, best iteration is:\n",
      "[6]\tvalid_0's multi_logloss: 0.68949\n",
      "Training until validation scores don't improve for 100 rounds\n"
     ]
    },
    {
     "name": "stderr",
     "output_type": "stream",
     "text": [
      "regularization_factors, val_score: 0.689490:  70%|#######   | 14/20 [00:02<00:01,  4.90it/s]\u001b[32m[I 2021-05-11 09:41:58,545]\u001b[0m Trial 53 finished with value: 0.6894895879363308 and parameters: {'lambda_l1': 1.833590184182839e-08, 'lambda_l2': 1.757343205570523e-07}. Best is trial 50 with value: 0.6894895879301506.\u001b[0m\n",
      "regularization_factors, val_score: 0.689490:  70%|#######   | 14/20 [00:02<00:01,  4.90it/s]"
     ]
    },
    {
     "name": "stdout",
     "output_type": "stream",
     "text": [
      "Early stopping, best iteration is:\n",
      "[6]\tvalid_0's multi_logloss: 0.68949\n",
      "Training until validation scores don't improve for 100 rounds\n",
      "Early stopping, best iteration is:\n",
      "[6]\tvalid_0's multi_logloss: 0.68949"
     ]
    },
    {
     "name": "stderr",
     "output_type": "stream",
     "text": [
      "regularization_factors, val_score: 0.689490:  75%|#######5  | 15/20 [00:03<00:01,  4.92it/s]\u001b[32m[I 2021-05-11 09:41:58,746]\u001b[0m Trial 54 finished with value: 0.6894895879305848 and parameters: {'lambda_l1': 1.1470300457377361e-08, 'lambda_l2': 1.3638508936974703e-08}. Best is trial 50 with value: 0.6894895879301506.\u001b[0m\n",
      "regularization_factors, val_score: 0.689490:  75%|#######5  | 15/20 [00:03<00:01,  4.92it/s]"
     ]
    },
    {
     "name": "stdout",
     "output_type": "stream",
     "text": [
      "\n",
      "Training until validation scores don't improve for 100 rounds\n",
      "Early stopping, best iteration is:\n",
      "[6]\tvalid_0's multi_logloss: 0.68949\n"
     ]
    },
    {
     "name": "stderr",
     "output_type": "stream",
     "text": [
      "regularization_factors, val_score: 0.689490:  80%|########  | 16/20 [00:03<00:00,  4.94it/s]\u001b[32m[I 2021-05-11 09:41:58,947]\u001b[0m Trial 55 finished with value: 0.6894895883551156 and parameters: {'lambda_l1': 1.1696195541347482e-05, 'lambda_l2': 2.394749739368734e-07}. Best is trial 50 with value: 0.6894895879301506.\u001b[0m\n",
      "regularization_factors, val_score: 0.689490:  85%|########5 | 17/20 [00:03<00:00,  4.94it/s]\u001b[32m[I 2021-05-11 09:41:59,149]\u001b[0m Trial 56 finished with value: 0.6916109379016843 and parameters: {'lambda_l1': 0.7067693051803495, 'lambda_l2': 0.0003428343891963458}. Best is trial 50 with value: 0.6894895879301506.\u001b[0m\n",
      "regularization_factors, val_score: 0.689490:  85%|########5 | 17/20 [00:03<00:00,  4.94it/s]"
     ]
    },
    {
     "name": "stdout",
     "output_type": "stream",
     "text": [
      "Training until validation scores don't improve for 100 rounds\n",
      "Early stopping, best iteration is:\n",
      "[3]\tvalid_0's multi_logloss: 0.691611\n",
      "Training until validation scores don't improve for 100 rounds\n"
     ]
    },
    {
     "name": "stderr",
     "output_type": "stream",
     "text": [
      "regularization_factors, val_score: 0.689490:  90%|######### | 18/20 [00:03<00:00,  4.98it/s]\u001b[32m[I 2021-05-11 09:41:59,346]\u001b[0m Trial 57 finished with value: 0.689489589034179 and parameters: {'lambda_l1': 4.348589976791196e-08, 'lambda_l2': 2.3435299330399658e-05}. Best is trial 50 with value: 0.6894895879301506.\u001b[0m\n",
      "regularization_factors, val_score: 0.689490:  90%|######### | 18/20 [00:03<00:00,  4.98it/s]"
     ]
    },
    {
     "name": "stdout",
     "output_type": "stream",
     "text": [
      "Early stopping, best iteration is:\n",
      "[6]\tvalid_0's multi_logloss: 0.68949\n",
      "Training until validation scores don't improve for 100 rounds\n",
      "Early stopping, best iteration is:\n",
      "[6]\tvalid_0's multi_logloss: 0.68949\n"
     ]
    },
    {
     "name": "stderr",
     "output_type": "stream",
     "text": [
      "regularization_factors, val_score: 0.689490:  95%|#########5| 19/20 [00:03<00:00,  4.99it/s]\u001b[32m[I 2021-05-11 09:41:59,546]\u001b[0m Trial 58 finished with value: 0.6894895895032513 and parameters: {'lambda_l1': 4.31115764436889e-05, 'lambda_l2': 2.740825628309035e-07}. Best is trial 50 with value: 0.6894895879301506.\u001b[0m\n",
      "regularization_factors, val_score: 0.689490: 100%|##########| 20/20 [00:04<00:00,  5.00it/s]\u001b[32m[I 2021-05-11 09:41:59,745]\u001b[0m Trial 59 finished with value: 0.6894895879304863 and parameters: {'lambda_l1': 1.6912385249999833e-07, 'lambda_l2': 1.1835716663232523e-08}. Best is trial 50 with value: 0.6894895879301506.\u001b[0m\n",
      "regularization_factors, val_score: 0.689490: 100%|##########| 20/20 [00:04<00:00,  4.81it/s]\n",
      "min_data_in_leaf, val_score: 0.689490:   0%|          | 0/5 [00:00<?, ?it/s]"
     ]
    },
    {
     "name": "stdout",
     "output_type": "stream",
     "text": [
      "Training until validation scores don't improve for 100 rounds\n",
      "Early stopping, best iteration is:\n",
      "[6]\tvalid_0's multi_logloss: 0.68949\n",
      "Training until validation scores don't improve for 100 rounds\n"
     ]
    },
    {
     "name": "stderr",
     "output_type": "stream",
     "text": [
      "min_data_in_leaf, val_score: 0.689490:  20%|##        | 1/5 [00:00<00:00,  5.11it/s]\u001b[32m[I 2021-05-11 09:41:59,944]\u001b[0m Trial 60 finished with value: 0.69130988850942 and parameters: {'min_child_samples': 25}. Best is trial 60 with value: 0.69130988850942.\u001b[0m\n",
      "min_data_in_leaf, val_score: 0.689490:  40%|####      | 2/5 [00:00<00:00,  5.75it/s]\u001b[32m[I 2021-05-11 09:42:00,102]\u001b[0m Trial 61 finished with value: 0.69225100131934 and parameters: {'min_child_samples': 100}. Best is trial 60 with value: 0.69130988850942.\u001b[0m\n",
      "min_data_in_leaf, val_score: 0.689490:  40%|####      | 2/5 [00:00<00:00,  5.75it/s]"
     ]
    },
    {
     "name": "stdout",
     "output_type": "stream",
     "text": [
      "Early stopping, best iteration is:\n",
      "[4]\tvalid_0's multi_logloss: 0.69131\n",
      "Training until validation scores don't improve for 100 rounds\n",
      "Early stopping, best iteration is:\n",
      "[3]\tvalid_0's multi_logloss: 0.692251\n",
      "Training until validation scores don't improve for 100 rounds\n"
     ]
    },
    {
     "name": "stderr",
     "output_type": "stream",
     "text": [
      "min_data_in_leaf, val_score: 0.689490:  60%|######    | 3/5 [00:00<00:00,  5.46it/s]\u001b[32m[I 2021-05-11 09:42:00,296]\u001b[0m Trial 62 finished with value: 0.6917246370545509 and parameters: {'min_child_samples': 5}. Best is trial 60 with value: 0.69130988850942.\u001b[0m\n",
      "min_data_in_leaf, val_score: 0.689490:  60%|######    | 3/5 [00:00<00:00,  5.46it/s]"
     ]
    },
    {
     "name": "stdout",
     "output_type": "stream",
     "text": [
      "Early stopping, best iteration is:\n",
      "[4]\tvalid_0's multi_logloss: 0.691725\n",
      "Training until validation scores don't improve for 100 rounds\n"
     ]
    },
    {
     "name": "stderr",
     "output_type": "stream",
     "text": [
      "min_data_in_leaf, val_score: 0.689490:  80%|########  | 4/5 [00:00<00:00,  4.90it/s]\u001b[32m[I 2021-05-11 09:42:00,532]\u001b[0m Trial 63 finished with value: 0.6911055497801495 and parameters: {'min_child_samples': 10}. Best is trial 63 with value: 0.6911055497801495.\u001b[0m\n",
      "min_data_in_leaf, val_score: 0.689490:  80%|########  | 4/5 [00:00<00:00,  4.90it/s]"
     ]
    },
    {
     "name": "stdout",
     "output_type": "stream",
     "text": [
      "Early stopping, best iteration is:\n",
      "[16]\tvalid_0's multi_logloss: 0.691106\n",
      "Training until validation scores don't improve for 100 rounds\n"
     ]
    },
    {
     "name": "stderr",
     "output_type": "stream",
     "text": [
      "min_data_in_leaf, val_score: 0.689490: 100%|##########| 5/5 [00:00<00:00,  4.83it/s]\u001b[32m[I 2021-05-11 09:42:00,744]\u001b[0m Trial 64 finished with value: 0.6916107879053154 and parameters: {'min_child_samples': 50}. Best is trial 63 with value: 0.6911055497801495.\u001b[0m\n",
      "min_data_in_leaf, val_score: 0.689490: 100%|##########| 5/5 [00:00<00:00,  5.01it/s]\n",
      "\u001b[32m[I 2021-05-11 09:42:00,770]\u001b[0m A new study created in memory with name: no-name-35e59b8b-ddd6-4b0d-b49a-3628b5674180\u001b[0m\n",
      "feature_fraction, val_score: inf:   0%|          | 0/7 [00:00<?, ?it/s]"
     ]
    },
    {
     "name": "stdout",
     "output_type": "stream",
     "text": [
      "Early stopping, best iteration is:\n",
      "[2]\tvalid_0's multi_logloss: 0.691611\n",
      "accuracy: 0.4427083333333333\n",
      "Training until validation scores don't improve for 100 rounds\n"
     ]
    },
    {
     "name": "stderr",
     "output_type": "stream",
     "text": [
      "feature_fraction, val_score: 0.665657:  14%|#4        | 1/7 [00:00<00:01,  3.83it/s]\u001b[32m[I 2021-05-11 09:42:01,035]\u001b[0m Trial 0 finished with value: 0.6656569145514217 and parameters: {'feature_fraction': 1.0}. Best is trial 0 with value: 0.6656569145514217.\u001b[0m\n",
      "feature_fraction, val_score: 0.665657:  14%|#4        | 1/7 [00:00<00:01,  3.83it/s]"
     ]
    },
    {
     "name": "stdout",
     "output_type": "stream",
     "text": [
      "Early stopping, best iteration is:\n",
      "[17]\tvalid_0's multi_logloss: 0.665657\n",
      "Training until validation scores don't improve for 100 rounds\n"
     ]
    },
    {
     "name": "stderr",
     "output_type": "stream",
     "text": [
      "feature_fraction, val_score: 0.665657:  29%|##8       | 2/7 [00:00<00:01,  3.43it/s]\u001b[32m[I 2021-05-11 09:42:01,347]\u001b[0m Trial 1 finished with value: 0.6661736869342746 and parameters: {'feature_fraction': 0.8}. Best is trial 0 with value: 0.6656569145514217.\u001b[0m\n",
      "feature_fraction, val_score: 0.665657:  29%|##8       | 2/7 [00:00<00:01,  3.43it/s]"
     ]
    },
    {
     "name": "stdout",
     "output_type": "stream",
     "text": [
      "Early stopping, best iteration is:\n",
      "[20]\tvalid_0's multi_logloss: 0.666174\n",
      "Training until validation scores don't improve for 100 rounds\n"
     ]
    },
    {
     "name": "stderr",
     "output_type": "stream",
     "text": [
      "feature_fraction, val_score: 0.665657:  43%|####2     | 3/7 [00:00<00:01,  3.72it/s]\u001b[32m[I 2021-05-11 09:42:01,590]\u001b[0m Trial 2 finished with value: 0.6672988115021307 and parameters: {'feature_fraction': 0.7}. Best is trial 0 with value: 0.6656569145514217.\u001b[0m\n",
      "feature_fraction, val_score: 0.665657:  43%|####2     | 3/7 [00:00<00:01,  3.72it/s]"
     ]
    },
    {
     "name": "stdout",
     "output_type": "stream",
     "text": [
      "Early stopping, best iteration is:\n",
      "[18]\tvalid_0's multi_logloss: 0.667299\n",
      "Training until validation scores don't improve for 100 rounds\n"
     ]
    },
    {
     "name": "stderr",
     "output_type": "stream",
     "text": [
      "feature_fraction, val_score: 0.665190:  57%|#####7    | 4/7 [00:01<00:00,  3.86it/s]\u001b[32m[I 2021-05-11 09:42:01,834]\u001b[0m Trial 3 finished with value: 0.6651903802668881 and parameters: {'feature_fraction': 0.8999999999999999}. Best is trial 3 with value: 0.6651903802668881.\u001b[0m\n",
      "feature_fraction, val_score: 0.665190:  57%|#####7    | 4/7 [00:01<00:00,  3.86it/s]"
     ]
    },
    {
     "name": "stdout",
     "output_type": "stream",
     "text": [
      "Early stopping, best iteration is:\n",
      "[14]\tvalid_0's multi_logloss: 0.66519\n",
      "Training until validation scores don't improve for 100 rounds\n"
     ]
    },
    {
     "name": "stderr",
     "output_type": "stream",
     "text": [
      "feature_fraction, val_score: 0.664203:  71%|#######1  | 5/7 [00:01<00:00,  3.81it/s]\u001b[32m[I 2021-05-11 09:42:02,102]\u001b[0m Trial 4 finished with value: 0.6642034768038287 and parameters: {'feature_fraction': 0.4}. Best is trial 4 with value: 0.6642034768038287.\u001b[0m\n",
      "feature_fraction, val_score: 0.664203:  71%|#######1  | 5/7 [00:01<00:00,  3.81it/s]"
     ]
    },
    {
     "name": "stdout",
     "output_type": "stream",
     "text": [
      "Early stopping, best iteration is:\n",
      "[16]\tvalid_0's multi_logloss: 0.664203\n",
      "Training until validation scores don't improve for 100 rounds\n"
     ]
    },
    {
     "name": "stderr",
     "output_type": "stream",
     "text": [
      "feature_fraction, val_score: 0.664203:  86%|########5 | 6/7 [00:01<00:00,  3.88it/s]\u001b[32m[I 2021-05-11 09:42:02,351]\u001b[0m Trial 5 finished with value: 0.6643456845673084 and parameters: {'feature_fraction': 0.6}. Best is trial 4 with value: 0.6642034768038287.\u001b[0m\n",
      "feature_fraction, val_score: 0.664203:  86%|########5 | 6/7 [00:01<00:00,  3.88it/s]"
     ]
    },
    {
     "name": "stdout",
     "output_type": "stream",
     "text": [
      "Early stopping, best iteration is:\n",
      "[34]\tvalid_0's multi_logloss: 0.664346\n",
      "Training until validation scores don't improve for 100 rounds\n",
      "Early stopping, best iteration is:\n",
      "[18]\tvalid_0's multi_logloss: 0.662716\n"
     ]
    },
    {
     "name": "stderr",
     "output_type": "stream",
     "text": [
      "feature_fraction, val_score: 0.662716: 100%|##########| 7/7 [00:01<00:00,  4.16it/s]\u001b[32m[I 2021-05-11 09:42:02,555]\u001b[0m Trial 6 finished with value: 0.6627162902832943 and parameters: {'feature_fraction': 0.5}. Best is trial 6 with value: 0.6627162902832943.\u001b[0m\n",
      "feature_fraction, val_score: 0.662716: 100%|##########| 7/7 [00:01<00:00,  3.93it/s]\n",
      "num_leaves, val_score: 0.662716:   0%|          | 0/20 [00:00<?, ?it/s]"
     ]
    },
    {
     "name": "stdout",
     "output_type": "stream",
     "text": [
      "Training until validation scores don't improve for 100 rounds\n"
     ]
    },
    {
     "name": "stderr",
     "output_type": "stream",
     "text": [
      "num_leaves, val_score: 0.662716:   5%|5         | 1/20 [00:00<00:09,  2.04it/s]\u001b[32m[I 2021-05-11 09:42:03,049]\u001b[0m Trial 7 finished with value: 0.6675706161002964 and parameters: {'num_leaves': 100}. Best is trial 7 with value: 0.6675706161002964.\u001b[0m\n",
      "num_leaves, val_score: 0.662716:   5%|5         | 1/20 [00:00<00:09,  2.04it/s]"
     ]
    },
    {
     "name": "stdout",
     "output_type": "stream",
     "text": [
      "Early stopping, best iteration is:\n",
      "[12]\tvalid_0's multi_logloss: 0.667571\n",
      "Training until validation scores don't improve for 100 rounds\n"
     ]
    },
    {
     "name": "stderr",
     "output_type": "stream",
     "text": [
      "num_leaves, val_score: 0.662716:  10%|#         | 2/20 [00:01<00:11,  1.57it/s]\u001b[32m[I 2021-05-11 09:42:03,789]\u001b[0m Trial 8 finished with value: 0.6641178286200132 and parameters: {'num_leaves': 200}. Best is trial 8 with value: 0.6641178286200132.\u001b[0m\n",
      "num_leaves, val_score: 0.662716:  10%|#         | 2/20 [00:01<00:11,  1.57it/s]"
     ]
    },
    {
     "name": "stdout",
     "output_type": "stream",
     "text": [
      "Early stopping, best iteration is:\n",
      "[11]\tvalid_0's multi_logloss: 0.664118\n",
      "Training until validation scores don't improve for 100 rounds\n"
     ]
    },
    {
     "name": "stderr",
     "output_type": "stream",
     "text": [
      "num_leaves, val_score: 0.662716:  15%|#5        | 3/20 [00:01<00:10,  1.56it/s]\u001b[32m[I 2021-05-11 09:42:04,434]\u001b[0m Trial 9 finished with value: 0.6675883727410533 and parameters: {'num_leaves': 97}. Best is trial 8 with value: 0.6641178286200132.\u001b[0m\n",
      "num_leaves, val_score: 0.662716:  15%|#5        | 3/20 [00:01<00:10,  1.56it/s]"
     ]
    },
    {
     "name": "stdout",
     "output_type": "stream",
     "text": [
      "Early stopping, best iteration is:\n",
      "[16]\tvalid_0's multi_logloss: 0.667588\n",
      "Training until validation scores don't improve for 100 rounds\n"
     ]
    },
    {
     "name": "stderr",
     "output_type": "stream",
     "text": [
      "num_leaves, val_score: 0.662716:  20%|##        | 4/20 [00:02<00:10,  1.49it/s]\u001b[32m[I 2021-05-11 09:42:05,152]\u001b[0m Trial 10 finished with value: 0.6641178286200132 and parameters: {'num_leaves': 214}. Best is trial 8 with value: 0.6641178286200132.\u001b[0m\n",
      "num_leaves, val_score: 0.662716:  20%|##        | 4/20 [00:02<00:10,  1.49it/s]"
     ]
    },
    {
     "name": "stdout",
     "output_type": "stream",
     "text": [
      "Early stopping, best iteration is:\n",
      "[11]\tvalid_0's multi_logloss: 0.664118\n",
      "Training until validation scores don't improve for 100 rounds\n"
     ]
    },
    {
     "name": "stderr",
     "output_type": "stream",
     "text": [
      "num_leaves, val_score: 0.662716:  25%|##5       | 5/20 [00:02<00:08,  1.75it/s]\u001b[32m[I 2021-05-11 09:42:05,549]\u001b[0m Trial 11 finished with value: 0.6684467170305107 and parameters: {'num_leaves': 81}. Best is trial 8 with value: 0.6641178286200132.\u001b[0m\n",
      "num_leaves, val_score: 0.662716:  25%|##5       | 5/20 [00:02<00:08,  1.75it/s]"
     ]
    },
    {
     "name": "stdout",
     "output_type": "stream",
     "text": [
      "Early stopping, best iteration is:\n",
      "[12]\tvalid_0's multi_logloss: 0.668447\n",
      "Training until validation scores don't improve for 100 rounds\n"
     ]
    },
    {
     "name": "stderr",
     "output_type": "stream",
     "text": [
      "num_leaves, val_score: 0.662716:  30%|###       | 6/20 [00:03<00:08,  1.60it/s]\u001b[32m[I 2021-05-11 09:42:06,274]\u001b[0m Trial 12 finished with value: 0.6641178286200132 and parameters: {'num_leaves': 250}. Best is trial 8 with value: 0.6641178286200132.\u001b[0m\n",
      "num_leaves, val_score: 0.662716:  30%|###       | 6/20 [00:03<00:08,  1.60it/s]"
     ]
    },
    {
     "name": "stdout",
     "output_type": "stream",
     "text": [
      "Early stopping, best iteration is:\n",
      "[11]\tvalid_0's multi_logloss: 0.664118\n",
      "Training until validation scores don't improve for 100 rounds\n"
     ]
    },
    {
     "name": "stderr",
     "output_type": "stream",
     "text": [
      "num_leaves, val_score: 0.662716:  35%|###5      | 7/20 [00:04<00:06,  1.95it/s]\u001b[32m[I 2021-05-11 09:42:06,559]\u001b[0m Trial 13 finished with value: 0.6637157452932694 and parameters: {'num_leaves': 51}. Best is trial 13 with value: 0.6637157452932694.\u001b[0m\n",
      "num_leaves, val_score: 0.662716:  35%|###5      | 7/20 [00:04<00:06,  1.95it/s]"
     ]
    },
    {
     "name": "stdout",
     "output_type": "stream",
     "text": [
      "Early stopping, best iteration is:\n",
      "[17]\tvalid_0's multi_logloss: 0.663716\n",
      "Training until validation scores don't improve for 100 rounds\n"
     ]
    },
    {
     "name": "stderr",
     "output_type": "stream",
     "text": [
      "num_leaves, val_score: 0.662716:  40%|####      | 8/20 [00:04<00:05,  2.23it/s]\u001b[32m[I 2021-05-11 09:42:06,866]\u001b[0m Trial 14 finished with value: 0.6644571454377356 and parameters: {'num_leaves': 57}. Best is trial 13 with value: 0.6637157452932694.\u001b[0m\n",
      "num_leaves, val_score: 0.662716:  40%|####      | 8/20 [00:04<00:05,  2.23it/s]"
     ]
    },
    {
     "name": "stdout",
     "output_type": "stream",
     "text": [
      "Early stopping, best iteration is:\n",
      "[15]\tvalid_0's multi_logloss: 0.664457\n",
      "Training until validation scores don't improve for 100 rounds\n"
     ]
    },
    {
     "name": "stderr",
     "output_type": "stream",
     "text": [
      "num_leaves, val_score: 0.662716:  45%|####5     | 9/20 [00:04<00:05,  1.94it/s]\u001b[32m[I 2021-05-11 09:42:07,532]\u001b[0m Trial 15 finished with value: 0.6660814941175357 and parameters: {'num_leaves': 164}. Best is trial 13 with value: 0.6637157452932694.\u001b[0m\n",
      "num_leaves, val_score: 0.662716:  45%|####5     | 9/20 [00:04<00:05,  1.94it/s]"
     ]
    },
    {
     "name": "stdout",
     "output_type": "stream",
     "text": [
      "Early stopping, best iteration is:\n",
      "[10]\tvalid_0's multi_logloss: 0.666081\n",
      "Training until validation scores don't improve for 100 rounds\n"
     ]
    },
    {
     "name": "stderr",
     "output_type": "stream",
     "text": [
      "num_leaves, val_score: 0.662716:  50%|#####     | 10/20 [00:05<00:05,  1.77it/s]\u001b[32m[I 2021-05-11 09:42:08,212]\u001b[0m Trial 16 finished with value: 0.6641178286200132 and parameters: {'num_leaves': 248}. Best is trial 13 with value: 0.6637157452932694.\u001b[0m\n",
      "num_leaves, val_score: 0.662716:  50%|#####     | 10/20 [00:05<00:05,  1.77it/s]\u001b[32m[I 2021-05-11 09:42:08,305]\u001b[0m Trial 17 finished with value: 0.662897534369637 and parameters: {'num_leaves': 3}. Best is trial 17 with value: 0.662897534369637.\u001b[0m\n",
      "num_leaves, val_score: 0.662716:  55%|#####5    | 11/20 [00:05<00:05,  1.77it/s]"
     ]
    },
    {
     "name": "stdout",
     "output_type": "stream",
     "text": [
      "Early stopping, best iteration is:\n",
      "[11]\tvalid_0's multi_logloss: 0.664118\n",
      "Training until validation scores don't improve for 100 rounds\n",
      "Early stopping, best iteration is:\n",
      "[98]\tvalid_0's multi_logloss: 0.662898\n",
      "Training until validation scores don't improve for 100 rounds\n"
     ]
    },
    {
     "name": "stderr",
     "output_type": "stream",
     "text": [
      "num_leaves, val_score: 0.662408:  60%|######    | 12/20 [00:05<00:02,  2.74it/s]\u001b[32m[I 2021-05-11 09:42:08,485]\u001b[0m Trial 18 finished with value: 0.6624082016458168 and parameters: {'num_leaves': 21}. Best is trial 18 with value: 0.6624082016458168.\u001b[0m\n",
      "num_leaves, val_score: 0.662408:  65%|######5   | 13/20 [00:06<00:02,  3.34it/s]\u001b[32m[I 2021-05-11 09:42:08,587]\u001b[0m Trial 19 finished with value: 0.662897534369637 and parameters: {'num_leaves': 3}. Best is trial 18 with value: 0.6624082016458168.\u001b[0m\n",
      "num_leaves, val_score: 0.662408:  65%|######5   | 13/20 [00:06<00:02,  3.34it/s]"
     ]
    },
    {
     "name": "stdout",
     "output_type": "stream",
     "text": [
      "Early stopping, best iteration is:\n",
      "[29]\tvalid_0's multi_logloss: 0.662408\n",
      "Training until validation scores don't improve for 100 rounds\n",
      "Early stopping, best iteration is:\n",
      "[98]\tvalid_0's multi_logloss: 0.662898\n",
      "Training until validation scores don't improve for 100 rounds\n"
     ]
    },
    {
     "name": "stderr",
     "output_type": "stream",
     "text": [
      "num_leaves, val_score: 0.662408:  70%|#######   | 14/20 [00:06<00:01,  4.02it/s]\u001b[32m[I 2021-05-11 09:42:08,695]\u001b[0m Trial 20 finished with value: 0.6635176783532263 and parameters: {'num_leaves': 4}. Best is trial 18 with value: 0.6624082016458168.\u001b[0m\n",
      "num_leaves, val_score: 0.662408:  70%|#######   | 14/20 [00:06<00:01,  4.02it/s]"
     ]
    },
    {
     "name": "stdout",
     "output_type": "stream",
     "text": [
      "Early stopping, best iteration is:\n",
      "[60]\tvalid_0's multi_logloss: 0.663518\n",
      "Training until validation scores don't improve for 100 rounds\n",
      "Early stopping, best iteration is:\n",
      "[18]\tvalid_0's multi_logloss: 0.663105\n"
     ]
    },
    {
     "name": "stderr",
     "output_type": "stream",
     "text": [
      "num_leaves, val_score: 0.662408:  75%|#######5  | 15/20 [00:06<00:01,  4.25it/s]\u001b[32m[I 2021-05-11 09:42:08,894]\u001b[0m Trial 21 finished with value: 0.6631051036597699 and parameters: {'num_leaves': 25}. Best is trial 18 with value: 0.6624082016458168.\u001b[0m\n",
      "num_leaves, val_score: 0.662408:  80%|########  | 16/20 [00:06<00:00,  4.40it/s]\u001b[32m[I 2021-05-11 09:42:09,102]\u001b[0m Trial 22 finished with value: 0.6635281460763133 and parameters: {'num_leaves': 32}. Best is trial 18 with value: 0.6624082016458168.\u001b[0m\n",
      "num_leaves, val_score: 0.662408:  80%|########  | 16/20 [00:06<00:00,  4.40it/s]"
     ]
    },
    {
     "name": "stdout",
     "output_type": "stream",
     "text": [
      "Training until validation scores don't improve for 100 rounds\n",
      "Early stopping, best iteration is:\n",
      "[18]\tvalid_0's multi_logloss: 0.663528\n",
      "Training until validation scores don't improve for 100 rounds\n"
     ]
    },
    {
     "name": "stderr",
     "output_type": "stream",
     "text": [
      "num_leaves, val_score: 0.662408:  85%|########5 | 17/20 [00:07<00:01,  2.89it/s]\u001b[32m[I 2021-05-11 09:42:09,743]\u001b[0m Trial 23 finished with value: 0.663922783503846 and parameters: {'num_leaves': 146}. Best is trial 18 with value: 0.6624082016458168.\u001b[0m\n",
      "num_leaves, val_score: 0.662408:  90%|######### | 18/20 [00:07<00:00,  3.63it/s]\u001b[32m[I 2021-05-11 09:42:09,846]\u001b[0m Trial 24 finished with value: 0.6656271730081932 and parameters: {'num_leaves': 7}. Best is trial 18 with value: 0.6624082016458168.\u001b[0m\n",
      "num_leaves, val_score: 0.662408:  90%|######### | 18/20 [00:07<00:00,  3.63it/s]"
     ]
    },
    {
     "name": "stdout",
     "output_type": "stream",
     "text": [
      "Early stopping, best iteration is:\n",
      "[10]\tvalid_0's multi_logloss: 0.663923\n",
      "Training until validation scores don't improve for 100 rounds\n",
      "Early stopping, best iteration is:\n",
      "[26]\tvalid_0's multi_logloss: 0.665627\n",
      "Training until validation scores don't improve for 100 rounds\n"
     ]
    },
    {
     "name": "stderr",
     "output_type": "stream",
     "text": [
      "num_leaves, val_score: 0.662408:  95%|#########5| 19/20 [00:07<00:00,  3.38it/s]\u001b[32m[I 2021-05-11 09:42:10,190]\u001b[0m Trial 25 finished with value: 0.6649905175752998 and parameters: {'num_leaves': 60}. Best is trial 18 with value: 0.6624082016458168.\u001b[0m\n",
      "num_leaves, val_score: 0.662408: 100%|##########| 20/20 [00:07<00:00,  3.89it/s]\u001b[32m[I 2021-05-11 09:42:10,355]\u001b[0m Trial 26 finished with value: 0.666176391148726 and parameters: {'num_leaves': 24}. Best is trial 18 with value: 0.6624082016458168.\u001b[0m\n",
      "num_leaves, val_score: 0.662408: 100%|##########| 20/20 [00:07<00:00,  2.56it/s]\n",
      "bagging, val_score: 0.662408:   0%|          | 0/10 [00:00<?, ?it/s]"
     ]
    },
    {
     "name": "stdout",
     "output_type": "stream",
     "text": [
      "Early stopping, best iteration is:\n",
      "[18]\tvalid_0's multi_logloss: 0.664991\n",
      "Training until validation scores don't improve for 100 rounds\n",
      "Early stopping, best iteration is:\n",
      "[16]\tvalid_0's multi_logloss: 0.666176\n",
      "Training until validation scores don't improve for 100 rounds\n"
     ]
    },
    {
     "name": "stderr",
     "output_type": "stream",
     "text": [
      "bagging, val_score: 0.658424:  10%|#         | 1/10 [00:00<00:01,  5.36it/s]\u001b[32m[I 2021-05-11 09:42:10,546]\u001b[0m Trial 27 finished with value: 0.6584241059254083 and parameters: {'bagging_fraction': 0.8516218183420581, 'bagging_freq': 4}. Best is trial 27 with value: 0.6584241059254083.\u001b[0m\n",
      "bagging, val_score: 0.658424:  10%|#         | 1/10 [00:00<00:01,  5.36it/s]"
     ]
    },
    {
     "name": "stdout",
     "output_type": "stream",
     "text": [
      "Early stopping, best iteration is:\n",
      "[29]\tvalid_0's multi_logloss: 0.658424\n",
      "Training until validation scores don't improve for 100 rounds\n",
      "Early stopping, best iteration is:\n",
      "[26]\tvalid_0's multi_logloss: 0.662851\n"
     ]
    },
    {
     "name": "stderr",
     "output_type": "stream",
     "text": [
      "bagging, val_score: 0.658424:  20%|##        | 2/10 [00:00<00:01,  5.13it/s]\u001b[32m[I 2021-05-11 09:42:10,746]\u001b[0m Trial 28 finished with value: 0.6628508302791506 and parameters: {'bagging_fraction': 0.45557394422078856, 'bagging_freq': 5}. Best is trial 27 with value: 0.6584241059254083.\u001b[0m\n",
      "bagging, val_score: 0.658424:  30%|###       | 3/10 [00:00<00:01,  5.12it/s]\u001b[32m[I 2021-05-11 09:42:10,942]\u001b[0m Trial 29 finished with value: 0.6642481572782549 and parameters: {'bagging_fraction': 0.923890755730975, 'bagging_freq': 4}. Best is trial 27 with value: 0.6584241059254083.\u001b[0m\n",
      "bagging, val_score: 0.658424:  30%|###       | 3/10 [00:00<00:01,  5.12it/s]"
     ]
    },
    {
     "name": "stdout",
     "output_type": "stream",
     "text": [
      "Training until validation scores don't improve for 100 rounds\n",
      "Early stopping, best iteration is:\n",
      "[23]\tvalid_0's multi_logloss: 0.664248\n",
      "Training until validation scores don't improve for 100 rounds\n"
     ]
    },
    {
     "name": "stderr",
     "output_type": "stream",
     "text": [
      "bagging, val_score: 0.658424:  40%|####      | 4/10 [00:00<00:01,  5.07it/s]\u001b[32m[I 2021-05-11 09:42:11,143]\u001b[0m Trial 30 finished with value: 0.6675675332782836 and parameters: {'bagging_fraction': 0.6199334202892941, 'bagging_freq': 1}. Best is trial 27 with value: 0.6584241059254083.\u001b[0m\n",
      "bagging, val_score: 0.658424:  40%|####      | 4/10 [00:00<00:01,  5.07it/s]"
     ]
    },
    {
     "name": "stdout",
     "output_type": "stream",
     "text": [
      "Early stopping, best iteration is:\n",
      "[17]\tvalid_0's multi_logloss: 0.667568\n",
      "Training until validation scores don't improve for 100 rounds\n"
     ]
    },
    {
     "name": "stderr",
     "output_type": "stream",
     "text": [
      "bagging, val_score: 0.658424:  50%|#####     | 5/10 [00:00<00:01,  4.95it/s]\u001b[32m[I 2021-05-11 09:42:11,353]\u001b[0m Trial 31 finished with value: 0.666146861198992 and parameters: {'bagging_fraction': 0.7244069994064997, 'bagging_freq': 5}. Best is trial 27 with value: 0.6584241059254083.\u001b[0m\n",
      "bagging, val_score: 0.658424:  60%|######    | 6/10 [00:01<00:00,  5.09it/s]\u001b[32m[I 2021-05-11 09:42:11,539]\u001b[0m Trial 32 finished with value: 0.6651163853641123 and parameters: {'bagging_fraction': 0.66153606247195, 'bagging_freq': 5}. Best is trial 27 with value: 0.6584241059254083.\u001b[0m\n",
      "bagging, val_score: 0.658424:  60%|######    | 6/10 [00:01<00:00,  5.09it/s]"
     ]
    },
    {
     "name": "stdout",
     "output_type": "stream",
     "text": [
      "Early stopping, best iteration is:\n",
      "[36]\tvalid_0's multi_logloss: 0.666147\n",
      "Training until validation scores don't improve for 100 rounds\n",
      "Early stopping, best iteration is:\n",
      "[22]\tvalid_0's multi_logloss: 0.665116\n"
     ]
    },
    {
     "name": "stderr",
     "output_type": "stream",
     "text": [
      "bagging, val_score: 0.658424:  70%|#######   | 7/10 [00:01<00:00,  5.09it/s]\u001b[32m[I 2021-05-11 09:42:11,735]\u001b[0m Trial 33 finished with value: 0.6630097727592918 and parameters: {'bagging_fraction': 0.9035292390338157, 'bagging_freq': 1}. Best is trial 27 with value: 0.6584241059254083.\u001b[0m\n",
      "bagging, val_score: 0.658424:  70%|#######   | 7/10 [00:01<00:00,  5.09it/s]"
     ]
    },
    {
     "name": "stdout",
     "output_type": "stream",
     "text": [
      "Training until validation scores don't improve for 100 rounds\n",
      "Early stopping, best iteration is:\n",
      "[23]\tvalid_0's multi_logloss: 0.66301\n",
      "Training until validation scores don't improve for 100 rounds\n"
     ]
    },
    {
     "name": "stderr",
     "output_type": "stream",
     "text": [
      "bagging, val_score: 0.658424:  80%|########  | 8/10 [00:01<00:00,  5.20it/s]\u001b[32m[I 2021-05-11 09:42:11,919]\u001b[0m Trial 34 finished with value: 0.6665133740017101 and parameters: {'bagging_fraction': 0.41637207687439126, 'bagging_freq': 6}. Best is trial 27 with value: 0.6584241059254083.\u001b[0m\n",
      "bagging, val_score: 0.658424:  90%|######### | 9/10 [00:01<00:00,  5.38it/s]\u001b[32m[I 2021-05-11 09:42:12,090]\u001b[0m Trial 35 finished with value: 0.6675842354979427 and parameters: {'bagging_fraction': 0.7724265406786737, 'bagging_freq': 6}. Best is trial 27 with value: 0.6584241059254083.\u001b[0m\n",
      "bagging, val_score: 0.658424:  90%|######### | 9/10 [00:01<00:00,  5.38it/s]"
     ]
    },
    {
     "name": "stdout",
     "output_type": "stream",
     "text": [
      "Early stopping, best iteration is:\n",
      "[15]\tvalid_0's multi_logloss: 0.666513\n",
      "Training until validation scores don't improve for 100 rounds\n",
      "Early stopping, best iteration is:\n",
      "[15]\tvalid_0's multi_logloss: 0.667584\n",
      "Training until validation scores don't improve for 100 rounds\n"
     ]
    },
    {
     "name": "stderr",
     "output_type": "stream",
     "text": [
      "bagging, val_score: 0.658424: 100%|##########| 10/10 [00:01<00:00,  5.27it/s]\u001b[32m[I 2021-05-11 09:42:12,289]\u001b[0m Trial 36 finished with value: 0.661895040511344 and parameters: {'bagging_fraction': 0.9570725026315332, 'bagging_freq': 4}. Best is trial 27 with value: 0.6584241059254083.\u001b[0m\n",
      "bagging, val_score: 0.658424: 100%|##########| 10/10 [00:01<00:00,  5.18it/s]\n",
      "feature_fraction_stage2, val_score: 0.658424:   0%|          | 0/6 [00:00<?, ?it/s]"
     ]
    },
    {
     "name": "stdout",
     "output_type": "stream",
     "text": [
      "Early stopping, best iteration is:\n",
      "[26]\tvalid_0's multi_logloss: 0.661895\n",
      "Training until validation scores don't improve for 100 rounds\n"
     ]
    },
    {
     "name": "stderr",
     "output_type": "stream",
     "text": [
      "feature_fraction_stage2, val_score: 0.658424:  17%|#6        | 1/6 [00:00<00:01,  4.97it/s]\u001b[32m[I 2021-05-11 09:42:12,494]\u001b[0m Trial 37 finished with value: 0.6641780652068927 and parameters: {'feature_fraction': 0.5479999999999999}. Best is trial 37 with value: 0.6641780652068927.\u001b[0m\n",
      "feature_fraction_stage2, val_score: 0.658424:  17%|#6        | 1/6 [00:00<00:01,  4.97it/s]"
     ]
    },
    {
     "name": "stdout",
     "output_type": "stream",
     "text": [
      "Early stopping, best iteration is:\n",
      "[29]\tvalid_0's multi_logloss: 0.664178\n",
      "Training until validation scores don't improve for 100 rounds\n"
     ]
    },
    {
     "name": "stderr",
     "output_type": "stream",
     "text": [
      "feature_fraction_stage2, val_score: 0.658424:  33%|###3      | 2/6 [00:00<00:00,  4.88it/s]\u001b[32m[I 2021-05-11 09:42:12,702]\u001b[0m Trial 38 finished with value: 0.6629989542592061 and parameters: {'feature_fraction': 0.58}. Best is trial 38 with value: 0.6629989542592061.\u001b[0m\n",
      "feature_fraction_stage2, val_score: 0.658424:  50%|#####     | 3/6 [00:00<00:00,  5.05it/s]\u001b[32m[I 2021-05-11 09:42:12,891]\u001b[0m Trial 39 finished with value: 0.6626496629080985 and parameters: {'feature_fraction': 0.42}. Best is trial 39 with value: 0.6626496629080985.\u001b[0m\n",
      "feature_fraction_stage2, val_score: 0.658424:  50%|#####     | 3/6 [00:00<00:00,  5.05it/s]"
     ]
    },
    {
     "name": "stdout",
     "output_type": "stream",
     "text": [
      "Early stopping, best iteration is:\n",
      "[28]\tvalid_0's multi_logloss: 0.662999\n",
      "Training until validation scores don't improve for 100 rounds\n",
      "Early stopping, best iteration is:\n",
      "[29]\tvalid_0's multi_logloss: 0.66265\n"
     ]
    },
    {
     "name": "stderr",
     "output_type": "stream",
     "text": [
      "feature_fraction_stage2, val_score: 0.658424:  67%|######6   | 4/6 [00:00<00:00,  5.39it/s]\u001b[32m[I 2021-05-11 09:42:13,058]\u001b[0m Trial 40 finished with value: 0.6643394084051482 and parameters: {'feature_fraction': 0.484}. Best is trial 39 with value: 0.6626496629080985.\u001b[0m\n",
      "feature_fraction_stage2, val_score: 0.658424:  67%|######6   | 4/6 [00:00<00:00,  5.39it/s]"
     ]
    },
    {
     "name": "stdout",
     "output_type": "stream",
     "text": [
      "Training until validation scores don't improve for 100 rounds\n",
      "Early stopping, best iteration is:\n",
      "[18]\tvalid_0's multi_logloss: 0.664339\n",
      "Training until validation scores don't improve for 100 rounds\n"
     ]
    },
    {
     "name": "stderr",
     "output_type": "stream",
     "text": [
      "feature_fraction_stage2, val_score: 0.658424:  83%|########3 | 5/6 [00:00<00:00,  5.42it/s]\u001b[32m[I 2021-05-11 09:42:13,241]\u001b[0m Trial 41 finished with value: 0.6617047852190249 and parameters: {'feature_fraction': 0.45199999999999996}. Best is trial 41 with value: 0.6617047852190249.\u001b[0m\n",
      "feature_fraction_stage2, val_score: 0.658424:  83%|########3 | 5/6 [00:00<00:00,  5.42it/s]"
     ]
    },
    {
     "name": "stdout",
     "output_type": "stream",
     "text": [
      "Early stopping, best iteration is:\n",
      "[29]\tvalid_0's multi_logloss: 0.661705\n",
      "Training until validation scores don't improve for 100 rounds\n",
      "Early stopping, best iteration is:\n",
      "[28]\tvalid_0's multi_logloss: 0.662199\n"
     ]
    },
    {
     "name": "stderr",
     "output_type": "stream",
     "text": [
      "feature_fraction_stage2, val_score: 0.658424: 100%|##########| 6/6 [00:01<00:00,  5.27it/s]\u001b[32m[I 2021-05-11 09:42:13,441]\u001b[0m Trial 42 finished with value: 0.6621992438382645 and parameters: {'feature_fraction': 0.516}. Best is trial 41 with value: 0.6617047852190249.\u001b[0m\n",
      "feature_fraction_stage2, val_score: 0.658424: 100%|##########| 6/6 [00:01<00:00,  5.22it/s]\n",
      "regularization_factors, val_score: 0.658424:   5%|5         | 1/20 [00:00<00:03,  4.90it/s]\u001b[32m[I 2021-05-11 09:42:13,649]\u001b[0m Trial 43 finished with value: 0.658424107502325 and parameters: {'lambda_l1': 1.5354326548878604e-05, 'lambda_l2': 9.857557308970142e-05}. Best is trial 43 with value: 0.658424107502325.\u001b[0m\n",
      "regularization_factors, val_score: 0.658424:   5%|5         | 1/20 [00:00<00:03,  4.90it/s]"
     ]
    },
    {
     "name": "stdout",
     "output_type": "stream",
     "text": [
      "Training until validation scores don't improve for 100 rounds\n",
      "Early stopping, best iteration is:\n",
      "[29]\tvalid_0's multi_logloss: 0.658424\n"
     ]
    },
    {
     "name": "stderr",
     "output_type": "stream",
     "text": [
      "regularization_factors, val_score: 0.658424:  10%|#         | 2/20 [00:00<00:03,  4.97it/s]\u001b[32m[I 2021-05-11 09:42:13,848]\u001b[0m Trial 44 finished with value: 0.6587726566301226 and parameters: {'lambda_l1': 1.4467427283852603e-07, 'lambda_l2': 0.2132562620954176}. Best is trial 43 with value: 0.658424107502325.\u001b[0m\n",
      "regularization_factors, val_score: 0.658424:  10%|#         | 2/20 [00:00<00:03,  4.97it/s]"
     ]
    },
    {
     "name": "stdout",
     "output_type": "stream",
     "text": [
      "Training until validation scores don't improve for 100 rounds\n",
      "Early stopping, best iteration is:\n",
      "[28]\tvalid_0's multi_logloss: 0.658773\n",
      "Training until validation scores don't improve for 100 rounds\n"
     ]
    },
    {
     "name": "stderr",
     "output_type": "stream",
     "text": [
      "regularization_factors, val_score: 0.658424:  15%|#5        | 3/20 [00:00<00:03,  4.85it/s]\u001b[32m[I 2021-05-11 09:42:14,060]\u001b[0m Trial 45 finished with value: 0.6606538159616521 and parameters: {'lambda_l1': 0.9116954831820258, 'lambda_l2': 3.4277510535364025e-08}. Best is trial 43 with value: 0.658424107502325.\u001b[0m\n",
      "regularization_factors, val_score: 0.658424:  20%|##        | 4/20 [00:00<00:03,  4.98it/s]\u001b[32m[I 2021-05-11 09:42:14,253]\u001b[0m Trial 46 finished with value: 0.6613623500277711 and parameters: {'lambda_l1': 2.1231636046253048e-07, 'lambda_l2': 2.0984296534760487}. Best is trial 43 with value: 0.658424107502325.\u001b[0m\n",
      "regularization_factors, val_score: 0.658424:  20%|##        | 4/20 [00:00<00:03,  4.98it/s]"
     ]
    },
    {
     "name": "stdout",
     "output_type": "stream",
     "text": [
      "Early stopping, best iteration is:\n",
      "[28]\tvalid_0's multi_logloss: 0.660654\n",
      "Training until validation scores don't improve for 100 rounds\n",
      "Early stopping, best iteration is:\n",
      "[28]\tvalid_0's multi_logloss: 0.661362\n"
     ]
    },
    {
     "name": "stderr",
     "output_type": "stream",
     "text": [
      "regularization_factors, val_score: 0.658424:  25%|##5       | 5/20 [00:01<00:02,  5.03it/s]\u001b[32m[I 2021-05-11 09:42:14,449]\u001b[0m Trial 47 finished with value: 0.6584241059302495 and parameters: {'lambda_l1': 1.4740135453221642e-07, 'lambda_l2': 7.187150558245298e-08}. Best is trial 47 with value: 0.6584241059302495.\u001b[0m\n",
      "regularization_factors, val_score: 0.658424:  25%|##5       | 5/20 [00:01<00:02,  5.03it/s]"
     ]
    },
    {
     "name": "stdout",
     "output_type": "stream",
     "text": [
      "Training until validation scores don't improve for 100 rounds\n",
      "Early stopping, best iteration is:\n",
      "[29]\tvalid_0's multi_logloss: 0.658424\n",
      "Training until validation scores don't improve for 100 rounds\n"
     ]
    },
    {
     "name": "stderr",
     "output_type": "stream",
     "text": [
      "regularization_factors, val_score: 0.658424:  30%|###       | 6/20 [00:01<00:02,  5.04it/s]\u001b[32m[I 2021-05-11 09:42:14,646]\u001b[0m Trial 48 finished with value: 0.6590617085257113 and parameters: {'lambda_l1': 0.03477358219420183, 'lambda_l2': 7.802505941132579e-08}. Best is trial 47 with value: 0.6584241059302495.\u001b[0m\n",
      "regularization_factors, val_score: 0.658424:  35%|###5      | 7/20 [00:01<00:02,  5.11it/s]\u001b[32m[I 2021-05-11 09:42:14,836]\u001b[0m Trial 49 finished with value: 0.6628723495177262 and parameters: {'lambda_l1': 0.0007253653788333935, 'lambda_l2': 0.9000171735168957}. Best is trial 47 with value: 0.6584241059302495.\u001b[0m\n",
      "regularization_factors, val_score: 0.658424:  35%|###5      | 7/20 [00:01<00:02,  5.11it/s]"
     ]
    },
    {
     "name": "stdout",
     "output_type": "stream",
     "text": [
      "Early stopping, best iteration is:\n",
      "[28]\tvalid_0's multi_logloss: 0.659062\n",
      "Training until validation scores don't improve for 100 rounds\n",
      "Early stopping, best iteration is:\n",
      "[18]\tvalid_0's multi_logloss: 0.662872\n"
     ]
    },
    {
     "name": "stderr",
     "output_type": "stream",
     "text": [
      "regularization_factors, val_score: 0.658424:  40%|####      | 8/20 [00:01<00:02,  5.02it/s]\u001b[32m[I 2021-05-11 09:42:15,043]\u001b[0m Trial 50 finished with value: 0.6604568248712965 and parameters: {'lambda_l1': 0.004540919130907457, 'lambda_l2': 4.0652478737083835e-07}. Best is trial 47 with value: 0.6584241059302495.\u001b[0m\n",
      "regularization_factors, val_score: 0.658424:  40%|####      | 8/20 [00:01<00:02,  5.02it/s]"
     ]
    },
    {
     "name": "stdout",
     "output_type": "stream",
     "text": [
      "Training until validation scores don't improve for 100 rounds\n",
      "Early stopping, best iteration is:\n",
      "[29]\tvalid_0's multi_logloss: 0.660457\n"
     ]
    },
    {
     "name": "stderr",
     "output_type": "stream",
     "text": [
      "regularization_factors, val_score: 0.658424:  45%|####5     | 9/20 [00:01<00:02,  5.04it/s]\u001b[32m[I 2021-05-11 09:42:15,239]\u001b[0m Trial 51 finished with value: 0.6613823980190066 and parameters: {'lambda_l1': 0.22675100482101904, 'lambda_l2': 0.5280106488954395}. Best is trial 47 with value: 0.6584241059302495.\u001b[0m\n",
      "regularization_factors, val_score: 0.658424:  45%|####5     | 9/20 [00:01<00:02,  5.04it/s]"
     ]
    },
    {
     "name": "stdout",
     "output_type": "stream",
     "text": [
      "Training until validation scores don't improve for 100 rounds\n",
      "Early stopping, best iteration is:\n",
      "[18]\tvalid_0's multi_logloss: 0.661382\n",
      "Training until validation scores don't improve for 100 rounds\n"
     ]
    },
    {
     "name": "stderr",
     "output_type": "stream",
     "text": [
      "regularization_factors, val_score: 0.658424:  50%|#####     | 10/20 [00:01<00:01,  5.04it/s]\u001b[32m[I 2021-05-11 09:42:15,437]\u001b[0m Trial 52 finished with value: 0.6616796185941437 and parameters: {'lambda_l1': 0.23934460459130916, 'lambda_l2': 0.017341938630078477}. Best is trial 47 with value: 0.6584241059302495.\u001b[0m\n",
      "regularization_factors, val_score: 0.658424:  50%|#####     | 10/20 [00:01<00:01,  5.04it/s]"
     ]
    },
    {
     "name": "stdout",
     "output_type": "stream",
     "text": [
      "Early stopping, best iteration is:\n",
      "[23]\tvalid_0's multi_logloss: 0.66168\n",
      "Training until validation scores don't improve for 100 rounds\n",
      "Early stopping, best iteration is:\n",
      "[29]\tvalid_0's multi_logloss: 0.658424\n"
     ]
    },
    {
     "name": "stderr",
     "output_type": "stream",
     "text": [
      "regularization_factors, val_score: 0.658424:  55%|#####5    | 11/20 [00:02<00:01,  5.02it/s]\u001b[32m[I 2021-05-11 09:42:15,639]\u001b[0m Trial 53 finished with value: 0.6584241066905325 and parameters: {'lambda_l1': 8.418007518171827e-06, 'lambda_l2': 9.029767562360955e-06}. Best is trial 47 with value: 0.6584241059302495.\u001b[0m\n",
      "regularization_factors, val_score: 0.658424:  60%|######    | 12/20 [00:02<00:01,  5.02it/s]\u001b[32m[I 2021-05-11 09:42:15,838]\u001b[0m Trial 54 finished with value: 0.6584241067027135 and parameters: {'lambda_l1': 8.522331484338653e-06, 'lambda_l2': 1.0113203865643818e-05}. Best is trial 47 with value: 0.6584241059302495.\u001b[0m\n",
      "regularization_factors, val_score: 0.658424:  60%|######    | 12/20 [00:02<00:01,  5.02it/s]"
     ]
    },
    {
     "name": "stdout",
     "output_type": "stream",
     "text": [
      "Training until validation scores don't improve for 100 rounds\n",
      "Early stopping, best iteration is:\n",
      "[29]\tvalid_0's multi_logloss: 0.658424\n",
      "Training until validation scores don't improve for 100 rounds\n"
     ]
    },
    {
     "name": "stderr",
     "output_type": "stream",
     "text": [
      "regularization_factors, val_score: 0.658424:  65%|######5   | 13/20 [00:02<00:01,  5.01it/s]\u001b[32m[I 2021-05-11 09:42:16,039]\u001b[0m Trial 55 finished with value: 0.6584241059356549 and parameters: {'lambda_l1': 1.8070177768920673e-08, 'lambda_l2': 2.958914937066982e-06}. Best is trial 47 with value: 0.6584241059302495.\u001b[0m\n",
      "regularization_factors, val_score: 0.658424:  65%|######5   | 13/20 [00:02<00:01,  5.01it/s]"
     ]
    },
    {
     "name": "stdout",
     "output_type": "stream",
     "text": [
      "Early stopping, best iteration is:\n",
      "[29]\tvalid_0's multi_logloss: 0.658424\n",
      "Training until validation scores don't improve for 100 rounds\n",
      "Early stopping, best iteration is:\n",
      "[29]\tvalid_0's multi_logloss: 0.658424\n"
     ]
    },
    {
     "name": "stderr",
     "output_type": "stream",
     "text": [
      "regularization_factors, val_score: 0.658424:  70%|#######   | 14/20 [00:02<00:01,  5.00it/s]\u001b[32m[I 2021-05-11 09:42:16,240]\u001b[0m Trial 56 finished with value: 0.6584241059236449 and parameters: {'lambda_l1': 1.1502865922101405e-08, 'lambda_l2': 5.864398094670131e-07}. Best is trial 56 with value: 0.6584241059236449.\u001b[0m\n",
      "regularization_factors, val_score: 0.658424:  75%|#######5  | 15/20 [00:02<00:01,  4.97it/s]\u001b[32m[I 2021-05-11 09:42:16,443]\u001b[0m Trial 57 finished with value: 0.6584241059237887 and parameters: {'lambda_l1': 1.223289414425211e-08, 'lambda_l2': 1.4533224988250181e-08}. Best is trial 56 with value: 0.6584241059236449.\u001b[0m\n",
      "regularization_factors, val_score: 0.658424:  75%|#######5  | 15/20 [00:03<00:01,  4.97it/s]"
     ]
    },
    {
     "name": "stdout",
     "output_type": "stream",
     "text": [
      "Training until validation scores don't improve for 100 rounds\n",
      "Early stopping, best iteration is:\n",
      "[29]\tvalid_0's multi_logloss: 0.658424\n",
      "Training until validation scores don't improve for 100 rounds\n"
     ]
    },
    {
     "name": "stderr",
     "output_type": "stream",
     "text": [
      "regularization_factors, val_score: 0.658424:  80%|########  | 16/20 [00:03<00:00,  4.99it/s]\u001b[32m[I 2021-05-11 09:42:16,642]\u001b[0m Trial 58 finished with value: 0.6584241059250614 and parameters: {'lambda_l1': 1.0424069430642575e-08, 'lambda_l2': 1.2737114231264309e-08}. Best is trial 56 with value: 0.6584241059236449.\u001b[0m\n",
      "regularization_factors, val_score: 0.658424:  80%|########  | 16/20 [00:03<00:00,  4.99it/s]"
     ]
    },
    {
     "name": "stdout",
     "output_type": "stream",
     "text": [
      "Early stopping, best iteration is:\n",
      "[29]\tvalid_0's multi_logloss: 0.658424\n",
      "Training until validation scores don't improve for 100 rounds\n",
      "Early stopping, best iteration is:\n",
      "[29]\tvalid_0's multi_logloss: 0.658288\n"
     ]
    },
    {
     "name": "stderr",
     "output_type": "stream",
     "text": [
      "regularization_factors, val_score: 0.658288:  85%|########5 | 17/20 [00:03<00:00,  4.97it/s]\u001b[32m[I 2021-05-11 09:42:16,845]\u001b[0m Trial 59 finished with value: 0.6582880914941541 and parameters: {'lambda_l1': 1.07319565919725e-08, 'lambda_l2': 0.004524449564225565}. Best is trial 59 with value: 0.6582880914941541.\u001b[0m\n",
      "regularization_factors, val_score: 0.658288:  90%|######### | 18/20 [00:03<00:00,  5.01it/s]\u001b[32m[I 2021-05-11 09:42:17,041]\u001b[0m Trial 60 finished with value: 0.6587904878914149 and parameters: {'lambda_l1': 1.3073559197895267e-06, 'lambda_l2': 0.005969972065250434}. Best is trial 59 with value: 0.6582880914941541.\u001b[0m\n",
      "regularization_factors, val_score: 0.658288:  90%|######### | 18/20 [00:03<00:00,  5.01it/s]"
     ]
    },
    {
     "name": "stdout",
     "output_type": "stream",
     "text": [
      "Training until validation scores don't improve for 100 rounds\n",
      "Early stopping, best iteration is:\n",
      "[29]\tvalid_0's multi_logloss: 0.65879\n",
      "Training until validation scores don't improve for 100 rounds\n"
     ]
    },
    {
     "name": "stderr",
     "output_type": "stream",
     "text": [
      "regularization_factors, val_score: 0.658288:  95%|#########5| 19/20 [00:03<00:00,  5.02it/s]\u001b[32m[I 2021-05-11 09:42:17,240]\u001b[0m Trial 61 finished with value: 0.6584241173465177 and parameters: {'lambda_l1': 0.00010979826747320475, 'lambda_l2': 0.0006437290194230396}. Best is trial 59 with value: 0.6582880914941541.\u001b[0m\n",
      "regularization_factors, val_score: 0.658288:  95%|#########5| 19/20 [00:03<00:00,  5.02it/s]"
     ]
    },
    {
     "name": "stdout",
     "output_type": "stream",
     "text": [
      "Early stopping, best iteration is:\n",
      "[29]\tvalid_0's multi_logloss: 0.658424\n",
      "Training until validation scores don't improve for 100 rounds\n"
     ]
    },
    {
     "name": "stderr",
     "output_type": "stream",
     "text": [
      "regularization_factors, val_score: 0.658288: 100%|##########| 20/20 [00:04<00:00,  4.88it/s]\u001b[32m[I 2021-05-11 09:42:17,457]\u001b[0m Trial 62 finished with value: 0.6620015516663865 and parameters: {'lambda_l1': 6.834711071828294, 'lambda_l2': 0.00028065598659845304}. Best is trial 59 with value: 0.6582880914941541.\u001b[0m\n",
      "regularization_factors, val_score: 0.658288: 100%|##########| 20/20 [00:04<00:00,  4.98it/s]\n",
      "min_data_in_leaf, val_score: 0.658288:  20%|##        | 1/5 [00:00<00:00,  5.32it/s]\u001b[32m[I 2021-05-11 09:42:17,649]\u001b[0m Trial 63 finished with value: 0.6619486817459835 and parameters: {'min_child_samples': 50}. Best is trial 63 with value: 0.6619486817459835.\u001b[0m\n",
      "min_data_in_leaf, val_score: 0.658288:  20%|##        | 1/5 [00:00<00:00,  5.32it/s]"
     ]
    },
    {
     "name": "stdout",
     "output_type": "stream",
     "text": [
      "Early stopping, best iteration is:\n",
      "[33]\tvalid_0's multi_logloss: 0.662002\n",
      "Training until validation scores don't improve for 100 rounds\n",
      "Early stopping, best iteration is:\n",
      "[23]\tvalid_0's multi_logloss: 0.661949\n"
     ]
    },
    {
     "name": "stderr",
     "output_type": "stream",
     "text": [
      "min_data_in_leaf, val_score: 0.658288:  40%|####      | 2/5 [00:00<00:00,  5.22it/s]\u001b[32m[I 2021-05-11 09:42:17,843]\u001b[0m Trial 64 finished with value: 0.6609898043854087 and parameters: {'min_child_samples': 5}. Best is trial 64 with value: 0.6609898043854087.\u001b[0m\n",
      "min_data_in_leaf, val_score: 0.658288:  40%|####      | 2/5 [00:00<00:00,  5.22it/s]"
     ]
    },
    {
     "name": "stdout",
     "output_type": "stream",
     "text": [
      "Training until validation scores don't improve for 100 rounds\n",
      "Early stopping, best iteration is:\n",
      "[28]\tvalid_0's multi_logloss: 0.66099\n",
      "Training until validation scores don't improve for 100 rounds\n"
     ]
    },
    {
     "name": "stderr",
     "output_type": "stream",
     "text": [
      "min_data_in_leaf, val_score: 0.658288:  60%|######    | 3/5 [00:00<00:00,  4.99it/s]\u001b[32m[I 2021-05-11 09:42:18,054]\u001b[0m Trial 65 finished with value: 0.6585343686666514 and parameters: {'min_child_samples': 100}. Best is trial 65 with value: 0.6585343686666514.\u001b[0m\n",
      "min_data_in_leaf, val_score: 0.658288:  80%|########  | 4/5 [00:00<00:00,  5.15it/s]\u001b[32m[I 2021-05-11 09:42:18,239]\u001b[0m Trial 66 finished with value: 0.6610162217239278 and parameters: {'min_child_samples': 25}. Best is trial 65 with value: 0.6585343686666514.\u001b[0m\n",
      "min_data_in_leaf, val_score: 0.658288:  80%|########  | 4/5 [00:00<00:00,  5.15it/s]"
     ]
    },
    {
     "name": "stdout",
     "output_type": "stream",
     "text": [
      "Early stopping, best iteration is:\n",
      "[29]\tvalid_0's multi_logloss: 0.658534\n",
      "Training until validation scores don't improve for 100 rounds\n",
      "Early stopping, best iteration is:\n",
      "[28]\tvalid_0's multi_logloss: 0.661016\n"
     ]
    },
    {
     "name": "stderr",
     "output_type": "stream",
     "text": [
      "min_data_in_leaf, val_score: 0.658288: 100%|##########| 5/5 [00:00<00:00,  5.12it/s]\u001b[32m[I 2021-05-11 09:42:18,436]\u001b[0m Trial 67 finished with value: 0.6615070767962291 and parameters: {'min_child_samples': 10}. Best is trial 65 with value: 0.6585343686666514.\u001b[0m\n",
      "min_data_in_leaf, val_score: 0.658288: 100%|##########| 5/5 [00:00<00:00,  5.12it/s]\n"
     ]
    },
    {
     "name": "stdout",
     "output_type": "stream",
     "text": [
      "Training until validation scores don't improve for 100 rounds\n",
      "Early stopping, best iteration is:\n",
      "[29]\tvalid_0's multi_logloss: 0.661507\n",
      "accuracy: 0.4791666666666667\n"
     ]
    },
    {
     "name": "stderr",
     "output_type": "stream",
     "text": [
      "\u001b[32m[I 2021-05-11 09:42:18,464]\u001b[0m A new study created in memory with name: no-name-f90f50ae-7c81-4213-b73f-ee8740a9540f\u001b[0m\n",
      "feature_fraction, val_score: inf:   0%|          | 0/7 [00:00<?, ?it/s]"
     ]
    },
    {
     "name": "stdout",
     "output_type": "stream",
     "text": [
      "Training until validation scores don't improve for 100 rounds\n"
     ]
    },
    {
     "name": "stderr",
     "output_type": "stream",
     "text": [
      "feature_fraction, val_score: 1.066429:  14%|#4        | 1/7 [00:00<00:01,  3.51it/s]\u001b[32m[I 2021-05-11 09:42:18,752]\u001b[0m Trial 0 finished with value: 1.0664291129445562 and parameters: {'feature_fraction': 0.6}. Best is trial 0 with value: 1.0664291129445562.\u001b[0m\n",
      "feature_fraction, val_score: 1.066429:  14%|#4        | 1/7 [00:00<00:01,  3.51it/s]"
     ]
    },
    {
     "name": "stdout",
     "output_type": "stream",
     "text": [
      "Early stopping, best iteration is:\n",
      "[14]\tvalid_0's multi_logloss: 1.06643\n",
      "Training until validation scores don't improve for 100 rounds\n"
     ]
    },
    {
     "name": "stderr",
     "output_type": "stream",
     "text": [
      "feature_fraction, val_score: 1.066429:  29%|##8       | 2/7 [00:00<00:01,  3.45it/s]\u001b[32m[I 2021-05-11 09:42:19,046]\u001b[0m Trial 1 finished with value: 1.0726486749181303 and parameters: {'feature_fraction': 0.7}. Best is trial 0 with value: 1.0664291129445562.\u001b[0m\n",
      "feature_fraction, val_score: 1.066429:  29%|##8       | 2/7 [00:00<00:01,  3.45it/s]"
     ]
    },
    {
     "name": "stdout",
     "output_type": "stream",
     "text": [
      "Early stopping, best iteration is:\n",
      "[14]\tvalid_0's multi_logloss: 1.07265\n",
      "Training until validation scores don't improve for 100 rounds\n"
     ]
    },
    {
     "name": "stderr",
     "output_type": "stream",
     "text": [
      "feature_fraction, val_score: 1.066429:  43%|####2     | 3/7 [00:00<00:01,  3.45it/s]\u001b[32m[I 2021-05-11 09:42:19,336]\u001b[0m Trial 2 finished with value: 1.067483795767057 and parameters: {'feature_fraction': 0.5}. Best is trial 0 with value: 1.0664291129445562.\u001b[0m\n",
      "feature_fraction, val_score: 1.066429:  43%|####2     | 3/7 [00:00<00:01,  3.45it/s]"
     ]
    },
    {
     "name": "stdout",
     "output_type": "stream",
     "text": [
      "Early stopping, best iteration is:\n",
      "[13]\tvalid_0's multi_logloss: 1.06748\n",
      "Training until validation scores don't improve for 100 rounds\n"
     ]
    },
    {
     "name": "stderr",
     "output_type": "stream",
     "text": [
      "feature_fraction, val_score: 1.066429:  57%|#####7    | 4/7 [00:01<00:00,  3.39it/s]\u001b[32m[I 2021-05-11 09:42:19,639]\u001b[0m Trial 3 finished with value: 1.0709721824669618 and parameters: {'feature_fraction': 0.8}. Best is trial 0 with value: 1.0664291129445562.\u001b[0m\n",
      "feature_fraction, val_score: 1.066429:  57%|#####7    | 4/7 [00:01<00:00,  3.39it/s]"
     ]
    },
    {
     "name": "stdout",
     "output_type": "stream",
     "text": [
      "Early stopping, best iteration is:\n",
      "[9]\tvalid_0's multi_logloss: 1.07097\n",
      "Training until validation scores don't improve for 100 rounds\n"
     ]
    },
    {
     "name": "stderr",
     "output_type": "stream",
     "text": [
      "feature_fraction, val_score: 1.066429:  71%|#######1  | 5/7 [00:01<00:00,  3.32it/s]\u001b[32m[I 2021-05-11 09:42:19,952]\u001b[0m Trial 4 finished with value: 1.0682483015987878 and parameters: {'feature_fraction': 0.8999999999999999}. Best is trial 0 with value: 1.0664291129445562.\u001b[0m\n",
      "feature_fraction, val_score: 1.066429:  71%|#######1  | 5/7 [00:01<00:00,  3.32it/s]"
     ]
    },
    {
     "name": "stdout",
     "output_type": "stream",
     "text": [
      "Early stopping, best iteration is:\n",
      "[13]\tvalid_0's multi_logloss: 1.06825\n",
      "Training until validation scores don't improve for 100 rounds\n"
     ]
    },
    {
     "name": "stderr",
     "output_type": "stream",
     "text": [
      "feature_fraction, val_score: 1.066140:  86%|########5 | 6/7 [00:01<00:00,  3.47it/s]\u001b[32m[I 2021-05-11 09:42:20,213]\u001b[0m Trial 5 finished with value: 1.0661404744446485 and parameters: {'feature_fraction': 0.4}. Best is trial 5 with value: 1.0661404744446485.\u001b[0m\n",
      "feature_fraction, val_score: 1.066140:  86%|########5 | 6/7 [00:01<00:00,  3.47it/s]"
     ]
    },
    {
     "name": "stdout",
     "output_type": "stream",
     "text": [
      "Early stopping, best iteration is:\n",
      "[13]\tvalid_0's multi_logloss: 1.06614\n",
      "Training until validation scores don't improve for 100 rounds\n"
     ]
    },
    {
     "name": "stderr",
     "output_type": "stream",
     "text": [
      "feature_fraction, val_score: 1.066140: 100%|##########| 7/7 [00:02<00:00,  3.45it/s]\u001b[32m[I 2021-05-11 09:42:20,506]\u001b[0m Trial 6 finished with value: 1.0682294484033816 and parameters: {'feature_fraction': 1.0}. Best is trial 5 with value: 1.0661404744446485.\u001b[0m\n",
      "feature_fraction, val_score: 1.066140: 100%|##########| 7/7 [00:02<00:00,  3.43it/s]\n",
      "num_leaves, val_score: 1.063446:   5%|5         | 1/20 [00:00<00:02,  7.35it/s]\u001b[32m[I 2021-05-11 09:42:20,646]\u001b[0m Trial 7 finished with value: 1.0634456468732039 and parameters: {'num_leaves': 6}. Best is trial 7 with value: 1.0634456468732039.\u001b[0m\n",
      "num_leaves, val_score: 1.063446:   5%|5         | 1/20 [00:00<00:02,  7.35it/s]"
     ]
    },
    {
     "name": "stdout",
     "output_type": "stream",
     "text": [
      "Early stopping, best iteration is:\n",
      "[11]\tvalid_0's multi_logloss: 1.06823\n",
      "Training until validation scores don't improve for 100 rounds\n",
      "Early stopping, best iteration is:\n",
      "[43]\tvalid_0's multi_logloss: 1.06345\n",
      "Training until validation scores don't improve for 100 rounds\n"
     ]
    },
    {
     "name": "stderr",
     "output_type": "stream",
     "text": [
      "num_leaves, val_score: 1.063446:  10%|#         | 2/20 [00:01<00:12,  1.47it/s]\u001b[32m[I 2021-05-11 09:42:21,709]\u001b[0m Trial 8 finished with value: 1.074385562020005 and parameters: {'num_leaves': 201}. Best is trial 7 with value: 1.0634456468732039.\u001b[0m\n",
      "num_leaves, val_score: 1.063446:  10%|#         | 2/20 [00:01<00:12,  1.47it/s]"
     ]
    },
    {
     "name": "stdout",
     "output_type": "stream",
     "text": [
      "Early stopping, best iteration is:\n",
      "[5]\tvalid_0's multi_logloss: 1.07439\n",
      "Training until validation scores don't improve for 100 rounds\n"
     ]
    },
    {
     "name": "stderr",
     "output_type": "stream",
     "text": [
      "num_leaves, val_score: 1.063446:  15%|#5        | 3/20 [00:01<00:10,  1.63it/s]\u001b[32m[I 2021-05-11 09:42:22,243]\u001b[0m Trial 9 finished with value: 1.071810265613375 and parameters: {'num_leaves': 84}. Best is trial 7 with value: 1.0634456468732039.\u001b[0m\n",
      "num_leaves, val_score: 1.063446:  15%|#5        | 3/20 [00:01<00:10,  1.63it/s]"
     ]
    },
    {
     "name": "stdout",
     "output_type": "stream",
     "text": [
      "Early stopping, best iteration is:\n",
      "[13]\tvalid_0's multi_logloss: 1.07181\n",
      "Training until validation scores don't improve for 100 rounds\n"
     ]
    },
    {
     "name": "stderr",
     "output_type": "stream",
     "text": [
      "num_leaves, val_score: 1.063446:  20%|##        | 4/20 [00:02<00:09,  1.69it/s]\u001b[32m[I 2021-05-11 09:42:22,798]\u001b[0m Trial 10 finished with value: 1.0758434068220624 and parameters: {'num_leaves': 93}. Best is trial 7 with value: 1.0634456468732039.\u001b[0m\n",
      "num_leaves, val_score: 1.063446:  20%|##        | 4/20 [00:02<00:09,  1.69it/s]"
     ]
    },
    {
     "name": "stdout",
     "output_type": "stream",
     "text": [
      "Early stopping, best iteration is:\n",
      "[8]\tvalid_0's multi_logloss: 1.07584\n",
      "Training until validation scores don't improve for 100 rounds\n"
     ]
    },
    {
     "name": "stderr",
     "output_type": "stream",
     "text": [
      "num_leaves, val_score: 1.063446:  25%|##5       | 5/20 [00:02<00:07,  2.04it/s]\u001b[32m[I 2021-05-11 09:42:23,108]\u001b[0m Trial 11 finished with value: 1.0679227679794812 and parameters: {'num_leaves': 39}. Best is trial 7 with value: 1.0634456468732039.\u001b[0m\n",
      "num_leaves, val_score: 1.063446:  30%|###       | 6/20 [00:02<00:05,  2.61it/s]\u001b[32m[I 2021-05-11 09:42:23,285]\u001b[0m Trial 12 finished with value: 1.0672647511736075 and parameters: {'num_leaves': 14}. Best is trial 7 with value: 1.0634456468732039.\u001b[0m\n",
      "num_leaves, val_score: 1.063446:  30%|###       | 6/20 [00:02<00:05,  2.61it/s]"
     ]
    },
    {
     "name": "stdout",
     "output_type": "stream",
     "text": [
      "Early stopping, best iteration is:\n",
      "[13]\tvalid_0's multi_logloss: 1.06792\n",
      "Training until validation scores don't improve for 100 rounds\n",
      "Early stopping, best iteration is:\n",
      "[27]\tvalid_0's multi_logloss: 1.06726\n",
      "Training until validation scores don't improve for 100 rounds\n"
     ]
    },
    {
     "name": "stderr",
     "output_type": "stream",
     "text": [
      "num_leaves, val_score: 1.063446:  35%|###5      | 7/20 [00:03<00:04,  2.91it/s]\u001b[32m[I 2021-05-11 09:42:23,547]\u001b[0m Trial 13 finished with value: 1.066090580201823 and parameters: {'num_leaves': 28}. Best is trial 7 with value: 1.0634456468732039.\u001b[0m\n",
      "num_leaves, val_score: 1.063446:  35%|###5      | 7/20 [00:03<00:04,  2.91it/s]"
     ]
    },
    {
     "name": "stdout",
     "output_type": "stream",
     "text": [
      "Early stopping, best iteration is:\n",
      "[23]\tvalid_0's multi_logloss: 1.06609\n",
      "Training until validation scores don't improve for 100 rounds\n"
     ]
    },
    {
     "name": "stderr",
     "output_type": "stream",
     "text": [
      "num_leaves, val_score: 1.063446:  40%|####      | 8/20 [00:04<00:06,  1.77it/s]\u001b[32m[I 2021-05-11 09:42:24,586]\u001b[0m Trial 14 finished with value: 1.0754359893281675 and parameters: {'num_leaves': 243}. Best is trial 7 with value: 1.0634456468732039.\u001b[0m\n",
      "num_leaves, val_score: 1.063446:  45%|####5     | 9/20 [00:04<00:04,  2.25it/s]\u001b[32m[I 2021-05-11 09:42:24,769]\u001b[0m Trial 15 finished with value: 1.0650854772987957 and parameters: {'num_leaves': 11}. Best is trial 7 with value: 1.0634456468732039.\u001b[0m\n",
      "num_leaves, val_score: 1.063446:  45%|####5     | 9/20 [00:04<00:04,  2.25it/s]"
     ]
    },
    {
     "name": "stdout",
     "output_type": "stream",
     "text": [
      "Early stopping, best iteration is:\n",
      "[4]\tvalid_0's multi_logloss: 1.07544\n",
      "Training until validation scores don't improve for 100 rounds\n",
      "Early stopping, best iteration is:\n",
      "[54]\tvalid_0's multi_logloss: 1.06509\n",
      "Training until validation scores don't improve for 100 rounds\n"
     ]
    },
    {
     "name": "stderr",
     "output_type": "stream",
     "text": [
      "num_leaves, val_score: 1.063446:  50%|#####     | 10/20 [00:05<00:05,  1.78it/s]\u001b[32m[I 2021-05-11 09:42:25,595]\u001b[0m Trial 16 finished with value: 1.0748505465298974 and parameters: {'num_leaves': 162}. Best is trial 7 with value: 1.0634456468732039.\u001b[0m\n",
      "num_leaves, val_score: 1.063446:  50%|#####     | 10/20 [00:05<00:05,  1.78it/s]"
     ]
    },
    {
     "name": "stdout",
     "output_type": "stream",
     "text": [
      "Early stopping, best iteration is:\n",
      "[5]\tvalid_0's multi_logloss: 1.07485\n",
      "Training until validation scores don't improve for 100 rounds\n"
     ]
    },
    {
     "name": "stderr",
     "output_type": "stream",
     "text": [
      "num_leaves, val_score: 1.063446:  55%|#####5    | 11/20 [00:05<00:05,  1.53it/s]\u001b[32m[I 2021-05-11 09:42:26,447]\u001b[0m Trial 17 finished with value: 1.0729415526932704 and parameters: {'num_leaves': 125}. Best is trial 7 with value: 1.0634456468732039.\u001b[0m\n",
      "num_leaves, val_score: 1.063446:  60%|######    | 12/20 [00:06<00:04,  1.96it/s]\u001b[32m[I 2021-05-11 09:42:26,637]\u001b[0m Trial 18 finished with value: 1.0650854772987957 and parameters: {'num_leaves': 11}. Best is trial 7 with value: 1.0634456468732039.\u001b[0m\n"
     ]
    },
    {
     "name": "stdout",
     "output_type": "stream",
     "text": [
      "Early stopping, best iteration is:\n",
      "[13]\tvalid_0's multi_logloss: 1.07294\n",
      "Training until validation scores don't improve for 100 rounds\n",
      "Early stopping, best iteration is:\n",
      "[54]\tvalid_0's multi_logloss: 1.06509\n"
     ]
    },
    {
     "name": "stderr",
     "output_type": "stream",
     "text": [
      "\r",
      "num_leaves, val_score: 1.063446:  60%|######    | 12/20 [00:06<00:04,  1.96it/s]"
     ]
    },
    {
     "name": "stdout",
     "output_type": "stream",
     "text": [
      "Training until validation scores don't improve for 100 rounds\n"
     ]
    },
    {
     "name": "stderr",
     "output_type": "stream",
     "text": [
      "num_leaves, val_score: 1.063446:  65%|######5   | 13/20 [00:06<00:03,  1.98it/s]\u001b[32m[I 2021-05-11 09:42:27,128]\u001b[0m Trial 19 finished with value: 1.0736801929905184 and parameters: {'num_leaves': 81}. Best is trial 7 with value: 1.0634456468732039.\u001b[0m\n",
      "num_leaves, val_score: 1.063446:  65%|######5   | 13/20 [00:06<00:03,  1.98it/s]"
     ]
    },
    {
     "name": "stdout",
     "output_type": "stream",
     "text": [
      "Early stopping, best iteration is:\n",
      "[9]\tvalid_0's multi_logloss: 1.07368\n",
      "Training until validation scores don't improve for 100 rounds\n"
     ]
    },
    {
     "name": "stderr",
     "output_type": "stream",
     "text": [
      "num_leaves, val_score: 1.063446:  70%|#######   | 14/20 [00:06<00:02,  2.21it/s]\u001b[32m[I 2021-05-11 09:42:27,463]\u001b[0m Trial 20 finished with value: 1.0725001332574728 and parameters: {'num_leaves': 51}. Best is trial 7 with value: 1.0634456468732039.\u001b[0m\n",
      "num_leaves, val_score: 1.063446:  70%|#######   | 14/20 [00:06<00:02,  2.21it/s]"
     ]
    },
    {
     "name": "stdout",
     "output_type": "stream",
     "text": [
      "Early stopping, best iteration is:\n",
      "[13]\tvalid_0's multi_logloss: 1.0725\n",
      "Training until validation scores don't improve for 100 rounds\n"
     ]
    },
    {
     "name": "stderr",
     "output_type": "stream",
     "text": [
      "num_leaves, val_score: 1.063446:  75%|#######5  | 15/20 [00:07<00:02,  2.32it/s]\u001b[32m[I 2021-05-11 09:42:27,844]\u001b[0m Trial 21 finished with value: 1.0736944037856009 and parameters: {'num_leaves': 57}. Best is trial 7 with value: 1.0634456468732039.\u001b[0m\n",
      "num_leaves, val_score: 1.063446:  80%|########  | 16/20 [00:07<00:01,  2.87it/s]\u001b[32m[I 2021-05-11 09:42:27,998]\u001b[0m Trial 22 finished with value: 1.0640442827036236 and parameters: {'num_leaves': 9}. Best is trial 7 with value: 1.0634456468732039.\u001b[0m\n",
      "num_leaves, val_score: 1.063446:  80%|########  | 16/20 [00:07<00:01,  2.87it/s]"
     ]
    },
    {
     "name": "stdout",
     "output_type": "stream",
     "text": [
      "Early stopping, best iteration is:\n",
      "[13]\tvalid_0's multi_logloss: 1.07369\n",
      "Training until validation scores don't improve for 100 rounds\n",
      "Early stopping, best iteration is:\n",
      "[37]\tvalid_0's multi_logloss: 1.06404\n",
      "Training until validation scores don't improve for 100 rounds\n"
     ]
    },
    {
     "name": "stderr",
     "output_type": "stream",
     "text": [
      "num_leaves, val_score: 1.063446:  85%|########5 | 17/20 [00:08<00:01,  2.28it/s]\u001b[32m[I 2021-05-11 09:42:28,649]\u001b[0m Trial 23 finished with value: 1.0727837925263568 and parameters: {'num_leaves': 116}. Best is trial 7 with value: 1.0634456468732039.\u001b[0m\n",
      "num_leaves, val_score: 1.059507:  90%|######### | 18/20 [00:08<00:00,  2.84it/s]\u001b[32m[I 2021-05-11 09:42:28,798]\u001b[0m Trial 24 finished with value: 1.0595071226655488 and parameters: {'num_leaves': 2}. Best is trial 24 with value: 1.0595071226655488.\u001b[0m\n",
      "num_leaves, val_score: 1.059507:  90%|######### | 18/20 [00:08<00:00,  2.84it/s]"
     ]
    },
    {
     "name": "stdout",
     "output_type": "stream",
     "text": [
      "Early stopping, best iteration is:\n",
      "[12]\tvalid_0's multi_logloss: 1.07278\n",
      "Training until validation scores don't improve for 100 rounds\n",
      "[200]\tvalid_0's multi_logloss: 1.05975\n",
      "Early stopping, best iteration is:\n",
      "[176]\tvalid_0's multi_logloss: 1.05951\n",
      "Training until validation scores don't improve for 100 rounds\n"
     ]
    },
    {
     "name": "stderr",
     "output_type": "stream",
     "text": [
      "num_leaves, val_score: 1.059507:  95%|#########5| 19/20 [00:09<00:00,  1.94it/s]\u001b[32m[I 2021-05-11 09:42:29,696]\u001b[0m Trial 25 finished with value: 1.0765480092981738 and parameters: {'num_leaves': 185}. Best is trial 24 with value: 1.0595071226655488.\u001b[0m\n",
      "num_leaves, val_score: 1.059507:  95%|#########5| 19/20 [00:09<00:00,  1.94it/s]"
     ]
    },
    {
     "name": "stdout",
     "output_type": "stream",
     "text": [
      "Early stopping, best iteration is:\n",
      "[4]\tvalid_0's multi_logloss: 1.07655\n",
      "Training until validation scores don't improve for 100 rounds\n"
     ]
    },
    {
     "name": "stderr",
     "output_type": "stream",
     "text": [
      "num_leaves, val_score: 1.059507: 100%|##########| 20/20 [00:10<00:00,  1.50it/s]\u001b[32m[I 2021-05-11 09:42:30,709]\u001b[0m Trial 26 finished with value: 1.0754359893281675 and parameters: {'num_leaves': 256}. Best is trial 24 with value: 1.0595071226655488.\u001b[0m\n",
      "num_leaves, val_score: 1.059507: 100%|##########| 20/20 [00:10<00:00,  1.96it/s]\n",
      "bagging, val_score: 1.058799:  10%|#         | 1/10 [00:00<00:01,  7.01it/s]\u001b[32m[I 2021-05-11 09:42:30,856]\u001b[0m Trial 27 finished with value: 1.05879876533223 and parameters: {'bagging_fraction': 0.7745767772818117, 'bagging_freq': 4}. Best is trial 27 with value: 1.05879876533223.\u001b[0m\n",
      "bagging, val_score: 1.058799:  10%|#         | 1/10 [00:00<00:01,  7.01it/s]"
     ]
    },
    {
     "name": "stdout",
     "output_type": "stream",
     "text": [
      "Early stopping, best iteration is:\n",
      "[4]\tvalid_0's multi_logloss: 1.07544\n",
      "Training until validation scores don't improve for 100 rounds\n",
      "[200]\tvalid_0's multi_logloss: 1.06012\n",
      "Early stopping, best iteration is:\n",
      "[156]\tvalid_0's multi_logloss: 1.0588\n",
      "Training until validation scores don't improve for 100 rounds\n"
     ]
    },
    {
     "name": "stderr",
     "output_type": "stream",
     "text": [
      "bagging, val_score: 1.058799:  20%|##        | 2/10 [00:00<00:01,  6.40it/s]\u001b[32m[I 2021-05-11 09:42:31,023]\u001b[0m Trial 28 finished with value: 1.0590695016769653 and parameters: {'bagging_fraction': 0.9297131350289879, 'bagging_freq': 2}. Best is trial 27 with value: 1.05879876533223.\u001b[0m\n",
      "bagging, val_score: 1.058799:  20%|##        | 2/10 [00:00<00:01,  6.40it/s]\u001b[32m[I 2021-05-11 09:42:31,117]\u001b[0m Trial 29 finished with value: 1.0611883982523322 and parameters: {'bagging_fraction': 0.46244590197683577, 'bagging_freq': 6}. Best is trial 27 with value: 1.05879876533223.\u001b[0m\n",
      "bagging, val_score: 1.058799:  30%|###       | 3/10 [00:00<00:01,  6.40it/s]"
     ]
    },
    {
     "name": "stdout",
     "output_type": "stream",
     "text": [
      "[200]\tvalid_0's multi_logloss: 1.0594\n",
      "Early stopping, best iteration is:\n",
      "[171]\tvalid_0's multi_logloss: 1.05907\n",
      "Training until validation scores don't improve for 100 rounds\n",
      "Early stopping, best iteration is:\n",
      "[90]\tvalid_0's multi_logloss: 1.06119\n",
      "Training until validation scores don't improve for 100 rounds\n"
     ]
    },
    {
     "name": "stderr",
     "output_type": "stream",
     "text": [
      "bagging, val_score: 1.058419:  40%|####      | 4/10 [00:00<00:00,  7.72it/s]\u001b[32m[I 2021-05-11 09:42:31,249]\u001b[0m Trial 30 finished with value: 1.0584194476510127 and parameters: {'bagging_fraction': 0.6357039344994878, 'bagging_freq': 3}. Best is trial 30 with value: 1.0584194476510127.\u001b[0m\n",
      "bagging, val_score: 1.058419:  40%|####      | 4/10 [00:00<00:00,  7.72it/s]"
     ]
    },
    {
     "name": "stdout",
     "output_type": "stream",
     "text": [
      "[200]\tvalid_0's multi_logloss: 1.05996\n",
      "Early stopping, best iteration is:\n",
      "[132]\tvalid_0's multi_logloss: 1.05842\n",
      "Training until validation scores don't improve for 100 rounds\n",
      "[200]\tvalid_0's multi_logloss: 1.05992\n"
     ]
    },
    {
     "name": "stderr",
     "output_type": "stream",
     "text": [
      "bagging, val_score: 1.058419:  50%|#####     | 5/10 [00:00<00:00,  6.64it/s]\u001b[32m[I 2021-05-11 09:42:31,448]\u001b[0m Trial 31 finished with value: 1.059574429535007 and parameters: {'bagging_fraction': 0.9705072414184306, 'bagging_freq': 7}. Best is trial 30 with value: 1.0584194476510127.\u001b[0m\n",
      "bagging, val_score: 1.058419:  60%|######    | 6/10 [00:00<00:00,  6.69it/s]\u001b[32m[I 2021-05-11 09:42:31,594]\u001b[0m Trial 32 finished with value: 1.0590343411167458 and parameters: {'bagging_fraction': 0.8778651607971104, 'bagging_freq': 6}. Best is trial 30 with value: 1.0584194476510127.\u001b[0m\n",
      "bagging, val_score: 1.058419:  60%|######    | 6/10 [00:00<00:00,  6.69it/s]"
     ]
    },
    {
     "name": "stdout",
     "output_type": "stream",
     "text": [
      "Early stopping, best iteration is:\n",
      "[238]\tvalid_0's multi_logloss: 1.05957\n",
      "Training until validation scores don't improve for 100 rounds\n",
      "[200]\tvalid_0's multi_logloss: 1.0594\n",
      "Early stopping, best iteration is:\n",
      "[162]\tvalid_0's multi_logloss: 1.05903\n",
      "Training until validation scores don't improve for 100 rounds\n"
     ]
    },
    {
     "name": "stderr",
     "output_type": "stream",
     "text": [
      "bagging, val_score: 1.058419:  70%|#######   | 7/10 [00:01<00:00,  6.94it/s]\u001b[32m[I 2021-05-11 09:42:31,726]\u001b[0m Trial 33 finished with value: 1.059275995597337 and parameters: {'bagging_fraction': 0.6470656981571365, 'bagging_freq': 3}. Best is trial 30 with value: 1.0584194476510127.\u001b[0m\n",
      "bagging, val_score: 1.058419:  80%|########  | 8/10 [00:01<00:00,  7.04it/s]\u001b[32m[I 2021-05-11 09:42:31,863]\u001b[0m Trial 34 finished with value: 1.0591631076261654 and parameters: {'bagging_fraction': 0.8624442208326697, 'bagging_freq': 5}. Best is trial 30 with value: 1.0584194476510127.\u001b[0m\n",
      "bagging, val_score: 1.058419:  80%|########  | 8/10 [00:01<00:00,  7.04it/s]"
     ]
    },
    {
     "name": "stdout",
     "output_type": "stream",
     "text": [
      "[200]\tvalid_0's multi_logloss: 1.061\n",
      "Early stopping, best iteration is:\n",
      "[136]\tvalid_0's multi_logloss: 1.05928\n",
      "Training until validation scores don't improve for 100 rounds\n",
      "[200]\tvalid_0's multi_logloss: 1.05996\n",
      "Early stopping, best iteration is:\n",
      "[170]\tvalid_0's multi_logloss: 1.05916\n",
      "Training until validation scores don't improve for 100 rounds\n"
     ]
    },
    {
     "name": "stderr",
     "output_type": "stream",
     "text": [
      "bagging, val_score: 1.058419:  90%|######### | 9/10 [00:01<00:00,  7.07it/s]\u001b[32m[I 2021-05-11 09:42:32,003]\u001b[0m Trial 35 finished with value: 1.0597215634101194 and parameters: {'bagging_fraction': 0.5810919024476404, 'bagging_freq': 4}. Best is trial 30 with value: 1.0584194476510127.\u001b[0m\n",
      "bagging, val_score: 1.058419: 100%|##########| 10/10 [00:01<00:00,  6.91it/s]\u001b[32m[I 2021-05-11 09:42:32,155]\u001b[0m Trial 36 finished with value: 1.059516798887717 and parameters: {'bagging_fraction': 0.982372234681518, 'bagging_freq': 5}. Best is trial 30 with value: 1.0584194476510127.\u001b[0m\n",
      "bagging, val_score: 1.058419: 100%|##########| 10/10 [00:01<00:00,  6.93it/s]\n",
      "feature_fraction_stage2, val_score: 1.058419:   0%|          | 0/3 [00:00<?, ?it/s]"
     ]
    },
    {
     "name": "stdout",
     "output_type": "stream",
     "text": [
      "[200]\tvalid_0's multi_logloss: 1.06081\n",
      "Early stopping, best iteration is:\n",
      "[159]\tvalid_0's multi_logloss: 1.05972\n",
      "Training until validation scores don't improve for 100 rounds\n",
      "[200]\tvalid_0's multi_logloss: 1.05987\n",
      "Early stopping, best iteration is:\n",
      "[160]\tvalid_0's multi_logloss: 1.05952\n"
     ]
    },
    {
     "name": "stderr",
     "output_type": "stream",
     "text": [
      "feature_fraction_stage2, val_score: 1.058410:  33%|###3      | 1/3 [00:00<00:00,  7.51it/s]\u001b[32m[I 2021-05-11 09:42:32,293]\u001b[0m Trial 37 finished with value: 1.0584098927961088 and parameters: {'feature_fraction': 0.41600000000000004}. Best is trial 37 with value: 1.0584098927961088.\u001b[0m\n",
      "feature_fraction_stage2, val_score: 1.058410:  33%|###3      | 1/3 [00:00<00:00,  7.51it/s]"
     ]
    },
    {
     "name": "stdout",
     "output_type": "stream",
     "text": [
      "Training until validation scores don't improve for 100 rounds\n",
      "[200]\tvalid_0's multi_logloss: 1.06035\n",
      "Early stopping, best iteration is:\n",
      "[136]\tvalid_0's multi_logloss: 1.05841\n",
      "Training until validation scores don't improve for 100 rounds\n"
     ]
    },
    {
     "name": "stderr",
     "output_type": "stream",
     "text": [
      "feature_fraction_stage2, val_score: 1.058410:  67%|######6   | 2/3 [00:00<00:00,  7.00it/s]\u001b[32m[I 2021-05-11 09:42:32,443]\u001b[0m Trial 38 finished with value: 1.0586128667079362 and parameters: {'feature_fraction': 0.44800000000000006}. Best is trial 37 with value: 1.0584098927961088.\u001b[0m\n",
      "feature_fraction_stage2, val_score: 1.057436: 100%|##########| 3/3 [00:00<00:00,  7.29it/s]\u001b[32m[I 2021-05-11 09:42:32,573]\u001b[0m Trial 39 finished with value: 1.0574362836924835 and parameters: {'feature_fraction': 0.48000000000000004}. Best is trial 39 with value: 1.0574362836924835.\u001b[0m\n",
      "feature_fraction_stage2, val_score: 1.057436: 100%|##########| 3/3 [00:00<00:00,  7.23it/s]\n",
      "regularization_factors, val_score: 1.057436:   0%|          | 0/20 [00:00<?, ?it/s]"
     ]
    },
    {
     "name": "stdout",
     "output_type": "stream",
     "text": [
      "[200]\tvalid_0's multi_logloss: 1.06028\n",
      "Early stopping, best iteration is:\n",
      "[136]\tvalid_0's multi_logloss: 1.05861\n",
      "Training until validation scores don't improve for 100 rounds\n",
      "[200]\tvalid_0's multi_logloss: 1.05953\n",
      "Early stopping, best iteration is:\n",
      "[136]\tvalid_0's multi_logloss: 1.05744\n",
      "Training until validation scores don't improve for 100 rounds\n"
     ]
    },
    {
     "name": "stderr",
     "output_type": "stream",
     "text": [
      "regularization_factors, val_score: 1.057436:   5%|5         | 1/20 [00:00<00:02,  7.59it/s]\u001b[32m[I 2021-05-11 09:42:32,709]\u001b[0m Trial 40 finished with value: 1.057436283684406 and parameters: {'lambda_l1': 2.8073930643699993e-08, 'lambda_l2': 9.49096120447732e-08}. Best is trial 40 with value: 1.057436283684406.\u001b[0m\n",
      "regularization_factors, val_score: 1.057436:  10%|#         | 2/20 [00:00<00:02,  7.56it/s]\u001b[32m[I 2021-05-11 09:42:32,843]\u001b[0m Trial 41 finished with value: 1.0580098106269094 and parameters: {'lambda_l1': 0.0008547256003511272, 'lambda_l2': 1.8714859556665004}. Best is trial 40 with value: 1.057436283684406.\u001b[0m\n",
      "regularization_factors, val_score: 1.057436:  10%|#         | 2/20 [00:00<00:02,  7.56it/s]"
     ]
    },
    {
     "name": "stdout",
     "output_type": "stream",
     "text": [
      "[200]\tvalid_0's multi_logloss: 1.05953\n",
      "Early stopping, best iteration is:\n",
      "[136]\tvalid_0's multi_logloss: 1.05744\n",
      "Training until validation scores don't improve for 100 rounds\n",
      "[200]\tvalid_0's multi_logloss: 1.05981\n",
      "Early stopping, best iteration is:\n",
      "[136]\tvalid_0's multi_logloss: 1.05801\n",
      "Training until validation scores don't improve for 100 rounds\n"
     ]
    },
    {
     "name": "stderr",
     "output_type": "stream",
     "text": [
      "regularization_factors, val_score: 1.057436:  15%|#5        | 3/20 [00:00<00:02,  7.11it/s]\u001b[32m[I 2021-05-11 09:42:32,993]\u001b[0m Trial 42 finished with value: 1.0579366501374605 and parameters: {'lambda_l1': 0.004029140534391281, 'lambda_l2': 0.04715177843590715}. Best is trial 40 with value: 1.057436283684406.\u001b[0m\n",
      "regularization_factors, val_score: 1.057436:  20%|##        | 4/20 [00:00<00:02,  7.09it/s]\u001b[32m[I 2021-05-11 09:42:33,134]\u001b[0m Trial 43 finished with value: 1.0574362270425748 and parameters: {'lambda_l1': 0.0006538311121868974, 'lambda_l2': 0.00024840588993069017}. Best is trial 43 with value: 1.0574362270425748.\u001b[0m\n",
      "regularization_factors, val_score: 1.057436:  20%|##        | 4/20 [00:00<00:02,  7.09it/s]"
     ]
    },
    {
     "name": "stdout",
     "output_type": "stream",
     "text": [
      "[200]\tvalid_0's multi_logloss: 1.05965\n",
      "Early stopping, best iteration is:\n",
      "[136]\tvalid_0's multi_logloss: 1.05794\n",
      "Training until validation scores don't improve for 100 rounds\n",
      "[200]\tvalid_0's multi_logloss: 1.05952\n",
      "Early stopping, best iteration is:\n",
      "[136]\tvalid_0's multi_logloss: 1.05744\n",
      "Training until validation scores don't improve for 100 rounds\n"
     ]
    },
    {
     "name": "stderr",
     "output_type": "stream",
     "text": [
      "regularization_factors, val_score: 1.057436:  25%|##5       | 5/20 [00:00<00:02,  7.21it/s]\u001b[32m[I 2021-05-11 09:42:33,268]\u001b[0m Trial 44 finished with value: 1.0574355840741234 and parameters: {'lambda_l1': 0.009528997809781652, 'lambda_l2': 0.0006478950667650858}. Best is trial 44 with value: 1.0574355840741234.\u001b[0m\n",
      "regularization_factors, val_score: 1.057436:  30%|###       | 6/20 [00:00<00:01,  7.20it/s]\u001b[32m[I 2021-05-11 09:42:33,409]\u001b[0m Trial 45 finished with value: 1.0574362790676792 and parameters: {'lambda_l1': 1.077325079304705e-05, 'lambda_l2': 9.249440794168808e-05}. Best is trial 44 with value: 1.0574355840741234.\u001b[0m\n",
      "regularization_factors, val_score: 1.057436:  30%|###       | 6/20 [00:00<00:01,  7.20it/s]"
     ]
    },
    {
     "name": "stdout",
     "output_type": "stream",
     "text": [
      "[200]\tvalid_0's multi_logloss: 1.05952\n",
      "Early stopping, best iteration is:\n",
      "[136]\tvalid_0's multi_logloss: 1.05744\n",
      "Training until validation scores don't improve for 100 rounds\n",
      "[200]\tvalid_0's multi_logloss: 1.05953\n",
      "Early stopping, best iteration is:\n",
      "[136]\tvalid_0's multi_logloss: 1.05744\n",
      "Training until validation scores don't improve for 100 rounds\n"
     ]
    },
    {
     "name": "stderr",
     "output_type": "stream",
     "text": [
      "regularization_factors, val_score: 1.057436:  35%|###5      | 7/20 [00:00<00:01,  7.24it/s]\u001b[32m[I 2021-05-11 09:42:33,545]\u001b[0m Trial 46 finished with value: 1.0574362371177934 and parameters: {'lambda_l1': 0.0006573591226217563, 'lambda_l2': 3.705640375489369e-08}. Best is trial 44 with value: 1.0574355840741234.\u001b[0m\n",
      "regularization_factors, val_score: 1.057435:  40%|####      | 8/20 [00:01<00:01,  7.06it/s]\u001b[32m[I 2021-05-11 09:42:33,694]\u001b[0m Trial 47 finished with value: 1.0574349901796651 and parameters: {'lambda_l1': 3.912293053329492e-05, 'lambda_l2': 0.031126470793499606}. Best is trial 47 with value: 1.0574349901796651.\u001b[0m\n",
      "regularization_factors, val_score: 1.057435:  40%|####      | 8/20 [00:01<00:01,  7.06it/s]"
     ]
    },
    {
     "name": "stdout",
     "output_type": "stream",
     "text": [
      "[200]\tvalid_0's multi_logloss: 1.05952\n",
      "Early stopping, best iteration is:\n",
      "[136]\tvalid_0's multi_logloss: 1.05744\n",
      "Training until validation scores don't improve for 100 rounds\n",
      "[200]\tvalid_0's multi_logloss: 1.05952\n",
      "Early stopping, best iteration is:\n",
      "[136]\tvalid_0's multi_logloss: 1.05743\n",
      "Training until validation scores don't improve for 100 rounds\n"
     ]
    },
    {
     "name": "stderr",
     "output_type": "stream",
     "text": [
      "regularization_factors, val_score: 1.057435:  45%|####5     | 9/20 [00:01<00:01,  6.95it/s]\u001b[32m[I 2021-05-11 09:42:33,843]\u001b[0m Trial 48 finished with value: 1.057436222377565 and parameters: {'lambda_l1': 0.0008606147660493685, 'lambda_l2': 7.645910274334898e-06}. Best is trial 47 with value: 1.0574349901796651.\u001b[0m\n",
      "regularization_factors, val_score: 1.056788:  50%|#####     | 10/20 [00:01<00:01,  7.21it/s]\u001b[32m[I 2021-05-11 09:42:33,970]\u001b[0m Trial 49 finished with value: 1.056788071924769 and parameters: {'lambda_l1': 2.642916293731283, 'lambda_l2': 3.942789965825641e-05}. Best is trial 49 with value: 1.056788071924769.\u001b[0m\n",
      "regularization_factors, val_score: 1.056788:  50%|#####     | 10/20 [00:01<00:01,  7.21it/s]"
     ]
    },
    {
     "name": "stdout",
     "output_type": "stream",
     "text": [
      "[200]\tvalid_0's multi_logloss: 1.05952\n",
      "Early stopping, best iteration is:\n",
      "[136]\tvalid_0's multi_logloss: 1.05744\n",
      "Training until validation scores don't improve for 100 rounds\n",
      "[200]\tvalid_0's multi_logloss: 1.05838\n",
      "Early stopping, best iteration is:\n",
      "[136]\tvalid_0's multi_logloss: 1.05679\n",
      "Training until validation scores don't improve for 100 rounds\n"
     ]
    },
    {
     "name": "stderr",
     "output_type": "stream",
     "text": [
      "regularization_factors, val_score: 1.056788:  55%|#####5    | 11/20 [00:01<00:01,  7.25it/s]\u001b[32m[I 2021-05-11 09:42:34,106]\u001b[0m Trial 50 finished with value: 1.0570509957643635 and parameters: {'lambda_l1': 3.382093715589922, 'lambda_l2': 1.240096275289456e-06}. Best is trial 49 with value: 1.056788071924769.\u001b[0m\n",
      "regularization_factors, val_score: 1.056788:  60%|######    | 12/20 [00:01<00:01,  7.50it/s]\u001b[32m[I 2021-05-11 09:42:34,229]\u001b[0m Trial 51 finished with value: 1.0574943453904686 and parameters: {'lambda_l1': 4.867410843799232, 'lambda_l2': 1.6566915336156653e-06}. Best is trial 49 with value: 1.056788071924769.\u001b[0m\n",
      "regularization_factors, val_score: 1.056788:  60%|######    | 12/20 [00:01<00:01,  7.50it/s]"
     ]
    },
    {
     "name": "stdout",
     "output_type": "stream",
     "text": [
      "[200]\tvalid_0's multi_logloss: 1.05883\n",
      "Early stopping, best iteration is:\n",
      "[136]\tvalid_0's multi_logloss: 1.05705\n",
      "Training until validation scores don't improve for 100 rounds\n",
      "[200]\tvalid_0's multi_logloss: 1.05852\n",
      "Early stopping, best iteration is:\n",
      "[136]\tvalid_0's multi_logloss: 1.05749\n",
      "Training until validation scores don't improve for 100 rounds\n"
     ]
    },
    {
     "name": "stderr",
     "output_type": "stream",
     "text": [
      "regularization_factors, val_score: 1.056788:  65%|######5   | 13/20 [00:01<00:00,  7.65it/s]\u001b[32m[I 2021-05-11 09:42:34,354]\u001b[0m Trial 52 finished with value: 1.0589166684459907 and parameters: {'lambda_l1': 9.444800764489765, 'lambda_l2': 3.136631527586873e-06}. Best is trial 49 with value: 1.056788071924769.\u001b[0m\n",
      "regularization_factors, val_score: 1.056788:  70%|#######   | 14/20 [00:01<00:00,  7.43it/s]\u001b[32m[I 2021-05-11 09:42:34,497]\u001b[0m Trial 53 finished with value: 1.0574273429273737 and parameters: {'lambda_l1': 0.19135510317650445, 'lambda_l2': 2.8665893084151096e-07}. Best is trial 49 with value: 1.056788071924769.\u001b[0m\n",
      "regularization_factors, val_score: 1.056788:  70%|#######   | 14/20 [00:01<00:00,  7.43it/s]"
     ]
    },
    {
     "name": "stdout",
     "output_type": "stream",
     "text": [
      "[200]\tvalid_0's multi_logloss: 1.05956\n",
      "Early stopping, best iteration is:\n",
      "[136]\tvalid_0's multi_logloss: 1.05892\n",
      "Training until validation scores don't improve for 100 rounds\n",
      "[200]\tvalid_0's multi_logloss: 1.05931\n",
      "Early stopping, best iteration is:\n",
      "[136]\tvalid_0's multi_logloss: 1.05743\n",
      "Training until validation scores don't improve for 100 rounds\n"
     ]
    },
    {
     "name": "stderr",
     "output_type": "stream",
     "text": [
      "regularization_factors, val_score: 1.056788:  75%|#######5  | 15/20 [00:02<00:00,  7.24it/s]\u001b[32m[I 2021-05-11 09:42:34,644]\u001b[0m Trial 54 finished with value: 1.0573124355893162 and parameters: {'lambda_l1': 0.23759150382707028, 'lambda_l2': 3.904821818202368e-05}. Best is trial 49 with value: 1.056788071924769.\u001b[0m\n",
      "regularization_factors, val_score: 1.056788:  80%|########  | 16/20 [00:02<00:00,  7.30it/s]\u001b[32m[I 2021-05-11 09:42:34,778]\u001b[0m Trial 55 finished with value: 1.0573871499668395 and parameters: {'lambda_l1': 0.4276854631416856, 'lambda_l2': 0.0031813576278241188}. Best is trial 49 with value: 1.056788071924769.\u001b[0m\n",
      "regularization_factors, val_score: 1.056788:  80%|########  | 16/20 [00:02<00:00,  7.30it/s]"
     ]
    },
    {
     "name": "stdout",
     "output_type": "stream",
     "text": [
      "[200]\tvalid_0's multi_logloss: 1.05966\n",
      "Early stopping, best iteration is:\n",
      "[136]\tvalid_0's multi_logloss: 1.05731\n",
      "Training until validation scores don't improve for 100 rounds\n",
      "[200]\tvalid_0's multi_logloss: 1.05931\n",
      "Early stopping, best iteration is:\n",
      "[136]\tvalid_0's multi_logloss: 1.05739\n",
      "Training until validation scores don't improve for 100 rounds\n"
     ]
    },
    {
     "name": "stderr",
     "output_type": "stream",
     "text": [
      "regularization_factors, val_score: 1.056770:  85%|########5 | 17/20 [00:02<00:00,  7.28it/s]\u001b[32m[I 2021-05-11 09:42:34,916]\u001b[0m Trial 56 finished with value: 1.0567698186725019 and parameters: {'lambda_l1': 2.763701618387165, 'lambda_l2': 1.0175820814476485e-08}. Best is trial 56 with value: 1.0567698186725019.\u001b[0m\n",
      "regularization_factors, val_score: 1.056770:  90%|######### | 18/20 [00:02<00:00,  7.41it/s]\u001b[32m[I 2021-05-11 09:42:35,046]\u001b[0m Trial 57 finished with value: 1.0574358769917345 and parameters: {'lambda_l1': 1.790621818370839e-07, 'lambda_l2': 0.009767557184957611}. Best is trial 56 with value: 1.0567698186725019.\u001b[0m\n",
      "regularization_factors, val_score: 1.056770:  90%|######### | 18/20 [00:02<00:00,  7.41it/s]"
     ]
    },
    {
     "name": "stdout",
     "output_type": "stream",
     "text": [
      "[200]\tvalid_0's multi_logloss: 1.05836\n",
      "Early stopping, best iteration is:\n",
      "[136]\tvalid_0's multi_logloss: 1.05677\n",
      "Training until validation scores don't improve for 100 rounds\n",
      "[200]\tvalid_0's multi_logloss: 1.05952\n",
      "Early stopping, best iteration is:\n",
      "[136]\tvalid_0's multi_logloss: 1.05744\n",
      "Training until validation scores don't improve for 100 rounds\n"
     ]
    },
    {
     "name": "stderr",
     "output_type": "stream",
     "text": [
      "regularization_factors, val_score: 1.056770:  95%|#########5| 19/20 [00:02<00:00,  7.18it/s]\u001b[32m[I 2021-05-11 09:42:35,195]\u001b[0m Trial 58 finished with value: 1.0579094789273855 and parameters: {'lambda_l1': 0.04040279953131286, 'lambda_l2': 1.4451958152494125e-08}. Best is trial 56 with value: 1.0567698186725019.\u001b[0m\n",
      "regularization_factors, val_score: 1.056770: 100%|##########| 20/20 [00:02<00:00,  7.42it/s]\u001b[32m[I 2021-05-11 09:42:35,320]\u001b[0m Trial 59 finished with value: 1.0569393776013916 and parameters: {'lambda_l1': 1.2162431861791405, 'lambda_l2': 9.480115612383006}. Best is trial 56 with value: 1.0567698186725019.\u001b[0m\n",
      "regularization_factors, val_score: 1.056770: 100%|##########| 20/20 [00:02<00:00,  7.29it/s]\n",
      "min_data_in_leaf, val_score: 1.056770:   0%|          | 0/5 [00:00<?, ?it/s]"
     ]
    },
    {
     "name": "stdout",
     "output_type": "stream",
     "text": [
      "[200]\tvalid_0's multi_logloss: 1.05983\n",
      "Early stopping, best iteration is:\n",
      "[136]\tvalid_0's multi_logloss: 1.05791\n",
      "Training until validation scores don't improve for 100 rounds\n",
      "[200]\tvalid_0's multi_logloss: 1.05853\n",
      "Early stopping, best iteration is:\n",
      "[136]\tvalid_0's multi_logloss: 1.05694\n",
      "Training until validation scores don't improve for 100 rounds\n"
     ]
    },
    {
     "name": "stderr",
     "output_type": "stream",
     "text": [
      "min_data_in_leaf, val_score: 1.056770:  20%|##        | 1/5 [00:00<00:00,  7.12it/s]\u001b[32m[I 2021-05-11 09:42:35,465]\u001b[0m Trial 60 finished with value: 1.0567698186725019 and parameters: {'min_child_samples': 10}. Best is trial 60 with value: 1.0567698186725019.\u001b[0m\n",
      "min_data_in_leaf, val_score: 1.056770:  40%|####      | 2/5 [00:00<00:00,  7.41it/s]\u001b[32m[I 2021-05-11 09:42:35,596]\u001b[0m Trial 61 finished with value: 1.057024465417109 and parameters: {'min_child_samples': 50}. Best is trial 60 with value: 1.0567698186725019.\u001b[0m\n",
      "min_data_in_leaf, val_score: 1.056770:  40%|####      | 2/5 [00:00<00:00,  7.41it/s]"
     ]
    },
    {
     "name": "stdout",
     "output_type": "stream",
     "text": [
      "[200]\tvalid_0's multi_logloss: 1.05836\n",
      "Early stopping, best iteration is:\n",
      "[136]\tvalid_0's multi_logloss: 1.05677\n",
      "Training until validation scores don't improve for 100 rounds\n",
      "[200]\tvalid_0's multi_logloss: 1.05882\n",
      "Early stopping, best iteration is:\n",
      "[136]\tvalid_0's multi_logloss: 1.05702\n",
      "Training until validation scores don't improve for 100 rounds\n"
     ]
    },
    {
     "name": "stderr",
     "output_type": "stream",
     "text": [
      "min_data_in_leaf, val_score: 1.056770:  60%|######    | 3/5 [00:00<00:00,  7.17it/s]\u001b[32m[I 2021-05-11 09:42:35,741]\u001b[0m Trial 62 finished with value: 1.057640525926855 and parameters: {'min_child_samples': 100}. Best is trial 60 with value: 1.0567698186725019.\u001b[0m\n",
      "min_data_in_leaf, val_score: 1.056770:  80%|########  | 4/5 [00:00<00:00,  7.36it/s]\u001b[32m[I 2021-05-11 09:42:35,871]\u001b[0m Trial 63 finished with value: 1.0567698186725019 and parameters: {'min_child_samples': 5}. Best is trial 60 with value: 1.0567698186725019.\u001b[0m\n",
      "min_data_in_leaf, val_score: 1.056770:  80%|########  | 4/5 [00:00<00:00,  7.36it/s]"
     ]
    },
    {
     "name": "stdout",
     "output_type": "stream",
     "text": [
      "[200]\tvalid_0's multi_logloss: 1.05891\n",
      "Early stopping, best iteration is:\n",
      "[136]\tvalid_0's multi_logloss: 1.05764\n",
      "Training until validation scores don't improve for 100 rounds\n",
      "[200]\tvalid_0's multi_logloss: 1.05836\n",
      "Early stopping, best iteration is:\n",
      "[136]\tvalid_0's multi_logloss: 1.05677\n",
      "Training until validation scores don't improve for 100 rounds\n"
     ]
    },
    {
     "name": "stderr",
     "output_type": "stream",
     "text": [
      "min_data_in_leaf, val_score: 1.056770: 100%|##########| 5/5 [00:00<00:00,  7.30it/s]\u001b[32m[I 2021-05-11 09:42:36,010]\u001b[0m Trial 64 finished with value: 1.0568515619044758 and parameters: {'min_child_samples': 25}. Best is trial 60 with value: 1.0567698186725019.\u001b[0m\n",
      "min_data_in_leaf, val_score: 1.056770: 100%|##########| 5/5 [00:00<00:00,  7.26it/s]\n",
      "\u001b[32m[I 2021-05-11 09:42:36,036]\u001b[0m A new study created in memory with name: no-name-edcede96-1dbf-4413-b90c-2839510b0279\u001b[0m\n",
      "feature_fraction, val_score: 1.564820:  14%|#4        | 1/7 [00:00<00:00,  9.59it/s]\u001b[32m[I 2021-05-11 09:42:36,144]\u001b[0m Trial 0 finished with value: 1.5648197139895428 and parameters: {'feature_fraction': 0.4}. Best is trial 0 with value: 1.5648197139895428.\u001b[0m\n",
      "feature_fraction, val_score: 1.564820:  14%|#4        | 1/7 [00:00<00:00,  9.59it/s]"
     ]
    },
    {
     "name": "stdout",
     "output_type": "stream",
     "text": [
      "[200]\tvalid_0's multi_logloss: 1.05808\n",
      "Early stopping, best iteration is:\n",
      "[136]\tvalid_0's multi_logloss: 1.05685\n",
      "accuracy: 0.4739583333333333\n",
      "Training until validation scores don't improve for 100 rounds\n",
      "Early stopping, best iteration is:\n",
      "[17]\tvalid_0's rmse: 1.56482\n",
      "Training until validation scores don't improve for 100 rounds\n"
     ]
    },
    {
     "name": "stderr",
     "output_type": "stream",
     "text": [
      "feature_fraction, val_score: 1.564820:  29%|##8       | 2/7 [00:00<00:00,  9.39it/s]\u001b[32m[I 2021-05-11 09:42:36,252]\u001b[0m Trial 1 finished with value: 1.5676687466336094 and parameters: {'feature_fraction': 0.5}. Best is trial 0 with value: 1.5648197139895428.\u001b[0m\n",
      "feature_fraction, val_score: 1.564433:  43%|####2     | 3/7 [00:00<00:00,  9.62it/s]\u001b[32m[I 2021-05-11 09:42:36,353]\u001b[0m Trial 2 finished with value: 1.5644327306889103 and parameters: {'feature_fraction': 0.7}. Best is trial 2 with value: 1.5644327306889103.\u001b[0m\n",
      "feature_fraction, val_score: 1.564433:  43%|####2     | 3/7 [00:00<00:00,  9.62it/s]"
     ]
    },
    {
     "name": "stdout",
     "output_type": "stream",
     "text": [
      "Early stopping, best iteration is:\n",
      "[15]\tvalid_0's rmse: 1.56767\n",
      "Training until validation scores don't improve for 100 rounds\n",
      "Early stopping, best iteration is:\n",
      "[14]\tvalid_0's rmse: 1.56443\n",
      "Training until validation scores don't improve for 100 rounds\n",
      "Early stopping, best iteration is:\n",
      "[18]\tvalid_0's rmse: 1.568\n"
     ]
    },
    {
     "name": "stderr",
     "output_type": "stream",
     "text": [
      "feature_fraction, val_score: 1.564433:  43%|####2     | 3/7 [00:00<00:00,  9.62it/s]\u001b[32m[I 2021-05-11 09:42:36,451]\u001b[0m Trial 3 finished with value: 1.5679958751406327 and parameters: {'feature_fraction': 0.6}. Best is trial 2 with value: 1.5644327306889103.\u001b[0m\n",
      "feature_fraction, val_score: 1.564433:  71%|#######1  | 5/7 [00:00<00:00,  9.71it/s]\u001b[32m[I 2021-05-11 09:42:36,558]\u001b[0m Trial 4 finished with value: 1.5724031667368643 and parameters: {'feature_fraction': 0.8999999999999999}. Best is trial 2 with value: 1.5644327306889103.\u001b[0m\n",
      "feature_fraction, val_score: 1.564433:  71%|#######1  | 5/7 [00:00<00:00,  9.71it/s]\u001b[32m[I 2021-05-11 09:42:36,654]\u001b[0m Trial 5 finished with value: 1.5740046717693914 and parameters: {'feature_fraction': 0.8}. Best is trial 2 with value: 1.5644327306889103.\u001b[0m\n",
      "feature_fraction, val_score: 1.564433:  86%|########5 | 6/7 [00:00<00:00,  9.71it/s]"
     ]
    },
    {
     "name": "stdout",
     "output_type": "stream",
     "text": [
      "Training until validation scores don't improve for 100 rounds\n",
      "Early stopping, best iteration is:\n",
      "[15]\tvalid_0's rmse: 1.5724\n",
      "Training until validation scores don't improve for 100 rounds\n",
      "Early stopping, best iteration is:\n",
      "[12]\tvalid_0's rmse: 1.574\n",
      "Training until validation scores don't improve for 100 rounds\n"
     ]
    },
    {
     "name": "stderr",
     "output_type": "stream",
     "text": [
      "feature_fraction, val_score: 1.564433: 100%|##########| 7/7 [00:00<00:00,  9.37it/s]\u001b[32m[I 2021-05-11 09:42:36,780]\u001b[0m Trial 6 finished with value: 1.5696967820635996 and parameters: {'feature_fraction': 1.0}. Best is trial 2 with value: 1.5644327306889103.\u001b[0m\n",
      "feature_fraction, val_score: 1.564433: 100%|##########| 7/7 [00:00<00:00,  9.43it/s]\n",
      "num_leaves, val_score: 1.564433:   0%|          | 0/20 [00:00<?, ?it/s]"
     ]
    },
    {
     "name": "stdout",
     "output_type": "stream",
     "text": [
      "Early stopping, best iteration is:\n",
      "[19]\tvalid_0's rmse: 1.5697\n",
      "Training until validation scores don't improve for 100 rounds\n"
     ]
    },
    {
     "name": "stderr",
     "output_type": "stream",
     "text": [
      "num_leaves, val_score: 1.564433:   5%|5         | 1/20 [00:00<00:07,  2.65it/s]\u001b[32m[I 2021-05-11 09:42:37,161]\u001b[0m Trial 7 finished with value: 1.577505394570016 and parameters: {'num_leaves': 198}. Best is trial 7 with value: 1.577505394570016.\u001b[0m\n",
      "num_leaves, val_score: 1.564433:  10%|#         | 2/20 [00:00<00:04,  4.34it/s]\u001b[32m[I 2021-05-11 09:42:37,289]\u001b[0m Trial 8 finished with value: 1.5657590309188143 and parameters: {'num_leaves': 40}. Best is trial 8 with value: 1.5657590309188143.\u001b[0m\n",
      "num_leaves, val_score: 1.564433:  10%|#         | 2/20 [00:00<00:04,  4.34it/s]"
     ]
    },
    {
     "name": "stdout",
     "output_type": "stream",
     "text": [
      "Early stopping, best iteration is:\n",
      "[8]\tvalid_0's rmse: 1.57751\n",
      "Training until validation scores don't improve for 100 rounds\n",
      "Early stopping, best iteration is:\n",
      "[16]\tvalid_0's rmse: 1.56576\n",
      "Training until validation scores don't improve for 100 rounds\n"
     ]
    },
    {
     "name": "stderr",
     "output_type": "stream",
     "text": [
      "num_leaves, val_score: 1.564433:  15%|#5        | 3/20 [00:00<00:04,  3.55it/s]\u001b[32m[I 2021-05-11 09:42:37,631]\u001b[0m Trial 9 finished with value: 1.5711134594390364 and parameters: {'num_leaves': 163}. Best is trial 8 with value: 1.5657590309188143.\u001b[0m\n",
      "num_leaves, val_score: 1.564433:  15%|#5        | 3/20 [00:00<00:04,  3.55it/s]"
     ]
    },
    {
     "name": "stdout",
     "output_type": "stream",
     "text": [
      "Early stopping, best iteration is:\n",
      "[8]\tvalid_0's rmse: 1.57111\n",
      "Training until validation scores don't improve for 100 rounds\n"
     ]
    },
    {
     "name": "stderr",
     "output_type": "stream",
     "text": [
      "num_leaves, val_score: 1.564433:  20%|##        | 4/20 [00:01<00:04,  3.82it/s]\u001b[32m[I 2021-05-11 09:42:37,863]\u001b[0m Trial 10 finished with value: 1.5707024346307212 and parameters: {'num_leaves': 100}. Best is trial 8 with value: 1.5657590309188143.\u001b[0m\n",
      "num_leaves, val_score: 1.564433:  20%|##        | 4/20 [00:01<00:04,  3.82it/s]"
     ]
    },
    {
     "name": "stdout",
     "output_type": "stream",
     "text": [
      "Early stopping, best iteration is:\n",
      "[13]\tvalid_0's rmse: 1.5707\n",
      "Training until validation scores don't improve for 100 rounds\n"
     ]
    },
    {
     "name": "stderr",
     "output_type": "stream",
     "text": [
      "num_leaves, val_score: 1.564433:  25%|##5       | 5/20 [00:01<00:04,  3.73it/s]\u001b[32m[I 2021-05-11 09:42:38,143]\u001b[0m Trial 11 finished with value: 1.5694780901021506 and parameters: {'num_leaves': 128}. Best is trial 8 with value: 1.5657590309188143.\u001b[0m\n",
      "num_leaves, val_score: 1.564433:  25%|##5       | 5/20 [00:01<00:04,  3.73it/s]"
     ]
    },
    {
     "name": "stdout",
     "output_type": "stream",
     "text": [
      "Early stopping, best iteration is:\n",
      "[14]\tvalid_0's rmse: 1.56948\n",
      "Training until validation scores don't improve for 100 rounds\n"
     ]
    },
    {
     "name": "stderr",
     "output_type": "stream",
     "text": [
      "num_leaves, val_score: 1.564433:  30%|###       | 6/20 [00:01<00:03,  3.78it/s]\u001b[32m[I 2021-05-11 09:42:38,399]\u001b[0m Trial 12 finished with value: 1.5735939916446267 and parameters: {'num_leaves': 111}. Best is trial 8 with value: 1.5657590309188143.\u001b[0m\n",
      "num_leaves, val_score: 1.564433:  30%|###       | 6/20 [00:01<00:03,  3.78it/s]"
     ]
    },
    {
     "name": "stdout",
     "output_type": "stream",
     "text": [
      "Early stopping, best iteration is:\n",
      "[12]\tvalid_0's rmse: 1.57359\n",
      "Training until validation scores don't improve for 100 rounds\n"
     ]
    },
    {
     "name": "stderr",
     "output_type": "stream",
     "text": [
      "num_leaves, val_score: 1.564433:  35%|###5      | 7/20 [00:02<00:04,  3.20it/s]\u001b[32m[I 2021-05-11 09:42:38,811]\u001b[0m Trial 13 finished with value: 1.5755299667008749 and parameters: {'num_leaves': 245}. Best is trial 8 with value: 1.5657590309188143.\u001b[0m\n",
      "num_leaves, val_score: 1.564433:  35%|###5      | 7/20 [00:02<00:04,  3.20it/s]"
     ]
    },
    {
     "name": "stdout",
     "output_type": "stream",
     "text": [
      "Early stopping, best iteration is:\n",
      "[8]\tvalid_0's rmse: 1.57553\n",
      "Training until validation scores don't improve for 100 rounds\n"
     ]
    },
    {
     "name": "stderr",
     "output_type": "stream",
     "text": [
      "num_leaves, val_score: 1.564433:  40%|####      | 8/20 [00:02<00:04,  2.87it/s]\u001b[32m[I 2021-05-11 09:42:39,236]\u001b[0m Trial 14 finished with value: 1.5755299667008749 and parameters: {'num_leaves': 239}. Best is trial 8 with value: 1.5657590309188143.\u001b[0m\n",
      "num_leaves, val_score: 1.564433:  45%|####5     | 9/20 [00:02<00:03,  3.40it/s]\u001b[32m[I 2021-05-11 09:42:39,410]\u001b[0m Trial 15 finished with value: 1.5763234261275307 and parameters: {'num_leaves': 67}. Best is trial 8 with value: 1.5657590309188143.\u001b[0m\n",
      "num_leaves, val_score: 1.564433:  45%|####5     | 9/20 [00:02<00:03,  3.40it/s]"
     ]
    },
    {
     "name": "stdout",
     "output_type": "stream",
     "text": [
      "Early stopping, best iteration is:\n",
      "[8]\tvalid_0's rmse: 1.57553\n",
      "Training until validation scores don't improve for 100 rounds\n",
      "Early stopping, best iteration is:\n",
      "[16]\tvalid_0's rmse: 1.57632\n",
      "Training until validation scores don't improve for 100 rounds\n"
     ]
    },
    {
     "name": "stderr",
     "output_type": "stream",
     "text": [
      "num_leaves, val_score: 1.564433:  50%|#####     | 10/20 [00:02<00:03,  3.14it/s]\u001b[32m[I 2021-05-11 09:42:39,782]\u001b[0m Trial 16 finished with value: 1.5740973260633078 and parameters: {'num_leaves': 193}. Best is trial 8 with value: 1.5657590309188143.\u001b[0m\n",
      "num_leaves, val_score: 1.564433:  50%|#####     | 10/20 [00:03<00:03,  3.14it/s]\u001b[32m[I 2021-05-11 09:42:39,847]\u001b[0m Trial 17 finished with value: 1.5649809692997492 and parameters: {'num_leaves': 11}. Best is trial 17 with value: 1.5649809692997492.\u001b[0m\n",
      "num_leaves, val_score: 1.558207:  60%|######    | 12/20 [00:03<00:01,  5.07it/s]\u001b[32m[I 2021-05-11 09:42:39,902]\u001b[0m Trial 18 finished with value: 1.5582073067642819 and parameters: {'num_leaves': 5}. Best is trial 18 with value: 1.5582073067642819.\u001b[0m\n",
      "num_leaves, val_score: 1.557416:  60%|######    | 12/20 [00:03<00:01,  5.07it/s]\u001b[32m[I 2021-05-11 09:42:39,953]\u001b[0m Trial 19 finished with value: 1.5574156545946214 and parameters: {'num_leaves': 2}. Best is trial 19 with value: 1.5574156545946214.\u001b[0m\n",
      "num_leaves, val_score: 1.557416:  65%|######5   | 13/20 [00:03<00:01,  5.07it/s]"
     ]
    },
    {
     "name": "stdout",
     "output_type": "stream",
     "text": [
      "Early stopping, best iteration is:\n",
      "[7]\tvalid_0's rmse: 1.5741\n",
      "Training until validation scores don't improve for 100 rounds\n",
      "Early stopping, best iteration is:\n",
      "[20]\tvalid_0's rmse: 1.56498\n",
      "Training until validation scores don't improve for 100 rounds\n",
      "Early stopping, best iteration is:\n",
      "[37]\tvalid_0's rmse: 1.55821\n",
      "Training until validation scores don't improve for 100 rounds\n",
      "[200]\tvalid_0's rmse: 1.5599\n",
      "Early stopping, best iteration is:\n",
      "[123]\tvalid_0's rmse: 1.55742\n",
      "Training until validation scores don't improve for 100 rounds\n"
     ]
    },
    {
     "name": "stderr",
     "output_type": "stream",
     "text": [
      "num_leaves, val_score: 1.557416:  70%|#######   | 14/20 [00:03<00:00,  6.97it/s]\u001b[32m[I 2021-05-11 09:42:40,029]\u001b[0m Trial 20 finished with value: 1.5619441709604784 and parameters: {'num_leaves': 10}. Best is trial 19 with value: 1.5574156545946214.\u001b[0m\n",
      "num_leaves, val_score: 1.557416:  70%|#######   | 14/20 [00:03<00:00,  6.97it/s]\u001b[32m[I 2021-05-11 09:42:40,086]\u001b[0m Trial 21 finished with value: 1.5574156545946214 and parameters: {'num_leaves': 2}. Best is trial 19 with value: 1.5574156545946214.\u001b[0m\n",
      "num_leaves, val_score: 1.557416:  75%|#######5  | 15/20 [00:03<00:00,  6.97it/s]"
     ]
    },
    {
     "name": "stdout",
     "output_type": "stream",
     "text": [
      "Early stopping, best iteration is:\n",
      "[36]\tvalid_0's rmse: 1.56194\n",
      "Training until validation scores don't improve for 100 rounds\n",
      "[200]\tvalid_0's rmse: 1.5599\n",
      "Early stopping, best iteration is:\n",
      "[123]\tvalid_0's rmse: 1.55742\n",
      "Training until validation scores don't improve for 100 rounds\n"
     ]
    },
    {
     "name": "stderr",
     "output_type": "stream",
     "text": [
      "num_leaves, val_score: 1.557416:  80%|########  | 16/20 [00:03<00:00,  7.60it/s]\u001b[32m[I 2021-05-11 09:42:40,251]\u001b[0m Trial 22 finished with value: 1.5714118116048246 and parameters: {'num_leaves': 56}. Best is trial 19 with value: 1.5574156545946214.\u001b[0m\n",
      "num_leaves, val_score: 1.557416:  85%|########5 | 17/20 [00:03<00:00,  7.96it/s]\u001b[32m[I 2021-05-11 09:42:40,353]\u001b[0m Trial 23 finished with value: 1.5663249754372086 and parameters: {'num_leaves': 30}. Best is trial 19 with value: 1.5574156545946214.\u001b[0m\n",
      "num_leaves, val_score: 1.557416:  85%|########5 | 17/20 [00:03<00:00,  7.96it/s]"
     ]
    },
    {
     "name": "stdout",
     "output_type": "stream",
     "text": [
      "Early stopping, best iteration is:\n",
      "[18]\tvalid_0's rmse: 1.57141\n",
      "Training until validation scores don't improve for 100 rounds\n",
      "Early stopping, best iteration is:\n",
      "[16]\tvalid_0's rmse: 1.56632\n",
      "Training until validation scores don't improve for 100 rounds\n"
     ]
    },
    {
     "name": "stderr",
     "output_type": "stream",
     "text": [
      "num_leaves, val_score: 1.557416:  90%|######### | 18/20 [00:03<00:00,  7.05it/s]\u001b[32m[I 2021-05-11 09:42:40,550]\u001b[0m Trial 24 finished with value: 1.573604290674928 and parameters: {'num_leaves': 80}. Best is trial 19 with value: 1.5574156545946214.\u001b[0m\n",
      "num_leaves, val_score: 1.557416:  90%|######### | 18/20 [00:03<00:00,  7.05it/s]\u001b[32m[I 2021-05-11 09:42:40,603]\u001b[0m Trial 25 finished with value: 1.5574156545946214 and parameters: {'num_leaves': 2}. Best is trial 19 with value: 1.5574156545946214.\u001b[0m\n",
      "num_leaves, val_score: 1.557416: 100%|##########| 20/20 [00:03<00:00,  8.60it/s]\u001b[32m[I 2021-05-11 09:42:40,704]\u001b[0m Trial 26 finished with value: 1.5685739825041498 and parameters: {'num_leaves': 33}. Best is trial 19 with value: 1.5574156545946214.\u001b[0m\n",
      "num_leaves, val_score: 1.557416: 100%|##########| 20/20 [00:03<00:00,  5.10it/s]\n",
      "bagging, val_score: 1.557416:   0%|          | 0/10 [00:00<?, ?it/s]"
     ]
    },
    {
     "name": "stdout",
     "output_type": "stream",
     "text": [
      "Early stopping, best iteration is:\n",
      "[14]\tvalid_0's rmse: 1.5736\n",
      "Training until validation scores don't improve for 100 rounds\n",
      "[200]\tvalid_0's rmse: 1.5599\n",
      "Early stopping, best iteration is:\n",
      "[123]\tvalid_0's rmse: 1.55742\n",
      "Training until validation scores don't improve for 100 rounds\n",
      "Early stopping, best iteration is:\n",
      "[14]\tvalid_0's rmse: 1.56857\n",
      "Training until validation scores don't improve for 100 rounds\n"
     ]
    },
    {
     "name": "stderr",
     "output_type": "stream",
     "text": [
      "bagging, val_score: 1.557416:   0%|          | 0/10 [00:00<?, ?it/s]\u001b[32m[I 2021-05-11 09:42:40,761]\u001b[0m Trial 27 finished with value: 1.5577059789255778 and parameters: {'bagging_fraction': 0.7936908871929145, 'bagging_freq': 3}. Best is trial 27 with value: 1.5577059789255778.\u001b[0m\n",
      "bagging, val_score: 1.556267:  20%|##        | 2/10 [00:00<00:00, 19.73it/s]\u001b[32m[I 2021-05-11 09:42:40,810]\u001b[0m Trial 28 finished with value: 1.5562668917840776 and parameters: {'bagging_fraction': 0.4193297874406818, 'bagging_freq': 5}. Best is trial 28 with value: 1.5562668917840776.\u001b[0m\n",
      "bagging, val_score: 1.556267:  20%|##        | 2/10 [00:00<00:00, 19.73it/s]\u001b[32m[I 2021-05-11 09:42:40,857]\u001b[0m Trial 29 finished with value: 1.5591037332823043 and parameters: {'bagging_fraction': 0.5397568163362093, 'bagging_freq': 1}. Best is trial 28 with value: 1.5562668917840776.\u001b[0m\n",
      "bagging, val_score: 1.556267:  30%|###       | 3/10 [00:00<00:00, 19.73it/s]\u001b[32m[I 2021-05-11 09:42:40,903]\u001b[0m Trial 30 finished with value: 1.557197674729608 and parameters: {'bagging_fraction': 0.6845352794610147, 'bagging_freq': 3}. Best is trial 28 with value: 1.5562668917840776.\u001b[0m\n",
      "bagging, val_score: 1.556267:  50%|#####     | 5/10 [00:00<00:00, 20.54it/s]\u001b[32m[I 2021-05-11 09:42:40,953]\u001b[0m Trial 31 finished with value: 1.558920565793562 and parameters: {'bagging_fraction': 0.7721237639244182, 'bagging_freq': 2}. Best is trial 28 with value: 1.5562668917840776.\u001b[0m\n",
      "bagging, val_score: 1.556267:  50%|#####     | 5/10 [00:00<00:00, 20.54it/s]"
     ]
    },
    {
     "name": "stdout",
     "output_type": "stream",
     "text": [
      "Early stopping, best iteration is:\n",
      "[93]\tvalid_0's rmse: 1.55771\n",
      "Training until validation scores don't improve for 100 rounds\n",
      "[200]\tvalid_0's rmse: 1.5578\n",
      "Early stopping, best iteration is:\n",
      "[155]\tvalid_0's rmse: 1.55627\n",
      "Training until validation scores don't improve for 100 rounds\n",
      "Early stopping, best iteration is:\n",
      "[96]\tvalid_0's rmse: 1.5591\n",
      "Training until validation scores don't improve for 100 rounds\n",
      "Early stopping, best iteration is:\n",
      "[89]\tvalid_0's rmse: 1.5572\n",
      "Training until validation scores don't improve for 100 rounds\n",
      "Early stopping, best iteration is:\n",
      "[83]\tvalid_0's rmse: 1.55892\n"
     ]
    },
    {
     "name": "stderr",
     "output_type": "stream",
     "text": [
      "bagging, val_score: 1.556137:  50%|#####     | 5/10 [00:00<00:00, 20.54it/s]\u001b[32m[I 2021-05-11 09:42:41,001]\u001b[0m Trial 32 finished with value: 1.5561367665469548 and parameters: {'bagging_fraction': 0.6809664303134613, 'bagging_freq': 3}. Best is trial 32 with value: 1.5561367665469548.\u001b[0m\n",
      "bagging, val_score: 1.556137:  60%|######    | 6/10 [00:00<00:00, 20.54it/s]\u001b[32m[I 2021-05-11 09:42:41,056]\u001b[0m Trial 33 finished with value: 1.5580958811970584 and parameters: {'bagging_fraction': 0.7471106689688991, 'bagging_freq': 2}. Best is trial 32 with value: 1.5561367665469548.\u001b[0m\n",
      "bagging, val_score: 1.556137:  80%|########  | 8/10 [00:00<00:00, 20.44it/s]\u001b[32m[I 2021-05-11 09:42:41,101]\u001b[0m Trial 34 finished with value: 1.5568175750355648 and parameters: {'bagging_fraction': 0.47821133690992124, 'bagging_freq': 6}. Best is trial 32 with value: 1.5561367665469548.\u001b[0m\n",
      "bagging, val_score: 1.556137:  80%|########  | 8/10 [00:00<00:00, 20.44it/s]\u001b[32m[I 2021-05-11 09:42:41,157]\u001b[0m Trial 35 finished with value: 1.55769015381475 and parameters: {'bagging_fraction': 0.8823648398763925, 'bagging_freq': 2}. Best is trial 32 with value: 1.5561367665469548.\u001b[0m\n",
      "bagging, val_score: 1.556137:  90%|######### | 9/10 [00:00<00:00, 20.44it/s]"
     ]
    },
    {
     "name": "stdout",
     "output_type": "stream",
     "text": [
      "Training until validation scores don't improve for 100 rounds\n",
      "Early stopping, best iteration is:\n",
      "[89]\tvalid_0's rmse: 1.55614\n",
      "Training until validation scores don't improve for 100 rounds\n",
      "[200]\tvalid_0's rmse: 1.56196\n",
      "Early stopping, best iteration is:\n",
      "[100]\tvalid_0's rmse: 1.5581\n",
      "Training until validation scores don't improve for 100 rounds\n",
      "Early stopping, best iteration is:\n",
      "[81]\tvalid_0's rmse: 1.55682\n",
      "Training until validation scores don't improve for 100 rounds\n",
      "[200]\tvalid_0's rmse: 1.55987\n",
      "Early stopping, best iteration is:\n",
      "[100]\tvalid_0's rmse: 1.55769\n"
     ]
    },
    {
     "name": "stderr",
     "output_type": "stream",
     "text": [
      "bagging, val_score: 1.556137:  90%|######### | 9/10 [00:00<00:00, 20.44it/s]\u001b[32m[I 2021-05-11 09:42:41,229]\u001b[0m Trial 36 finished with value: 1.5576015729300838 and parameters: {'bagging_fraction': 0.5518354272984403, 'bagging_freq': 6}. Best is trial 32 with value: 1.5561367665469548.\u001b[0m\n",
      "bagging, val_score: 1.556137: 100%|##########| 10/10 [00:00<00:00, 19.14it/s]\n",
      "feature_fraction_stage2, val_score: 1.556137:   0%|          | 0/6 [00:00<?, ?it/s]\u001b[32m[I 2021-05-11 09:42:41,277]\u001b[0m Trial 37 finished with value: 1.5565010252446925 and parameters: {'feature_fraction': 0.652}. Best is trial 37 with value: 1.5565010252446925.\u001b[0m\n",
      "feature_fraction_stage2, val_score: 1.555550:  33%|###3      | 2/6 [00:00<00:00, 19.86it/s]\u001b[32m[I 2021-05-11 09:42:41,333]\u001b[0m Trial 38 finished with value: 1.5555500062509184 and parameters: {'feature_fraction': 0.716}. Best is trial 38 with value: 1.5555500062509184.\u001b[0m\n",
      "feature_fraction_stage2, val_score: 1.555550:  33%|###3      | 2/6 [00:00<00:00, 19.86it/s]"
     ]
    },
    {
     "name": "stdout",
     "output_type": "stream",
     "text": [
      "Training until validation scores don't improve for 100 rounds\n",
      "Early stopping, best iteration is:\n",
      "[72]\tvalid_0's rmse: 1.5576\n",
      "Training until validation scores don't improve for 100 rounds\n",
      "Early stopping, best iteration is:\n",
      "[89]\tvalid_0's rmse: 1.5565\n",
      "Training until validation scores don't improve for 100 rounds\n",
      "Early stopping, best iteration is:\n",
      "[89]\tvalid_0's rmse: 1.55555\n",
      "Training until validation scores don't improve for 100 rounds\n",
      "Early stopping, best iteration is:\n",
      "[89]\tvalid_0's rmse: 1.55614\n"
     ]
    },
    {
     "name": "stderr",
     "output_type": "stream",
     "text": [
      "feature_fraction_stage2, val_score: 1.555550:  33%|###3      | 2/6 [00:00<00:00, 19.86it/s]\u001b[32m[I 2021-05-11 09:42:41,385]\u001b[0m Trial 39 finished with value: 1.5561367665469548 and parameters: {'feature_fraction': 0.6839999999999999}. Best is trial 38 with value: 1.5555500062509184.\u001b[0m\n",
      "feature_fraction_stage2, val_score: 1.555550:  67%|######6   | 4/6 [00:00<00:00, 19.10it/s]\u001b[32m[I 2021-05-11 09:42:41,441]\u001b[0m Trial 40 finished with value: 1.5564337454311112 and parameters: {'feature_fraction': 0.7799999999999999}. Best is trial 38 with value: 1.5555500062509184.\u001b[0m\n",
      "feature_fraction_stage2, val_score: 1.555550:  67%|######6   | 4/6 [00:00<00:00, 19.10it/s]\u001b[32m[I 2021-05-11 09:42:41,487]\u001b[0m Trial 41 finished with value: 1.555729190288076 and parameters: {'feature_fraction': 0.748}. Best is trial 38 with value: 1.5555500062509184.\u001b[0m\n",
      "feature_fraction_stage2, val_score: 1.555550: 100%|##########| 6/6 [00:00<00:00, 19.43it/s]\u001b[32m[I 2021-05-11 09:42:41,542]\u001b[0m Trial 42 finished with value: 1.5566914259193176 and parameters: {'feature_fraction': 0.62}. Best is trial 38 with value: 1.5555500062509184.\u001b[0m\n",
      "feature_fraction_stage2, val_score: 1.555550: 100%|##########| 6/6 [00:00<00:00, 19.26it/s]\n",
      "regularization_factors, val_score: 1.554905:   0%|          | 0/20 [00:00<?, ?it/s]\u001b[32m[I 2021-05-11 09:42:41,600]\u001b[0m Trial 43 finished with value: 1.554905271027276 and parameters: {'lambda_l1': 0.07246202926863657, 'lambda_l2': 5.961678896978399e-07}. Best is trial 43 with value: 1.554905271027276.\u001b[0m\n",
      "regularization_factors, val_score: 1.554905:   5%|5         | 1/20 [00:00<00:01, 18.27it/s]"
     ]
    },
    {
     "name": "stdout",
     "output_type": "stream",
     "text": [
      "Training until validation scores don't improve for 100 rounds\n",
      "Early stopping, best iteration is:\n",
      "[89]\tvalid_0's rmse: 1.55643\n",
      "Training until validation scores don't improve for 100 rounds\n",
      "Early stopping, best iteration is:\n",
      "[89]\tvalid_0's rmse: 1.55573\n",
      "Training until validation scores don't improve for 100 rounds\n",
      "Early stopping, best iteration is:\n",
      "[89]\tvalid_0's rmse: 1.55669\n",
      "Training until validation scores don't improve for 100 rounds\n",
      "Early stopping, best iteration is:\n",
      "[89]\tvalid_0's rmse: 1.55491\n"
     ]
    },
    {
     "name": "stderr",
     "output_type": "stream",
     "text": [
      "regularization_factors, val_score: 1.554905:  10%|#         | 2/20 [00:00<00:00, 19.03it/s]\u001b[32m[I 2021-05-11 09:42:41,652]\u001b[0m Trial 44 finished with value: 1.5550827825036526 and parameters: {'lambda_l1': 1.13328111245037e-07, 'lambda_l2': 0.4811925106974179}. Best is trial 43 with value: 1.554905271027276.\u001b[0m\n",
      "regularization_factors, val_score: 1.554905:  10%|#         | 2/20 [00:00<00:00, 19.03it/s]\u001b[32m[I 2021-05-11 09:42:41,702]\u001b[0m Trial 45 finished with value: 1.555550469568057 and parameters: {'lambda_l1': 0.031813478724077734, 'lambda_l2': 1.3034664662312342e-08}. Best is trial 43 with value: 1.554905271027276.\u001b[0m\n",
      "regularization_factors, val_score: 1.554905:  20%|##        | 4/20 [00:00<00:00, 19.57it/s]\u001b[32m[I 2021-05-11 09:42:41,752]\u001b[0m Trial 46 finished with value: 1.555550006251339 and parameters: {'lambda_l1': 1.79553558213208e-07, 'lambda_l2': 1.7551279451325934e-08}. Best is trial 43 with value: 1.554905271027276.\u001b[0m\n",
      "regularization_factors, val_score: 1.554905:  20%|##        | 4/20 [00:00<00:00, 19.57it/s]\u001b[32m[I 2021-05-11 09:42:41,801]\u001b[0m Trial 47 finished with value: 1.5555500083466258 and parameters: {'lambda_l1': 0.00017552669667363053, 'lambda_l2': 3.2212386992033473e-05}. Best is trial 43 with value: 1.554905271027276.\u001b[0m\n",
      "regularization_factors, val_score: 1.554905:  25%|##5       | 5/20 [00:00<00:00, 19.57it/s]"
     ]
    },
    {
     "name": "stdout",
     "output_type": "stream",
     "text": [
      "Training until validation scores don't improve for 100 rounds\n",
      "Early stopping, best iteration is:\n",
      "[89]\tvalid_0's rmse: 1.55508\n",
      "Training until validation scores don't improve for 100 rounds\n",
      "Early stopping, best iteration is:\n",
      "[89]\tvalid_0's rmse: 1.55555\n",
      "Training until validation scores don't improve for 100 rounds\n",
      "Early stopping, best iteration is:\n",
      "[89]\tvalid_0's rmse: 1.55555\n",
      "Training until validation scores don't improve for 100 rounds\n",
      "Early stopping, best iteration is:\n",
      "[89]\tvalid_0's rmse: 1.55555\n",
      "Training until validation scores don't improve for 100 rounds\n"
     ]
    },
    {
     "name": "stderr",
     "output_type": "stream",
     "text": [
      "regularization_factors, val_score: 1.554905:  30%|###       | 6/20 [00:00<00:00, 19.75it/s]\u001b[32m[I 2021-05-11 09:42:41,852]\u001b[0m Trial 48 finished with value: 1.5555500001085127 and parameters: {'lambda_l1': 2.0330761011571782e-08, 'lambda_l2': 0.0004394504813923612}. Best is trial 43 with value: 1.554905271027276.\u001b[0m\n",
      "regularization_factors, val_score: 1.554905:  30%|###       | 6/20 [00:00<00:00, 19.75it/s]\u001b[32m[I 2021-05-11 09:42:41,902]\u001b[0m Trial 49 finished with value: 1.5555500025619422 and parameters: {'lambda_l1': 6.757872098269997e-05, 'lambda_l2': 0.0003349978063111915}. Best is trial 43 with value: 1.554905271027276.\u001b[0m\n",
      "regularization_factors, val_score: 1.554905:  35%|###5      | 7/20 [00:00<00:00, 19.75it/s]\u001b[32m[I 2021-05-11 09:42:41,951]\u001b[0m Trial 50 finished with value: 1.5555499923606795 and parameters: {'lambda_l1': 3.9953393956136137e-07, 'lambda_l2': 0.000993771690360835}. Best is trial 43 with value: 1.554905271027276.\u001b[0m\n",
      "regularization_factors, val_score: 1.554905:  45%|####5     | 9/20 [00:00<00:00, 19.87it/s]\u001b[32m[I 2021-05-11 09:42:42,002]\u001b[0m Trial 51 finished with value: 1.5555500062325336 and parameters: {'lambda_l1': 1.1938295475430321e-08, 'lambda_l2': 8.38236272682693e-07}. Best is trial 43 with value: 1.554905271027276.\u001b[0m\n",
      "regularization_factors, val_score: 1.554905:  45%|####5     | 9/20 [00:00<00:00, 19.87it/s]"
     ]
    },
    {
     "name": "stdout",
     "output_type": "stream",
     "text": [
      "Early stopping, best iteration is:\n",
      "[89]\tvalid_0's rmse: 1.55555\n",
      "Training until validation scores don't improve for 100 rounds\n",
      "Early stopping, best iteration is:\n",
      "[89]\tvalid_0's rmse: 1.55555\n",
      "Training until validation scores don't improve for 100 rounds\n",
      "Early stopping, best iteration is:\n",
      "[89]\tvalid_0's rmse: 1.55555\n",
      "Training until validation scores don't improve for 100 rounds\n",
      "Early stopping, best iteration is:\n",
      "[89]\tvalid_0's rmse: 1.55555\n",
      "Training until validation scores don't improve for 100 rounds\n",
      "Early stopping, best iteration is:\n",
      "[89]\tvalid_0's rmse: 1.55555\n"
     ]
    },
    {
     "name": "stderr",
     "output_type": "stream",
     "text": [
      "regularization_factors, val_score: 1.554905:  45%|####5     | 9/20 [00:00<00:00, 19.87it/s]\u001b[32m[I 2021-05-11 09:42:42,053]\u001b[0m Trial 52 finished with value: 1.5555497864503207 and parameters: {'lambda_l1': 0.004322633459203167, 'lambda_l2': 0.020165292681944537}. Best is trial 43 with value: 1.554905271027276.\u001b[0m\n",
      "regularization_factors, val_score: 1.554905:  55%|#####5    | 11/20 [00:00<00:00, 19.52it/s]\u001b[32m[I 2021-05-11 09:42:42,109]\u001b[0m Trial 53 finished with value: 1.5561004699395475 and parameters: {'lambda_l1': 5.250799992298167, 'lambda_l2': 1.1623530405608419e-06}. Best is trial 43 with value: 1.554905271027276.\u001b[0m\n",
      "regularization_factors, val_score: 1.554905:  55%|#####5    | 11/20 [00:00<00:00, 19.52it/s]\u001b[32m[I 2021-05-11 09:42:42,156]\u001b[0m Trial 54 finished with value: 1.5561173403666602 and parameters: {'lambda_l1': 2.833576897271255, 'lambda_l2': 5.826856506205935}. Best is trial 43 with value: 1.554905271027276.\u001b[0m\n",
      "regularization_factors, val_score: 1.554905:  60%|######    | 12/20 [00:00<00:00, 19.52it/s]\u001b[32m[I 2021-05-11 09:42:42,205]\u001b[0m Trial 55 finished with value: 1.5564800278561841 and parameters: {'lambda_l1': 0.0870080024395973, 'lambda_l2': 2.759287500782335}. Best is trial 43 with value: 1.554905271027276.\u001b[0m\n",
      "regularization_factors, val_score: 1.554905:  70%|#######   | 14/20 [00:00<00:00, 20.03it/s]\u001b[32m[I 2021-05-11 09:42:42,253]\u001b[0m Trial 56 finished with value: 1.5555482852222915 and parameters: {'lambda_l1': 3.1737285122570824e-06, 'lambda_l2': 0.12329554659152629}. Best is trial 43 with value: 1.554905271027276.\u001b[0m\n",
      "regularization_factors, val_score: 1.554905:  70%|#######   | 14/20 [00:00<00:00, 20.03it/s]"
     ]
    },
    {
     "name": "stdout",
     "output_type": "stream",
     "text": [
      "Training until validation scores don't improve for 100 rounds\n",
      "[200]\tvalid_0's rmse: 1.55836\n",
      "Early stopping, best iteration is:\n",
      "[132]\tvalid_0's rmse: 1.5561\n",
      "Training until validation scores don't improve for 100 rounds\n",
      "Early stopping, best iteration is:\n",
      "[89]\tvalid_0's rmse: 1.55612\n",
      "Training until validation scores don't improve for 100 rounds\n",
      "Early stopping, best iteration is:\n",
      "[89]\tvalid_0's rmse: 1.55648\n",
      "Training until validation scores don't improve for 100 rounds\n",
      "Early stopping, best iteration is:\n",
      "[89]\tvalid_0's rmse: 1.55555\n",
      "Training until validation scores don't improve for 100 rounds\n"
     ]
    },
    {
     "name": "stderr",
     "output_type": "stream",
     "text": [
      "regularization_factors, val_score: 1.554905:  70%|#######   | 14/20 [00:00<00:00, 20.03it/s]\u001b[32m[I 2021-05-11 09:42:42,304]\u001b[0m Trial 57 finished with value: 1.554906893193618 and parameters: {'lambda_l1': 0.16284133134483794, 'lambda_l2': 7.285408824569417e-06}. Best is trial 43 with value: 1.554905271027276.\u001b[0m\n",
      "regularization_factors, val_score: 1.554905:  80%|########  | 16/20 [00:00<00:00, 19.98it/s]\u001b[32m[I 2021-05-11 09:42:42,353]\u001b[0m Trial 58 finished with value: 1.5559969703535848 and parameters: {'lambda_l1': 0.4496269157533925, 'lambda_l2': 5.889765967880214e-07}. Best is trial 43 with value: 1.554905271027276.\u001b[0m\n",
      "regularization_factors, val_score: 1.554905:  80%|########  | 16/20 [00:00<00:00, 19.98it/s]\u001b[32m[I 2021-05-11 09:42:42,403]\u001b[0m Trial 59 finished with value: 1.555550062098326 and parameters: {'lambda_l1': 0.0038520032849994933, 'lambda_l2': 1.3137674037304614e-05}. Best is trial 43 with value: 1.554905271027276.\u001b[0m\n",
      "regularization_factors, val_score: 1.554905:  85%|########5 | 17/20 [00:00<00:00, 19.98it/s]\u001b[32m[I 2021-05-11 09:42:42,452]\u001b[0m Trial 60 finished with value: 1.5551089767434125 and parameters: {'lambda_l1': 0.3244173246577984, 'lambda_l2': 1.6021731708717684e-07}. Best is trial 43 with value: 1.554905271027276.\u001b[0m\n",
      "regularization_factors, val_score: 1.554905:  95%|#########5| 19/20 [00:00<00:00, 20.03it/s]"
     ]
    },
    {
     "name": "stdout",
     "output_type": "stream",
     "text": [
      "Early stopping, best iteration is:\n",
      "[89]\tvalid_0's rmse: 1.55491\n",
      "Training until validation scores don't improve for 100 rounds\n",
      "Early stopping, best iteration is:\n",
      "[92]\tvalid_0's rmse: 1.556\n",
      "Training until validation scores don't improve for 100 rounds\n",
      "Early stopping, best iteration is:\n",
      "[89]\tvalid_0's rmse: 1.55555\n",
      "Training until validation scores don't improve for 100 rounds\n",
      "Early stopping, best iteration is:\n",
      "[89]\tvalid_0's rmse: 1.55511\n",
      "Training until validation scores don't improve for 100 rounds\n",
      "Early stopping, best iteration is:\n",
      "[89]\tvalid_0's rmse: 1.55555\n"
     ]
    },
    {
     "name": "stderr",
     "output_type": "stream",
     "text": [
      "\u001b[32m[I 2021-05-11 09:42:42,503]\u001b[0m Trial 61 finished with value: 1.5555500714690769 and parameters: {'lambda_l1': 0.0045023191815927325, 'lambda_l2': 1.4055845114155282e-05}. Best is trial 43 with value: 1.554905271027276.\u001b[0m\n",
      "regularization_factors, val_score: 1.554905:  95%|#########5| 19/20 [00:01<00:00, 20.03it/s]\u001b[32m[I 2021-05-11 09:42:42,554]\u001b[0m Trial 62 finished with value: 1.5564561886293657 and parameters: {'lambda_l1': 1.0654014306397024, 'lambda_l2': 7.16252275543075e-08}. Best is trial 43 with value: 1.554905271027276.\u001b[0m\n",
      "regularization_factors, val_score: 1.554905: 100%|##########| 20/20 [00:01<00:00, 19.82it/s]\n",
      "min_data_in_leaf, val_score: 1.554905:   0%|          | 0/5 [00:00<?, ?it/s]\u001b[32m[I 2021-05-11 09:42:42,605]\u001b[0m Trial 63 finished with value: 1.555493047199098 and parameters: {'min_child_samples': 10}. Best is trial 63 with value: 1.555493047199098.\u001b[0m\n",
      "min_data_in_leaf, val_score: 1.554905:  20%|##        | 1/5 [00:00<00:00, 10.51it/s]\u001b[32m[I 2021-05-11 09:42:42,652]\u001b[0m Trial 64 finished with value: 1.554905271027276 and parameters: {'min_child_samples': 25}. Best is trial 64 with value: 1.554905271027276.\u001b[0m\n",
      "min_data_in_leaf, val_score: 1.554905:  60%|######    | 3/5 [00:00<00:00, 20.63it/s]\u001b[32m[I 2021-05-11 09:42:42,703]\u001b[0m Trial 65 finished with value: 1.554905271027276 and parameters: {'min_child_samples': 50}. Best is trial 64 with value: 1.554905271027276.\u001b[0m\n",
      "min_data_in_leaf, val_score: 1.554905:  60%|######    | 3/5 [00:00<00:00, 20.63it/s]"
     ]
    },
    {
     "name": "stdout",
     "output_type": "stream",
     "text": [
      "Training until validation scores don't improve for 100 rounds\n",
      "Early stopping, best iteration is:\n",
      "[89]\tvalid_0's rmse: 1.55646\n",
      "Training until validation scores don't improve for 100 rounds\n",
      "Early stopping, best iteration is:\n",
      "[89]\tvalid_0's rmse: 1.55549\n",
      "Training until validation scores don't improve for 100 rounds\n",
      "Early stopping, best iteration is:\n",
      "[89]\tvalid_0's rmse: 1.55491\n",
      "Training until validation scores don't improve for 100 rounds\n",
      "Early stopping, best iteration is:\n",
      "[89]\tvalid_0's rmse: 1.55491\n",
      "Training until validation scores don't improve for 100 rounds\n"
     ]
    },
    {
     "name": "stderr",
     "output_type": "stream",
     "text": [
      "min_data_in_leaf, val_score: 1.554905:  60%|######    | 3/5 [00:00<00:00, 20.63it/s]\u001b[32m[I 2021-05-11 09:42:42,761]\u001b[0m Trial 66 finished with value: 1.556007034192956 and parameters: {'min_child_samples': 100}. Best is trial 64 with value: 1.554905271027276.\u001b[0m\n",
      "min_data_in_leaf, val_score: 1.554905:  80%|########  | 4/5 [00:00<00:00, 20.63it/s]\u001b[32m[I 2021-05-11 09:42:42,807]\u001b[0m Trial 67 finished with value: 1.556591889964696 and parameters: {'min_child_samples': 5}. Best is trial 64 with value: 1.554905271027276.\u001b[0m\n",
      "min_data_in_leaf, val_score: 1.554905: 100%|##########| 5/5 [00:00<00:00, 19.83it/s]\n",
      "\u001b[32m[I 2021-05-11 09:42:42,829]\u001b[0m A new study created in memory with name: no-name-ed03a71e-d8e7-4a10-9d23-3df071fdce13\u001b[0m\n",
      "feature_fraction, val_score: 1.187460:  14%|#4        | 1/7 [00:00<00:00,  9.06it/s]\u001b[32m[I 2021-05-11 09:42:42,943]\u001b[0m Trial 0 finished with value: 1.1874604731679679 and parameters: {'feature_fraction': 0.8999999999999999}. Best is trial 0 with value: 1.1874604731679679.\u001b[0m\n",
      "feature_fraction, val_score: 1.187460:  14%|#4        | 1/7 [00:00<00:00,  9.06it/s]"
     ]
    },
    {
     "name": "stdout",
     "output_type": "stream",
     "text": [
      "[200]\tvalid_0's rmse: 1.55885\n",
      "Early stopping, best iteration is:\n",
      "[132]\tvalid_0's rmse: 1.55601\n",
      "Training until validation scores don't improve for 100 rounds\n",
      "Early stopping, best iteration is:\n",
      "[89]\tvalid_0's rmse: 1.55659\n",
      "rmse :  1.5108984894833637\n",
      "Training until validation scores don't improve for 100 rounds\n",
      "Early stopping, best iteration is:\n",
      "[14]\tvalid_0's rmse: 1.18746\n"
     ]
    },
    {
     "name": "stderr",
     "output_type": "stream",
     "text": [
      "feature_fraction, val_score: 1.184680:  29%|##8       | 2/7 [00:00<00:00,  9.07it/s]\u001b[32m[I 2021-05-11 09:42:43,053]\u001b[0m Trial 1 finished with value: 1.1846803095029508 and parameters: {'feature_fraction': 0.4}. Best is trial 1 with value: 1.1846803095029508.\u001b[0m\n",
      "feature_fraction, val_score: 1.184680:  43%|####2     | 3/7 [00:00<00:00,  9.39it/s]\u001b[32m[I 2021-05-11 09:42:43,155]\u001b[0m Trial 2 finished with value: 1.1861235531730654 and parameters: {'feature_fraction': 0.6}. Best is trial 1 with value: 1.1846803095029508.\u001b[0m\n",
      "feature_fraction, val_score: 1.184680:  43%|####2     | 3/7 [00:00<00:00,  9.39it/s]"
     ]
    },
    {
     "name": "stdout",
     "output_type": "stream",
     "text": [
      "Training until validation scores don't improve for 100 rounds\n",
      "Early stopping, best iteration is:\n",
      "[29]\tvalid_0's rmse: 1.18468\n",
      "Training until validation scores don't improve for 100 rounds\n",
      "Early stopping, best iteration is:\n",
      "[21]\tvalid_0's rmse: 1.18612\n"
     ]
    },
    {
     "name": "stderr",
     "output_type": "stream",
     "text": [
      "feature_fraction, val_score: 1.184680:  57%|#####7    | 4/7 [00:00<00:00,  9.52it/s]\u001b[32m[I 2021-05-11 09:42:43,258]\u001b[0m Trial 3 finished with value: 1.19002750165314 and parameters: {'feature_fraction': 1.0}. Best is trial 1 with value: 1.1846803095029508.\u001b[0m\n",
      "feature_fraction, val_score: 1.184680:  57%|#####7    | 4/7 [00:00<00:00,  9.52it/s]\u001b[32m[I 2021-05-11 09:42:43,355]\u001b[0m Trial 4 finished with value: 1.1859304794338992 and parameters: {'feature_fraction': 0.5}. Best is trial 1 with value: 1.1846803095029508.\u001b[0m\n",
      "feature_fraction, val_score: 1.184680:  71%|#######1  | 5/7 [00:00<00:00,  9.52it/s]"
     ]
    },
    {
     "name": "stdout",
     "output_type": "stream",
     "text": [
      "Training until validation scores don't improve for 100 rounds\n",
      "Early stopping, best iteration is:\n",
      "[13]\tvalid_0's rmse: 1.19003\n",
      "Training until validation scores don't improve for 100 rounds\n",
      "Early stopping, best iteration is:\n",
      "[22]\tvalid_0's rmse: 1.18593\n",
      "Training until validation scores don't improve for 100 rounds\n"
     ]
    },
    {
     "name": "stderr",
     "output_type": "stream",
     "text": [
      "feature_fraction, val_score: 1.184680:  86%|########5 | 6/7 [00:00<00:00,  9.71it/s]\u001b[32m[I 2021-05-11 09:42:43,460]\u001b[0m Trial 5 finished with value: 1.1864698159889269 and parameters: {'feature_fraction': 0.8}. Best is trial 1 with value: 1.1846803095029508.\u001b[0m\n",
      "feature_fraction, val_score: 1.184211:  86%|########5 | 6/7 [00:00<00:00,  9.71it/s]\u001b[32m[I 2021-05-11 09:42:43,559]\u001b[0m Trial 6 finished with value: 1.1842113592792074 and parameters: {'feature_fraction': 0.7}. Best is trial 6 with value: 1.1842113592792074.\u001b[0m\n",
      "feature_fraction, val_score: 1.184211: 100%|##########| 7/7 [00:00<00:00,  9.61it/s]\n",
      "num_leaves, val_score: 1.184211:   0%|          | 0/20 [00:00<?, ?it/s]"
     ]
    },
    {
     "name": "stdout",
     "output_type": "stream",
     "text": [
      "Early stopping, best iteration is:\n",
      "[11]\tvalid_0's rmse: 1.18647\n",
      "Training until validation scores don't improve for 100 rounds\n",
      "Early stopping, best iteration is:\n",
      "[18]\tvalid_0's rmse: 1.18421\n",
      "Training until validation scores don't improve for 100 rounds\n"
     ]
    },
    {
     "name": "stderr",
     "output_type": "stream",
     "text": [
      "num_leaves, val_score: 1.184211:   5%|5         | 1/20 [00:00<00:03,  4.97it/s]\u001b[32m[I 2021-05-11 09:42:43,764]\u001b[0m Trial 7 finished with value: 1.18873095318861 and parameters: {'num_leaves': 93}. Best is trial 7 with value: 1.18873095318861.\u001b[0m\n",
      "num_leaves, val_score: 1.184211:   5%|5         | 1/20 [00:00<00:03,  4.97it/s]\u001b[32m[I 2021-05-11 09:42:43,810]\u001b[0m Trial 8 finished with value: 1.1863950419747529 and parameters: {'num_leaves': 6}. Best is trial 8 with value: 1.1863950419747529.\u001b[0m\n",
      "num_leaves, val_score: 1.184211:  10%|#         | 2/20 [00:00<00:03,  4.97it/s]"
     ]
    },
    {
     "name": "stdout",
     "output_type": "stream",
     "text": [
      "Early stopping, best iteration is:\n",
      "[12]\tvalid_0's rmse: 1.18873\n",
      "Training until validation scores don't improve for 100 rounds\n",
      "Early stopping, best iteration is:\n",
      "[30]\tvalid_0's rmse: 1.1864\n",
      "Training until validation scores don't improve for 100 rounds\n"
     ]
    },
    {
     "name": "stderr",
     "output_type": "stream",
     "text": [
      "num_leaves, val_score: 1.184211:  15%|#5        | 3/20 [00:00<00:02,  5.71it/s]\u001b[32m[I 2021-05-11 09:42:44,096]\u001b[0m Trial 9 finished with value: 1.192445636716595 and parameters: {'num_leaves': 137}. Best is trial 8 with value: 1.1863950419747529.\u001b[0m\n",
      "num_leaves, val_score: 1.184211:  20%|##        | 4/20 [00:00<00:02,  6.67it/s]\u001b[32m[I 2021-05-11 09:42:44,198]\u001b[0m Trial 10 finished with value: 1.1869171716125075 and parameters: {'num_leaves': 27}. Best is trial 8 with value: 1.1863950419747529.\u001b[0m\n",
      "num_leaves, val_score: 1.184211:  20%|##        | 4/20 [00:00<00:02,  6.67it/s]"
     ]
    },
    {
     "name": "stdout",
     "output_type": "stream",
     "text": [
      "Early stopping, best iteration is:\n",
      "[10]\tvalid_0's rmse: 1.19245\n",
      "Training until validation scores don't improve for 100 rounds\n",
      "Early stopping, best iteration is:\n",
      "[18]\tvalid_0's rmse: 1.18692\n",
      "Training until validation scores don't improve for 100 rounds\n"
     ]
    },
    {
     "name": "stderr",
     "output_type": "stream",
     "text": [
      "num_leaves, val_score: 1.184211:  25%|##5       | 5/20 [00:00<00:02,  7.22it/s]\u001b[32m[I 2021-05-11 09:42:44,314]\u001b[0m Trial 11 finished with value: 1.1856846144729611 and parameters: {'num_leaves': 37}. Best is trial 11 with value: 1.1856846144729611.\u001b[0m\n",
      "num_leaves, val_score: 1.184211:  25%|##5       | 5/20 [00:00<00:02,  7.22it/s]"
     ]
    },
    {
     "name": "stdout",
     "output_type": "stream",
     "text": [
      "Early stopping, best iteration is:\n",
      "[18]\tvalid_0's rmse: 1.18568\n",
      "Training until validation scores don't improve for 100 rounds\n"
     ]
    },
    {
     "name": "stderr",
     "output_type": "stream",
     "text": [
      "num_leaves, val_score: 1.184211:  30%|###       | 6/20 [00:01<00:02,  5.72it/s]\u001b[32m[I 2021-05-11 09:42:44,565]\u001b[0m Trial 12 finished with value: 1.1934848503558506 and parameters: {'num_leaves': 123}. Best is trial 11 with value: 1.1856846144729611.\u001b[0m\n",
      "num_leaves, val_score: 1.184211:  30%|###       | 6/20 [00:01<00:02,  5.72it/s]\u001b[32m[I 2021-05-11 09:42:44,651]\u001b[0m Trial 13 finished with value: 1.1847218266560846 and parameters: {'num_leaves': 25}. Best is trial 13 with value: 1.1847218266560846.\u001b[0m\n",
      "num_leaves, val_score: 1.183870:  40%|####      | 8/20 [00:01<00:01,  7.31it/s]\u001b[32m[I 2021-05-11 09:42:44,756]\u001b[0m Trial 14 finished with value: 1.1838697452158675 and parameters: {'num_leaves': 34}. Best is trial 14 with value: 1.1838697452158675.\u001b[0m\n",
      "num_leaves, val_score: 1.183870:  40%|####      | 8/20 [00:01<00:01,  7.31it/s]"
     ]
    },
    {
     "name": "stdout",
     "output_type": "stream",
     "text": [
      "Early stopping, best iteration is:\n",
      "[8]\tvalid_0's rmse: 1.19348\n",
      "Training until validation scores don't improve for 100 rounds\n",
      "Early stopping, best iteration is:\n",
      "[14]\tvalid_0's rmse: 1.18472\n",
      "Training until validation scores don't improve for 100 rounds\n",
      "Early stopping, best iteration is:\n",
      "[18]\tvalid_0's rmse: 1.18387\n",
      "Training until validation scores don't improve for 100 rounds\n"
     ]
    },
    {
     "name": "stderr",
     "output_type": "stream",
     "text": [
      "num_leaves, val_score: 1.183870:  45%|####5     | 9/20 [00:01<00:01,  5.61it/s]\u001b[32m[I 2021-05-11 09:42:45,056]\u001b[0m Trial 15 finished with value: 1.1922043892871095 and parameters: {'num_leaves': 144}. Best is trial 14 with value: 1.1838697452158675.\u001b[0m\n",
      "num_leaves, val_score: 1.183183:  50%|#####     | 10/20 [00:01<00:01,  6.29it/s]\u001b[32m[I 2021-05-11 09:42:45,161]\u001b[0m Trial 16 finished with value: 1.1831825218828917 and parameters: {'num_leaves': 36}. Best is trial 16 with value: 1.1831825218828917.\u001b[0m\n",
      "num_leaves, val_score: 1.183183:  50%|#####     | 10/20 [00:01<00:01,  6.29it/s]"
     ]
    },
    {
     "name": "stdout",
     "output_type": "stream",
     "text": [
      "Early stopping, best iteration is:\n",
      "[11]\tvalid_0's rmse: 1.1922\n",
      "Training until validation scores don't improve for 100 rounds\n",
      "Early stopping, best iteration is:\n",
      "[18]\tvalid_0's rmse: 1.18318\n",
      "Training until validation scores don't improve for 100 rounds\n"
     ]
    },
    {
     "name": "stderr",
     "output_type": "stream",
     "text": [
      "num_leaves, val_score: 1.183183:  55%|#####5    | 11/20 [00:01<00:02,  4.44it/s]\u001b[32m[I 2021-05-11 09:42:45,561]\u001b[0m Trial 17 finished with value: 1.1977499600821244 and parameters: {'num_leaves': 254}. Best is trial 16 with value: 1.1831825218828917.\u001b[0m\n",
      "num_leaves, val_score: 1.183183:  60%|######    | 12/20 [00:02<00:01,  4.65it/s]\u001b[32m[I 2021-05-11 09:42:45,750]\u001b[0m Trial 18 finished with value: 1.1876140715361383 and parameters: {'num_leaves': 75}. Best is trial 16 with value: 1.1831825218828917.\u001b[0m\n",
      "num_leaves, val_score: 1.183183:  60%|######    | 12/20 [00:02<00:01,  4.65it/s]"
     ]
    },
    {
     "name": "stdout",
     "output_type": "stream",
     "text": [
      "Early stopping, best iteration is:\n",
      "[8]\tvalid_0's rmse: 1.19775\n",
      "Training until validation scores don't improve for 100 rounds\n",
      "Early stopping, best iteration is:\n",
      "[19]\tvalid_0's rmse: 1.18761\n",
      "Training until validation scores don't improve for 100 rounds\n"
     ]
    },
    {
     "name": "stderr",
     "output_type": "stream",
     "text": [
      "num_leaves, val_score: 1.183183:  65%|######5   | 13/20 [00:02<00:01,  3.70it/s]\u001b[32m[I 2021-05-11 09:42:46,156]\u001b[0m Trial 19 finished with value: 1.1968665000256224 and parameters: {'num_leaves': 219}. Best is trial 16 with value: 1.1831825218828917.\u001b[0m\n",
      "num_leaves, val_score: 1.183183:  70%|#######   | 14/20 [00:02<00:01,  4.11it/s]\u001b[32m[I 2021-05-11 09:42:46,334]\u001b[0m Trial 20 finished with value: 1.1882518957154833 and parameters: {'num_leaves': 66}. Best is trial 16 with value: 1.1831825218828917.\u001b[0m\n",
      "num_leaves, val_score: 1.183183:  70%|#######   | 14/20 [00:02<00:01,  4.11it/s]"
     ]
    },
    {
     "name": "stdout",
     "output_type": "stream",
     "text": [
      "Early stopping, best iteration is:\n",
      "[8]\tvalid_0's rmse: 1.19687\n",
      "Training until validation scores don't improve for 100 rounds\n",
      "Early stopping, best iteration is:\n",
      "[16]\tvalid_0's rmse: 1.18825\n",
      "Training until validation scores don't improve for 100 rounds\n"
     ]
    },
    {
     "name": "stderr",
     "output_type": "stream",
     "text": [
      "num_leaves, val_score: 1.183183:  75%|#######5  | 15/20 [00:03<00:01,  3.63it/s]\u001b[32m[I 2021-05-11 09:42:46,688]\u001b[0m Trial 21 finished with value: 1.1987542424959987 and parameters: {'num_leaves': 182}. Best is trial 16 with value: 1.1831825218828917.\u001b[0m\n",
      "num_leaves, val_score: 1.183183:  80%|########  | 16/20 [00:03<00:00,  4.11it/s]\u001b[32m[I 2021-05-11 09:42:46,853]\u001b[0m Trial 22 finished with value: 1.1876323073158932 and parameters: {'num_leaves': 59}. Best is trial 16 with value: 1.1831825218828917.\u001b[0m\n",
      "num_leaves, val_score: 1.183183:  80%|########  | 16/20 [00:03<00:00,  4.11it/s]"
     ]
    },
    {
     "name": "stdout",
     "output_type": "stream",
     "text": [
      "Early stopping, best iteration is:\n",
      "[4]\tvalid_0's rmse: 1.19875\n",
      "Training until validation scores don't improve for 100 rounds\n",
      "Early stopping, best iteration is:\n",
      "[15]\tvalid_0's rmse: 1.18763\n",
      "Training until validation scores don't improve for 100 rounds\n"
     ]
    },
    {
     "name": "stderr",
     "output_type": "stream",
     "text": [
      "num_leaves, val_score: 1.183183:  80%|########  | 16/20 [00:03<00:00,  4.11it/s]\u001b[32m[I 2021-05-11 09:42:46,903]\u001b[0m Trial 23 finished with value: 1.185053500479375 and parameters: {'num_leaves': 3}. Best is trial 16 with value: 1.1831825218828917.\u001b[0m\n",
      "num_leaves, val_score: 1.183183:  85%|########5 | 17/20 [00:03<00:00,  4.11it/s]"
     ]
    },
    {
     "name": "stdout",
     "output_type": "stream",
     "text": [
      "Early stopping, best iteration is:\n",
      "[70]\tvalid_0's rmse: 1.18505\n",
      "Training until validation scores don't improve for 100 rounds\n"
     ]
    },
    {
     "name": "stderr",
     "output_type": "stream",
     "text": [
      "num_leaves, val_score: 1.183183:  90%|######### | 18/20 [00:03<00:00,  5.05it/s]\u001b[32m[I 2021-05-11 09:42:47,143]\u001b[0m Trial 24 finished with value: 1.1903615770850098 and parameters: {'num_leaves': 103}. Best is trial 16 with value: 1.1831825218828917.\u001b[0m\n",
      "num_leaves, val_score: 1.183183:  90%|######### | 18/20 [00:03<00:00,  5.05it/s]\u001b[32m[I 2021-05-11 09:42:47,199]\u001b[0m Trial 25 finished with value: 1.1863950419747529 and parameters: {'num_leaves': 6}. Best is trial 16 with value: 1.1831825218828917.\u001b[0m\n",
      "num_leaves, val_score: 1.183183:  95%|#########5| 19/20 [00:03<00:00,  5.05it/s]"
     ]
    },
    {
     "name": "stdout",
     "output_type": "stream",
     "text": [
      "Early stopping, best iteration is:\n",
      "[14]\tvalid_0's rmse: 1.19036\n",
      "Training until validation scores don't improve for 100 rounds\n",
      "Early stopping, best iteration is:\n",
      "[30]\tvalid_0's rmse: 1.1864\n",
      "Training until validation scores don't improve for 100 rounds\n",
      "Early stopping, best iteration is:\n",
      "[15]\tvalid_0's rmse: 1.18641\n"
     ]
    },
    {
     "name": "stderr",
     "output_type": "stream",
     "text": [
      "num_leaves, val_score: 1.183183: 100%|##########| 20/20 [00:03<00:00,  6.29it/s]\u001b[32m[I 2021-05-11 09:42:47,341]\u001b[0m Trial 26 finished with value: 1.1864081937122177 and parameters: {'num_leaves': 49}. Best is trial 16 with value: 1.1831825218828917.\u001b[0m\n",
      "num_leaves, val_score: 1.183183: 100%|##########| 20/20 [00:03<00:00,  5.29it/s]\n",
      "bagging, val_score: 1.183183:  10%|#         | 1/10 [00:00<00:01,  7.36it/s]\u001b[32m[I 2021-05-11 09:42:47,482]\u001b[0m Trial 27 finished with value: 1.1888689513837036 and parameters: {'bagging_fraction': 0.9578002472801358, 'bagging_freq': 5}. Best is trial 27 with value: 1.1888689513837036.\u001b[0m\n",
      "bagging, val_score: 1.183183:  10%|#         | 1/10 [00:00<00:01,  7.36it/s]"
     ]
    },
    {
     "name": "stdout",
     "output_type": "stream",
     "text": [
      "Training until validation scores don't improve for 100 rounds\n",
      "Early stopping, best iteration is:\n",
      "[15]\tvalid_0's rmse: 1.18887\n",
      "Training until validation scores don't improve for 100 rounds\n"
     ]
    },
    {
     "name": "stderr",
     "output_type": "stream",
     "text": [
      "bagging, val_score: 1.183183:  20%|##        | 2/10 [00:00<00:01,  7.55it/s]\u001b[32m[I 2021-05-11 09:42:47,612]\u001b[0m Trial 28 finished with value: 1.1866982765337448 and parameters: {'bagging_fraction': 0.7824281380243161, 'bagging_freq': 4}. Best is trial 28 with value: 1.1866982765337448.\u001b[0m\n",
      "bagging, val_score: 1.183183:  30%|###       | 3/10 [00:00<00:00,  7.68it/s]\u001b[32m[I 2021-05-11 09:42:47,739]\u001b[0m Trial 29 finished with value: 1.1885715101326946 and parameters: {'bagging_fraction': 0.5111760287718263, 'bagging_freq': 4}. Best is trial 28 with value: 1.1866982765337448.\u001b[0m\n",
      "bagging, val_score: 1.183183:  30%|###       | 3/10 [00:00<00:00,  7.68it/s]"
     ]
    },
    {
     "name": "stdout",
     "output_type": "stream",
     "text": [
      "Early stopping, best iteration is:\n",
      "[23]\tvalid_0's rmse: 1.1867\n",
      "Training until validation scores don't improve for 100 rounds\n",
      "Early stopping, best iteration is:\n",
      "[15]\tvalid_0's rmse: 1.18857\n",
      "Training until validation scores don't improve for 100 rounds\n"
     ]
    },
    {
     "name": "stderr",
     "output_type": "stream",
     "text": [
      "bagging, val_score: 1.183183:  40%|####      | 4/10 [00:00<00:00,  7.85it/s]\u001b[32m[I 2021-05-11 09:42:47,863]\u001b[0m Trial 30 finished with value: 1.1885620022191423 and parameters: {'bagging_fraction': 0.6749603932650114, 'bagging_freq': 3}. Best is trial 28 with value: 1.1866982765337448.\u001b[0m\n",
      "bagging, val_score: 1.183183:  50%|#####     | 5/10 [00:00<00:00,  7.70it/s]\u001b[32m[I 2021-05-11 09:42:47,997]\u001b[0m Trial 31 finished with value: 1.1899851922780091 and parameters: {'bagging_fraction': 0.9089887851019137, 'bagging_freq': 3}. Best is trial 28 with value: 1.1866982765337448.\u001b[0m\n",
      "bagging, val_score: 1.183183:  50%|#####     | 5/10 [00:00<00:00,  7.70it/s]"
     ]
    },
    {
     "name": "stdout",
     "output_type": "stream",
     "text": [
      "Early stopping, best iteration is:\n",
      "[15]\tvalid_0's rmse: 1.18856\n",
      "Training until validation scores don't improve for 100 rounds\n",
      "Early stopping, best iteration is:\n",
      "[23]\tvalid_0's rmse: 1.18999\n",
      "Training until validation scores don't improve for 100 rounds\n"
     ]
    },
    {
     "name": "stderr",
     "output_type": "stream",
     "text": [
      "bagging, val_score: 1.183183:  60%|######    | 6/10 [00:00<00:00,  7.55it/s]\u001b[32m[I 2021-05-11 09:42:48,134]\u001b[0m Trial 32 finished with value: 1.1867875750255066 and parameters: {'bagging_fraction': 0.9512062345894114, 'bagging_freq': 6}. Best is trial 28 with value: 1.1866982765337448.\u001b[0m\n",
      "bagging, val_score: 1.182984:  70%|#######   | 7/10 [00:00<00:00,  7.70it/s]\u001b[32m[I 2021-05-11 09:42:48,259]\u001b[0m Trial 33 finished with value: 1.1829844241482512 and parameters: {'bagging_fraction': 0.682012270015623, 'bagging_freq': 1}. Best is trial 33 with value: 1.1829844241482512.\u001b[0m\n",
      "bagging, val_score: 1.182984:  70%|#######   | 7/10 [00:00<00:00,  7.70it/s]"
     ]
    },
    {
     "name": "stdout",
     "output_type": "stream",
     "text": [
      "Early stopping, best iteration is:\n",
      "[18]\tvalid_0's rmse: 1.18679\n",
      "Training until validation scores don't improve for 100 rounds\n",
      "Early stopping, best iteration is:\n",
      "[15]\tvalid_0's rmse: 1.18298\n",
      "Training until validation scores don't improve for 100 rounds\n"
     ]
    },
    {
     "name": "stderr",
     "output_type": "stream",
     "text": [
      "bagging, val_score: 1.182984:  80%|########  | 8/10 [00:01<00:00,  7.57it/s]\u001b[32m[I 2021-05-11 09:42:48,396]\u001b[0m Trial 34 finished with value: 1.1931432710358658 and parameters: {'bagging_fraction': 0.42932383793524775, 'bagging_freq': 6}. Best is trial 33 with value: 1.1829844241482512.\u001b[0m\n",
      "bagging, val_score: 1.182984:  90%|######### | 9/10 [00:01<00:00,  7.43it/s]\u001b[32m[I 2021-05-11 09:42:48,536]\u001b[0m Trial 35 finished with value: 1.1856233254776483 and parameters: {'bagging_fraction': 0.8758075032613171, 'bagging_freq': 5}. Best is trial 33 with value: 1.1829844241482512.\u001b[0m\n",
      "bagging, val_score: 1.182984:  90%|######### | 9/10 [00:01<00:00,  7.43it/s]"
     ]
    },
    {
     "name": "stdout",
     "output_type": "stream",
     "text": [
      "Early stopping, best iteration is:\n",
      "[25]\tvalid_0's rmse: 1.19314\n",
      "Training until validation scores don't improve for 100 rounds\n",
      "Early stopping, best iteration is:\n",
      "[23]\tvalid_0's rmse: 1.18562\n",
      "Training until validation scores don't improve for 100 rounds\n"
     ]
    },
    {
     "name": "stderr",
     "output_type": "stream",
     "text": [
      "bagging, val_score: 1.182984: 100%|##########| 10/10 [00:01<00:00,  7.24it/s]\u001b[32m[I 2021-05-11 09:42:48,682]\u001b[0m Trial 36 finished with value: 1.1927987637042863 and parameters: {'bagging_fraction': 0.4818444983735304, 'bagging_freq': 4}. Best is trial 33 with value: 1.1829844241482512.\u001b[0m\n",
      "bagging, val_score: 1.182984: 100%|##########| 10/10 [00:01<00:00,  7.47it/s]\n",
      "feature_fraction_stage2, val_score: 1.182984:  17%|#6        | 1/6 [00:00<00:00,  8.05it/s]\u001b[32m[I 2021-05-11 09:42:48,810]\u001b[0m Trial 37 finished with value: 1.185784171492265 and parameters: {'feature_fraction': 0.748}. Best is trial 37 with value: 1.185784171492265.\u001b[0m\n",
      "feature_fraction_stage2, val_score: 1.182984:  17%|#6        | 1/6 [00:00<00:00,  8.05it/s]"
     ]
    },
    {
     "name": "stdout",
     "output_type": "stream",
     "text": [
      "Early stopping, best iteration is:\n",
      "[23]\tvalid_0's rmse: 1.1928\n",
      "Training until validation scores don't improve for 100 rounds\n",
      "Early stopping, best iteration is:\n",
      "[14]\tvalid_0's rmse: 1.18578\n",
      "Training until validation scores don't improve for 100 rounds\n"
     ]
    },
    {
     "name": "stderr",
     "output_type": "stream",
     "text": [
      "feature_fraction_stage2, val_score: 1.182984:  33%|###3      | 2/6 [00:00<00:00,  7.81it/s]\u001b[32m[I 2021-05-11 09:42:48,941]\u001b[0m Trial 38 finished with value: 1.1829844241482512 and parameters: {'feature_fraction': 0.6839999999999999}. Best is trial 38 with value: 1.1829844241482512.\u001b[0m\n",
      "feature_fraction_stage2, val_score: 1.182984:  50%|#####     | 3/6 [00:00<00:00,  7.99it/s]\u001b[32m[I 2021-05-11 09:42:49,062]\u001b[0m Trial 39 finished with value: 1.18903425377818 and parameters: {'feature_fraction': 0.652}. Best is trial 38 with value: 1.1829844241482512.\u001b[0m\n",
      "feature_fraction_stage2, val_score: 1.182984:  50%|#####     | 3/6 [00:00<00:00,  7.99it/s]"
     ]
    },
    {
     "name": "stdout",
     "output_type": "stream",
     "text": [
      "Early stopping, best iteration is:\n",
      "[15]\tvalid_0's rmse: 1.18298\n",
      "Training until validation scores don't improve for 100 rounds\n",
      "Early stopping, best iteration is:\n",
      "[15]\tvalid_0's rmse: 1.18903\n",
      "Training until validation scores don't improve for 100 rounds\n"
     ]
    },
    {
     "name": "stderr",
     "output_type": "stream",
     "text": [
      "feature_fraction_stage2, val_score: 1.182984:  67%|######6   | 4/6 [00:00<00:00,  7.94it/s]\u001b[32m[I 2021-05-11 09:42:49,189]\u001b[0m Trial 40 finished with value: 1.1902742142759053 and parameters: {'feature_fraction': 0.62}. Best is trial 38 with value: 1.1829844241482512.\u001b[0m\n",
      "feature_fraction_stage2, val_score: 1.182984:  83%|########3 | 5/6 [00:00<00:00,  7.61it/s]\u001b[32m[I 2021-05-11 09:42:49,331]\u001b[0m Trial 41 finished with value: 1.1860565746215144 and parameters: {'feature_fraction': 0.7799999999999999}. Best is trial 38 with value: 1.1829844241482512.\u001b[0m\n",
      "feature_fraction_stage2, val_score: 1.182984:  83%|########3 | 5/6 [00:00<00:00,  7.61it/s]"
     ]
    },
    {
     "name": "stdout",
     "output_type": "stream",
     "text": [
      "Early stopping, best iteration is:\n",
      "[18]\tvalid_0's rmse: 1.19027\n",
      "Training until validation scores don't improve for 100 rounds\n",
      "Early stopping, best iteration is:\n",
      "[17]\tvalid_0's rmse: 1.18606\n",
      "Training until validation scores don't improve for 100 rounds\n"
     ]
    },
    {
     "name": "stderr",
     "output_type": "stream",
     "text": [
      "feature_fraction_stage2, val_score: 1.182984: 100%|##########| 6/6 [00:00<00:00,  7.78it/s]\u001b[32m[I 2021-05-11 09:42:49,453]\u001b[0m Trial 42 finished with value: 1.1877982870291433 and parameters: {'feature_fraction': 0.716}. Best is trial 38 with value: 1.1829844241482512.\u001b[0m\n",
      "feature_fraction_stage2, val_score: 1.182984: 100%|##########| 6/6 [00:00<00:00,  7.80it/s]\n",
      "regularization_factors, val_score: 1.182984:   5%|5         | 1/20 [00:00<00:02,  7.63it/s]\u001b[32m[I 2021-05-11 09:42:49,588]\u001b[0m Trial 43 finished with value: 1.1868661978652453 and parameters: {'lambda_l1': 0.0006967644086090603, 'lambda_l2': 0.1974400024779772}. Best is trial 43 with value: 1.1868661978652453.\u001b[0m\n",
      "regularization_factors, val_score: 1.182984:   5%|5         | 1/20 [00:00<00:02,  7.63it/s]"
     ]
    },
    {
     "name": "stdout",
     "output_type": "stream",
     "text": [
      "Early stopping, best iteration is:\n",
      "[11]\tvalid_0's rmse: 1.1878\n",
      "Training until validation scores don't improve for 100 rounds\n",
      "Early stopping, best iteration is:\n",
      "[14]\tvalid_0's rmse: 1.18687\n",
      "Training until validation scores don't improve for 100 rounds\n"
     ]
    },
    {
     "name": "stderr",
     "output_type": "stream",
     "text": [
      "regularization_factors, val_score: 1.182984:  10%|#         | 2/20 [00:00<00:02,  7.15it/s]\u001b[32m[I 2021-05-11 09:42:49,735]\u001b[0m Trial 44 finished with value: 1.1897366128856859 and parameters: {'lambda_l1': 0.5956690810844416, 'lambda_l2': 0.07481976168317372}. Best is trial 43 with value: 1.1868661978652453.\u001b[0m\n",
      "regularization_factors, val_score: 1.182984:  15%|#5        | 3/20 [00:00<00:02,  6.95it/s]\u001b[32m[I 2021-05-11 09:42:49,883]\u001b[0m Trial 45 finished with value: 1.1833775804110054 and parameters: {'lambda_l1': 6.023287308966091, 'lambda_l2': 4.874588839640306e-06}. Best is trial 45 with value: 1.1833775804110054.\u001b[0m\n",
      "regularization_factors, val_score: 1.182984:  15%|#5        | 3/20 [00:00<00:02,  6.95it/s]"
     ]
    },
    {
     "name": "stdout",
     "output_type": "stream",
     "text": [
      "Early stopping, best iteration is:\n",
      "[15]\tvalid_0's rmse: 1.18974\n",
      "Training until validation scores don't improve for 100 rounds\n",
      "Early stopping, best iteration is:\n",
      "[14]\tvalid_0's rmse: 1.18338\n",
      "Training until validation scores don't improve for 100 rounds\n"
     ]
    },
    {
     "name": "stderr",
     "output_type": "stream",
     "text": [
      "regularization_factors, val_score: 1.182984:  20%|##        | 4/20 [00:00<00:02,  7.23it/s]\u001b[32m[I 2021-05-11 09:42:50,013]\u001b[0m Trial 46 finished with value: 1.1829844234906528 and parameters: {'lambda_l1': 1.842331355542838e-05, 'lambda_l2': 1.219376127735888e-08}. Best is trial 46 with value: 1.1829844234906528.\u001b[0m\n",
      "regularization_factors, val_score: 1.182984:  25%|##5       | 5/20 [00:00<00:02,  7.38it/s]\u001b[32m[I 2021-05-11 09:42:50,144]\u001b[0m Trial 47 finished with value: 1.1829844240745686 and parameters: {'lambda_l1': 2.0788963163107055e-06, 'lambda_l2': 2.2972595986848343e-07}. Best is trial 46 with value: 1.1829844234906528.\u001b[0m\n",
      "regularization_factors, val_score: 1.182984:  25%|##5       | 5/20 [00:00<00:02,  7.38it/s]"
     ]
    },
    {
     "name": "stdout",
     "output_type": "stream",
     "text": [
      "Early stopping, best iteration is:\n",
      "[15]\tvalid_0's rmse: 1.18298\n",
      "Training until validation scores don't improve for 100 rounds\n",
      "Early stopping, best iteration is:\n",
      "[15]\tvalid_0's rmse: 1.18298\n",
      "Training until validation scores don't improve for 100 rounds\n"
     ]
    },
    {
     "name": "stderr",
     "output_type": "stream",
     "text": [
      "regularization_factors, val_score: 1.182984:  30%|###       | 6/20 [00:00<00:01,  7.16it/s]\u001b[32m[I 2021-05-11 09:42:50,291]\u001b[0m Trial 48 finished with value: 1.1847034643652916 and parameters: {'lambda_l1': 0.0005341873825377084, 'lambda_l2': 0.09412191179206769}. Best is trial 46 with value: 1.1829844234906528.\u001b[0m\n",
      "regularization_factors, val_score: 1.182984:  35%|###5      | 7/20 [00:00<00:01,  7.13it/s]\u001b[32m[I 2021-05-11 09:42:50,433]\u001b[0m Trial 49 finished with value: 1.1829844271366294 and parameters: {'lambda_l1': 0.00011867372565626364, 'lambda_l2': 0.00024109449112914218}. Best is trial 46 with value: 1.1829844234906528.\u001b[0m\n",
      "regularization_factors, val_score: 1.182984:  35%|###5      | 7/20 [00:00<00:01,  7.13it/s]"
     ]
    },
    {
     "name": "stdout",
     "output_type": "stream",
     "text": [
      "Early stopping, best iteration is:\n",
      "[23]\tvalid_0's rmse: 1.1847\n",
      "Training until validation scores don't improve for 100 rounds\n",
      "Early stopping, best iteration is:\n",
      "[15]\tvalid_0's rmse: 1.18298\n",
      "Training until validation scores don't improve for 100 rounds\n"
     ]
    },
    {
     "name": "stderr",
     "output_type": "stream",
     "text": [
      "regularization_factors, val_score: 1.182984:  40%|####      | 8/20 [00:01<00:01,  7.32it/s]\u001b[32m[I 2021-05-11 09:42:50,561]\u001b[0m Trial 50 finished with value: 1.182984424582837 and parameters: {'lambda_l1': 1.3957684531631521e-08, 'lambda_l2': 1.5154126747726404e-05}. Best is trial 46 with value: 1.1829844234906528.\u001b[0m\n",
      "regularization_factors, val_score: 1.182984:  45%|####5     | 9/20 [00:01<00:01,  7.43it/s]\u001b[32m[I 2021-05-11 09:42:50,692]\u001b[0m Trial 51 finished with value: 1.1829843980504937 and parameters: {'lambda_l1': 0.0007878842740668519, 'lambda_l2': 1.5176156998233927e-05}. Best is trial 51 with value: 1.1829843980504937.\u001b[0m\n",
      "regularization_factors, val_score: 1.182984:  45%|####5     | 9/20 [00:01<00:01,  7.43it/s]"
     ]
    },
    {
     "name": "stdout",
     "output_type": "stream",
     "text": [
      "Early stopping, best iteration is:\n",
      "[15]\tvalid_0's rmse: 1.18298\n",
      "Training until validation scores don't improve for 100 rounds\n",
      "Early stopping, best iteration is:\n",
      "[15]\tvalid_0's rmse: 1.18298\n",
      "Training until validation scores don't improve for 100 rounds\n"
     ]
    },
    {
     "name": "stderr",
     "output_type": "stream",
     "text": [
      "regularization_factors, val_score: 1.182984:  50%|#####     | 10/20 [00:01<00:01,  7.30it/s]\u001b[32m[I 2021-05-11 09:42:50,834]\u001b[0m Trial 52 finished with value: 1.1829843407429859 and parameters: {'lambda_l1': 0.0024787832479159187, 'lambda_l2': 5.318137277947856e-06}. Best is trial 52 with value: 1.1829843407429859.\u001b[0m\n",
      "regularization_factors, val_score: 1.182984:  55%|#####5    | 11/20 [00:01<00:01,  7.45it/s]\u001b[32m[I 2021-05-11 09:42:50,962]\u001b[0m Trial 53 finished with value: 1.1867394839341021 and parameters: {'lambda_l1': 0.06070699303060979, 'lambda_l2': 0.0027205554785562397}. Best is trial 52 with value: 1.1829843407429859.\u001b[0m\n",
      "regularization_factors, val_score: 1.182984:  55%|#####5    | 11/20 [00:01<00:01,  7.45it/s]"
     ]
    },
    {
     "name": "stdout",
     "output_type": "stream",
     "text": [
      "Early stopping, best iteration is:\n",
      "[15]\tvalid_0's rmse: 1.18298\n",
      "Training until validation scores don't improve for 100 rounds\n",
      "Early stopping, best iteration is:\n",
      "[14]\tvalid_0's rmse: 1.18674\n",
      "Training until validation scores don't improve for 100 rounds\n"
     ]
    },
    {
     "name": "stderr",
     "output_type": "stream",
     "text": [
      "regularization_factors, val_score: 1.182984:  60%|######    | 12/20 [00:01<00:01,  7.24it/s]\u001b[32m[I 2021-05-11 09:42:51,109]\u001b[0m Trial 54 finished with value: 1.183861179131057 and parameters: {'lambda_l1': 0.04489029333279481, 'lambda_l2': 7.888386362232109e-07}. Best is trial 52 with value: 1.1829843407429859.\u001b[0m\n",
      "regularization_factors, val_score: 1.182984:  65%|######5   | 13/20 [00:01<00:00,  7.31it/s]\u001b[32m[I 2021-05-11 09:42:51,243]\u001b[0m Trial 55 finished with value: 1.182983930009461 and parameters: {'lambda_l1': 0.014857678226752172, 'lambda_l2': 7.963281253336206e-05}. Best is trial 55 with value: 1.182983930009461.\u001b[0m\n",
      "regularization_factors, val_score: 1.182984:  65%|######5   | 13/20 [00:01<00:00,  7.31it/s]"
     ]
    },
    {
     "name": "stdout",
     "output_type": "stream",
     "text": [
      "Early stopping, best iteration is:\n",
      "[22]\tvalid_0's rmse: 1.18386\n",
      "Training until validation scores don't improve for 100 rounds\n",
      "Early stopping, best iteration is:\n",
      "[15]\tvalid_0's rmse: 1.18298\n",
      "Training until validation scores don't improve for 100 rounds\n"
     ]
    },
    {
     "name": "stderr",
     "output_type": "stream",
     "text": [
      "regularization_factors, val_score: 1.182984:  70%|#######   | 14/20 [00:01<00:00,  7.13it/s]\u001b[32m[I 2021-05-11 09:42:51,391]\u001b[0m Trial 56 finished with value: 1.1831382166387412 and parameters: {'lambda_l1': 0.01737982777246468, 'lambda_l2': 0.0008676166516846444}. Best is trial 55 with value: 1.182983930009461.\u001b[0m\n",
      "regularization_factors, val_score: 1.182984:  75%|#######5  | 15/20 [00:02<00:00,  7.06it/s]\u001b[32m[I 2021-05-11 09:42:51,536]\u001b[0m Trial 57 finished with value: 1.1829841309965787 and parameters: {'lambda_l1': 0.008739555334435602, 'lambda_l2': 1.1433622117182467e-08}. Best is trial 55 with value: 1.182983930009461.\u001b[0m\n",
      "regularization_factors, val_score: 1.182984:  75%|#######5  | 15/20 [00:02<00:00,  7.06it/s]"
     ]
    },
    {
     "name": "stdout",
     "output_type": "stream",
     "text": [
      "Early stopping, best iteration is:\n",
      "[15]\tvalid_0's rmse: 1.18314\n",
      "Training until validation scores don't improve for 100 rounds\n",
      "Early stopping, best iteration is:\n",
      "[15]\tvalid_0's rmse: 1.18298\n",
      "Training until validation scores don't improve for 100 rounds\n"
     ]
    },
    {
     "name": "stderr",
     "output_type": "stream",
     "text": [
      "regularization_factors, val_score: 1.180529:  80%|########  | 16/20 [00:02<00:00,  6.92it/s]\u001b[32m[I 2021-05-11 09:42:51,687]\u001b[0m Trial 58 finished with value: 1.1805288367222053 and parameters: {'lambda_l1': 5.001080820967517, 'lambda_l2': 1.1429773399299068e-08}. Best is trial 58 with value: 1.1805288367222053.\u001b[0m\n",
      "regularization_factors, val_score: 1.180529:  85%|########5 | 17/20 [00:02<00:00,  6.86it/s]\u001b[32m[I 2021-05-11 09:42:51,835]\u001b[0m Trial 59 finished with value: 1.1837991433294772 and parameters: {'lambda_l1': 3.6855402023111243, 'lambda_l2': 4.47496225996789}. Best is trial 58 with value: 1.1805288367222053.\u001b[0m\n",
      "regularization_factors, val_score: 1.180529:  85%|########5 | 17/20 [00:02<00:00,  6.86it/s]"
     ]
    },
    {
     "name": "stdout",
     "output_type": "stream",
     "text": [
      "Early stopping, best iteration is:\n",
      "[14]\tvalid_0's rmse: 1.18053\n",
      "Training until validation scores don't improve for 100 rounds\n",
      "Early stopping, best iteration is:\n",
      "[14]\tvalid_0's rmse: 1.1838\n",
      "Training until validation scores don't improve for 100 rounds\n"
     ]
    },
    {
     "name": "stderr",
     "output_type": "stream",
     "text": [
      "regularization_factors, val_score: 1.180529:  90%|######### | 18/20 [00:02<00:00,  6.82it/s]\u001b[32m[I 2021-05-11 09:42:51,985]\u001b[0m Trial 60 finished with value: 1.1839432585654441 and parameters: {'lambda_l1': 0.4612172458448236, 'lambda_l2': 1.1917722964118648e-07}. Best is trial 58 with value: 1.1805288367222053.\u001b[0m\n",
      "regularization_factors, val_score: 1.180529:  95%|#########5| 19/20 [00:02<00:00,  6.78it/s]\u001b[32m[I 2021-05-11 09:42:52,133]\u001b[0m Trial 61 finished with value: 1.1895607921534777 and parameters: {'lambda_l1': 0.6548957639330156, 'lambda_l2': 0.004370746584303915}. Best is trial 58 with value: 1.1805288367222053.\u001b[0m\n",
      "regularization_factors, val_score: 1.180529:  95%|#########5| 19/20 [00:02<00:00,  6.78it/s]"
     ]
    },
    {
     "name": "stdout",
     "output_type": "stream",
     "text": [
      "Early stopping, best iteration is:\n",
      "[15]\tvalid_0's rmse: 1.18394\n",
      "Training until validation scores don't improve for 100 rounds\n",
      "Early stopping, best iteration is:\n",
      "[15]\tvalid_0's rmse: 1.18956\n",
      "Training until validation scores don't improve for 100 rounds\n"
     ]
    },
    {
     "name": "stderr",
     "output_type": "stream",
     "text": [
      "regularization_factors, val_score: 1.180529: 100%|##########| 20/20 [00:02<00:00,  6.66it/s]\u001b[32m[I 2021-05-11 09:42:52,290]\u001b[0m Trial 62 finished with value: 1.1837422116985743 and parameters: {'lambda_l1': 9.572355079524604, 'lambda_l2': 0.00010938058466201678}. Best is trial 58 with value: 1.1805288367222053.\u001b[0m\n",
      "regularization_factors, val_score: 1.180529: 100%|##########| 20/20 [00:02<00:00,  7.06it/s]\n",
      "min_data_in_leaf, val_score: 1.180529:  20%|##        | 1/5 [00:00<00:00,  6.01it/s]\u001b[32m[I 2021-05-11 09:42:52,460]\u001b[0m Trial 63 finished with value: 1.1845559194049988 and parameters: {'min_child_samples': 5}. Best is trial 63 with value: 1.1845559194049988.\u001b[0m\n",
      "min_data_in_leaf, val_score: 1.180529:  20%|##        | 1/5 [00:00<00:00,  6.01it/s]"
     ]
    },
    {
     "name": "stdout",
     "output_type": "stream",
     "text": [
      "Early stopping, best iteration is:\n",
      "[20]\tvalid_0's rmse: 1.18374\n",
      "Training until validation scores don't improve for 100 rounds\n",
      "Early stopping, best iteration is:\n",
      "[35]\tvalid_0's rmse: 1.18456\n",
      "Training until validation scores don't improve for 100 rounds\n"
     ]
    },
    {
     "name": "stderr",
     "output_type": "stream",
     "text": [
      "min_data_in_leaf, val_score: 1.180529:  40%|####      | 2/5 [00:00<00:00,  6.67it/s]\u001b[32m[I 2021-05-11 09:42:52,598]\u001b[0m Trial 64 finished with value: 1.1852428852811254 and parameters: {'min_child_samples': 50}. Best is trial 63 with value: 1.1845559194049988.\u001b[0m\n",
      "min_data_in_leaf, val_score: 1.180529:  60%|######    | 3/5 [00:00<00:00,  6.79it/s]\u001b[32m[I 2021-05-11 09:42:52,742]\u001b[0m Trial 65 finished with value: 1.1855906005519175 and parameters: {'min_child_samples': 25}. Best is trial 63 with value: 1.1845559194049988.\u001b[0m\n",
      "min_data_in_leaf, val_score: 1.180529:  60%|######    | 3/5 [00:00<00:00,  6.79it/s]"
     ]
    },
    {
     "name": "stdout",
     "output_type": "stream",
     "text": [
      "Early stopping, best iteration is:\n",
      "[17]\tvalid_0's rmse: 1.18524\n",
      "Training until validation scores don't improve for 100 rounds\n",
      "Early stopping, best iteration is:\n",
      "[17]\tvalid_0's rmse: 1.18559\n",
      "Training until validation scores don't improve for 100 rounds\n"
     ]
    },
    {
     "name": "stderr",
     "output_type": "stream",
     "text": [
      "min_data_in_leaf, val_score: 1.180529:  80%|########  | 4/5 [00:00<00:00,  6.76it/s]\u001b[32m[I 2021-05-11 09:42:52,891]\u001b[0m Trial 66 finished with value: 1.18361971347784 and parameters: {'min_child_samples': 10}. Best is trial 66 with value: 1.18361971347784.\u001b[0m\n",
      "min_data_in_leaf, val_score: 1.180529: 100%|##########| 5/5 [00:00<00:00,  7.19it/s]\u001b[32m[I 2021-05-11 09:42:53,015]\u001b[0m Trial 67 finished with value: 1.1850252954920841 and parameters: {'min_child_samples': 100}. Best is trial 66 with value: 1.18361971347784.\u001b[0m\n",
      "min_data_in_leaf, val_score: 1.180529: 100%|##########| 5/5 [00:00<00:00,  6.91it/s]\n",
      "\u001b[32m[I 2021-05-11 09:42:53,038]\u001b[0m A new study created in memory with name: no-name-c6ac27ef-39b0-42a4-b793-ccdd3eb734ae\u001b[0m\n",
      "feature_fraction, val_score: inf:   0%|          | 0/7 [00:00<?, ?it/s]"
     ]
    },
    {
     "name": "stdout",
     "output_type": "stream",
     "text": [
      "Early stopping, best iteration is:\n",
      "[15]\tvalid_0's rmse: 1.18362\n",
      "Training until validation scores don't improve for 100 rounds\n",
      "Early stopping, best iteration is:\n",
      "[18]\tvalid_0's rmse: 1.18503\n",
      "rmse :  1.1370324651002184\n",
      "Training until validation scores don't improve for 100 rounds\n"
     ]
    },
    {
     "name": "stderr",
     "output_type": "stream",
     "text": [
      "feature_fraction, val_score: 1.103365:  14%|#4        | 1/7 [00:00<00:00,  8.46it/s]\u001b[32m[I 2021-05-11 09:42:53,159]\u001b[0m Trial 0 finished with value: 1.103364694798747 and parameters: {'feature_fraction': 0.8999999999999999}. Best is trial 0 with value: 1.103364694798747.\u001b[0m\n",
      "feature_fraction, val_score: 1.100071:  14%|#4        | 1/7 [00:00<00:00,  8.46it/s]\u001b[32m[I 2021-05-11 09:42:53,246]\u001b[0m Trial 1 finished with value: 1.1000708913847734 and parameters: {'feature_fraction': 0.4}. Best is trial 1 with value: 1.1000708913847734.\u001b[0m\n",
      "feature_fraction, val_score: 1.100071:  43%|####2     | 3/7 [00:00<00:00,  9.80it/s]\u001b[32m[I 2021-05-11 09:42:53,352]\u001b[0m Trial 2 finished with value: 1.1032403920796687 and parameters: {'feature_fraction': 0.6}. Best is trial 1 with value: 1.1000708913847734.\u001b[0m\n",
      "feature_fraction, val_score: 1.100071:  43%|####2     | 3/7 [00:00<00:00,  9.80it/s]"
     ]
    },
    {
     "name": "stdout",
     "output_type": "stream",
     "text": [
      "Early stopping, best iteration is:\n",
      "[10]\tvalid_0's rmse: 1.10336\n",
      "Training until validation scores don't improve for 100 rounds\n",
      "Early stopping, best iteration is:\n",
      "[15]\tvalid_0's rmse: 1.10007\n",
      "Training until validation scores don't improve for 100 rounds\n",
      "Early stopping, best iteration is:\n",
      "[21]\tvalid_0's rmse: 1.10324\n"
     ]
    },
    {
     "name": "stderr",
     "output_type": "stream",
     "text": [
      "feature_fraction, val_score: 1.099880:  57%|#####7    | 4/7 [00:00<00:00,  9.54it/s]\u001b[32m[I 2021-05-11 09:42:53,462]\u001b[0m Trial 3 finished with value: 1.0998804924525605 and parameters: {'feature_fraction': 1.0}. Best is trial 3 with value: 1.0998804924525605.\u001b[0m\n",
      "feature_fraction, val_score: 1.099880:  57%|#####7    | 4/7 [00:00<00:00,  9.54it/s]\u001b[32m[I 2021-05-11 09:42:53,561]\u001b[0m Trial 4 finished with value: 1.102626736510578 and parameters: {'feature_fraction': 0.8}. Best is trial 3 with value: 1.0998804924525605.\u001b[0m\n",
      "feature_fraction, val_score: 1.099880:  71%|#######1  | 5/7 [00:00<00:00,  9.54it/s]"
     ]
    },
    {
     "name": "stdout",
     "output_type": "stream",
     "text": [
      "Training until validation scores don't improve for 100 rounds\n",
      "Early stopping, best iteration is:\n",
      "[24]\tvalid_0's rmse: 1.09988\n",
      "Training until validation scores don't improve for 100 rounds\n",
      "Early stopping, best iteration is:\n",
      "[19]\tvalid_0's rmse: 1.10263\n"
     ]
    },
    {
     "name": "stderr",
     "output_type": "stream",
     "text": [
      "feature_fraction, val_score: 1.099474:  86%|########5 | 6/7 [00:00<00:00,  9.84it/s]\u001b[32m[I 2021-05-11 09:42:53,659]\u001b[0m Trial 5 finished with value: 1.0994740593272785 and parameters: {'feature_fraction': 0.7}. Best is trial 5 with value: 1.0994740593272785.\u001b[0m\n",
      "feature_fraction, val_score: 1.099474:  86%|########5 | 6/7 [00:00<00:00,  9.84it/s]\u001b[32m[I 2021-05-11 09:42:53,750]\u001b[0m Trial 6 finished with value: 1.100170287919765 and parameters: {'feature_fraction': 0.5}. Best is trial 5 with value: 1.0994740593272785.\u001b[0m\n",
      "feature_fraction, val_score: 1.099474: 100%|##########| 7/7 [00:00<00:00,  9.85it/s]\n",
      "num_leaves, val_score: 1.099474:   0%|          | 0/20 [00:00<?, ?it/s]"
     ]
    },
    {
     "name": "stdout",
     "output_type": "stream",
     "text": [
      "Training until validation scores don't improve for 100 rounds\n",
      "Early stopping, best iteration is:\n",
      "[18]\tvalid_0's rmse: 1.09947\n",
      "Training until validation scores don't improve for 100 rounds\n",
      "Early stopping, best iteration is:\n",
      "[17]\tvalid_0's rmse: 1.10017\n",
      "Training until validation scores don't improve for 100 rounds\n"
     ]
    },
    {
     "name": "stderr",
     "output_type": "stream",
     "text": [
      "num_leaves, val_score: 1.099474:   5%|5         | 1/20 [00:00<00:04,  4.17it/s]\u001b[32m[I 2021-05-11 09:42:53,994]\u001b[0m Trial 7 finished with value: 1.101766300547638 and parameters: {'num_leaves': 108}. Best is trial 7 with value: 1.101766300547638.\u001b[0m\n",
      "num_leaves, val_score: 1.098136:  10%|#         | 2/20 [00:00<00:03,  5.56it/s]\u001b[32m[I 2021-05-11 09:42:54,131]\u001b[0m Trial 8 finished with value: 1.0981361688757802 and parameters: {'num_leaves': 45}. Best is trial 8 with value: 1.0981361688757802.\u001b[0m\n",
      "num_leaves, val_score: 1.098136:  10%|#         | 2/20 [00:00<00:03,  5.56it/s]"
     ]
    },
    {
     "name": "stdout",
     "output_type": "stream",
     "text": [
      "Early stopping, best iteration is:\n",
      "[14]\tvalid_0's rmse: 1.10177\n",
      "Training until validation scores don't improve for 100 rounds\n",
      "Early stopping, best iteration is:\n",
      "[14]\tvalid_0's rmse: 1.09814\n",
      "Training until validation scores don't improve for 100 rounds\n"
     ]
    },
    {
     "name": "stderr",
     "output_type": "stream",
     "text": [
      "num_leaves, val_score: 1.098136:  15%|#5        | 3/20 [00:00<00:04,  3.99it/s]\u001b[32m[I 2021-05-11 09:42:54,466]\u001b[0m Trial 9 finished with value: 1.1052464183406243 and parameters: {'num_leaves': 163}. Best is trial 8 with value: 1.0981361688757802.\u001b[0m\n",
      "num_leaves, val_score: 1.098136:  15%|#5        | 3/20 [00:00<00:04,  3.99it/s]\u001b[32m[I 2021-05-11 09:42:54,541]\u001b[0m Trial 10 finished with value: 1.0998500234336281 and parameters: {'num_leaves': 17}. Best is trial 8 with value: 1.0981361688757802.\u001b[0m\n",
      "num_leaves, val_score: 1.098136:  20%|##        | 4/20 [00:00<00:04,  3.99it/s]"
     ]
    },
    {
     "name": "stdout",
     "output_type": "stream",
     "text": [
      "Early stopping, best iteration is:\n",
      "[12]\tvalid_0's rmse: 1.10525\n",
      "Training until validation scores don't improve for 100 rounds\n",
      "Early stopping, best iteration is:\n",
      "[19]\tvalid_0's rmse: 1.09985\n",
      "Training until validation scores don't improve for 100 rounds\n"
     ]
    },
    {
     "name": "stderr",
     "output_type": "stream",
     "text": [
      "num_leaves, val_score: 1.098136:  25%|##5       | 5/20 [00:00<00:02,  5.65it/s]\u001b[32m[I 2021-05-11 09:42:54,707]\u001b[0m Trial 11 finished with value: 1.0989115011047568 and parameters: {'num_leaves': 66}. Best is trial 8 with value: 1.0981361688757802.\u001b[0m\n",
      "num_leaves, val_score: 1.098136:  25%|##5       | 5/20 [00:00<00:02,  5.65it/s]"
     ]
    },
    {
     "name": "stdout",
     "output_type": "stream",
     "text": [
      "Early stopping, best iteration is:\n",
      "[12]\tvalid_0's rmse: 1.09891\n",
      "Training until validation scores don't improve for 100 rounds\n"
     ]
    },
    {
     "name": "stderr",
     "output_type": "stream",
     "text": [
      "num_leaves, val_score: 1.098136:  30%|###       | 6/20 [00:01<00:03,  4.19it/s]\u001b[32m[I 2021-05-11 09:42:55,098]\u001b[0m Trial 12 finished with value: 1.1049572875818279 and parameters: {'num_leaves': 225}. Best is trial 8 with value: 1.0981361688757802.\u001b[0m\n",
      "num_leaves, val_score: 1.098136:  30%|###       | 6/20 [00:01<00:03,  4.19it/s]"
     ]
    },
    {
     "name": "stdout",
     "output_type": "stream",
     "text": [
      "Early stopping, best iteration is:\n",
      "[8]\tvalid_0's rmse: 1.10496\n",
      "Training until validation scores don't improve for 100 rounds\n"
     ]
    },
    {
     "name": "stderr",
     "output_type": "stream",
     "text": [
      "num_leaves, val_score: 1.098136:  35%|###5      | 7/20 [00:01<00:03,  3.67it/s]\u001b[32m[I 2021-05-11 09:42:55,453]\u001b[0m Trial 13 finished with value: 1.1113754962232623 and parameters: {'num_leaves': 187}. Best is trial 8 with value: 1.0981361688757802.\u001b[0m\n",
      "num_leaves, val_score: 1.096968:  40%|####      | 8/20 [00:01<00:02,  4.29it/s]\u001b[32m[I 2021-05-11 09:42:55,592]\u001b[0m Trial 14 finished with value: 1.096967627249936 and parameters: {'num_leaves': 51}. Best is trial 14 with value: 1.096967627249936.\u001b[0m\n",
      "num_leaves, val_score: 1.096968:  40%|####      | 8/20 [00:01<00:02,  4.29it/s]"
     ]
    },
    {
     "name": "stdout",
     "output_type": "stream",
     "text": [
      "Early stopping, best iteration is:\n",
      "[4]\tvalid_0's rmse: 1.11138\n",
      "Training until validation scores don't improve for 100 rounds\n",
      "Early stopping, best iteration is:\n",
      "[15]\tvalid_0's rmse: 1.09697\n",
      "Training until validation scores don't improve for 100 rounds\n"
     ]
    },
    {
     "name": "stderr",
     "output_type": "stream",
     "text": [
      "num_leaves, val_score: 1.096968:  45%|####5     | 9/20 [00:01<00:02,  5.14it/s]\u001b[32m[I 2021-05-11 09:42:55,694]\u001b[0m Trial 15 finished with value: 1.101033186182421 and parameters: {'num_leaves': 27}. Best is trial 14 with value: 1.096967627249936.\u001b[0m\n",
      "num_leaves, val_score: 1.096968:  50%|#####     | 10/20 [00:02<00:01,  6.00it/s]\u001b[32m[I 2021-05-11 09:42:55,794]\u001b[0m Trial 16 finished with value: 1.0981864042240148 and parameters: {'num_leaves': 23}. Best is trial 14 with value: 1.096967627249936.\u001b[0m\n",
      "num_leaves, val_score: 1.096968:  50%|#####     | 10/20 [00:02<00:01,  6.00it/s]"
     ]
    },
    {
     "name": "stdout",
     "output_type": "stream",
     "text": [
      "Early stopping, best iteration is:\n",
      "[15]\tvalid_0's rmse: 1.10103\n",
      "Training until validation scores don't improve for 100 rounds\n",
      "Early stopping, best iteration is:\n",
      "[23]\tvalid_0's rmse: 1.09819\n",
      "Training until validation scores don't improve for 100 rounds\n"
     ]
    },
    {
     "name": "stderr",
     "output_type": "stream",
     "text": [
      "num_leaves, val_score: 1.096968:  55%|#####5    | 11/20 [00:02<00:01,  5.32it/s]\u001b[32m[I 2021-05-11 09:42:56,033]\u001b[0m Trial 17 finished with value: 1.0988812107275336 and parameters: {'num_leaves': 100}. Best is trial 14 with value: 1.096967627249936.\u001b[0m\n",
      "num_leaves, val_score: 1.096968:  60%|######    | 12/20 [00:02<00:01,  5.60it/s]\u001b[32m[I 2021-05-11 09:42:56,190]\u001b[0m Trial 18 finished with value: 1.0985939238379814 and parameters: {'num_leaves': 58}. Best is trial 14 with value: 1.096967627249936.\u001b[0m\n",
      "num_leaves, val_score: 1.096968:  60%|######    | 12/20 [00:02<00:01,  5.60it/s]"
     ]
    },
    {
     "name": "stdout",
     "output_type": "stream",
     "text": [
      "Early stopping, best iteration is:\n",
      "[14]\tvalid_0's rmse: 1.09888\n",
      "Training until validation scores don't improve for 100 rounds\n",
      "Early stopping, best iteration is:\n",
      "[14]\tvalid_0's rmse: 1.09859\n",
      "Training until validation scores don't improve for 100 rounds\n"
     ]
    },
    {
     "name": "stderr",
     "output_type": "stream",
     "text": [
      "num_leaves, val_score: 1.096912:  65%|######5   | 13/20 [00:02<00:01,  5.53it/s]\u001b[32m[I 2021-05-11 09:42:56,375]\u001b[0m Trial 19 finished with value: 1.0969122155900282 and parameters: {'num_leaves': 71}. Best is trial 19 with value: 1.0969122155900282.\u001b[0m\n",
      "num_leaves, val_score: 1.096912:  70%|#######   | 14/20 [00:02<00:01,  5.51it/s]\u001b[32m[I 2021-05-11 09:42:56,558]\u001b[0m Trial 20 finished with value: 1.0993628079689675 and parameters: {'num_leaves': 78}. Best is trial 19 with value: 1.0969122155900282.\u001b[0m\n",
      "num_leaves, val_score: 1.096912:  70%|#######   | 14/20 [00:02<00:01,  5.51it/s]"
     ]
    },
    {
     "name": "stdout",
     "output_type": "stream",
     "text": [
      "Early stopping, best iteration is:\n",
      "[14]\tvalid_0's rmse: 1.09691\n",
      "Training until validation scores don't improve for 100 rounds\n",
      "Early stopping, best iteration is:\n",
      "[13]\tvalid_0's rmse: 1.09936\n",
      "Training until validation scores don't improve for 100 rounds\n"
     ]
    },
    {
     "name": "stderr",
     "output_type": "stream",
     "text": [
      "num_leaves, val_score: 1.096912:  75%|#######5  | 15/20 [00:03<00:01,  4.63it/s]\u001b[32m[I 2021-05-11 09:42:56,855]\u001b[0m Trial 21 finished with value: 1.1069512791553202 and parameters: {'num_leaves': 141}. Best is trial 19 with value: 1.0969122155900282.\u001b[0m\n",
      "num_leaves, val_score: 1.096912:  75%|#######5  | 15/20 [00:03<00:01,  4.63it/s]\u001b[32m[I 2021-05-11 09:42:56,911]\u001b[0m Trial 22 finished with value: 1.0992055727071155 and parameters: {'num_leaves': 4}. Best is trial 19 with value: 1.0969122155900282.\u001b[0m\n",
      "num_leaves, val_score: 1.096912:  80%|########  | 16/20 [00:03<00:00,  4.63it/s]"
     ]
    },
    {
     "name": "stdout",
     "output_type": "stream",
     "text": [
      "Early stopping, best iteration is:\n",
      "[13]\tvalid_0's rmse: 1.10695\n",
      "Training until validation scores don't improve for 100 rounds\n",
      "[200]\tvalid_0's rmse: 1.10309\n",
      "Early stopping, best iteration is:\n",
      "[102]\tvalid_0's rmse: 1.09921\n",
      "Training until validation scores don't improve for 100 rounds\n"
     ]
    },
    {
     "name": "stderr",
     "output_type": "stream",
     "text": [
      "num_leaves, val_score: 1.096912:  85%|########5 | 17/20 [00:03<00:00,  5.42it/s]\u001b[32m[I 2021-05-11 09:42:57,150]\u001b[0m Trial 23 finished with value: 1.100842456598775 and parameters: {'num_leaves': 105}. Best is trial 19 with value: 1.0969122155900282.\u001b[0m\n",
      "num_leaves, val_score: 1.096912:  90%|######### | 18/20 [00:03<00:00,  5.39it/s]\u001b[32m[I 2021-05-11 09:42:57,339]\u001b[0m Trial 24 finished with value: 1.0993628079689675 and parameters: {'num_leaves': 78}. Best is trial 19 with value: 1.0969122155900282.\u001b[0m\n",
      "num_leaves, val_score: 1.096912:  90%|######### | 18/20 [00:03<00:00,  5.39it/s]"
     ]
    },
    {
     "name": "stdout",
     "output_type": "stream",
     "text": [
      "Early stopping, best iteration is:\n",
      "[15]\tvalid_0's rmse: 1.10084\n",
      "Training until validation scores don't improve for 100 rounds\n",
      "Early stopping, best iteration is:\n",
      "[13]\tvalid_0's rmse: 1.09936\n",
      "Training until validation scores don't improve for 100 rounds\n"
     ]
    },
    {
     "name": "stderr",
     "output_type": "stream",
     "text": [
      "num_leaves, val_score: 1.096912:  95%|#########5| 19/20 [00:03<00:00,  4.51it/s]\u001b[32m[I 2021-05-11 09:42:57,662]\u001b[0m Trial 25 finished with value: 1.1024729353075953 and parameters: {'num_leaves': 137}. Best is trial 19 with value: 1.0969122155900282.\u001b[0m\n",
      "num_leaves, val_score: 1.096912: 100%|##########| 20/20 [00:04<00:00,  5.09it/s]\u001b[32m[I 2021-05-11 09:42:57,791]\u001b[0m Trial 26 finished with value: 1.0981361688757802 and parameters: {'num_leaves': 45}. Best is trial 19 with value: 1.0969122155900282.\u001b[0m\n",
      "num_leaves, val_score: 1.096912: 100%|##########| 20/20 [00:04<00:00,  4.95it/s]\n",
      "bagging, val_score: 1.096912:   0%|          | 0/10 [00:00<?, ?it/s]"
     ]
    },
    {
     "name": "stdout",
     "output_type": "stream",
     "text": [
      "Early stopping, best iteration is:\n",
      "[17]\tvalid_0's rmse: 1.10247\n",
      "Training until validation scores don't improve for 100 rounds\n",
      "Early stopping, best iteration is:\n",
      "[14]\tvalid_0's rmse: 1.09814\n",
      "Training until validation scores don't improve for 100 rounds\n"
     ]
    },
    {
     "name": "stderr",
     "output_type": "stream",
     "text": [
      "bagging, val_score: 1.096912:  10%|#         | 1/10 [00:00<00:01,  5.02it/s]\u001b[32m[I 2021-05-11 09:42:57,994]\u001b[0m Trial 27 finished with value: 1.102549090323046 and parameters: {'bagging_fraction': 0.650369927227505, 'bagging_freq': 3}. Best is trial 27 with value: 1.102549090323046.\u001b[0m\n",
      "bagging, val_score: 1.096912:  20%|##        | 2/10 [00:00<00:01,  5.12it/s]\u001b[32m[I 2021-05-11 09:42:58,187]\u001b[0m Trial 28 finished with value: 1.107358600883751 and parameters: {'bagging_fraction': 0.6516444550677662, 'bagging_freq': 5}. Best is trial 27 with value: 1.102549090323046.\u001b[0m\n",
      "bagging, val_score: 1.096912:  20%|##        | 2/10 [00:00<00:01,  5.12it/s]"
     ]
    },
    {
     "name": "stdout",
     "output_type": "stream",
     "text": [
      "Early stopping, best iteration is:\n",
      "[12]\tvalid_0's rmse: 1.10255\n",
      "Training until validation scores don't improve for 100 rounds\n",
      "Early stopping, best iteration is:\n",
      "[8]\tvalid_0's rmse: 1.10736\n"
     ]
    },
    {
     "name": "stderr",
     "output_type": "stream",
     "text": [
      "bagging, val_score: 1.096912:  30%|###       | 3/10 [00:00<00:01,  5.03it/s]\u001b[32m[I 2021-05-11 09:42:58,390]\u001b[0m Trial 29 finished with value: 1.0974396844245136 and parameters: {'bagging_fraction': 0.8943344809975067, 'bagging_freq': 3}. Best is trial 29 with value: 1.0974396844245136.\u001b[0m\n",
      "bagging, val_score: 1.096912:  30%|###       | 3/10 [00:00<00:01,  5.03it/s]"
     ]
    },
    {
     "name": "stdout",
     "output_type": "stream",
     "text": [
      "Training until validation scores don't improve for 100 rounds\n",
      "Early stopping, best iteration is:\n",
      "[14]\tvalid_0's rmse: 1.09744\n"
     ]
    },
    {
     "name": "stderr",
     "output_type": "stream",
     "text": [
      "bagging, val_score: 1.096912:  40%|####      | 4/10 [00:00<00:01,  4.89it/s]\u001b[32m[I 2021-05-11 09:42:58,603]\u001b[0m Trial 30 finished with value: 1.1069139754846207 and parameters: {'bagging_fraction': 0.8621409345058716, 'bagging_freq': 4}. Best is trial 29 with value: 1.0974396844245136.\u001b[0m\n",
      "bagging, val_score: 1.096912:  40%|####      | 4/10 [00:00<00:01,  4.89it/s]"
     ]
    },
    {
     "name": "stdout",
     "output_type": "stream",
     "text": [
      "Training until validation scores don't improve for 100 rounds\n",
      "Early stopping, best iteration is:\n",
      "[20]\tvalid_0's rmse: 1.10691\n"
     ]
    },
    {
     "name": "stderr",
     "output_type": "stream",
     "text": [
      "bagging, val_score: 1.096757:  50%|#####     | 5/10 [00:01<00:01,  4.85it/s]\u001b[32m[I 2021-05-11 09:42:58,812]\u001b[0m Trial 31 finished with value: 1.0967574267380014 and parameters: {'bagging_fraction': 0.9483680788206715, 'bagging_freq': 3}. Best is trial 31 with value: 1.0967574267380014.\u001b[0m\n",
      "bagging, val_score: 1.096757:  50%|#####     | 5/10 [00:01<00:01,  4.85it/s]"
     ]
    },
    {
     "name": "stdout",
     "output_type": "stream",
     "text": [
      "Training until validation scores don't improve for 100 rounds\n",
      "Early stopping, best iteration is:\n",
      "[24]\tvalid_0's rmse: 1.09676\n"
     ]
    },
    {
     "name": "stderr",
     "output_type": "stream",
     "text": [
      "bagging, val_score: 1.096757:  60%|######    | 6/10 [00:01<00:00,  5.02it/s]\u001b[32m[I 2021-05-11 09:42:58,997]\u001b[0m Trial 32 finished with value: 1.099503795225582 and parameters: {'bagging_fraction': 0.9533838111866512, 'bagging_freq': 1}. Best is trial 31 with value: 1.0967574267380014.\u001b[0m\n",
      "bagging, val_score: 1.096757:  60%|######    | 6/10 [00:01<00:00,  5.02it/s]"
     ]
    },
    {
     "name": "stdout",
     "output_type": "stream",
     "text": [
      "Training until validation scores don't improve for 100 rounds\n",
      "Early stopping, best iteration is:\n",
      "[14]\tvalid_0's rmse: 1.0995\n",
      "Training until validation scores don't improve for 100 rounds\n"
     ]
    },
    {
     "name": "stderr",
     "output_type": "stream",
     "text": [
      "bagging, val_score: 1.096757:  70%|#######   | 7/10 [00:01<00:00,  5.03it/s]\u001b[32m[I 2021-05-11 09:42:59,196]\u001b[0m Trial 33 finished with value: 1.1063500814078502 and parameters: {'bagging_fraction': 0.6338309097751501, 'bagging_freq': 7}. Best is trial 31 with value: 1.0967574267380014.\u001b[0m\n",
      "bagging, val_score: 1.096757:  70%|#######   | 7/10 [00:01<00:00,  5.03it/s]"
     ]
    },
    {
     "name": "stdout",
     "output_type": "stream",
     "text": [
      "Early stopping, best iteration is:\n",
      "[12]\tvalid_0's rmse: 1.10635\n",
      "Training until validation scores don't improve for 100 rounds\n",
      "Early stopping, best iteration is:\n",
      "[14]\tvalid_0's rmse: 1.10239\n"
     ]
    },
    {
     "name": "stderr",
     "output_type": "stream",
     "text": [
      "bagging, val_score: 1.096757:  80%|########  | 8/10 [00:01<00:00,  5.02it/s]\u001b[32m[I 2021-05-11 09:42:59,396]\u001b[0m Trial 34 finished with value: 1.1023874537262939 and parameters: {'bagging_fraction': 0.8768999616516238, 'bagging_freq': 7}. Best is trial 31 with value: 1.0967574267380014.\u001b[0m\n",
      "bagging, val_score: 1.096757:  90%|######### | 9/10 [00:01<00:00,  5.08it/s]\u001b[32m[I 2021-05-11 09:42:59,587]\u001b[0m Trial 35 finished with value: 1.1098856704999012 and parameters: {'bagging_fraction': 0.7173844494598044, 'bagging_freq': 4}. Best is trial 31 with value: 1.0967574267380014.\u001b[0m\n",
      "bagging, val_score: 1.096757:  90%|######### | 9/10 [00:01<00:00,  5.08it/s]"
     ]
    },
    {
     "name": "stdout",
     "output_type": "stream",
     "text": [
      "Training until validation scores don't improve for 100 rounds\n",
      "Early stopping, best iteration is:\n",
      "[6]\tvalid_0's rmse: 1.10989\n",
      "Training until validation scores don't improve for 100 rounds\n"
     ]
    },
    {
     "name": "stderr",
     "output_type": "stream",
     "text": [
      "bagging, val_score: 1.096757: 100%|##########| 10/10 [00:01<00:00,  5.04it/s]\u001b[32m[I 2021-05-11 09:42:59,789]\u001b[0m Trial 36 finished with value: 1.1060077235321055 and parameters: {'bagging_fraction': 0.449771026627939, 'bagging_freq': 1}. Best is trial 31 with value: 1.0967574267380014.\u001b[0m\n",
      "bagging, val_score: 1.096757: 100%|##########| 10/10 [00:01<00:00,  5.01it/s]\n",
      "feature_fraction_stage2, val_score: 1.096757:   0%|          | 0/6 [00:00<?, ?it/s]"
     ]
    },
    {
     "name": "stdout",
     "output_type": "stream",
     "text": [
      "Early stopping, best iteration is:\n",
      "[10]\tvalid_0's rmse: 1.10601\n",
      "Training until validation scores don't improve for 100 rounds\n"
     ]
    },
    {
     "name": "stderr",
     "output_type": "stream",
     "text": [
      "feature_fraction_stage2, val_score: 1.096757:  17%|#6        | 1/6 [00:00<00:01,  4.86it/s]\u001b[32m[I 2021-05-11 09:42:59,998]\u001b[0m Trial 37 finished with value: 1.101610646739507 and parameters: {'feature_fraction': 0.7799999999999999}. Best is trial 37 with value: 1.101610646739507.\u001b[0m\n",
      "feature_fraction_stage2, val_score: 1.096757:  17%|#6        | 1/6 [00:00<00:01,  4.86it/s]"
     ]
    },
    {
     "name": "stdout",
     "output_type": "stream",
     "text": [
      "Early stopping, best iteration is:\n",
      "[11]\tvalid_0's rmse: 1.10161\n",
      "Training until validation scores don't improve for 100 rounds\n",
      "Early stopping, best iteration is:\n",
      "[18]\tvalid_0's rmse: 1.10304\n"
     ]
    },
    {
     "name": "stderr",
     "output_type": "stream",
     "text": [
      "feature_fraction_stage2, val_score: 1.096757:  33%|###3      | 2/6 [00:00<00:00,  4.88it/s]\u001b[32m[I 2021-05-11 09:43:00,203]\u001b[0m Trial 38 finished with value: 1.1030434809334346 and parameters: {'feature_fraction': 0.652}. Best is trial 37 with value: 1.101610646739507.\u001b[0m\n",
      "feature_fraction_stage2, val_score: 1.096757:  50%|#####     | 3/6 [00:00<00:00,  4.98it/s]"
     ]
    },
    {
     "name": "stdout",
     "output_type": "stream",
     "text": [
      "Training until validation scores don't improve for 100 rounds\n",
      "Early stopping, best iteration is:\n",
      "[14]\tvalid_0's rmse: 1.10003\n"
     ]
    },
    {
     "name": "stderr",
     "output_type": "stream",
     "text": [
      "\u001b[32m[I 2021-05-11 09:43:00,399]\u001b[0m Trial 39 finished with value: 1.1000331254418856 and parameters: {'feature_fraction': 0.716}. Best is trial 39 with value: 1.1000331254418856.\u001b[0m\n",
      "feature_fraction_stage2, val_score: 1.096757:  67%|######6   | 4/6 [00:00<00:00,  5.05it/s]\u001b[32m[I 2021-05-11 09:43:00,593]\u001b[0m Trial 40 finished with value: 1.100602401106914 and parameters: {'feature_fraction': 0.62}. Best is trial 39 with value: 1.1000331254418856.\u001b[0m\n",
      "feature_fraction_stage2, val_score: 1.096757:  67%|######6   | 4/6 [00:00<00:00,  5.05it/s]"
     ]
    },
    {
     "name": "stdout",
     "output_type": "stream",
     "text": [
      "Training until validation scores don't improve for 100 rounds\n",
      "Early stopping, best iteration is:\n",
      "[11]\tvalid_0's rmse: 1.1006\n",
      "Training until validation scores don't improve for 100 rounds\n"
     ]
    },
    {
     "name": "stderr",
     "output_type": "stream",
     "text": [
      "feature_fraction_stage2, val_score: 1.096757:  83%|########3 | 5/6 [00:01<00:00,  4.90it/s]\u001b[32m[I 2021-05-11 09:43:00,808]\u001b[0m Trial 41 finished with value: 1.0967574267380014 and parameters: {'feature_fraction': 0.6839999999999999}. Best is trial 41 with value: 1.0967574267380014.\u001b[0m\n",
      "feature_fraction_stage2, val_score: 1.096757: 100%|##########| 6/6 [00:01<00:00,  5.02it/s]\u001b[32m[I 2021-05-11 09:43:00,997]\u001b[0m Trial 42 finished with value: 1.0989024932756535 and parameters: {'feature_fraction': 0.748}. Best is trial 41 with value: 1.0967574267380014.\u001b[0m\n",
      "feature_fraction_stage2, val_score: 1.096757: 100%|##########| 6/6 [00:01<00:00,  4.97it/s]\n",
      "regularization_factors, val_score: 1.096757:   0%|          | 0/20 [00:00<?, ?it/s]"
     ]
    },
    {
     "name": "stdout",
     "output_type": "stream",
     "text": [
      "Early stopping, best iteration is:\n",
      "[24]\tvalid_0's rmse: 1.09676\n",
      "Training until validation scores don't improve for 100 rounds\n",
      "Early stopping, best iteration is:\n",
      "[11]\tvalid_0's rmse: 1.0989\n"
     ]
    },
    {
     "name": "stderr",
     "output_type": "stream",
     "text": [
      "regularization_factors, val_score: 1.096757:   5%|5         | 1/20 [00:00<00:03,  4.81it/s]\u001b[32m[I 2021-05-11 09:43:01,209]\u001b[0m Trial 43 finished with value: 1.0981809494610983 and parameters: {'lambda_l1': 4.5346853672940716e-05, 'lambda_l2': 4.130672426650457}. Best is trial 43 with value: 1.0981809494610983.\u001b[0m\n",
      "regularization_factors, val_score: 1.096757:   5%|5         | 1/20 [00:00<00:03,  4.81it/s]"
     ]
    },
    {
     "name": "stdout",
     "output_type": "stream",
     "text": [
      "Training until validation scores don't improve for 100 rounds\n",
      "Early stopping, best iteration is:\n",
      "[11]\tvalid_0's rmse: 1.09818\n"
     ]
    },
    {
     "name": "stderr",
     "output_type": "stream",
     "text": [
      "regularization_factors, val_score: 1.096757:  10%|#         | 2/20 [00:00<00:03,  4.59it/s]\u001b[32m[I 2021-05-11 09:43:01,434]\u001b[0m Trial 44 finished with value: 1.09952245486864 and parameters: {'lambda_l1': 8.39235352854789, 'lambda_l2': 0.02385713454823896}. Best is trial 43 with value: 1.0981809494610983.\u001b[0m\n",
      "regularization_factors, val_score: 1.096757:  10%|#         | 2/20 [00:00<00:03,  4.59it/s]"
     ]
    },
    {
     "name": "stdout",
     "output_type": "stream",
     "text": [
      "Training until validation scores don't improve for 100 rounds\n",
      "Early stopping, best iteration is:\n",
      "[13]\tvalid_0's rmse: 1.09952\n"
     ]
    },
    {
     "name": "stderr",
     "output_type": "stream",
     "text": [
      "regularization_factors, val_score: 1.096757:  15%|#5        | 3/20 [00:00<00:03,  4.66it/s]\u001b[32m[I 2021-05-11 09:43:01,644]\u001b[0m Trial 45 finished with value: 1.097528778520087 and parameters: {'lambda_l1': 0.0008040092680509384, 'lambda_l2': 0.1686959304514427}. Best is trial 45 with value: 1.097528778520087.\u001b[0m\n",
      "regularization_factors, val_score: 1.096757:  15%|#5        | 3/20 [00:00<00:03,  4.66it/s]"
     ]
    },
    {
     "name": "stdout",
     "output_type": "stream",
     "text": [
      "Training until validation scores don't improve for 100 rounds\n",
      "Early stopping, best iteration is:\n",
      "[15]\tvalid_0's rmse: 1.09753\n"
     ]
    },
    {
     "name": "stderr",
     "output_type": "stream",
     "text": [
      "regularization_factors, val_score: 1.096757:  20%|##        | 4/20 [00:00<00:03,  4.62it/s]\u001b[32m[I 2021-05-11 09:43:01,864]\u001b[0m Trial 46 finished with value: 1.0967573912464847 and parameters: {'lambda_l1': 4.783102599748798e-08, 'lambda_l2': 8.459063661983229e-05}. Best is trial 46 with value: 1.0967573912464847.\u001b[0m\n",
      "regularization_factors, val_score: 1.096757:  20%|##        | 4/20 [00:00<00:03,  4.62it/s]"
     ]
    },
    {
     "name": "stdout",
     "output_type": "stream",
     "text": [
      "Training until validation scores don't improve for 100 rounds\n",
      "Early stopping, best iteration is:\n",
      "[24]\tvalid_0's rmse: 1.09676\n"
     ]
    },
    {
     "name": "stderr",
     "output_type": "stream",
     "text": [
      "regularization_factors, val_score: 1.096757:  25%|##5       | 5/20 [00:01<00:03,  4.77it/s]\u001b[32m[I 2021-05-11 09:43:02,061]\u001b[0m Trial 47 finished with value: 1.1023201111579783 and parameters: {'lambda_l1': 0.13299732905997974, 'lambda_l2': 1.8131936268959625e-05}. Best is trial 46 with value: 1.0967573912464847.\u001b[0m\n",
      "regularization_factors, val_score: 1.096757:  25%|##5       | 5/20 [00:01<00:03,  4.77it/s]"
     ]
    },
    {
     "name": "stdout",
     "output_type": "stream",
     "text": [
      "Training until validation scores don't improve for 100 rounds\n",
      "Early stopping, best iteration is:\n",
      "[14]\tvalid_0's rmse: 1.10232\n",
      "Training until validation scores don't improve for 100 rounds\n"
     ]
    },
    {
     "name": "stderr",
     "output_type": "stream",
     "text": [
      "regularization_factors, val_score: 1.096757:  30%|###       | 6/20 [00:01<00:03,  4.65it/s]\u001b[32m[I 2021-05-11 09:43:02,287]\u001b[0m Trial 48 finished with value: 1.098542063938091 and parameters: {'lambda_l1': 3.96129275194006, 'lambda_l2': 2.4999116602285816}. Best is trial 46 with value: 1.0967573912464847.\u001b[0m\n",
      "regularization_factors, val_score: 1.096757:  30%|###       | 6/20 [00:01<00:03,  4.65it/s]"
     ]
    },
    {
     "name": "stdout",
     "output_type": "stream",
     "text": [
      "Early stopping, best iteration is:\n",
      "[16]\tvalid_0's rmse: 1.09854\n",
      "Training until validation scores don't improve for 100 rounds\n"
     ]
    },
    {
     "name": "stderr",
     "output_type": "stream",
     "text": [
      "regularization_factors, val_score: 1.096757:  35%|###5      | 7/20 [00:01<00:02,  4.68it/s]\u001b[32m[I 2021-05-11 09:43:02,497]\u001b[0m Trial 49 finished with value: 1.0998368076069218 and parameters: {'lambda_l1': 9.690800703458551e-05, 'lambda_l2': 2.066414520919564}. Best is trial 46 with value: 1.0967573912464847.\u001b[0m\n",
      "regularization_factors, val_score: 1.096757:  35%|###5      | 7/20 [00:01<00:02,  4.68it/s]"
     ]
    },
    {
     "name": "stdout",
     "output_type": "stream",
     "text": [
      "Early stopping, best iteration is:\n",
      "[14]\tvalid_0's rmse: 1.09984\n",
      "Training until validation scores don't improve for 100 rounds\n"
     ]
    },
    {
     "name": "stderr",
     "output_type": "stream",
     "text": [
      "regularization_factors, val_score: 1.096757:  40%|####      | 8/20 [00:01<00:02,  4.68it/s]\u001b[32m[I 2021-05-11 09:43:02,711]\u001b[0m Trial 50 finished with value: 1.0994743499398758 and parameters: {'lambda_l1': 0.007133398964266907, 'lambda_l2': 7.562810015888499e-07}. Best is trial 46 with value: 1.0967573912464847.\u001b[0m\n",
      "regularization_factors, val_score: 1.096757:  40%|####      | 8/20 [00:01<00:02,  4.68it/s]"
     ]
    },
    {
     "name": "stdout",
     "output_type": "stream",
     "text": [
      "Early stopping, best iteration is:\n",
      "[14]\tvalid_0's rmse: 1.09947\n",
      "Training until validation scores don't improve for 100 rounds\n"
     ]
    },
    {
     "name": "stderr",
     "output_type": "stream",
     "text": [
      "regularization_factors, val_score: 1.096757:  45%|####5     | 9/20 [00:01<00:02,  4.67it/s]\u001b[32m[I 2021-05-11 09:43:02,926]\u001b[0m Trial 51 finished with value: 1.099709279713247 and parameters: {'lambda_l1': 0.2660291168971599, 'lambda_l2': 0.002475145012955535}. Best is trial 46 with value: 1.0967573912464847.\u001b[0m\n",
      "regularization_factors, val_score: 1.096757:  45%|####5     | 9/20 [00:01<00:02,  4.67it/s]"
     ]
    },
    {
     "name": "stdout",
     "output_type": "stream",
     "text": [
      "Early stopping, best iteration is:\n",
      "[15]\tvalid_0's rmse: 1.09971\n",
      "Training until validation scores don't improve for 100 rounds\n"
     ]
    },
    {
     "name": "stderr",
     "output_type": "stream",
     "text": [
      "regularization_factors, val_score: 1.096757:  50%|#####     | 10/20 [00:02<00:02,  4.68it/s]\u001b[32m[I 2021-05-11 09:43:03,138]\u001b[0m Trial 52 finished with value: 1.0994730038278968 and parameters: {'lambda_l1': 0.011099643459166524, 'lambda_l2': 4.625287558637182e-06}. Best is trial 46 with value: 1.0967573912464847.\u001b[0m\n",
      "regularization_factors, val_score: 1.096757:  50%|#####     | 10/20 [00:02<00:02,  4.68it/s]"
     ]
    },
    {
     "name": "stdout",
     "output_type": "stream",
     "text": [
      "Early stopping, best iteration is:\n",
      "[14]\tvalid_0's rmse: 1.09947\n",
      "Training until validation scores don't improve for 100 rounds\n"
     ]
    },
    {
     "name": "stderr",
     "output_type": "stream",
     "text": [
      "regularization_factors, val_score: 1.096757:  55%|#####5    | 11/20 [00:02<00:02,  4.49it/s]\u001b[32m[I 2021-05-11 09:43:03,382]\u001b[0m Trial 53 finished with value: 1.096757426716001 and parameters: {'lambda_l1': 1.3779563412522439e-08, 'lambda_l2': 4.4948378598558044e-08}. Best is trial 46 with value: 1.0967573912464847.\u001b[0m\n",
      "regularization_factors, val_score: 1.096757:  55%|#####5    | 11/20 [00:02<00:02,  4.49it/s]"
     ]
    },
    {
     "name": "stdout",
     "output_type": "stream",
     "text": [
      "Early stopping, best iteration is:\n",
      "[24]\tvalid_0's rmse: 1.09676\n",
      "Training until validation scores don't improve for 100 rounds\n"
     ]
    },
    {
     "name": "stderr",
     "output_type": "stream",
     "text": [
      "regularization_factors, val_score: 1.096757:  60%|######    | 12/20 [00:02<00:01,  4.43it/s]\u001b[32m[I 2021-05-11 09:43:03,614]\u001b[0m Trial 54 finished with value: 1.0967574267278761 and parameters: {'lambda_l1': 1.0466110280022223e-08, 'lambda_l2': 1.5679167389173905e-08}. Best is trial 46 with value: 1.0967573912464847.\u001b[0m\n",
      "regularization_factors, val_score: 1.096757:  60%|######    | 12/20 [00:02<00:01,  4.43it/s]"
     ]
    },
    {
     "name": "stdout",
     "output_type": "stream",
     "text": [
      "Early stopping, best iteration is:\n",
      "[24]\tvalid_0's rmse: 1.09676\n",
      "Training until validation scores don't improve for 100 rounds\n"
     ]
    },
    {
     "name": "stderr",
     "output_type": "stream",
     "text": [
      "regularization_factors, val_score: 1.096757:  65%|######5   | 13/20 [00:02<00:01,  4.44it/s]\u001b[32m[I 2021-05-11 09:43:03,839]\u001b[0m Trial 55 finished with value: 1.0967574267212319 and parameters: {'lambda_l1': 1.952161782839131e-08, 'lambda_l2': 2.701012242235074e-08}. Best is trial 46 with value: 1.0967573912464847.\u001b[0m\n",
      "regularization_factors, val_score: 1.096757:  65%|######5   | 13/20 [00:02<00:01,  4.44it/s]"
     ]
    },
    {
     "name": "stdout",
     "output_type": "stream",
     "text": [
      "Early stopping, best iteration is:\n",
      "[24]\tvalid_0's rmse: 1.09676\n",
      "Training until validation scores don't improve for 100 rounds\n"
     ]
    },
    {
     "name": "stderr",
     "output_type": "stream",
     "text": [
      "regularization_factors, val_score: 1.096757:  70%|#######   | 14/20 [00:03<00:01,  4.33it/s]\u001b[32m[I 2021-05-11 09:43:04,082]\u001b[0m Trial 56 finished with value: 1.0967573884034707 and parameters: {'lambda_l1': 7.165030491839542e-07, 'lambda_l2': 9.053643898027614e-05}. Best is trial 56 with value: 1.0967573884034707.\u001b[0m\n",
      "regularization_factors, val_score: 1.096757:  70%|#######   | 14/20 [00:03<00:01,  4.33it/s]"
     ]
    },
    {
     "name": "stdout",
     "output_type": "stream",
     "text": [
      "Early stopping, best iteration is:\n",
      "[24]\tvalid_0's rmse: 1.09676\n",
      "Training until validation scores don't improve for 100 rounds\n"
     ]
    },
    {
     "name": "stderr",
     "output_type": "stream",
     "text": [
      "regularization_factors, val_score: 1.096757:  75%|#######5  | 15/20 [00:03<00:01,  4.36it/s]\u001b[32m[I 2021-05-11 09:43:04,309]\u001b[0m Trial 57 finished with value: 1.096757352597683 and parameters: {'lambda_l1': 1.051817349638922e-06, 'lambda_l2': 0.0001755529403339786}. Best is trial 57 with value: 1.096757352597683.\u001b[0m\n",
      "regularization_factors, val_score: 1.096757:  75%|#######5  | 15/20 [00:03<00:01,  4.36it/s]"
     ]
    },
    {
     "name": "stdout",
     "output_type": "stream",
     "text": [
      "Early stopping, best iteration is:\n",
      "[24]\tvalid_0's rmse: 1.09676\n",
      "Training until validation scores don't improve for 100 rounds\n"
     ]
    },
    {
     "name": "stderr",
     "output_type": "stream",
     "text": [
      "regularization_factors, val_score: 1.096757:  80%|########  | 16/20 [00:03<00:00,  4.36it/s]\u001b[32m[I 2021-05-11 09:43:04,537]\u001b[0m Trial 58 finished with value: 1.0967570327745417 and parameters: {'lambda_l1': 1.6196708929813955e-06, 'lambda_l2': 0.000939092975946575}. Best is trial 58 with value: 1.0967570327745417.\u001b[0m\n",
      "regularization_factors, val_score: 1.096757:  80%|########  | 16/20 [00:03<00:00,  4.36it/s]"
     ]
    },
    {
     "name": "stdout",
     "output_type": "stream",
     "text": [
      "Early stopping, best iteration is:\n",
      "[24]\tvalid_0's rmse: 1.09676\n",
      "Training until validation scores don't improve for 100 rounds\n"
     ]
    },
    {
     "name": "stderr",
     "output_type": "stream",
     "text": [
      "regularization_factors, val_score: 1.096757:  85%|########5 | 17/20 [00:03<00:00,  4.31it/s]\u001b[32m[I 2021-05-11 09:43:04,775]\u001b[0m Trial 59 finished with value: 1.0967567842283812 and parameters: {'lambda_l1': 1.5732099443880303e-06, 'lambda_l2': 0.0015332138122421213}. Best is trial 59 with value: 1.0967567842283812.\u001b[0m\n",
      "regularization_factors, val_score: 1.096757:  85%|########5 | 17/20 [00:03<00:00,  4.31it/s]"
     ]
    },
    {
     "name": "stdout",
     "output_type": "stream",
     "text": [
      "Early stopping, best iteration is:\n",
      "[24]\tvalid_0's rmse: 1.09676\n",
      "Training until validation scores don't improve for 100 rounds\n"
     ]
    },
    {
     "name": "stderr",
     "output_type": "stream",
     "text": [
      "regularization_factors, val_score: 1.096757:  90%|######### | 18/20 [00:03<00:00,  4.36it/s]\u001b[32m[I 2021-05-11 09:43:04,999]\u001b[0m Trial 60 finished with value: 1.0967568150666251 and parameters: {'lambda_l1': 4.017054770927335e-06, 'lambda_l2': 0.0014560595770555778}. Best is trial 59 with value: 1.0967567842283812.\u001b[0m\n",
      "regularization_factors, val_score: 1.096757:  90%|######### | 18/20 [00:04<00:00,  4.36it/s]"
     ]
    },
    {
     "name": "stdout",
     "output_type": "stream",
     "text": [
      "Early stopping, best iteration is:\n",
      "[24]\tvalid_0's rmse: 1.09676\n",
      "Training until validation scores don't improve for 100 rounds\n"
     ]
    },
    {
     "name": "stderr",
     "output_type": "stream",
     "text": [
      "regularization_factors, val_score: 1.096757:  95%|#########5| 19/20 [00:04<00:00,  4.45it/s]\u001b[32m[I 2021-05-11 09:43:05,213]\u001b[0m Trial 61 finished with value: 1.0978534491972536 and parameters: {'lambda_l1': 1.0765086130384884e-05, 'lambda_l2': 0.011302332382604667}. Best is trial 59 with value: 1.0967567842283812.\u001b[0m\n",
      "regularization_factors, val_score: 1.096757:  95%|#########5| 19/20 [00:04<00:00,  4.45it/s]"
     ]
    },
    {
     "name": "stdout",
     "output_type": "stream",
     "text": [
      "Early stopping, best iteration is:\n",
      "[14]\tvalid_0's rmse: 1.09785\n",
      "Training until validation scores don't improve for 100 rounds\n",
      "Early stopping, best iteration is:\n",
      "[14]\tvalid_0's rmse: 1.09793\n"
     ]
    },
    {
     "name": "stderr",
     "output_type": "stream",
     "text": [
      "regularization_factors, val_score: 1.096757: 100%|##########| 20/20 [00:04<00:00,  4.61it/s]\u001b[32m[I 2021-05-11 09:43:05,412]\u001b[0m Trial 62 finished with value: 1.0979329574675816 and parameters: {'lambda_l1': 1.4521407622570376e-07, 'lambda_l2': 0.1845904296464348}. Best is trial 59 with value: 1.0967567842283812.\u001b[0m\n",
      "regularization_factors, val_score: 1.096757: 100%|##########| 20/20 [00:04<00:00,  4.53it/s]\n",
      "min_data_in_leaf, val_score: 1.096757:  20%|##        | 1/5 [00:00<00:00,  6.76it/s]\u001b[32m[I 2021-05-11 09:43:05,564]\u001b[0m Trial 63 finished with value: 1.0997752779588086 and parameters: {'min_child_samples': 100}. Best is trial 63 with value: 1.0997752779588086.\u001b[0m\n",
      "min_data_in_leaf, val_score: 1.096757:  20%|##        | 1/5 [00:00<00:00,  6.76it/s]"
     ]
    },
    {
     "name": "stdout",
     "output_type": "stream",
     "text": [
      "Training until validation scores don't improve for 100 rounds\n",
      "Early stopping, best iteration is:\n",
      "[14]\tvalid_0's rmse: 1.09978\n",
      "Training until validation scores don't improve for 100 rounds\n"
     ]
    },
    {
     "name": "stderr",
     "output_type": "stream",
     "text": [
      "min_data_in_leaf, val_score: 1.096757:  40%|####      | 2/5 [00:00<00:00,  5.63it/s]\u001b[32m[I 2021-05-11 09:43:05,762]\u001b[0m Trial 64 finished with value: 1.1032640273267957 and parameters: {'min_child_samples': 25}. Best is trial 63 with value: 1.0997752779588086.\u001b[0m\n",
      "min_data_in_leaf, val_score: 1.096757:  60%|######    | 3/5 [00:00<00:00,  5.42it/s]\u001b[32m[I 2021-05-11 09:43:05,955]\u001b[0m Trial 65 finished with value: 1.1062317383579474 and parameters: {'min_child_samples': 10}. Best is trial 63 with value: 1.0997752779588086.\u001b[0m\n",
      "min_data_in_leaf, val_score: 1.096757:  60%|######    | 3/5 [00:00<00:00,  5.42it/s]"
     ]
    },
    {
     "name": "stdout",
     "output_type": "stream",
     "text": [
      "Early stopping, best iteration is:\n",
      "[11]\tvalid_0's rmse: 1.10326\n",
      "Training until validation scores don't improve for 100 rounds\n",
      "Early stopping, best iteration is:\n",
      "[14]\tvalid_0's rmse: 1.10623\n",
      "Training until validation scores don't improve for 100 rounds\n",
      "Early stopping, best iteration is:\n",
      "[17]\tvalid_0's rmse: 1.09987\n"
     ]
    },
    {
     "name": "stderr",
     "output_type": "stream",
     "text": [
      "min_data_in_leaf, val_score: 1.096757:  80%|########  | 4/5 [00:00<00:00,  4.92it/s]\u001b[32m[I 2021-05-11 09:43:06,187]\u001b[0m Trial 66 finished with value: 1.0998729474055093 and parameters: {'min_child_samples': 50}. Best is trial 63 with value: 1.0997752779588086.\u001b[0m\n",
      "min_data_in_leaf, val_score: 1.096757: 100%|##########| 5/5 [00:00<00:00,  4.90it/s]\u001b[32m[I 2021-05-11 09:43:06,392]\u001b[0m Trial 67 finished with value: 1.1031190877032888 and parameters: {'min_child_samples': 5}. Best is trial 63 with value: 1.0997752779588086.\u001b[0m\n",
      "min_data_in_leaf, val_score: 1.096757: 100%|##########| 5/5 [00:00<00:00,  5.11it/s]"
     ]
    },
    {
     "name": "stdout",
     "output_type": "stream",
     "text": [
      "Training until validation scores don't improve for 100 rounds\n",
      "Early stopping, best iteration is:\n",
      "[13]\tvalid_0's rmse: 1.10312\n",
      "rmse :  1.1273393009305084\n"
     ]
    },
    {
     "name": "stderr",
     "output_type": "stream",
     "text": [
      "\n"
     ]
    }
   ],
   "source": [
    "df_result, df_acuracy = predict_toto()"
   ]
  },
  {
   "cell_type": "code",
   "execution_count": 6,
   "id": "resident-remains",
   "metadata": {},
   "outputs": [
    {
     "data": {
      "text/html": [
       "<div>\n",
       "<style scoped>\n",
       "    .dataframe tbody tr th:only-of-type {\n",
       "        vertical-align: middle;\n",
       "    }\n",
       "\n",
       "    .dataframe tbody tr th {\n",
       "        vertical-align: top;\n",
       "    }\n",
       "\n",
       "    .dataframe thead th {\n",
       "        text-align: right;\n",
       "    }\n",
       "</style>\n",
       "<table border=\"1\" class=\"dataframe\">\n",
       "  <thead>\n",
       "    <tr style=\"text-align: right;\">\n",
       "      <th></th>\n",
       "      <th>年月日</th>\n",
       "      <th>H_Team</th>\n",
       "      <th>A_Team</th>\n",
       "      <th>is_even_lgbm</th>\n",
       "      <th>is_even_0_1_lgbm</th>\n",
       "      <th>is_even_1_1_lgbm</th>\n",
       "      <th>is_even_lgbm_acc</th>\n",
       "      <th>is_lose_lgbm</th>\n",
       "      <th>is_lose_0_1_lgbm</th>\n",
       "      <th>is_lose_1_1_lgbm</th>\n",
       "      <th>...</th>\n",
       "      <th>w_e_l_1_2_lgbm</th>\n",
       "      <th>w_e_l_2_2_lgbm</th>\n",
       "      <th>w_e_l_lgbm_acc</th>\n",
       "      <th>goal_deff_lgbm</th>\n",
       "      <th>goal_deff_lgbm_rmse</th>\n",
       "      <th>H_goal_lgbm</th>\n",
       "      <th>H_goal_lgbm_rmse</th>\n",
       "      <th>A_goal_lgbm</th>\n",
       "      <th>A_goal_lgbm_rmse</th>\n",
       "      <th>0</th>\n",
       "    </tr>\n",
       "  </thead>\n",
       "  <tbody>\n",
       "    <tr>\n",
       "      <th>0</th>\n",
       "      <td>20201101.0</td>\n",
       "      <td>40.0</td>\n",
       "      <td>22.0</td>\n",
       "      <td>0.0</td>\n",
       "      <td>0.517855</td>\n",
       "      <td>0.482145</td>\n",
       "      <td>0.442708</td>\n",
       "      <td>0.0</td>\n",
       "      <td>0.722023</td>\n",
       "      <td>0.277977</td>\n",
       "      <td>...</td>\n",
       "      <td>0.429665</td>\n",
       "      <td>0.344232</td>\n",
       "      <td>0.473958</td>\n",
       "      <td>0.107102</td>\n",
       "      <td>1.510898</td>\n",
       "      <td>1.534894</td>\n",
       "      <td>1.137032</td>\n",
       "      <td>0.864063</td>\n",
       "      <td>1.127339</td>\n",
       "      <td>NaN</td>\n",
       "    </tr>\n",
       "    <tr>\n",
       "      <th>1</th>\n",
       "      <td>20201101.0</td>\n",
       "      <td>33.0</td>\n",
       "      <td>39.0</td>\n",
       "      <td>1.0</td>\n",
       "      <td>0.472177</td>\n",
       "      <td>0.527823</td>\n",
       "      <td>0.442708</td>\n",
       "      <td>0.0</td>\n",
       "      <td>0.503258</td>\n",
       "      <td>0.496742</td>\n",
       "      <td>...</td>\n",
       "      <td>0.377315</td>\n",
       "      <td>0.396526</td>\n",
       "      <td>0.473958</td>\n",
       "      <td>-0.067474</td>\n",
       "      <td>1.510898</td>\n",
       "      <td>1.311225</td>\n",
       "      <td>1.137032</td>\n",
       "      <td>0.829646</td>\n",
       "      <td>1.127339</td>\n",
       "      <td>NaN</td>\n",
       "    </tr>\n",
       "    <tr>\n",
       "      <th>2</th>\n",
       "      <td>20201101.0</td>\n",
       "      <td>25.0</td>\n",
       "      <td>41.0</td>\n",
       "      <td>1.0</td>\n",
       "      <td>0.472411</td>\n",
       "      <td>0.527589</td>\n",
       "      <td>0.442708</td>\n",
       "      <td>0.0</td>\n",
       "      <td>0.700948</td>\n",
       "      <td>0.299052</td>\n",
       "      <td>...</td>\n",
       "      <td>0.486657</td>\n",
       "      <td>0.296261</td>\n",
       "      <td>0.473958</td>\n",
       "      <td>0.390572</td>\n",
       "      <td>1.510898</td>\n",
       "      <td>1.557606</td>\n",
       "      <td>1.137032</td>\n",
       "      <td>0.751652</td>\n",
       "      <td>1.127339</td>\n",
       "      <td>NaN</td>\n",
       "    </tr>\n",
       "    <tr>\n",
       "      <th>3</th>\n",
       "      <td>20201101.0</td>\n",
       "      <td>36.0</td>\n",
       "      <td>26.0</td>\n",
       "      <td>1.0</td>\n",
       "      <td>0.469054</td>\n",
       "      <td>0.530946</td>\n",
       "      <td>0.442708</td>\n",
       "      <td>0.0</td>\n",
       "      <td>0.560327</td>\n",
       "      <td>0.439673</td>\n",
       "      <td>...</td>\n",
       "      <td>0.407925</td>\n",
       "      <td>0.353188</td>\n",
       "      <td>0.473958</td>\n",
       "      <td>0.047902</td>\n",
       "      <td>1.510898</td>\n",
       "      <td>1.225003</td>\n",
       "      <td>1.137032</td>\n",
       "      <td>1.029955</td>\n",
       "      <td>1.127339</td>\n",
       "      <td>NaN</td>\n",
       "    </tr>\n",
       "    <tr>\n",
       "      <th>4</th>\n",
       "      <td>20201101.0</td>\n",
       "      <td>32.0</td>\n",
       "      <td>27.0</td>\n",
       "      <td>0.0</td>\n",
       "      <td>0.505576</td>\n",
       "      <td>0.494424</td>\n",
       "      <td>0.442708</td>\n",
       "      <td>0.0</td>\n",
       "      <td>0.591624</td>\n",
       "      <td>0.408376</td>\n",
       "      <td>...</td>\n",
       "      <td>0.452884</td>\n",
       "      <td>0.322239</td>\n",
       "      <td>0.473958</td>\n",
       "      <td>0.234438</td>\n",
       "      <td>1.510898</td>\n",
       "      <td>1.522925</td>\n",
       "      <td>1.137032</td>\n",
       "      <td>1.601814</td>\n",
       "      <td>1.127339</td>\n",
       "      <td>NaN</td>\n",
       "    </tr>\n",
       "    <tr>\n",
       "      <th>5</th>\n",
       "      <td>20201101.0</td>\n",
       "      <td>35.0</td>\n",
       "      <td>21.0</td>\n",
       "      <td>1.0</td>\n",
       "      <td>0.457609</td>\n",
       "      <td>0.542391</td>\n",
       "      <td>0.442708</td>\n",
       "      <td>0.0</td>\n",
       "      <td>0.514140</td>\n",
       "      <td>0.485860</td>\n",
       "      <td>...</td>\n",
       "      <td>0.329249</td>\n",
       "      <td>0.435178</td>\n",
       "      <td>0.473958</td>\n",
       "      <td>-0.073798</td>\n",
       "      <td>1.510898</td>\n",
       "      <td>1.351944</td>\n",
       "      <td>1.137032</td>\n",
       "      <td>1.083416</td>\n",
       "      <td>1.127339</td>\n",
       "      <td>NaN</td>\n",
       "    </tr>\n",
       "    <tr>\n",
       "      <th>6</th>\n",
       "      <td>20201031.0</td>\n",
       "      <td>1.0</td>\n",
       "      <td>15.0</td>\n",
       "      <td>0.0</td>\n",
       "      <td>0.500339</td>\n",
       "      <td>0.499661</td>\n",
       "      <td>0.442708</td>\n",
       "      <td>0.0</td>\n",
       "      <td>0.523654</td>\n",
       "      <td>0.476346</td>\n",
       "      <td>...</td>\n",
       "      <td>0.398877</td>\n",
       "      <td>0.407158</td>\n",
       "      <td>0.473958</td>\n",
       "      <td>0.010810</td>\n",
       "      <td>1.510898</td>\n",
       "      <td>1.351132</td>\n",
       "      <td>1.137032</td>\n",
       "      <td>1.427625</td>\n",
       "      <td>1.127339</td>\n",
       "      <td>NaN</td>\n",
       "    </tr>\n",
       "    <tr>\n",
       "      <th>7</th>\n",
       "      <td>20201031.0</td>\n",
       "      <td>19.0</td>\n",
       "      <td>3.0</td>\n",
       "      <td>1.0</td>\n",
       "      <td>0.483529</td>\n",
       "      <td>0.516471</td>\n",
       "      <td>0.442708</td>\n",
       "      <td>1.0</td>\n",
       "      <td>0.405208</td>\n",
       "      <td>0.594792</td>\n",
       "      <td>...</td>\n",
       "      <td>0.334080</td>\n",
       "      <td>0.482137</td>\n",
       "      <td>0.473958</td>\n",
       "      <td>-0.092950</td>\n",
       "      <td>1.510898</td>\n",
       "      <td>1.340565</td>\n",
       "      <td>1.137032</td>\n",
       "      <td>1.833370</td>\n",
       "      <td>1.127339</td>\n",
       "      <td>NaN</td>\n",
       "    </tr>\n",
       "    <tr>\n",
       "      <th>8</th>\n",
       "      <td>20201031.0</td>\n",
       "      <td>9.0</td>\n",
       "      <td>8.0</td>\n",
       "      <td>1.0</td>\n",
       "      <td>0.486102</td>\n",
       "      <td>0.513898</td>\n",
       "      <td>0.442708</td>\n",
       "      <td>0.0</td>\n",
       "      <td>0.550414</td>\n",
       "      <td>0.449586</td>\n",
       "      <td>...</td>\n",
       "      <td>0.397965</td>\n",
       "      <td>0.423773</td>\n",
       "      <td>0.473958</td>\n",
       "      <td>0.092725</td>\n",
       "      <td>1.510898</td>\n",
       "      <td>1.424891</td>\n",
       "      <td>1.137032</td>\n",
       "      <td>1.616674</td>\n",
       "      <td>1.127339</td>\n",
       "      <td>NaN</td>\n",
       "    </tr>\n",
       "    <tr>\n",
       "      <th>9</th>\n",
       "      <td>20201031.0</td>\n",
       "      <td>2.0</td>\n",
       "      <td>11.0</td>\n",
       "      <td>1.0</td>\n",
       "      <td>0.476583</td>\n",
       "      <td>0.523417</td>\n",
       "      <td>0.442708</td>\n",
       "      <td>0.0</td>\n",
       "      <td>0.540133</td>\n",
       "      <td>0.459867</td>\n",
       "      <td>...</td>\n",
       "      <td>0.381114</td>\n",
       "      <td>0.463194</td>\n",
       "      <td>0.473958</td>\n",
       "      <td>-0.059919</td>\n",
       "      <td>1.510898</td>\n",
       "      <td>1.563272</td>\n",
       "      <td>1.137032</td>\n",
       "      <td>1.425202</td>\n",
       "      <td>1.127339</td>\n",
       "      <td>NaN</td>\n",
       "    </tr>\n",
       "    <tr>\n",
       "      <th>10</th>\n",
       "      <td>20201031.0</td>\n",
       "      <td>12.0</td>\n",
       "      <td>0.0</td>\n",
       "      <td>0.0</td>\n",
       "      <td>0.502948</td>\n",
       "      <td>0.497052</td>\n",
       "      <td>0.442708</td>\n",
       "      <td>0.0</td>\n",
       "      <td>0.671618</td>\n",
       "      <td>0.328382</td>\n",
       "      <td>...</td>\n",
       "      <td>0.554913</td>\n",
       "      <td>0.257565</td>\n",
       "      <td>0.473958</td>\n",
       "      <td>0.659272</td>\n",
       "      <td>1.510898</td>\n",
       "      <td>1.544141</td>\n",
       "      <td>1.137032</td>\n",
       "      <td>0.844824</td>\n",
       "      <td>1.127339</td>\n",
       "      <td>NaN</td>\n",
       "    </tr>\n",
       "    <tr>\n",
       "      <th>11</th>\n",
       "      <td>20201031.0</td>\n",
       "      <td>4.0</td>\n",
       "      <td>10.0</td>\n",
       "      <td>1.0</td>\n",
       "      <td>0.493172</td>\n",
       "      <td>0.506828</td>\n",
       "      <td>0.442708</td>\n",
       "      <td>0.0</td>\n",
       "      <td>0.696512</td>\n",
       "      <td>0.303488</td>\n",
       "      <td>...</td>\n",
       "      <td>0.579285</td>\n",
       "      <td>0.260934</td>\n",
       "      <td>0.473958</td>\n",
       "      <td>0.677102</td>\n",
       "      <td>1.510898</td>\n",
       "      <td>1.924652</td>\n",
       "      <td>1.137032</td>\n",
       "      <td>1.118378</td>\n",
       "      <td>1.127339</td>\n",
       "      <td>NaN</td>\n",
       "    </tr>\n",
       "    <tr>\n",
       "      <th>12</th>\n",
       "      <td>20201031.0</td>\n",
       "      <td>6.0</td>\n",
       "      <td>5.0</td>\n",
       "      <td>0.0</td>\n",
       "      <td>0.570898</td>\n",
       "      <td>0.429102</td>\n",
       "      <td>0.442708</td>\n",
       "      <td>0.0</td>\n",
       "      <td>0.657193</td>\n",
       "      <td>0.342807</td>\n",
       "      <td>...</td>\n",
       "      <td>0.554474</td>\n",
       "      <td>0.268587</td>\n",
       "      <td>0.473958</td>\n",
       "      <td>0.783337</td>\n",
       "      <td>1.510898</td>\n",
       "      <td>1.584582</td>\n",
       "      <td>1.137032</td>\n",
       "      <td>1.131253</td>\n",
       "      <td>1.127339</td>\n",
       "      <td>NaN</td>\n",
       "    </tr>\n",
       "    <tr>\n",
       "      <th>A_goal_lgbm</th>\n",
       "      <td>NaN</td>\n",
       "      <td>NaN</td>\n",
       "      <td>NaN</td>\n",
       "      <td>NaN</td>\n",
       "      <td>NaN</td>\n",
       "      <td>NaN</td>\n",
       "      <td>NaN</td>\n",
       "      <td>NaN</td>\n",
       "      <td>NaN</td>\n",
       "      <td>NaN</td>\n",
       "      <td>...</td>\n",
       "      <td>NaN</td>\n",
       "      <td>NaN</td>\n",
       "      <td>NaN</td>\n",
       "      <td>NaN</td>\n",
       "      <td>NaN</td>\n",
       "      <td>NaN</td>\n",
       "      <td>NaN</td>\n",
       "      <td>NaN</td>\n",
       "      <td>NaN</td>\n",
       "      <td>1.127339</td>\n",
       "    </tr>\n",
       "    <tr>\n",
       "      <th>H_goal_lgbm</th>\n",
       "      <td>NaN</td>\n",
       "      <td>NaN</td>\n",
       "      <td>NaN</td>\n",
       "      <td>NaN</td>\n",
       "      <td>NaN</td>\n",
       "      <td>NaN</td>\n",
       "      <td>NaN</td>\n",
       "      <td>NaN</td>\n",
       "      <td>NaN</td>\n",
       "      <td>NaN</td>\n",
       "      <td>...</td>\n",
       "      <td>NaN</td>\n",
       "      <td>NaN</td>\n",
       "      <td>NaN</td>\n",
       "      <td>NaN</td>\n",
       "      <td>NaN</td>\n",
       "      <td>NaN</td>\n",
       "      <td>NaN</td>\n",
       "      <td>NaN</td>\n",
       "      <td>NaN</td>\n",
       "      <td>1.137032</td>\n",
       "    </tr>\n",
       "    <tr>\n",
       "      <th>goal_deff_lgbm</th>\n",
       "      <td>NaN</td>\n",
       "      <td>NaN</td>\n",
       "      <td>NaN</td>\n",
       "      <td>NaN</td>\n",
       "      <td>NaN</td>\n",
       "      <td>NaN</td>\n",
       "      <td>NaN</td>\n",
       "      <td>NaN</td>\n",
       "      <td>NaN</td>\n",
       "      <td>NaN</td>\n",
       "      <td>...</td>\n",
       "      <td>NaN</td>\n",
       "      <td>NaN</td>\n",
       "      <td>NaN</td>\n",
       "      <td>NaN</td>\n",
       "      <td>NaN</td>\n",
       "      <td>NaN</td>\n",
       "      <td>NaN</td>\n",
       "      <td>NaN</td>\n",
       "      <td>NaN</td>\n",
       "      <td>1.510898</td>\n",
       "    </tr>\n",
       "    <tr>\n",
       "      <th>is_even_lgbm</th>\n",
       "      <td>NaN</td>\n",
       "      <td>NaN</td>\n",
       "      <td>NaN</td>\n",
       "      <td>NaN</td>\n",
       "      <td>NaN</td>\n",
       "      <td>NaN</td>\n",
       "      <td>NaN</td>\n",
       "      <td>NaN</td>\n",
       "      <td>NaN</td>\n",
       "      <td>NaN</td>\n",
       "      <td>...</td>\n",
       "      <td>NaN</td>\n",
       "      <td>NaN</td>\n",
       "      <td>NaN</td>\n",
       "      <td>NaN</td>\n",
       "      <td>NaN</td>\n",
       "      <td>NaN</td>\n",
       "      <td>NaN</td>\n",
       "      <td>NaN</td>\n",
       "      <td>NaN</td>\n",
       "      <td>0.442708</td>\n",
       "    </tr>\n",
       "    <tr>\n",
       "      <th>is_lose_lgbm</th>\n",
       "      <td>NaN</td>\n",
       "      <td>NaN</td>\n",
       "      <td>NaN</td>\n",
       "      <td>NaN</td>\n",
       "      <td>NaN</td>\n",
       "      <td>NaN</td>\n",
       "      <td>NaN</td>\n",
       "      <td>NaN</td>\n",
       "      <td>NaN</td>\n",
       "      <td>NaN</td>\n",
       "      <td>...</td>\n",
       "      <td>NaN</td>\n",
       "      <td>NaN</td>\n",
       "      <td>NaN</td>\n",
       "      <td>NaN</td>\n",
       "      <td>NaN</td>\n",
       "      <td>NaN</td>\n",
       "      <td>NaN</td>\n",
       "      <td>NaN</td>\n",
       "      <td>NaN</td>\n",
       "      <td>0.479167</td>\n",
       "    </tr>\n",
       "    <tr>\n",
       "      <th>w_e_l_lgbm</th>\n",
       "      <td>NaN</td>\n",
       "      <td>NaN</td>\n",
       "      <td>NaN</td>\n",
       "      <td>NaN</td>\n",
       "      <td>NaN</td>\n",
       "      <td>NaN</td>\n",
       "      <td>NaN</td>\n",
       "      <td>NaN</td>\n",
       "      <td>NaN</td>\n",
       "      <td>NaN</td>\n",
       "      <td>...</td>\n",
       "      <td>NaN</td>\n",
       "      <td>NaN</td>\n",
       "      <td>NaN</td>\n",
       "      <td>NaN</td>\n",
       "      <td>NaN</td>\n",
       "      <td>NaN</td>\n",
       "      <td>NaN</td>\n",
       "      <td>NaN</td>\n",
       "      <td>NaN</td>\n",
       "      <td>0.473958</td>\n",
       "    </tr>\n",
       "  </tbody>\n",
       "</table>\n",
       "<p>19 rows × 23 columns</p>\n",
       "</div>"
      ],
      "text/plain": [
       "                       年月日  H_Team  A_Team  is_even_lgbm  is_even_0_1_lgbm  \\\n",
       "0               20201101.0    40.0    22.0           0.0          0.517855   \n",
       "1               20201101.0    33.0    39.0           1.0          0.472177   \n",
       "2               20201101.0    25.0    41.0           1.0          0.472411   \n",
       "3               20201101.0    36.0    26.0           1.0          0.469054   \n",
       "4               20201101.0    32.0    27.0           0.0          0.505576   \n",
       "5               20201101.0    35.0    21.0           1.0          0.457609   \n",
       "6               20201031.0     1.0    15.0           0.0          0.500339   \n",
       "7               20201031.0    19.0     3.0           1.0          0.483529   \n",
       "8               20201031.0     9.0     8.0           1.0          0.486102   \n",
       "9               20201031.0     2.0    11.0           1.0          0.476583   \n",
       "10              20201031.0    12.0     0.0           0.0          0.502948   \n",
       "11              20201031.0     4.0    10.0           1.0          0.493172   \n",
       "12              20201031.0     6.0     5.0           0.0          0.570898   \n",
       "A_goal_lgbm            NaN     NaN     NaN           NaN               NaN   \n",
       "H_goal_lgbm            NaN     NaN     NaN           NaN               NaN   \n",
       "goal_deff_lgbm         NaN     NaN     NaN           NaN               NaN   \n",
       "is_even_lgbm           NaN     NaN     NaN           NaN               NaN   \n",
       "is_lose_lgbm           NaN     NaN     NaN           NaN               NaN   \n",
       "w_e_l_lgbm             NaN     NaN     NaN           NaN               NaN   \n",
       "\n",
       "                is_even_1_1_lgbm  is_even_lgbm_acc  is_lose_lgbm  \\\n",
       "0                       0.482145          0.442708           0.0   \n",
       "1                       0.527823          0.442708           0.0   \n",
       "2                       0.527589          0.442708           0.0   \n",
       "3                       0.530946          0.442708           0.0   \n",
       "4                       0.494424          0.442708           0.0   \n",
       "5                       0.542391          0.442708           0.0   \n",
       "6                       0.499661          0.442708           0.0   \n",
       "7                       0.516471          0.442708           1.0   \n",
       "8                       0.513898          0.442708           0.0   \n",
       "9                       0.523417          0.442708           0.0   \n",
       "10                      0.497052          0.442708           0.0   \n",
       "11                      0.506828          0.442708           0.0   \n",
       "12                      0.429102          0.442708           0.0   \n",
       "A_goal_lgbm                  NaN               NaN           NaN   \n",
       "H_goal_lgbm                  NaN               NaN           NaN   \n",
       "goal_deff_lgbm               NaN               NaN           NaN   \n",
       "is_even_lgbm                 NaN               NaN           NaN   \n",
       "is_lose_lgbm                 NaN               NaN           NaN   \n",
       "w_e_l_lgbm                   NaN               NaN           NaN   \n",
       "\n",
       "                is_lose_0_1_lgbm  is_lose_1_1_lgbm  ...  w_e_l_1_2_lgbm  \\\n",
       "0                       0.722023          0.277977  ...        0.429665   \n",
       "1                       0.503258          0.496742  ...        0.377315   \n",
       "2                       0.700948          0.299052  ...        0.486657   \n",
       "3                       0.560327          0.439673  ...        0.407925   \n",
       "4                       0.591624          0.408376  ...        0.452884   \n",
       "5                       0.514140          0.485860  ...        0.329249   \n",
       "6                       0.523654          0.476346  ...        0.398877   \n",
       "7                       0.405208          0.594792  ...        0.334080   \n",
       "8                       0.550414          0.449586  ...        0.397965   \n",
       "9                       0.540133          0.459867  ...        0.381114   \n",
       "10                      0.671618          0.328382  ...        0.554913   \n",
       "11                      0.696512          0.303488  ...        0.579285   \n",
       "12                      0.657193          0.342807  ...        0.554474   \n",
       "A_goal_lgbm                  NaN               NaN  ...             NaN   \n",
       "H_goal_lgbm                  NaN               NaN  ...             NaN   \n",
       "goal_deff_lgbm               NaN               NaN  ...             NaN   \n",
       "is_even_lgbm                 NaN               NaN  ...             NaN   \n",
       "is_lose_lgbm                 NaN               NaN  ...             NaN   \n",
       "w_e_l_lgbm                   NaN               NaN  ...             NaN   \n",
       "\n",
       "                w_e_l_2_2_lgbm  w_e_l_lgbm_acc  goal_deff_lgbm  \\\n",
       "0                     0.344232        0.473958        0.107102   \n",
       "1                     0.396526        0.473958       -0.067474   \n",
       "2                     0.296261        0.473958        0.390572   \n",
       "3                     0.353188        0.473958        0.047902   \n",
       "4                     0.322239        0.473958        0.234438   \n",
       "5                     0.435178        0.473958       -0.073798   \n",
       "6                     0.407158        0.473958        0.010810   \n",
       "7                     0.482137        0.473958       -0.092950   \n",
       "8                     0.423773        0.473958        0.092725   \n",
       "9                     0.463194        0.473958       -0.059919   \n",
       "10                    0.257565        0.473958        0.659272   \n",
       "11                    0.260934        0.473958        0.677102   \n",
       "12                    0.268587        0.473958        0.783337   \n",
       "A_goal_lgbm                NaN             NaN             NaN   \n",
       "H_goal_lgbm                NaN             NaN             NaN   \n",
       "goal_deff_lgbm             NaN             NaN             NaN   \n",
       "is_even_lgbm               NaN             NaN             NaN   \n",
       "is_lose_lgbm               NaN             NaN             NaN   \n",
       "w_e_l_lgbm                 NaN             NaN             NaN   \n",
       "\n",
       "                goal_deff_lgbm_rmse  H_goal_lgbm  H_goal_lgbm_rmse  \\\n",
       "0                          1.510898     1.534894          1.137032   \n",
       "1                          1.510898     1.311225          1.137032   \n",
       "2                          1.510898     1.557606          1.137032   \n",
       "3                          1.510898     1.225003          1.137032   \n",
       "4                          1.510898     1.522925          1.137032   \n",
       "5                          1.510898     1.351944          1.137032   \n",
       "6                          1.510898     1.351132          1.137032   \n",
       "7                          1.510898     1.340565          1.137032   \n",
       "8                          1.510898     1.424891          1.137032   \n",
       "9                          1.510898     1.563272          1.137032   \n",
       "10                         1.510898     1.544141          1.137032   \n",
       "11                         1.510898     1.924652          1.137032   \n",
       "12                         1.510898     1.584582          1.137032   \n",
       "A_goal_lgbm                     NaN          NaN               NaN   \n",
       "H_goal_lgbm                     NaN          NaN               NaN   \n",
       "goal_deff_lgbm                  NaN          NaN               NaN   \n",
       "is_even_lgbm                    NaN          NaN               NaN   \n",
       "is_lose_lgbm                    NaN          NaN               NaN   \n",
       "w_e_l_lgbm                      NaN          NaN               NaN   \n",
       "\n",
       "                A_goal_lgbm  A_goal_lgbm_rmse         0  \n",
       "0                  0.864063          1.127339       NaN  \n",
       "1                  0.829646          1.127339       NaN  \n",
       "2                  0.751652          1.127339       NaN  \n",
       "3                  1.029955          1.127339       NaN  \n",
       "4                  1.601814          1.127339       NaN  \n",
       "5                  1.083416          1.127339       NaN  \n",
       "6                  1.427625          1.127339       NaN  \n",
       "7                  1.833370          1.127339       NaN  \n",
       "8                  1.616674          1.127339       NaN  \n",
       "9                  1.425202          1.127339       NaN  \n",
       "10                 0.844824          1.127339       NaN  \n",
       "11                 1.118378          1.127339       NaN  \n",
       "12                 1.131253          1.127339       NaN  \n",
       "A_goal_lgbm             NaN               NaN  1.127339  \n",
       "H_goal_lgbm             NaN               NaN  1.137032  \n",
       "goal_deff_lgbm          NaN               NaN  1.510898  \n",
       "is_even_lgbm            NaN               NaN  0.442708  \n",
       "is_lose_lgbm            NaN               NaN  0.479167  \n",
       "w_e_l_lgbm              NaN               NaN  0.473958  \n",
       "\n",
       "[19 rows x 23 columns]"
      ]
     },
     "execution_count": 6,
     "metadata": {},
     "output_type": "execute_result"
    }
   ],
   "source": [
    "pd.concat([df_result,df_acuracy], axis = 1)"
   ]
  },
  {
   "cell_type": "code",
   "execution_count": 7,
   "id": "southern-burden",
   "metadata": {},
   "outputs": [
    {
     "data": {
      "text/html": [
       "<div>\n",
       "<style scoped>\n",
       "    .dataframe tbody tr th:only-of-type {\n",
       "        vertical-align: middle;\n",
       "    }\n",
       "\n",
       "    .dataframe tbody tr th {\n",
       "        vertical-align: top;\n",
       "    }\n",
       "\n",
       "    .dataframe thead th {\n",
       "        text-align: right;\n",
       "    }\n",
       "</style>\n",
       "<table border=\"1\" class=\"dataframe\">\n",
       "  <thead>\n",
       "    <tr style=\"text-align: right;\">\n",
       "      <th></th>\n",
       "      <th>0</th>\n",
       "    </tr>\n",
       "  </thead>\n",
       "  <tbody>\n",
       "    <tr>\n",
       "      <th>is_even_lgbm</th>\n",
       "      <td>0.442708</td>\n",
       "    </tr>\n",
       "    <tr>\n",
       "      <th>is_lose_lgbm</th>\n",
       "      <td>0.479167</td>\n",
       "    </tr>\n",
       "    <tr>\n",
       "      <th>w_e_l_lgbm</th>\n",
       "      <td>0.473958</td>\n",
       "    </tr>\n",
       "    <tr>\n",
       "      <th>goal_deff_lgbm</th>\n",
       "      <td>1.510898</td>\n",
       "    </tr>\n",
       "    <tr>\n",
       "      <th>H_goal_lgbm</th>\n",
       "      <td>1.137032</td>\n",
       "    </tr>\n",
       "    <tr>\n",
       "      <th>A_goal_lgbm</th>\n",
       "      <td>1.127339</td>\n",
       "    </tr>\n",
       "  </tbody>\n",
       "</table>\n",
       "</div>"
      ],
      "text/plain": [
       "                       0\n",
       "is_even_lgbm    0.442708\n",
       "is_lose_lgbm    0.479167\n",
       "w_e_l_lgbm      0.473958\n",
       "goal_deff_lgbm  1.510898\n",
       "H_goal_lgbm     1.137032\n",
       "A_goal_lgbm     1.127339"
      ]
     },
     "execution_count": 7,
     "metadata": {},
     "output_type": "execute_result"
    }
   ],
   "source": [
    "df_acuracy"
   ]
  },
  {
   "cell_type": "code",
   "execution_count": null,
   "id": "norwegian-daniel",
   "metadata": {},
   "outputs": [],
   "source": []
  },
  {
   "cell_type": "code",
   "execution_count": null,
   "id": "imperial-confirmation",
   "metadata": {},
   "outputs": [],
   "source": []
  },
  {
   "cell_type": "code",
   "execution_count": null,
   "id": "sixth-broad",
   "metadata": {},
   "outputs": [],
   "source": []
  }
 ],
 "metadata": {
  "kernelspec": {
   "display_name": "Python 3",
   "language": "python",
   "name": "python3"
  },
  "language_info": {
   "codemirror_mode": {
    "name": "ipython",
    "version": 3
   },
   "file_extension": ".py",
   "mimetype": "text/x-python",
   "name": "python",
   "nbconvert_exporter": "python",
   "pygments_lexer": "ipython3",
   "version": "3.8.8"
  }
 },
 "nbformat": 4,
 "nbformat_minor": 5
}
