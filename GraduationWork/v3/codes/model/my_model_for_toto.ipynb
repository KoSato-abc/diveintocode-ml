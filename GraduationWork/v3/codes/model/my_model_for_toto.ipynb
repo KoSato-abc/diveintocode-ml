{
 "cells": [
  {
   "cell_type": "code",
   "execution_count": 1,
   "id": "accurate-marijuana",
   "metadata": {},
   "outputs": [
    {
     "name": "stdout",
     "output_type": "stream",
     "text": [
      "/Users/satouwataru/Desktop/DiveIntoCode/git/diveintocode-ml/GraduationWork/v3/codes\n"
     ]
    }
   ],
   "source": [
    "cd .."
   ]
  },
  {
   "cell_type": "code",
   "execution_count": 2,
   "id": "secondary-crazy",
   "metadata": {},
   "outputs": [
    {
     "name": "stdout",
     "output_type": "stream",
     "text": [
      "/Users/satouwataru/Desktop/DiveIntoCode/git/diveintocode-ml/GraduationWork/v3\n"
     ]
    }
   ],
   "source": [
    "cd .."
   ]
  },
  {
   "cell_type": "code",
   "execution_count": 3,
   "id": "proud-employer",
   "metadata": {},
   "outputs": [],
   "source": [
    "import numpy as np\n",
    "import pandas as pd\n",
    "import optuna.integration.lightgbm as lgb_o\n",
    "from sklearn.metrics import mean_squared_error\n",
    "\n",
    "import preprocessing\n",
    "from right_gbm import my_model as my_right_gbm\n",
    "from some_models import my_model as some_model\n",
    "from sklearn.model_selection import train_test_split\n",
    "\n",
    "def pred_toto(toto_n, toto_kind):\n",
    "\n",
    "    df_toto_preds = get_y_preds(toto_n, toto_kind)\n",
    "    yyyyMMdd = df_toto_preds.min(axis=0)['開催日']\n",
    "\n",
    "    df_y_preds = pd.read_csv('data/model/y_preds_par_year.csv', index_col=0).reset_index(drop = True)\n",
    "    df_y_preds = df_y_preds[df_y_preds['開催日'] < yyyyMMdd]\n",
    "\n",
    "    df_toto = pd.read_csv('data/marge/toto_info.csv', index_col=0).reset_index(drop = True)\n",
    "    df_toto = df_toto[['第n回', '種別', '開催日', 'ホーム', 'アウェイ', 'くじ結果'] ]\n",
    "    df_toto = df_toto[df_toto['くじ結果'] != '102'].reset_index(drop = True)\n",
    "\n",
    "    drop_columns = ['第n回', '種別','is_even_1_1_lgbm', 'is_lose_1_1_lgbm', 'w_e_l_2_2_lgbm' ]\n",
    "    train = pd.merge(df_y_preds, df_toto).drop(columns = drop_columns)\n",
    "    test = df_toto_preds.drop(columns = drop_columns)\n",
    "\n",
    "    train = preprocessing.team_to_index(train, 'ホーム')\n",
    "    train = preprocessing.team_to_index(train, 'アウェイ')\n",
    "    test = preprocessing.team_to_index(test, 'ホーム')\n",
    "    test = preprocessing.team_to_index(test, 'アウェイ')\n",
    "\n",
    "    category_columns = ['ホーム', 'アウェイ']\n",
    "    for column in category_columns:\n",
    "        train[column] = pd.Series(train[column]).astype('category')\n",
    "        test[column] = pd.Series(test[column]).astype('category')\n",
    "\n",
    "    train, val = train_test_split(train, train_size=0.8)\n",
    "\n",
    "    x_train = train.drop(columns = ['くじ結果'])\n",
    "    y_train = train['くじ結果'].values\n",
    "    x_val = val.drop(columns = ['くじ結果'])\n",
    "    y_val = val['くじ結果'].values\n",
    "    x_test = test\n",
    "#     return x_train, x_val, y_train, y_val\n",
    "    model = model_toto()\n",
    "    model.fit(x_train, x_val, y_train, y_val)\n",
    "    y_pred, y_pred_proba = model.predict(x_test)\n",
    "\n",
    "    df_pred = pd.DataFrame(y_pred_proba, columns=['分', '勝', '敗'])\n",
    "    df_toto = x_test[['開催日', 'ホーム', 'アウェイ']]\n",
    "    df_result = pd.concat([df_pred, df_toto], axis=1)\n",
    "    df_result = preprocessing.index_to_team(df_result, 'ホーム')\n",
    "    df_result = preprocessing.index_to_team(df_result, 'アウェイ')\n",
    "\n",
    "    df_result = df_result.reindex(columns=['開催日', 'ホーム', 'アウェイ', '勝', '敗', '分'])\n",
    "\n",
    "    return df_result\n",
    "\n",
    "def get_y_preds(toto_n, toto_kind):\n",
    "    \n",
    "    df = preprocessing.preprocessing(toto_n, toto_kind)\n",
    "    yyyyMMdd = df[df['train_test'] == 'toto'].iloc[:1]['年月日'].values[0]\n",
    "    year = str(yyyyMMdd)[:4]\n",
    "    # 予測値を算出(right_gbm)\n",
    "    df_result, df_acuracy = my_right_gbm.predict_toto(year)\n",
    "    df_result = preprocessing.index_to_team(df_result, 'H_Team')\n",
    "    df_result = preprocessing.index_to_team(df_result, 'A_Team')\n",
    "    df_result['toto_n'] = toto_n\n",
    "    df_result['toto_kind'] = toto_kind\n",
    "    \n",
    "    # 予測値を算出(some_models)\n",
    "#     df_result2 = some_model.predict_toto()\n",
    "#     df_result2 = preprocessing.index_to_team(df_result2, 'H_Team')\n",
    "#     df_result2 = preprocessing.index_to_team(df_result2, 'A_Team')\n",
    "#     df_result2['toto_n'] = toto_n\n",
    "#     df_result2['toto_kind'] = toto_kind\n",
    "#     df_result = pd.merge(df_result, df_result2)\n",
    "\n",
    "    # 結果を整形\n",
    "    df_y_preds = pd.read_csv('data/model/y_preds_par_year.csv', index_col=0).reset_index(drop = True)\n",
    "    df_toto = pd.read_csv('data/marge/toto_info.csv', index_col=0).reset_index(drop = True)\n",
    "    df_toto = df_toto[['第n回', '種別', '開催日', 'ホーム', 'アウェイ']]\n",
    "\n",
    "    df_marge = pd.merge(df_toto, df_result, \n",
    "                 left_on=['第n回', '種別', 'ホーム'],\n",
    "                 right_on=['toto_n', 'toto_kind', 'H_Team']).drop(columns = ['H_Team', 'A_Team', '年月日', 'toto_n', 'toto_kind'])\n",
    "\n",
    "    df_y_preds = pd.concat([df_y_preds, df_marge])\n",
    "    df_y_preds = df_y_preds.drop_duplicates(['第n回', 'ホーム', 'アウェイ'], keep='last').reset_index(drop = True)\n",
    "    df_y_preds.to_csv(\"data/model/y_preds_par_year.csv\")\n",
    "\n",
    "    return df_marge\n",
    "    \n",
    "class model_toto:\n",
    "    \n",
    "    def fit(self, x_train, x_val, y_train, y_val):\n",
    "        \n",
    "        lgb_train = lgb_o.Dataset(x_train, y_train)\n",
    "        lgb_eval = lgb_o.Dataset(x_val, y_val) \n",
    "        # 学習用パラメータ\n",
    "        lgbm_params = {\n",
    "            'objective': 'multiclass',\n",
    "            'metric': 'multi_logloss',\n",
    "            'num_class': 3,\n",
    "            'verbosity': -1\n",
    "        }\n",
    "        # 学習\n",
    "        model = lgb_o.train(lgbm_params,\n",
    "                        lgb_train,\n",
    "                        valid_sets=lgb_eval,\n",
    "                        early_stopping_rounds=100,\n",
    "                        verbose_eval=200,)\n",
    "        self.model = model\n",
    "\n",
    "        y_pred_proba = self.model.predict(x_val, num_iteration=self.model.best_iteration)\n",
    "        y_pred = np.argmax(y_pred_proba, axis=1)\n",
    "\n",
    "        # Accuracy の計算\n",
    "        accuracy = sum(y_val == y_pred) / len(y_val)\n",
    "        print('accuracy:', accuracy)\n",
    "        \n",
    "        return y_pred, y_pred_proba, accuracy\n",
    "    \n",
    "    def predict(self, x_test):\n",
    "        y_pred_proba = self.model.predict(x_test, num_iteration=self.model.best_iteration)\n",
    "        y_pred = np.argmax(y_pred_proba, axis=1)\n",
    "        return y_pred, y_pred_proba"
   ]
  },
  {
   "cell_type": "code",
   "execution_count": 4,
   "id": "protective-religion",
   "metadata": {},
   "outputs": [],
   "source": [
    "df_toto = pd.read_csv('data/marge/toto_info.csv', index_col=0).reset_index(drop = True)\n",
    "df_toto = df_toto[df_toto['開催日'] > 20130000]\n",
    "df_toto = df_toto[df_toto['種別'] == 'toto']\n",
    "df_toto = df_toto[['第n回', '種別']].drop_duplicates().reset_index(drop = True)"
   ]
  },
  {
   "cell_type": "code",
   "execution_count": null,
   "id": "hawaiian-mounting",
   "metadata": {},
   "outputs": [],
   "source": [
    "for i, row in df_toto.iterrows():\n",
    "    toto_n = row['第n回']\n",
    "    toto_kind = row['種別']\n",
    "    if toto_n < 0:\n",
    "        continue\n",
    "    try:\n",
    "        print(toto_n, toto_kind)\n",
    "        df_toto_preds = get_y_preds(toto_n, toto_kind)\n",
    "    except:\n",
    "        continue"
   ]
  },
  {
   "cell_type": "code",
   "execution_count": null,
   "id": "optical-eligibility",
   "metadata": {},
   "outputs": [],
   "source": []
  }
 ],
 "metadata": {
  "kernelspec": {
   "display_name": "Python 3",
   "language": "python",
   "name": "python3"
  },
  "language_info": {
   "codemirror_mode": {
    "name": "ipython",
    "version": 3
   },
   "file_extension": ".py",
   "mimetype": "text/x-python",
   "name": "python",
   "nbconvert_exporter": "python",
   "pygments_lexer": "ipython3",
   "version": "3.8.8"
  }
 },
 "nbformat": 4,
 "nbformat_minor": 5
}
