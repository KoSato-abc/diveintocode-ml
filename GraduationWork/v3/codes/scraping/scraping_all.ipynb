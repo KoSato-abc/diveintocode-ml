{
 "cells": [
  {
   "cell_type": "code",
   "execution_count": 1,
   "id": "emerging-accused",
   "metadata": {},
   "outputs": [
    {
     "name": "stdout",
     "output_type": "stream",
     "text": [
      "/Users/satouwataru/Desktop/DiveIntoCode/git/diveintocode-ml/GraduationWork/v1/codes\n"
     ]
    }
   ],
   "source": [
    "cd .."
   ]
  },
  {
   "cell_type": "code",
   "execution_count": 2,
   "id": "historic-symbol",
   "metadata": {},
   "outputs": [
    {
     "name": "stdout",
     "output_type": "stream",
     "text": [
      "/Users/satouwataru/Desktop/DiveIntoCode/git/diveintocode-ml/GraduationWork/v1\n"
     ]
    }
   ],
   "source": [
    "cd .."
   ]
  },
  {
   "cell_type": "code",
   "execution_count": 4,
   "id": "altered-melissa",
   "metadata": {},
   "outputs": [],
   "source": [
    "from codes.scraping.j_league_data_site import j_league_data_site\n",
    "from codes.scraping.toto import toto\n",
    "\n",
    "class  scraping_all():\n",
    "    \n",
    "    def __init__(self):\n",
    "        self.jlds = j_league_data_site.j_league_data_site()\n",
    "        self.toto = toto.toto()\n",
    "        \n",
    "    def scraping_and_clean(self, only_new_data_flg):\n",
    "        \n",
    "        self.jlds.scraping_and_clean(only_new_data_flg)\n",
    "        self.toto.scraping_and_clean(only_new_data_flg)"
   ]
  },
  {
   "cell_type": "code",
   "execution_count": null,
   "id": "royal-neighborhood",
   "metadata": {},
   "outputs": [],
   "source": []
  }
 ],
 "metadata": {
  "kernelspec": {
   "display_name": "Python 3",
   "language": "python",
   "name": "python3"
  },
  "language_info": {
   "codemirror_mode": {
    "name": "ipython",
    "version": 3
   },
   "file_extension": ".py",
   "mimetype": "text/x-python",
   "name": "python",
   "nbconvert_exporter": "python",
   "pygments_lexer": "ipython3",
   "version": "3.8.8"
  }
 },
 "nbformat": 4,
 "nbformat_minor": 5
}
