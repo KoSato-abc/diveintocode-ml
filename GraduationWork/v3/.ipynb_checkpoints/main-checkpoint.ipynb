{
 "cells": [
  {
   "cell_type": "code",
   "execution_count": 4,
   "id": "graduate-lancaster",
   "metadata": {},
   "outputs": [
    {
     "name": "stdout",
     "output_type": "stream",
     "text": [
      "1 : totoシミュレータ \n",
      "2 : データを更新する\n",
      "22\n"
     ]
    }
   ],
   "source": [
    "from codes.scraping import scraping_all\n",
    "from codes.marge import marge\n",
    "from codes.model import my_model_for_toto as my_model\n",
    "from codes.simulation_toto import toto_simulator\n",
    "from IPython.display import clear_output\n",
    "import pandas as pd\n",
    "import time\n",
    "import os\n",
    "\n",
    "while True:\n",
    "    clear()\n",
    "    print('1 : totoシミュレータ ')\n",
    "    print('2 : データを更新する')\n",
    "    key = input('')\n",
    "\n",
    "    if key == '2':\n",
    "        clear()\n",
    "        sa = scraping_all.scraping_all()\n",
    "        sa.scraping_and_clean(True)\n",
    "        marge.marge_csv()\n",
    "    elif key == '1':\n",
    "        clear()\n",
    "        df_toto = pd.read_csv('data/marge/toto_info.csv', index_col=0).reset_index(drop = True)\n",
    "        df_toto = df_toto[['第n回', '種別']].drop_duplicates().sort_values(['第n回','種別'] , ascending=False).reset_index(drop = True)\n",
    "        print(df_toto[:10])\n",
    "        print('')\n",
    "        print('n と 種別を入力')\n",
    "        toto_n = input('n : ')\n",
    "        toto_kind = input('種別 : ')\n",
    "        try:\n",
    "            toto_n = int(toto_n)\n",
    "        except:\n",
    "            toto_n = 0\n",
    "        if df_toto[(df_toto['第n回'] == toto_n) & (df_toto['種別'] == toto_kind)].shape[0] == 1:\n",
    "            clear()\n",
    "            toto_sim = toto_simulator.get_toto_sim(toto_n, toto_kind)\n",
    "            clear()\n",
    "            toto_sim.show_df()\n",
    "            print('')\n",
    "            fands = input('軍資金 : ')\n",
    "            try:\n",
    "                fands = int(toto_n)\n",
    "            except:\n",
    "                fands = 100\n",
    "            clear()\n",
    "            toto_sim.get_result(fands)\n",
    "            input('')\n",
    "        else:\n",
    "            pass:\n",
    "    else:\n",
    "        pass\n",
    "\n",
    "def clear():\n",
    "    os.system('cls')"
   ]
  }
 ],
 "metadata": {
  "kernelspec": {
   "display_name": "Python 3",
   "language": "python",
   "name": "python3"
  },
  "language_info": {
   "codemirror_mode": {
    "name": "ipython",
    "version": 3
   },
   "file_extension": ".py",
   "mimetype": "text/x-python",
   "name": "python",
   "nbconvert_exporter": "python",
   "pygments_lexer": "ipython3",
   "version": "3.8.8"
  }
 },
 "nbformat": 4,
 "nbformat_minor": 5
}
