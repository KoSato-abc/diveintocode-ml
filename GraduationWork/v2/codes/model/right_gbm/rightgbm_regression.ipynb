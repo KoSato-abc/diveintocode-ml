{
 "cells": [
  {
   "cell_type": "code",
   "execution_count": 1,
   "id": "sticky-diesel",
   "metadata": {},
   "outputs": [],
   "source": [
    "import numpy as np\n",
    "import pandas as pd\n",
    "import optuna.integration.lightgbm as lgb_o\n",
    "from sklearn.metrics import mean_squared_error\n",
    "\n",
    "class rightgbm_regression:\n",
    "    \n",
    "    def fit(self, x_train, x_val, x_test, y_train, y_val, y_test, year,  title):\n",
    "        \n",
    "        do_fit = True\n",
    "        if year is None:\n",
    "            pass\n",
    "        else:\n",
    "            f_name = '/data/model/right_gbm/' + year + '_' + title + '_' + 'rightgbm_regression.sav'\n",
    "            try:\n",
    "                self.model = pickle.load(open(f_name, 'rb'))\n",
    "                do_fit = False\n",
    "            except:\n",
    "                do_fit = True\n",
    "\n",
    "        if do_fit:\n",
    "            lgb_train = lgb_o.Dataset(x_train, y_train)\n",
    "            lgb_eval = lgb_o.Dataset(x_val, y_val) \n",
    "            # 学習用パラメータ\n",
    "            lgbm_params = {\n",
    "                'objective': 'regression', # 回帰  \n",
    "                'metric': 'rmse', # rsme(平均二乗誤差の平方根) \n",
    "                 'verbosity': -1\n",
    "            }\n",
    "            # 学習\n",
    "            model = lgb_o.train(lgbm_params,\n",
    "                            lgb_train,\n",
    "                            valid_sets=lgb_eval,\n",
    "                            early_stopping_rounds=100,\n",
    "                            verbose_eval=200,)\n",
    "            self.model = model\n",
    "            # 保存\n",
    "            pickle.dump(self.model, open(f_name, 'wb'))\n",
    "\n",
    "        # テストデータの予測\n",
    "        y_pred = self.model.predict(x_test, num_iteration=self.model.best_iteration)\n",
    "\n",
    "        # rmse : 平均二乗誤差の平方根\n",
    "        mse = mean_squared_error(y_test, y_pred) # MSE(平均二乗誤差)の算出\n",
    "        rmse = np.sqrt(mse) # RSME = √MSEの算出\n",
    "        print('rmse : ', rmse)\n",
    "        \n",
    "        return y_pred, rmse\n",
    "    \n",
    "    def predict(self, x_toto):\n",
    "        y_pred = self.model.predict(x_toto, num_iteration=self.model.best_iteration)\n",
    "        return y_pred"
   ]
  },
  {
   "cell_type": "code",
   "execution_count": null,
   "id": "functioning-symphony",
   "metadata": {},
   "outputs": [],
   "source": []
  }
 ],
 "metadata": {
  "kernelspec": {
   "display_name": "Python 3",
   "language": "python",
   "name": "python3"
  },
  "language_info": {
   "codemirror_mode": {
    "name": "ipython",
    "version": 3
   },
   "file_extension": ".py",
   "mimetype": "text/x-python",
   "name": "python",
   "nbconvert_exporter": "python",
   "pygments_lexer": "ipython3",
   "version": "3.8.8"
  }
 },
 "nbformat": 4,
 "nbformat_minor": 5
}
