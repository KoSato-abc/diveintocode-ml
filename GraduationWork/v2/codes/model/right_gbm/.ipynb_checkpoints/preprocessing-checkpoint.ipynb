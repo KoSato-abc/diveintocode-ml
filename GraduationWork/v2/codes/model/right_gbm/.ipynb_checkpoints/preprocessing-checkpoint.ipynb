{
 "cells": [
  {
   "cell_type": "code",
   "execution_count": 1,
   "id": "least-belarus",
   "metadata": {},
   "outputs": [
    {
     "name": "stdout",
     "output_type": "stream",
     "text": [
      "/Users/satouwataru/Desktop/DiveIntoCode/git/diveintocode-ml/GraduationWork/v2/codes/model\n"
     ]
    }
   ],
   "source": [
    "cd .."
   ]
  },
  {
   "cell_type": "code",
   "execution_count": 2,
   "id": "gross-republican",
   "metadata": {},
   "outputs": [
    {
     "name": "stdout",
     "output_type": "stream",
     "text": [
      "/Users/satouwataru/Desktop/DiveIntoCode/git/diveintocode-ml/GraduationWork/v2/codes\n"
     ]
    }
   ],
   "source": [
    "cd .."
   ]
  },
  {
   "cell_type": "code",
   "execution_count": 3,
   "id": "collaborative-windows",
   "metadata": {},
   "outputs": [
    {
     "name": "stdout",
     "output_type": "stream",
     "text": [
      "/Users/satouwataru/Desktop/DiveIntoCode/git/diveintocode-ml/GraduationWork/v2\n"
     ]
    }
   ],
   "source": [
    "cd .."
   ]
  },
  {
   "cell_type": "code",
   "execution_count": null,
   "id": "competent-fight",
   "metadata": {},
   "outputs": [],
   "source": []
  },
  {
   "cell_type": "code",
   "execution_count": 5,
   "id": "equivalent-somalia",
   "metadata": {},
   "outputs": [],
   "source": [
    "pd.set_option('display.max_columns', 1000)\n",
    "pd.set_option('display.max_rows', 1000)"
   ]
  },
  {
   "cell_type": "code",
   "execution_count": 33,
   "id": "single-dayton",
   "metadata": {},
   "outputs": [],
   "source": [
    "import numpy as np\n",
    "import pandas as pd\n",
    "import datetime\n",
    "from sklearn import preprocessing as pp\n",
    "\n",
    "def preprocessing(toto_n, toto_kind):\n",
    "    \n",
    "    M_TEAM_NAMES = pd.read_csv('data/other/TEAM_NAMES.csv').values.tolist()\n",
    "    M_COACH_LIST = pd.read_csv('data/other/COACH_LIST.csv').columns.tolist()\n",
    "    \n",
    "    df = get_train_test(toto_n, toto_kind)\n",
    "    \n",
    "    j1_list, j2_list, j3_list = [], [], []\n",
    "    h_df_list, h_mf_list, h_fw_list = [], [], []\n",
    "    a_df_list, a_mf_list, a_fw_list = [], [], []\n",
    "    h_rank_list, a_rank_list = [], []\n",
    "    for i, row in df.iterrows():\n",
    "        category = row['カテゴリ']\n",
    "\n",
    "        H_positions = ''\n",
    "        A_positions = ''\n",
    "        for i in range(1, 12):\n",
    "            H_positions += row['H_ポジション' + str(i)]\n",
    "            A_positions += row['A_ポジション' + str(i)]\n",
    "\n",
    "        h_df_list += [H_positions.count('DF')]\n",
    "        h_mf_list += [H_positions.count('MF')]\n",
    "        h_fw_list += [H_positions.count('FW')]\n",
    "        a_df_list += [A_positions.count('DF')]\n",
    "        a_mf_list += [A_positions.count('MF')]\n",
    "        a_fw_list += [A_positions.count('FW')]\n",
    "        \n",
    "        h_rank_list += [str(row['H_順位']).replace('※', '')]\n",
    "        a_rank_list += [str(row['A_順位']).replace('※', '')]\n",
    "        \n",
    "        if category == 'J1':\n",
    "            j1_list += [1]\n",
    "            j2_list += [0]\n",
    "            j3_list += [0]\n",
    "        elif category == 'J2':\n",
    "            j1_list += [0]\n",
    "            j2_list += [1]\n",
    "            j3_list += [0]\n",
    "        else:\n",
    "            j1_list += [0]\n",
    "            j2_list += [0]\n",
    "            j3_list += [1]\n",
    "\n",
    "    df_tmp5 = pd.DataFrame(j1_list, columns = ['J1_flg'])\n",
    "    df_tmp6 = pd.DataFrame(j2_list, columns = ['J2_flg'])\n",
    "    df_tmp7 = pd.DataFrame(j3_list, columns = ['J3_flg'])\n",
    "    df_tmp8 = pd.DataFrame(h_df_list, columns = ['H_DF'])\n",
    "    df_tmp9 = pd.DataFrame(h_mf_list, columns = ['H_MF'])\n",
    "    df_tmp10 = pd.DataFrame(h_fw_list, columns = ['H_FW'])\n",
    "    df_tmp11 = pd.DataFrame(a_df_list, columns = ['A_DF'])\n",
    "    df_tmp12 = pd.DataFrame(a_mf_list, columns = ['A_MF'])\n",
    "    df_tmp13 = pd.DataFrame(a_fw_list, columns = ['A_FW'])\n",
    "    df_tmp14 = pd.DataFrame(h_rank_list, columns = ['H_順位'])\n",
    "    df_tmp15 = pd.DataFrame(a_rank_list, columns = ['A_順位'])\n",
    "    \n",
    "    drop_colmuns =['天候', 'カテゴリ', '気温', '湿度', 'キックオフ時刻', '入場者数', 'H_順位', 'A_順位']\n",
    "    for i in range(1, 12):\n",
    "        drop_colmuns += ['H_ポジション' + str(i)]\n",
    "        drop_colmuns += ['A_ポジション' + str(i)]\n",
    "        drop_colmuns += ['H_選手' + str(i)]\n",
    "        drop_colmuns += ['A_選手' + str(i)]\n",
    "    \n",
    "    df.drop(columns = drop_colmuns, inplace = True)\n",
    "    df = pd.concat([df, df_tmp5, df_tmp6, df_tmp7, df_tmp8, df_tmp9, df_tmp10, df_tmp11, df_tmp12, df_tmp13, df_tmp14, df_tmp15],axis=1)\n",
    "\n",
    "    df = team_to_index(df, 'H_Team')\n",
    "    df = team_to_index(df, 'A_Team')\n",
    "\n",
    "    df1 = df['train_test']\n",
    "    df.drop(columns = ['train_test'], inplace = True)\n",
    "    \n",
    "    for col in ['スタジアム', 'H_監督', 'A_監督']:\n",
    "        target_column = df[col]\n",
    "        le = pp.LabelEncoder()\n",
    "        le.fit(target_column)\n",
    "        label_encoded_column = le.transform(target_column)\n",
    "        df[col] = pd.Series(label_encoded_column).astype('category')\n",
    "    \n",
    "    df = df.astype('float64')\n",
    "    df = pd.concat([df, df1], axis = 1)\n",
    "    \n",
    "    category_columns = ['H_Team', 'A_Team', 'H_監督', 'A_監督', 'スタジアム']\n",
    "    for column in category_columns:\n",
    "        df[column] = pd.Series(df[column]).astype('category')\n",
    "        \n",
    "    df.to_csv(\"data/model/preprocessing.csv\")\n",
    "    \n",
    "    return df\n",
    "\n",
    "def team_to_index(df, tar_col):\n",
    "    \n",
    "    M_TEAM_NAMES = pd.read_csv('data/other/TEAM_NAMES.csv').values.tolist()\n",
    "    \n",
    "    df = df.copy()\n",
    "    m_team_list = []\n",
    "    for i, team_list in enumerate(M_TEAM_NAMES):\n",
    "        m_team_list += [team_list[0]]\n",
    "\n",
    "    team_list = []\n",
    "    for i, row in df.iterrows():\n",
    "        team_list += [m_team_list.index(row[tar_col])]\n",
    "    df_tmp = pd.DataFrame(team_list, columns = [tar_col])\n",
    "    df.drop(columns = [tar_col], inplace=True)\n",
    "    df = pd.concat([df, df_tmp], axis=1)\n",
    "    \n",
    "    return df\n",
    "\n",
    "def get_train_test(toto_n, toto_kind):\n",
    "\n",
    "    df = pd.read_csv('data/marge/marge.csv', index_col=0).reset_index(drop = True)\n",
    "    df_bk = df.copy()\n",
    "    df = df.dropna().reset_index(drop = True)\n",
    "\n",
    "    df_toto = pd.read_csv(\"data/marge/toto_info.csv\", index_col=0).reset_index(drop = True)\n",
    "    df_toto = df_toto[(df_toto['第n回'] == toto_n) & (df_toto['種別'] == toto_kind)][['開催日', 'ホーム', 'アウェイ']].reset_index(drop = True)\n",
    "\n",
    "    df['train_test'] = 'train'\n",
    "    df.loc[df['年月日'] >= df_toto.min(axis=0)['開催日'],  'train_test'] = 'test'\n",
    "    for i, row in df_toto.iterrows():\n",
    "        df.loc[(df['年月日'] == row['開催日']) & (df['H_Team'] == row['ホーム']) , 'train_test'] = 'toto'\n",
    "    df = df[df['train_test'] != 'toto']\n",
    "    df = df.sort_values('年月日', ascending = False).reset_index(drop = True)\n",
    "\n",
    "    common_columns = ['年月日', 'カテゴリ', '節', 'スタジアム', 'キックオフ時刻', '入場者数', '天候', '気温', '湿度']\n",
    "    h_columns = ['H_監督', 'H_ポジション1', 'H_選手1', 'H_ポジション2', 'H_選手2', 'H_ポジション3', 'H_選手3', 'H_ポジション4', 'H_選手4', 'H_ポジション5', 'H_選手5', 'H_ポジション6', 'H_選手6', 'H_ポジション7', 'H_選手7', 'H_ポジション8', 'H_選手8', 'H_ポジション9', 'H_選手9', 'H_ポジション10', 'H_選手10', 'H_ポジション11', 'H_選手11']\n",
    "    a_columns = ['A_監督', 'A_ポジション1', 'A_選手1', 'A_ポジション2', 'A_選手2', 'A_ポジション3', 'A_選手3', 'A_ポジション4', 'A_選手4', 'A_ポジション5', 'A_選手5', 'A_ポジション6', 'A_選手6', 'A_ポジション7', 'A_選手7', 'A_ポジション8', 'A_選手8', 'A_ポジション9', 'A_選手9', 'A_ポジション10', 'A_選手10', 'A_ポジション11', 'A_選手11']\n",
    "    tmp_columns = ['監督', 'ポジション1', '選手1', 'ポジション2', '選手2', 'ポジション3', '選手3', 'ポジション4', '選手4', 'ポジション5', '選手5', 'ポジション6', '選手6', 'ポジション7', '選手7', 'ポジション8', '選手8', 'ポジション9', '選手9', 'ポジション10', '選手10', 'ポジション11', '選手11']\n",
    "\n",
    "    ini_columns = ['キックオフ時刻', '入場者数', '天候', '気温', '湿度', 'y_H_goal', 'y_A_goal', 'y_goal_deff', 'y_even_flg', 'y_H_result']\n",
    "\n",
    "    x_toto = None\n",
    "    for i, row in df_toto.iterrows():\n",
    "        toto_row = df_bk[(df_bk['H_Team'] == row['ホーム'])&(df_bk['A_Team'] == row['アウェイ'])&(df_bk['年月日'] == row['開催日'])].copy()\n",
    "        toto_row[ini_columns] = None\n",
    "        toto_row['train_test'] = 'toto'\n",
    "        # ホーム\n",
    "        past_row_h = df[((df['H_Team'] == row['ホーム']) | (df['A_Team'] == row['ホーム']))& (df['年月日'] < row['開催日'])].iloc[:1]\n",
    "        if past_row_h['H_Team'].values[0] == row['ホーム']:\n",
    "            past_row = past_row_h[ h_columns ].copy()\n",
    "        else:\n",
    "            past_row = past_row_h[a_columns].copy()\n",
    "        past_row.columns = tmp_columns\n",
    "        for col in tmp_columns:\n",
    "            toto_row['H_' + col] = past_row[col].values[0]\n",
    "        # アウェイ\n",
    "        past_row_a = df[((df['H_Team'] == row['アウェイ']) | (df['A_Team'] == row['アウェイ']))& (df['年月日'] < row['開催日'])].iloc[:1]\n",
    "        if past_row_a['H_Team'].values[0] == row['アウェイ']:\n",
    "            past_row = past_row_a[ h_columns ].copy()\n",
    "        else:\n",
    "            past_row = past_row_a[a_columns].copy()\n",
    "        past_row.columns = tmp_columns\n",
    "        for col in tmp_columns:\n",
    "            toto_row['A_' + col] = past_row[col].values[0]\n",
    "\n",
    "        x_toto = pd.concat([x_toto, toto_row])\n",
    "\n",
    "    df = pd.concat([df, x_toto])\n",
    "    df= df.reset_index(drop = True)\n",
    "    return df"
   ]
  },
  {
   "cell_type": "code",
   "execution_count": null,
   "id": "aware-finance",
   "metadata": {},
   "outputs": [],
   "source": []
  },
  {
   "cell_type": "code",
   "execution_count": 34,
   "id": "dried-specification",
   "metadata": {},
   "outputs": [
    {
     "name": "stderr",
     "output_type": "stream",
     "text": [
      "/Users/satouwataru/.pyenv/versions/anaconda3-2020.07/lib/python3.8/site-packages/IPython/core/interactiveshell.py:3437: DtypeWarning: Columns (12,22) have mixed types.Specify dtype option on import or set low_memory=False.\n",
      "  exec(code_obj, self.user_global_ns, self.user_ns)\n"
     ]
    }
   ],
   "source": [
    "toto_n = 1200\n",
    "toto_kind = 'toto'\n",
    "\n",
    "df = preprocessing(toto_n, toto_kind)"
   ]
  },
  {
   "cell_type": "code",
   "execution_count": 36,
   "id": "detected-values",
   "metadata": {},
   "outputs": [
    {
     "name": "stdout",
     "output_type": "stream",
     "text": [
      "<class 'pandas.core.frame.DataFrame'>\n",
      "RangeIndex: 9000 entries, 0 to 8999\n",
      "Data columns (total 42 columns):\n",
      " #   Column       Non-Null Count  Dtype   \n",
      "---  ------       --------------  -----   \n",
      " 0   年月日          9000 non-null   float64 \n",
      " 1   節            9000 non-null   float64 \n",
      " 2   スタジアム        9000 non-null   category\n",
      " 3   H_勝点         9000 non-null   float64 \n",
      " 4   H_試合         9000 non-null   float64 \n",
      " 5   H_勝          9000 non-null   float64 \n",
      " 6   H_分          9000 non-null   float64 \n",
      " 7   H_敗          9000 non-null   float64 \n",
      " 8   H_得点         9000 non-null   float64 \n",
      " 9   H_失点         9000 non-null   float64 \n",
      " 10  H_得失点差       9000 non-null   float64 \n",
      " 11  H_rest_days  9000 non-null   float64 \n",
      " 12  A_勝点         9000 non-null   float64 \n",
      " 13  A_試合         9000 non-null   float64 \n",
      " 14  A_勝          9000 non-null   float64 \n",
      " 15  A_分          9000 non-null   float64 \n",
      " 16  A_敗          9000 non-null   float64 \n",
      " 17  A_得点         9000 non-null   float64 \n",
      " 18  A_失点         9000 non-null   float64 \n",
      " 19  A_得失点差       9000 non-null   float64 \n",
      " 20  A_rest_days  9000 non-null   float64 \n",
      " 21  H_監督         9000 non-null   category\n",
      " 22  A_監督         9000 non-null   category\n",
      " 23  y_H_goal     8987 non-null   float64 \n",
      " 24  y_A_goal     8987 non-null   float64 \n",
      " 25  y_goal_deff  8987 non-null   float64 \n",
      " 26  y_even_flg   8987 non-null   float64 \n",
      " 27  y_H_result   8987 non-null   float64 \n",
      " 28  J1_flg       9000 non-null   float64 \n",
      " 29  J2_flg       9000 non-null   float64 \n",
      " 30  J3_flg       9000 non-null   float64 \n",
      " 31  H_DF         9000 non-null   float64 \n",
      " 32  H_MF         9000 non-null   float64 \n",
      " 33  H_FW         9000 non-null   float64 \n",
      " 34  A_DF         9000 non-null   float64 \n",
      " 35  A_MF         9000 non-null   float64 \n",
      " 36  A_FW         9000 non-null   float64 \n",
      " 37  H_順位         9000 non-null   float64 \n",
      " 38  A_順位         9000 non-null   float64 \n",
      " 39  H_Team       9000 non-null   category\n",
      " 40  A_Team       9000 non-null   category\n",
      " 41  train_test   9000 non-null   object  \n",
      "dtypes: category(5), float64(36), object(1)\n",
      "memory usage: 2.6+ MB\n"
     ]
    }
   ],
   "source": [
    "df.info()"
   ]
  },
  {
   "cell_type": "code",
   "execution_count": null,
   "id": "difficult-invitation",
   "metadata": {},
   "outputs": [],
   "source": []
  },
  {
   "cell_type": "code",
   "execution_count": null,
   "id": "structural-hypothetical",
   "metadata": {},
   "outputs": [],
   "source": [
    "drop_colmuns =['天候', 'カテゴリ', '入場者数', '気温', '湿度', 'キックオフ時間']"
   ]
  },
  {
   "cell_type": "code",
   "execution_count": null,
   "id": "latter-tract",
   "metadata": {},
   "outputs": [],
   "source": [
    "len(drop_colmuns)"
   ]
  },
  {
   "cell_type": "code",
   "execution_count": null,
   "id": "cordless-boston",
   "metadata": {},
   "outputs": [],
   "source": []
  },
  {
   "cell_type": "code",
   "execution_count": null,
   "id": "direct-explosion",
   "metadata": {},
   "outputs": [],
   "source": [
    "row_bk"
   ]
  },
  {
   "cell_type": "code",
   "execution_count": null,
   "id": "fleet-improvement",
   "metadata": {},
   "outputs": [],
   "source": []
  }
 ],
 "metadata": {
  "kernelspec": {
   "display_name": "Python 3",
   "language": "python",
   "name": "python3"
  },
  "language_info": {
   "codemirror_mode": {
    "name": "ipython",
    "version": 3
   },
   "file_extension": ".py",
   "mimetype": "text/x-python",
   "name": "python",
   "nbconvert_exporter": "python",
   "pygments_lexer": "ipython3",
   "version": "3.8.8"
  }
 },
 "nbformat": 4,
 "nbformat_minor": 5
}
