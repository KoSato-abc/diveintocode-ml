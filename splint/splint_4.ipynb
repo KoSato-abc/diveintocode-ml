{
 "cells": [
  {
   "cell_type": "code",
   "execution_count": 2,
   "metadata": {},
   "outputs": [],
   "source": [
    "import pandas as pd\n",
    "import numpy as np\n",
    "import matplotlib.pyplot as plt\n",
    "import seaborn as sns\n",
    "from sklearn import datasets"
   ]
  },
  {
   "cell_type": "code",
   "execution_count": 518,
   "metadata": {},
   "outputs": [],
   "source": [
    "class ScratchLogisticRegression():\n",
    "    \"\"\"\n",
    "    ロジスティック回帰のスクラッチ実装\n",
    "    Parameters\n",
    "    ----------\n",
    "    num_iter : int\n",
    "      イテレーション数\n",
    "    lr : float\n",
    "      学習率\n",
    "    no_bias : bool\n",
    "      バイアス項を入れない場合はTrue\n",
    "    verbose : bool\n",
    "      学習過程を出力する場合はTrue\n",
    "    Attributes\n",
    "    ----------\n",
    "    self.coef_ : 次の形のndarray, shape (n_features,)\n",
    "      パラメータ\n",
    "    self.loss : 次の形のndarray, shape (self.iter,)\n",
    "      訓練データに対する損失の記録\n",
    "    self.val_loss : 次の形のndarray, shape (self.iter,)\n",
    "      検証データに対する損失の記録\n",
    "    \"\"\"\n",
    "    def __init__(self, num_iter, lr, bias, verbose):\n",
    "        # ハイパーパラメータを属性として記録\n",
    "        self.iter = num_iter\n",
    "        self.lr = lr\n",
    "        self.no_bias = bias\n",
    "        self.verbose = verbose\n",
    "        # 損失を記録する配列を用意\n",
    "        self.loss = np.zeros(self.iter)\n",
    "        self.val_loss = np.zeros(self.iter)\n",
    "        self.theta = 0\n",
    "        self.theta_arr = []\n",
    "        \n",
    "        self.slambda = 0\n",
    "        self.threshold_value = 0.5 #  閾値\n",
    "        \n",
    "    def fit(self, X, y, X_val=None, y_val=None, slambda = 0.5):\n",
    "        \"\"\"\n",
    "        ロジスティック回帰を学習する。検証データが入力された場合はそれに対する損失と精度もイテレーションごとに計算する。\n",
    "        Parameters\n",
    "        ----------\n",
    "        X : 次の形のndarray, shape (n_samples, n_features)\n",
    "            訓練データの特徴量\n",
    "        y : 次の形のndarray, shape (n_samples, )\n",
    "            訓練データの正解値\n",
    "        X_val : 次の形のndarray, shape (n_samples, n_features)\n",
    "            検証データの特徴量\n",
    "        y_val : 次の形のndarray, shape (n_samples, )\n",
    "            検証データの正解値\n",
    "        \"\"\"\n",
    "\n",
    "        # ラムダ\n",
    "        self.slambda = slambda\n",
    "        \n",
    "        # 検証データフラグ\n",
    "        if X_val is None:\n",
    "            is_exists = False\n",
    "        else:\n",
    "            is_exists = True\n",
    "            # バイアス\n",
    "            X_val = self._add_bias(X_val)\n",
    "        \n",
    "        # バイアス\n",
    "        X = self._add_bias(X)\n",
    "            \n",
    "        # 最急降下法(訓練データ)\n",
    "        self._gradient_descent(X, y, True)\n",
    "        \n",
    "        # 最急降下法(検証データ)\n",
    "        if is_exists:\n",
    "            self._gradient_descent(X_val, y_val, False)\n",
    "        \n",
    "        # 学習結果を出力\n",
    "        if self.verbose:\n",
    "            \n",
    "            plt.plot(np.arange(self.iter), self.loss)\n",
    "            \n",
    "            if is_exists:\n",
    "                plt.plot(np.arange(self.iter), self.val_loss)\n",
    "            \n",
    "    def _gradient_descent(self, X, y, is_train):\n",
    "        \n",
    "        # j_theta, theta を記録する配列\n",
    "        min_j_theta = 0\n",
    "        min_theta = 0\n",
    "        tmp_theta = 0\n",
    "        \n",
    "        # 特徴量の数だけランダムな値シータを生成\n",
    "        tmp_theta = np.random.rand(X.shape[1])\n",
    "        \n",
    "        # 最急降下法\n",
    "        for i in range(self.iter):\n",
    "        \n",
    "            # 仮定関数より予測値を算出\n",
    "            y_hat = self._linear_hypothesis(X, tmp_theta)\n",
    "            \n",
    "            # トレインデータの場合\n",
    "            # 最急降下法を用いてパラメータを更新\n",
    "            if is_train:\n",
    "\n",
    "                if self.no_bias:\n",
    "                    # パラメータの更新\n",
    "                    tmp_theta = tmp_theta - self.lr * (np.dot(X.T, (y_hat - y)) + (self.slambda*tmp_theta))/len(X)\n",
    "                else:\n",
    "                    # パラメータの更新\n",
    "                    tmp_theta[0] = tmp_theta[0] - self.lr * np.dot(X[:,0].T, (y_hat - y)) /len(X)\n",
    "                    tmp_theta[1:] = tmp_theta[1:] - self.lr * (np.dot(X[:,1].T, (y_hat - y)) + (self.slambda*tmp_theta[1:]))/len(X)\n",
    "                \n",
    "                self.theta_arr.append(tmp_theta.copy())\n",
    "\n",
    "                # 検証データの場合\n",
    "                # トレインデータで算出したパラメータを使用\n",
    "            else:\n",
    "                tmp_theta = self.theta_arr[i]\n",
    "            \n",
    "            # 仮定関数より予測値を算出\n",
    "            y_hat = self._linear_hypothesis(X, tmp_theta)\n",
    "            \n",
    "            # 目的関数（損失関数）にて損失を算出\n",
    "            j_theta = self._loss(y_hat, y, tmp_theta)\n",
    "            \n",
    "            if is_train:\n",
    "                # 目的関数（損失関数）を記録\n",
    "                self.loss[i] = j_theta\n",
    "                \n",
    "                # 最小になる損失関数を保持\n",
    "                if i == 0 or j_theta < min_j_theta:\n",
    "                    min_j_theta = j_theta\n",
    "                    min_theta = tmp_theta\n",
    "            else:\n",
    "                # 目的関数（損失関数）を記録\n",
    "                self.val_loss[i] = j_theta\n",
    "            \n",
    "        if is_train:\n",
    "            # シータの学習結果を設定\n",
    "            self.theta = min_theta\n",
    "            \n",
    "    # 仮定関数 \n",
    "    def _linear_hypothesis(self, X, theta):\n",
    "        \n",
    "        # 線型結合の仮定関数\n",
    "        z = np.dot(X, theta.T)\n",
    "        \n",
    "        # シグモイド関数にzを入力\n",
    "        y_hat = 1 / (1 + np.exp(-z))\n",
    "        \n",
    "        return y_hat\n",
    "    \n",
    "    # 損失関数\n",
    "    def _loss(self, h, y, theta):\n",
    "        \n",
    "        # 正則化項\n",
    "        rg = np.mean(theta**2) * (self.slambda / 2*y.size)\n",
    "        \n",
    "        loss = np.mean((-y * np.log(h) - (1 - y) * np.log(1 - h)))\n",
    "    \n",
    "        return loss + rg\n",
    "    \n",
    "    def _add_bias(self, X):\n",
    "        \n",
    "        if self.no_bias:\n",
    "            pass\n",
    "        else:\n",
    "            X = np.concatenate((np.ones((X.shape[0], 1)), X), axis=1)\n",
    "        \n",
    "        return X\n",
    "\n",
    "    def predict(self, X):\n",
    "        \"\"\"\n",
    "        ロジスティック回帰を使いラベルを推定する。\n",
    "        Parameters\n",
    "        ----------\n",
    "        X : 次の形のndarray, shape (n_samples, n_features)\n",
    "            サンプル\n",
    "        Returns\n",
    "        -------\n",
    "            次の形のndarray, shape (n_samples, 1)\n",
    "            ロジスティック回帰による推定結果\n",
    "        \"\"\"\n",
    "        return np.where(self.predict_proba(X) < self.threshold_value, 0, 1)\n",
    "    \n",
    "    def predict_proba(self, X):\n",
    "        \"\"\"\n",
    "        ロジスティック回帰を使い確率を推定する。\n",
    "        Parameters\n",
    "        ----------\n",
    "        X : 次の形のndarray, shape (n_samples, n_features)\n",
    "            サンプル\n",
    "        Returns\n",
    "        -------\n",
    "            次の形のndarray, shape (n_samples, 1)\n",
    "            ロジスティック回帰による推定結果\n",
    "        \"\"\"\n",
    "        X = self._add_bias(X)\n",
    "        return self._linear_hypothesis(X, self.theta)"
   ]
  },
  {
   "cell_type": "code",
   "execution_count": 595,
   "metadata": {},
   "outputs": [],
   "source": [
    "# データのロード\n",
    "from sklearn import datasets\n",
    "\n",
    "iris_dataset = datasets.load_iris()\n",
    "X = pd.DataFrame(iris_dataset.data, columns=[\"sepal_length\", \"sepal_width\", \"petal_length\", \"petal_width\"])\n",
    "y = pd.DataFrame(iris_dataset.target, columns=[\"Species\"])\n",
    "\n",
    "df = pd.concat([X, y], axis=1)\n",
    "df = df.loc[:,[\"sepal_length\",\"petal_length\",\"Species\"]]\n",
    "df = df[df[\"Species\"].isin(['1','2'])]\n",
    "\n",
    "X = df.loc[:, [\"sepal_length\",\"petal_length\"]].values\n",
    "y = df.loc[:, [\"Species\"]].replace(2,0).values\n",
    "y = np.reshape(y,[y.shape[0],])\n",
    "\n",
    "# データセットの分割\n",
    "from sklearn.model_selection import train_test_split\n",
    "\n",
    "X_train, X_test, y_train, y_test = train_test_split(X, y)\n",
    "X_train, X_val, y_train, y_val = train_test_split(X_train, y_train)"
   ]
  },
  {
   "cell_type": "markdown",
   "metadata": {},
   "source": [
    "【問題5】学習と推定\n",
    "【問題6】学習曲線のプロット"
   ]
  },
  {
   "cell_type": "code",
   "execution_count": 603,
   "metadata": {},
   "outputs": [
    {
     "name": "stdout",
     "output_type": "stream",
     "text": [
      "predict [0 1 1 1 1 1 0 0 1 0 0 1 1 1 0 0 1 0 0 0 1 0 0 1 0]\n",
      "predict_proba [0.45686898 0.52204968 0.52691866 0.50626332 0.50765287 0.58129454\n",
      " 0.4902329  0.46079633 0.51276305 0.48163666 0.48813281 0.56743027\n",
      " 0.5322439  0.53779212 0.49673389 0.45709891 0.5160196  0.47676443\n",
      " 0.45617933 0.44077721 0.54679354 0.47097309 0.49673389 0.50672651\n",
      " 0.42526177]\n"
     ]
    },
    {
     "data": {
      "image/png": "[encoded data removed]",
      "text/plain": [
       "<Figure size 432x288 with 1 Axes>"
      ]
     },
     "metadata": {
      "needs_background": "light"
     },
     "output_type": "display_data"
    }
   ],
   "source": [
    "# スクラッチ(訓練データ)\n",
    "scr_lr = ScratchLogisticRegression(10000, 0.0001, False, True)\n",
    "scr_lr.fit(X_train, y_train)\n",
    "\n",
    "print(\"predict\",scr_lr.predict(X_test))\n",
    "print(\"predict_proba\",scr_lr.predict_proba(X_test))"
   ]
  },
  {
   "cell_type": "code",
   "execution_count": 621,
   "metadata": {},
   "outputs": [
    {
     "name": "stdout",
     "output_type": "stream",
     "text": [
      "predict [0 0 1 1 0 1 1 0 0 0 0 1 1 0 0 0 1 0 0 0 1 0 0 0 0]\n",
      "predict_proba [0.46135428 0.49942168 0.50470447 0.50265627 0.47976727 0.53983216\n",
      " 0.50970637 0.48183469 0.48123129 0.4800689  0.45871868 0.51642868\n",
      " 0.50235416 0.49618714 0.48827591 0.45756271 0.51321907 0.47479678\n",
      " 0.4727541  0.4721738  0.51819492 0.48476391 0.48827591 0.4950231\n",
      " 0.47539951]\n"
     ]
    },
    {
     "data": {
      "image/png": "[encoded data removed]",
      "text/plain": [
       "<Figure size 432x288 with 1 Axes>"
      ]
     },
     "metadata": {
      "needs_background": "light"
     },
     "output_type": "display_data"
    }
   ],
   "source": [
    "# スクラッチ(訓練データ＋検証データ)\n",
    "scr_lr2 = ScratchLogisticRegression(10000, 0.0001, False, True)\n",
    "scr_lr2.fit(X_train, y_train, X_val, y_val)\n",
    "\n",
    "print(\"predict\",scr_lr2.predict(X_test))\n",
    "print(\"predict_proba\",scr_lr2.predict_proba(X_test))"
   ]
  },
  {
   "cell_type": "code",
   "execution_count": 605,
   "metadata": {},
   "outputs": [
    {
     "name": "stdout",
     "output_type": "stream",
     "text": [
      "[0 1 1 1 1 1 1 1 1 1 0 1 1 1 1 0 1 1 1 1 1 1 1 1 1]\n"
     ]
    }
   ],
   "source": [
    "# 本家\n",
    "from sklearn.linear_model import SGDClassifier\n",
    "\n",
    "clf = SGDClassifier()\n",
    "clf.fit(X_train, y_train)\n",
    "\n",
    "y_pred = clf.predict(X_test)\n",
    "print(Y_pred)"
   ]
  },
  {
   "cell_type": "code",
   "execution_count": 606,
   "metadata": {
    "scrolled": true
   },
   "outputs": [
    {
     "name": "stdout",
     "output_type": "stream",
     "text": [
      "スクラッチ\n",
      "confusion matrix = \n",
      " [[10  0]\n",
      " [ 3 12]]\n",
      "accuracy =  0.88\n",
      "precision =  1.0\n",
      "recall =  0.8\n",
      "f1 score =  0.888888888888889\n",
      "本家\n",
      "confusion matrix = \n",
      " [[ 3  7]\n",
      " [ 0 15]]\n",
      "accuracy =  0.72\n",
      "precision =  0.6818181818181818\n",
      "recall =  1.0\n",
      "f1 score =  0.8108108108108109\n"
     ]
    }
   ],
   "source": [
    "from sklearn.metrics import confusion_matrix, accuracy_score, precision_score, recall_score, f1_score\n",
    "scr_y_pred = scr_lr.predict(X_test)\n",
    "Y_pred = clf.predict(X_test)\n",
    "\n",
    "def pri(y_test, Y_pred):\n",
    "    print('confusion matrix = \\n', confusion_matrix(y_true=y_test, y_pred=Y_pred))\n",
    "    print('accuracy = ', accuracy_score(y_true=y_test, y_pred=Y_pred))\n",
    "    print('precision = ', precision_score(y_true=y_test, y_pred=Y_pred))\n",
    "    print('recall = ', recall_score(y_true=y_test, y_pred=Y_pred))\n",
    "    print('f1 score = ', f1_score(y_true=y_test, y_pred=Y_pred))\n",
    "\n",
    "print(\"スクラッチ\")\n",
    "pri(y_test, scr_y_pred)\n",
    "print(\"本家\")\n",
    "pri(y_test, y_pred)\n",
    "    "
   ]
  },
  {
   "cell_type": "markdown",
   "metadata": {},
   "source": [
    "【問題7】決定領域の可視化"
   ]
  },
  {
   "cell_type": "code",
   "execution_count": 607,
   "metadata": {},
   "outputs": [],
   "source": [
    "from matplotlib.colors import ListedColormap\n",
    "import matplotlib.pyplot as plt\n",
    "\n",
    "# 決定領域のプロット\n",
    "def plot_decision_regions(X, y, classifier, test_idx=None, resolution=0.02):\n",
    "\n",
    "    # マーカーとカラーマップの準備\n",
    "    markers = ('s', 'x', 'o', '^', 'v')\n",
    "    colors = ('red', 'blue', 'lightgreen', 'gray', 'cyan')\n",
    "    cmap = ListedColormap(colors[:len(np.unique(y))])\n",
    "\n",
    "    # 決定領域のプロット\n",
    "    x1_min, x1_max = X[:, 0].min() - 1, X[:, 0].max() + 1\n",
    "    x2_min, x2_max = X[:, 1].min() - 1, X[:, 1].max() + 1\n",
    "    xx1, xx2 = np.meshgrid(np.arange(x1_min, x1_max, resolution),\n",
    "                           np.arange(x2_min, x2_max, resolution))\n",
    "    # 各特徴量を1次元配列に変換して予測を実行\n",
    "    Z = classifier.predict(np.array([xx1.ravel(), xx2.ravel()]).T)\n",
    "    # 予測結果を元にグリッドポイントのデータサイズに変換\n",
    "    Z = Z.reshape(xx1.shape)\n",
    "    # グリッドポイントの等高線のプロット\n",
    "    plt.contourf(xx1, xx2, Z, alpha=0.3, cmap=cmap)\n",
    "    # 軸の範囲の設定\n",
    "    plt.xlim(xx1.min(), xx1.max())\n",
    "    plt.ylim(xx2.min(), xx2.max())\n",
    "\n",
    "    # クラス毎にサンプルをプロット\n",
    "    for idx, cl in enumerate(np.unique(y)):\n",
    "        plt.scatter(x=X[y == cl, 0],\n",
    "                    y=X[y == cl, 1],\n",
    "                    alpha=0.8,\n",
    "                    c=colors[idx],\n",
    "                    marker=markers[idx],\n",
    "                    label=cl,\n",
    "                    edgecolor='black')\n",
    "\n",
    "    # テストサンプルを目立たせる\n",
    "    if test_idx:\n",
    "        # すべてのサンプルをプロット\n",
    "        X_test, y_test = X[test_idx, :], y[test_idx]\n",
    "\n",
    "        plt.scatter(X_test[:, 0],\n",
    "                    X_test[:, 1],\n",
    "                    c='',\n",
    "                    edgecolor='black',\n",
    "                    alpha=1.0,\n",
    "                    linewidth=1,\n",
    "                    marker='o',\n",
    "                    s=100,\n",
    "                    label='test set')"
   ]
  },
  {
   "cell_type": "code",
   "execution_count": 608,
   "metadata": {},
   "outputs": [
    {
     "data": {
      "image/png": "[encoded data removed]",
      "text/plain": [
       "<Figure size 432x288 with 1 Axes>"
      ]
     },
     "metadata": {
      "needs_background": "light"
     },
     "output_type": "display_data"
    }
   ],
   "source": [
    "# スクラッチ\n",
    "plot_decision_regions(X_test, y_test, scr_lr)"
   ]
  },
  {
   "cell_type": "code",
   "execution_count": 609,
   "metadata": {},
   "outputs": [
    {
     "data": {
      "image/png": "[encoded data removed]",
      "text/plain": [
       "<Figure size 432x288 with 1 Axes>"
      ]
     },
     "metadata": {
      "needs_background": "light"
     },
     "output_type": "display_data"
    }
   ],
   "source": [
    "# 本家\n",
    "plot_decision_regions(X_test, y_test, clf)"
   ]
  },
  {
   "cell_type": "code",
   "execution_count": null,
   "metadata": {},
   "outputs": [],
   "source": []
  },
  {
   "cell_type": "code",
   "execution_count": null,
   "metadata": {},
   "outputs": [],
   "source": []
  }
 ],
 "metadata": {
  "kernelspec": {
   "display_name": "Python 3",
   "language": "python",
   "name": "python3"
  },
  "language_info": {
   "codemirror_mode": {
    "name": "ipython",
    "version": 3
   },
   "file_extension": ".py",
   "mimetype": "text/x-python",
   "name": "python",
   "nbconvert_exporter": "python",
   "pygments_lexer": "ipython3",
   "version": "3.8.3"
  }
 },
 "nbformat": 4,
 "nbformat_minor": 4
}
