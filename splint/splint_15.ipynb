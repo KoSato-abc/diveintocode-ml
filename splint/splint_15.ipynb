{
 "cells": [
  {
   "cell_type": "markdown",
   "id": "virtual-genre",
   "metadata": {},
   "source": [
    "# 論文読解"
   ]
  },
  {
   "cell_type": "markdown",
   "id": "respective-procedure",
   "metadata": {},
   "source": [
    "以下の論文を読み問題に答えてください。CNNを使った物体検出（Object Detection）の代表的な研究です。\n",
    "\n",
    "[8]Ren, S., He, K., Girshick, R., Sun, J.: Faster r-cnn: Towards real-time object detection with region proposal networks. In: Advances in neural information processing systems. (2015) 91–99  \n",
    "*https://arxiv.org/pdf/1506.01497.pdf*"
   ]
  },
  {
   "cell_type": "markdown",
   "id": "alpine-metro",
   "metadata": {},
   "source": [
    "**(1) 物体検出の分野にはどういった手法が存在したか。**"
   ]
  },
  {
   "cell_type": "markdown",
   "id": "tamil-radical",
   "metadata": {},
   "source": [
    "(P1-Abstract)  \n",
    "Advances like SPPnet [1] and Fast R-CNN [2] have reduced the running time of these detection networks, ...  \n",
    "・SPPnet  \n",
    "・Fast R-CNN"
   ]
  },
  {
   "cell_type": "markdown",
   "id": "statutory-affect",
   "metadata": {},
   "source": [
    "**(2) Fasterとあるが、どういった仕組みで高速化したのか。**"
   ]
  },
  {
   "cell_type": "markdown",
   "id": "civic-spelling",
   "metadata": {},
   "source": [
    "(P1-INTRODUCTION)  \n",
    "Our observation is that the convolutional feature maps...  \n",
    "\n",
    "Fast R-CNNなどの領域ベースの検出器で使用される畳み込み特徴マップは、領域提案の生成にも使用できることがわかった。  \n",
    "これらの畳み込み機能に加えて、通常のグリッド上の各場所で領域境界とオブジェクト性スコアを同時に回帰するいくつかの畳み込み層を追加することにより、RPNを構築した。"
   ]
  },
  {
   "cell_type": "markdown",
   "id": "downtown-alliance",
   "metadata": {},
   "source": [
    "**(3) One-Stageの手法とTwo-Stageの手法はどう違うのか。**"
   ]
  },
  {
   "cell_type": "markdown",
   "id": "addressed-contractor",
   "metadata": {},
   "source": [
    "2 RELATED WORK  及び  \n",
    "OverFeat:Integrated Recognition, Localization and Detection using Convolutional Networks  \n",
    "<br>\n",
    "・One-Stage  \n",
    "対象の領域提案及び物体の特定を同時に行う\n",
    "<br>\n",
    "・Two-Stage  \n",
    "対象の領域提案及び物体の特定をそれぞれ独立させて行う"
   ]
  },
  {
   "cell_type": "markdown",
   "id": "industrial-nickel",
   "metadata": {},
   "source": [
    "**(4) RPNとは何か。**"
   ]
  },
  {
   "cell_type": "markdown",
   "id": "modern-mineral",
   "metadata": {},
   "source": [
    "3.1 Region Proposal Networks  \n",
    "畳み込み層が出力した特徴量マップで畳み込みを行い、低次元の特徴量マップを作る。  \n",
    "この特徴量マップにより学習を行うネットワーク"
   ]
  },
  {
   "cell_type": "markdown",
   "id": "serious-execution",
   "metadata": {},
   "source": [
    "**(5) RoIプーリングとは何か。**"
   ]
  },
  {
   "cell_type": "markdown",
   "id": "killing-presentation",
   "metadata": {},
   "source": [
    "*Fast R-CNNより  \n",
    "2.1. The RoI pooling layer*  \n",
    "物体検出の領域は物体によって形や大きさが様々であるのでそれを揃えるためのもの。"
   ]
  },
  {
   "cell_type": "markdown",
   "id": "seasonal-collective",
   "metadata": {},
   "source": [
    "**(6) Anchorのサイズはどうするのが適切か。**"
   ]
  },
  {
   "cell_type": "markdown",
   "id": "sealed-investment",
   "metadata": {},
   "source": [
    "Multi-Scale Anchors as Regression References  \n",
    "table8の通り"
   ]
  },
  {
   "cell_type": "markdown",
   "id": "moderate-access",
   "metadata": {},
   "source": [
    "**(7) 何というデータセットを使い、先行研究に比べどういった指標値が得られているか。**"
   ]
  },
  {
   "cell_type": "markdown",
   "id": "recovered-helmet",
   "metadata": {},
   "source": [
    "4 EXPERIMENTS  \n",
    "・MS COCO  \n",
    "・Fast R-CNN に比べ mAP が2.8%上がった。"
   ]
  },
  {
   "cell_type": "code",
   "execution_count": null,
   "id": "satisfied-johnson",
   "metadata": {},
   "outputs": [],
   "source": []
  }
 ],
 "metadata": {
  "kernelspec": {
   "display_name": "Python 3",
   "language": "python",
   "name": "python3"
  },
  "language_info": {
   "codemirror_mode": {
    "name": "ipython",
    "version": 3
   },
   "file_extension": ".py",
   "mimetype": "text/x-python",
   "name": "python",
   "nbconvert_exporter": "python",
   "pygments_lexer": "ipython3",
   "version": "3.8.8"
  }
 },
 "nbformat": 4,
 "nbformat_minor": 5
}
