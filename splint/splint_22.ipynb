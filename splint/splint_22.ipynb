{
 "cells": [
  {
   "cell_type": "code",
   "execution_count": 1,
   "id": "requested-exhibition",
   "metadata": {},
   "outputs": [],
   "source": [
    "import numpy as np"
   ]
  },
  {
   "cell_type": "markdown",
   "id": "broad-accent",
   "metadata": {},
   "source": [
    "## 深層学習スクラッチ　リカレントニューラルネットワーク"
   ]
  },
  {
   "cell_type": "markdown",
   "id": "quick-simple",
   "metadata": {},
   "source": [
    "【問題1】SimpleRNNのフォワードプロパゲーション実装"
   ]
  },
  {
   "cell_type": "code",
   "execution_count": 2,
   "id": "responsible-hands",
   "metadata": {},
   "outputs": [],
   "source": [
    "class SimpleInitializer:\n",
    "    \n",
    "    def __init__(self, sigma):\n",
    "        self.sigma = sigma\n",
    "        \n",
    "    def W(self, *shape):\n",
    "        return self.sigma * np.random.randn(*shape)\n",
    "    def B(self, *shape):\n",
    "        return np.ones(*shape)"
   ]
  },
  {
   "cell_type": "code",
   "execution_count": 3,
   "id": "limited-serbia",
   "metadata": {},
   "outputs": [],
   "source": [
    "class SimpleRNN:\n",
    "    \n",
    "    def __init__(self, n_nodes, initializer=SimpleInitializer(0.01), optimizer=None):\n",
    "        self.n_nodes = n_nodes\n",
    "        self.optimizer = optimizer\n",
    "        self.initializer = initializer\n",
    "        self.wx = None\n",
    "        self.wh = None\n",
    "        self.b = None\n",
    "        self.X = None\n",
    "        self.batch_size = None\n",
    "        self.n_sequences = None\n",
    "        self.n_features = None\n",
    "        self.a = None\n",
    "        self.h = None\n",
    "        \n",
    "    \"\"\"\n",
    "    X : 次の形のndarray, shape (batch_size, n_sequences, n_features)\n",
    "    return : 次の形のndarray, shape (batch_size, n_nodes)\n",
    "    \"\"\"\n",
    "    def forward(self, X):\n",
    "        \n",
    "        self.X = X\n",
    "        self.batch_size, self.n_sequences, self.n_features = X.shape\n",
    "        # 問題２を実施する時用にコメントアウト\n",
    "#         self.wx = self.initializer.W(self.n_features, self.n_nodes)\n",
    "#         self.wh = self.initializer.W(self.n_nodes, self.n_nodes)\n",
    "#         self.b = self.initializer.B(self.n_nodes)\n",
    "        self.a = np.zeros((self.batch_size, self.n_sequences, self.n_nodes))\n",
    "        self.h = np.zeros((self.batch_size, self.n_sequences, self.n_nodes))\n",
    "        \n",
    "        for t in range(self.n_sequences):\n",
    "            self.a[:, t] = self.X[:, t]@self.wx + self.h[:, t-1]@self.wh + self.b\n",
    "            self.h[:, t] = np.tanh(self.a[:, t])\n",
    "        \n",
    "        return self.h[:, -1]"
   ]
  },
  {
   "cell_type": "markdown",
   "id": "computational-employee",
   "metadata": {},
   "source": [
    "【問題2】小さな配列でのフォワードプロパゲーションの実験"
   ]
  },
  {
   "cell_type": "code",
   "execution_count": 4,
   "id": "linear-council",
   "metadata": {},
   "outputs": [],
   "source": [
    "x = np.array([[[1, 2], [2, 3], [3, 4]]])/100 # (batch_size, n_sequences, n_features)\n",
    "w_x = np.array([[1, 3, 5, 7], [3, 5, 7, 8]])/100 # (n_features, n_nodes)\n",
    "w_h = np.array([[1, 3, 5, 7], [2, 4, 6, 8], [3, 5, 7, 8], [4, 6, 8, 10]])/100 # (n_nodes, n_nodes)\n",
    "batch_size = x.shape[0] # 1\n",
    "n_sequences = x.shape[1] # 3\n",
    "n_features = x.shape[2] # 2\n",
    "n_nodes = w_x.shape[1] # 4\n",
    "h = np.zeros((batch_size, n_nodes)) # (batch_size, n_nodes)\n",
    "b = np.array([1, 1, 1, 1]) # (n_nodes,)\n",
    "h = np.array([[0.79494228, 0.81839002, 0.83939649, 0.85584174]]) # (batch_size, n_nodes)"
   ]
  },
  {
   "cell_type": "code",
   "execution_count": 5,
   "id": "necessary-civilization",
   "metadata": {},
   "outputs": [],
   "source": [
    "# インスタンス生成\n",
    "rnn = SimpleRNN(n_nodes=n_nodes)\n",
    "# 問題用に各種値を上書き\n",
    "rnn.wx, rnn.wh, rnn.b = w_x, w_h, b\n",
    "# フォワードプロパゲーション\n",
    "hh = rnn.forward(x)"
   ]
  },
  {
   "cell_type": "code",
   "execution_count": 6,
   "id": "bridal-criticism",
   "metadata": {},
   "outputs": [
    {
     "data": {
      "text/plain": [
       "array([[0.79494228, 0.81839002, 0.83939649, 0.85584174]])"
      ]
     },
     "execution_count": 6,
     "metadata": {},
     "output_type": "execute_result"
    }
   ],
   "source": [
    "h"
   ]
  },
  {
   "cell_type": "code",
   "execution_count": 7,
   "id": "another-blind",
   "metadata": {},
   "outputs": [
    {
     "data": {
      "text/plain": [
       "array([[0.79494228, 0.81839002, 0.83939649, 0.85584174]])"
      ]
     },
     "execution_count": 7,
     "metadata": {},
     "output_type": "execute_result"
    }
   ],
   "source": [
    "hh"
   ]
  }
 ],
 "metadata": {
  "kernelspec": {
   "display_name": "Python 3",
   "language": "python",
   "name": "python3"
  },
  "language_info": {
   "codemirror_mode": {
    "name": "ipython",
    "version": 3
   },
   "file_extension": ".py",
   "mimetype": "text/x-python",
   "name": "python",
   "nbconvert_exporter": "python",
   "pygments_lexer": "ipython3",
   "version": "3.8.8"
  }
 },
 "nbformat": 4,
 "nbformat_minor": 5
}
