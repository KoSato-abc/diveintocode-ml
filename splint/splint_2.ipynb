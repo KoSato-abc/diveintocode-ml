{
  "nbformat": 4,
  "nbformat_minor": 0,
  "metadata": {
    "kernelspec": {
      "display_name": "Python 3",
      "language": "python",
      "name": "python3"
    },
    "language_info": {
      "codemirror_mode": {
        "name": "ipython",
        "version": 3
      },
      "file_extension": ".py",
      "mimetype": "text/x-python",
      "name": "python",
      "nbconvert_exporter": "python",
      "pygments_lexer": "ipython3",
      "version": "3.6.4"
    },
    "colab": {
      "name": "sprint2.ipynb",
      "provenance": []
    }
  },
  "cells": [
    {
      "cell_type": "markdown",
      "metadata": {
        "id": "UhTPB3__mqqG"
      },
      "source": [
        "# sprint1 機械学習フロー"
      ]
    },
    {
      "cell_type": "code",
      "metadata": {
        "colab": {
          "base_uri": "https://localhost:8080/"
        },
        "id": "rOhpqobasBO1",
        "outputId": "6389cf1e-2e9d-4f1e-ce58-cda6028495a6"
      },
      "source": [
        "from google.colab import drive\n",
        "drive.mount('/content/drive')"
      ],
      "execution_count": 1,
      "outputs": [
        {
          "output_type": "stream",
          "text": [
            "Drive already mounted at /content/drive; to attempt to forcibly remount, call drive.mount(\"/content/drive\", force_remount=True).\n"
          ],
          "name": "stdout"
        }
      ]
    },
    {
      "cell_type": "code",
      "metadata": {
        "id": "kBXw28Oumqq4"
      },
      "source": [
        "import pandas as pd\n",
        "import numpy as np\n",
        "import matplotlib.pyplot as plt\n",
        "%matplotlib inline \n",
        "#import seaborn as sns\n",
        "# from sklearn import cross_validation"
      ],
      "execution_count": 2,
      "outputs": []
    },
    {
      "cell_type": "code",
      "metadata": {
        "colab": {
          "base_uri": "https://localhost:8080/"
        },
        "id": "OKbElB4Usj81",
        "outputId": "00e67345-9fd5-4930-fe9f-f6a06b6d7e8c"
      },
      "source": [
        "cd /content/drive/MyDrive/Data/house-prices-advanced-regression-techniques"
      ],
      "execution_count": 3,
      "outputs": [
        {
          "output_type": "stream",
          "text": [
            "/content/drive/MyDrive/Data/house-prices-advanced-regression-techniques\n"
          ],
          "name": "stdout"
        }
      ]
    },
    {
      "cell_type": "markdown",
      "metadata": {
        "id": "bDKrVgQimqq5"
      },
      "source": [
        "## データを読み込み、前処理"
      ]
    },
    {
      "cell_type": "code",
      "metadata": {
        "id": "PeBota5zmqq6"
      },
      "source": [
        "# データを読み込む\n",
        "app_train = pd.read_csv(\"application_train.csv\")\n",
        "app_test = pd.read_csv(\"application_test.csv\")"
      ],
      "execution_count": 4,
      "outputs": []
    },
    {
      "cell_type": "code",
      "metadata": {
        "colab": {
          "base_uri": "https://localhost:8080/",
          "height": 389
        },
        "id": "LjWnkXBUmqq6",
        "outputId": "bee096af-b14b-4e66-8023-9ccdf5912647"
      },
      "source": [
        "# 読み込んだデータの確認\n",
        "display(app_train.head(3))\n",
        "display(app_test.head(3))"
      ],
      "execution_count": 5,
      "outputs": [
        {
          "output_type": "display_data",
          "data": {
            "text/html": [
              "<div>\n",
              "<style scoped>\n",
              "    .dataframe tbody tr th:only-of-type {\n",
              "        vertical-align: middle;\n",
              "    }\n",
              "\n",
              "    .dataframe tbody tr th {\n",
              "        vertical-align: top;\n",
              "    }\n",
              "\n",
              "    .dataframe thead th {\n",
              "        text-align: right;\n",
              "    }\n",
              "</style>\n",
              "<table border=\"1\" class=\"dataframe\">\n",
              "  <thead>\n",
              "    <tr style=\"text-align: right;\">\n",
              "      <th></th>\n",
              "      <th>SK_ID_CURR</th>\n",
              "      <th>TARGET</th>\n",
              "      <th>NAME_CONTRACT_TYPE</th>\n",
              "      <th>CODE_GENDER</th>\n",
              "      <th>FLAG_OWN_CAR</th>\n",
              "      <th>FLAG_OWN_REALTY</th>\n",
              "      <th>CNT_CHILDREN</th>\n",
              "      <th>AMT_INCOME_TOTAL</th>\n",
              "      <th>AMT_CREDIT</th>\n",
              "      <th>AMT_ANNUITY</th>\n",
              "      <th>AMT_GOODS_PRICE</th>\n",
              "      <th>NAME_TYPE_SUITE</th>\n",
              "      <th>NAME_INCOME_TYPE</th>\n",
              "      <th>NAME_EDUCATION_TYPE</th>\n",
              "      <th>NAME_FAMILY_STATUS</th>\n",
              "      <th>NAME_HOUSING_TYPE</th>\n",
              "      <th>REGION_POPULATION_RELATIVE</th>\n",
              "      <th>DAYS_BIRTH</th>\n",
              "      <th>DAYS_EMPLOYED</th>\n",
              "      <th>DAYS_REGISTRATION</th>\n",
              "      <th>DAYS_ID_PUBLISH</th>\n",
              "      <th>OWN_CAR_AGE</th>\n",
              "      <th>FLAG_MOBIL</th>\n",
              "      <th>FLAG_EMP_PHONE</th>\n",
              "      <th>FLAG_WORK_PHONE</th>\n",
              "      <th>FLAG_CONT_MOBILE</th>\n",
              "      <th>FLAG_PHONE</th>\n",
              "      <th>FLAG_EMAIL</th>\n",
              "      <th>OCCUPATION_TYPE</th>\n",
              "      <th>CNT_FAM_MEMBERS</th>\n",
              "      <th>REGION_RATING_CLIENT</th>\n",
              "      <th>REGION_RATING_CLIENT_W_CITY</th>\n",
              "      <th>WEEKDAY_APPR_PROCESS_START</th>\n",
              "      <th>HOUR_APPR_PROCESS_START</th>\n",
              "      <th>REG_REGION_NOT_LIVE_REGION</th>\n",
              "      <th>REG_REGION_NOT_WORK_REGION</th>\n",
              "      <th>LIVE_REGION_NOT_WORK_REGION</th>\n",
              "      <th>REG_CITY_NOT_LIVE_CITY</th>\n",
              "      <th>REG_CITY_NOT_WORK_CITY</th>\n",
              "      <th>LIVE_CITY_NOT_WORK_CITY</th>\n",
              "      <th>...</th>\n",
              "      <th>LIVINGAPARTMENTS_MEDI</th>\n",
              "      <th>LIVINGAREA_MEDI</th>\n",
              "      <th>NONLIVINGAPARTMENTS_MEDI</th>\n",
              "      <th>NONLIVINGAREA_MEDI</th>\n",
              "      <th>FONDKAPREMONT_MODE</th>\n",
              "      <th>HOUSETYPE_MODE</th>\n",
              "      <th>TOTALAREA_MODE</th>\n",
              "      <th>WALLSMATERIAL_MODE</th>\n",
              "      <th>EMERGENCYSTATE_MODE</th>\n",
              "      <th>OBS_30_CNT_SOCIAL_CIRCLE</th>\n",
              "      <th>DEF_30_CNT_SOCIAL_CIRCLE</th>\n",
              "      <th>OBS_60_CNT_SOCIAL_CIRCLE</th>\n",
              "      <th>DEF_60_CNT_SOCIAL_CIRCLE</th>\n",
              "      <th>DAYS_LAST_PHONE_CHANGE</th>\n",
              "      <th>FLAG_DOCUMENT_2</th>\n",
              "      <th>FLAG_DOCUMENT_3</th>\n",
              "      <th>FLAG_DOCUMENT_4</th>\n",
              "      <th>FLAG_DOCUMENT_5</th>\n",
              "      <th>FLAG_DOCUMENT_6</th>\n",
              "      <th>FLAG_DOCUMENT_7</th>\n",
              "      <th>FLAG_DOCUMENT_8</th>\n",
              "      <th>FLAG_DOCUMENT_9</th>\n",
              "      <th>FLAG_DOCUMENT_10</th>\n",
              "      <th>FLAG_DOCUMENT_11</th>\n",
              "      <th>FLAG_DOCUMENT_12</th>\n",
              "      <th>FLAG_DOCUMENT_13</th>\n",
              "      <th>FLAG_DOCUMENT_14</th>\n",
              "      <th>FLAG_DOCUMENT_15</th>\n",
              "      <th>FLAG_DOCUMENT_16</th>\n",
              "      <th>FLAG_DOCUMENT_17</th>\n",
              "      <th>FLAG_DOCUMENT_18</th>\n",
              "      <th>FLAG_DOCUMENT_19</th>\n",
              "      <th>FLAG_DOCUMENT_20</th>\n",
              "      <th>FLAG_DOCUMENT_21</th>\n",
              "      <th>AMT_REQ_CREDIT_BUREAU_HOUR</th>\n",
              "      <th>AMT_REQ_CREDIT_BUREAU_DAY</th>\n",
              "      <th>AMT_REQ_CREDIT_BUREAU_WEEK</th>\n",
              "      <th>AMT_REQ_CREDIT_BUREAU_MON</th>\n",
              "      <th>AMT_REQ_CREDIT_BUREAU_QRT</th>\n",
              "      <th>AMT_REQ_CREDIT_BUREAU_YEAR</th>\n",
              "    </tr>\n",
              "  </thead>\n",
              "  <tbody>\n",
              "    <tr>\n",
              "      <th>0</th>\n",
              "      <td>100002</td>\n",
              "      <td>1</td>\n",
              "      <td>Cash loans</td>\n",
              "      <td>M</td>\n",
              "      <td>N</td>\n",
              "      <td>Y</td>\n",
              "      <td>0</td>\n",
              "      <td>202500.0</td>\n",
              "      <td>406597.5</td>\n",
              "      <td>24700.5</td>\n",
              "      <td>351000.0</td>\n",
              "      <td>Unaccompanied</td>\n",
              "      <td>Working</td>\n",
              "      <td>Secondary / secondary special</td>\n",
              "      <td>Single / not married</td>\n",
              "      <td>House / apartment</td>\n",
              "      <td>0.018801</td>\n",
              "      <td>-9461</td>\n",
              "      <td>-637</td>\n",
              "      <td>-3648.0</td>\n",
              "      <td>-2120</td>\n",
              "      <td>NaN</td>\n",
              "      <td>1</td>\n",
              "      <td>1</td>\n",
              "      <td>0</td>\n",
              "      <td>1</td>\n",
              "      <td>1</td>\n",
              "      <td>0</td>\n",
              "      <td>Laborers</td>\n",
              "      <td>1.0</td>\n",
              "      <td>2</td>\n",
              "      <td>2</td>\n",
              "      <td>WEDNESDAY</td>\n",
              "      <td>10</td>\n",
              "      <td>0</td>\n",
              "      <td>0</td>\n",
              "      <td>0</td>\n",
              "      <td>0</td>\n",
              "      <td>0</td>\n",
              "      <td>0</td>\n",
              "      <td>...</td>\n",
              "      <td>0.0205</td>\n",
              "      <td>0.0193</td>\n",
              "      <td>0.0000</td>\n",
              "      <td>0.00</td>\n",
              "      <td>reg oper account</td>\n",
              "      <td>block of flats</td>\n",
              "      <td>0.0149</td>\n",
              "      <td>Stone, brick</td>\n",
              "      <td>No</td>\n",
              "      <td>2.0</td>\n",
              "      <td>2.0</td>\n",
              "      <td>2.0</td>\n",
              "      <td>2.0</td>\n",
              "      <td>-1134.0</td>\n",
              "      <td>0</td>\n",
              "      <td>1</td>\n",
              "      <td>0</td>\n",
              "      <td>0</td>\n",
              "      <td>0</td>\n",
              "      <td>0</td>\n",
              "      <td>0</td>\n",
              "      <td>0</td>\n",
              "      <td>0</td>\n",
              "      <td>0</td>\n",
              "      <td>0</td>\n",
              "      <td>0</td>\n",
              "      <td>0</td>\n",
              "      <td>0</td>\n",
              "      <td>0</td>\n",
              "      <td>0</td>\n",
              "      <td>0</td>\n",
              "      <td>0</td>\n",
              "      <td>0</td>\n",
              "      <td>0</td>\n",
              "      <td>0.0</td>\n",
              "      <td>0.0</td>\n",
              "      <td>0.0</td>\n",
              "      <td>0.0</td>\n",
              "      <td>0.0</td>\n",
              "      <td>1.0</td>\n",
              "    </tr>\n",
              "    <tr>\n",
              "      <th>1</th>\n",
              "      <td>100003</td>\n",
              "      <td>0</td>\n",
              "      <td>Cash loans</td>\n",
              "      <td>F</td>\n",
              "      <td>N</td>\n",
              "      <td>N</td>\n",
              "      <td>0</td>\n",
              "      <td>270000.0</td>\n",
              "      <td>1293502.5</td>\n",
              "      <td>35698.5</td>\n",
              "      <td>1129500.0</td>\n",
              "      <td>Family</td>\n",
              "      <td>State servant</td>\n",
              "      <td>Higher education</td>\n",
              "      <td>Married</td>\n",
              "      <td>House / apartment</td>\n",
              "      <td>0.003541</td>\n",
              "      <td>-16765</td>\n",
              "      <td>-1188</td>\n",
              "      <td>-1186.0</td>\n",
              "      <td>-291</td>\n",
              "      <td>NaN</td>\n",
              "      <td>1</td>\n",
              "      <td>1</td>\n",
              "      <td>0</td>\n",
              "      <td>1</td>\n",
              "      <td>1</td>\n",
              "      <td>0</td>\n",
              "      <td>Core staff</td>\n",
              "      <td>2.0</td>\n",
              "      <td>1</td>\n",
              "      <td>1</td>\n",
              "      <td>MONDAY</td>\n",
              "      <td>11</td>\n",
              "      <td>0</td>\n",
              "      <td>0</td>\n",
              "      <td>0</td>\n",
              "      <td>0</td>\n",
              "      <td>0</td>\n",
              "      <td>0</td>\n",
              "      <td>...</td>\n",
              "      <td>0.0787</td>\n",
              "      <td>0.0558</td>\n",
              "      <td>0.0039</td>\n",
              "      <td>0.01</td>\n",
              "      <td>reg oper account</td>\n",
              "      <td>block of flats</td>\n",
              "      <td>0.0714</td>\n",
              "      <td>Block</td>\n",
              "      <td>No</td>\n",
              "      <td>1.0</td>\n",
              "      <td>0.0</td>\n",
              "      <td>1.0</td>\n",
              "      <td>0.0</td>\n",
              "      <td>-828.0</td>\n",
              "      <td>0</td>\n",
              "      <td>1</td>\n",
              "      <td>0</td>\n",
              "      <td>0</td>\n",
              "      <td>0</td>\n",
              "      <td>0</td>\n",
              "      <td>0</td>\n",
              "      <td>0</td>\n",
              "      <td>0</td>\n",
              "      <td>0</td>\n",
              "      <td>0</td>\n",
              "      <td>0</td>\n",
              "      <td>0</td>\n",
              "      <td>0</td>\n",
              "      <td>0</td>\n",
              "      <td>0</td>\n",
              "      <td>0</td>\n",
              "      <td>0</td>\n",
              "      <td>0</td>\n",
              "      <td>0</td>\n",
              "      <td>0.0</td>\n",
              "      <td>0.0</td>\n",
              "      <td>0.0</td>\n",
              "      <td>0.0</td>\n",
              "      <td>0.0</td>\n",
              "      <td>0.0</td>\n",
              "    </tr>\n",
              "    <tr>\n",
              "      <th>2</th>\n",
              "      <td>100004</td>\n",
              "      <td>0</td>\n",
              "      <td>Revolving loans</td>\n",
              "      <td>M</td>\n",
              "      <td>Y</td>\n",
              "      <td>Y</td>\n",
              "      <td>0</td>\n",
              "      <td>67500.0</td>\n",
              "      <td>135000.0</td>\n",
              "      <td>6750.0</td>\n",
              "      <td>135000.0</td>\n",
              "      <td>Unaccompanied</td>\n",
              "      <td>Working</td>\n",
              "      <td>Secondary / secondary special</td>\n",
              "      <td>Single / not married</td>\n",
              "      <td>House / apartment</td>\n",
              "      <td>0.010032</td>\n",
              "      <td>-19046</td>\n",
              "      <td>-225</td>\n",
              "      <td>-4260.0</td>\n",
              "      <td>-2531</td>\n",
              "      <td>26.0</td>\n",
              "      <td>1</td>\n",
              "      <td>1</td>\n",
              "      <td>1</td>\n",
              "      <td>1</td>\n",
              "      <td>1</td>\n",
              "      <td>0</td>\n",
              "      <td>Laborers</td>\n",
              "      <td>1.0</td>\n",
              "      <td>2</td>\n",
              "      <td>2</td>\n",
              "      <td>MONDAY</td>\n",
              "      <td>9</td>\n",
              "      <td>0</td>\n",
              "      <td>0</td>\n",
              "      <td>0</td>\n",
              "      <td>0</td>\n",
              "      <td>0</td>\n",
              "      <td>0</td>\n",
              "      <td>...</td>\n",
              "      <td>NaN</td>\n",
              "      <td>NaN</td>\n",
              "      <td>NaN</td>\n",
              "      <td>NaN</td>\n",
              "      <td>NaN</td>\n",
              "      <td>NaN</td>\n",
              "      <td>NaN</td>\n",
              "      <td>NaN</td>\n",
              "      <td>NaN</td>\n",
              "      <td>0.0</td>\n",
              "      <td>0.0</td>\n",
              "      <td>0.0</td>\n",
              "      <td>0.0</td>\n",
              "      <td>-815.0</td>\n",
              "      <td>0</td>\n",
              "      <td>0</td>\n",
              "      <td>0</td>\n",
              "      <td>0</td>\n",
              "      <td>0</td>\n",
              "      <td>0</td>\n",
              "      <td>0</td>\n",
              "      <td>0</td>\n",
              "      <td>0</td>\n",
              "      <td>0</td>\n",
              "      <td>0</td>\n",
              "      <td>0</td>\n",
              "      <td>0</td>\n",
              "      <td>0</td>\n",
              "      <td>0</td>\n",
              "      <td>0</td>\n",
              "      <td>0</td>\n",
              "      <td>0</td>\n",
              "      <td>0</td>\n",
              "      <td>0</td>\n",
              "      <td>0.0</td>\n",
              "      <td>0.0</td>\n",
              "      <td>0.0</td>\n",
              "      <td>0.0</td>\n",
              "      <td>0.0</td>\n",
              "      <td>0.0</td>\n",
              "    </tr>\n",
              "  </tbody>\n",
              "</table>\n",
              "<p>3 rows × 122 columns</p>\n",
              "</div>"
            ],
            "text/plain": [
              "   SK_ID_CURR  TARGET  ... AMT_REQ_CREDIT_BUREAU_QRT AMT_REQ_CREDIT_BUREAU_YEAR\n",
              "0      100002       1  ...                       0.0                        1.0\n",
              "1      100003       0  ...                       0.0                        0.0\n",
              "2      100004       0  ...                       0.0                        0.0\n",
              "\n",
              "[3 rows x 122 columns]"
            ]
          },
          "metadata": {
            "tags": []
          }
        },
        {
          "output_type": "display_data",
          "data": {
            "text/html": [
              "<div>\n",
              "<style scoped>\n",
              "    .dataframe tbody tr th:only-of-type {\n",
              "        vertical-align: middle;\n",
              "    }\n",
              "\n",
              "    .dataframe tbody tr th {\n",
              "        vertical-align: top;\n",
              "    }\n",
              "\n",
              "    .dataframe thead th {\n",
              "        text-align: right;\n",
              "    }\n",
              "</style>\n",
              "<table border=\"1\" class=\"dataframe\">\n",
              "  <thead>\n",
              "    <tr style=\"text-align: right;\">\n",
              "      <th></th>\n",
              "      <th>SK_ID_CURR</th>\n",
              "      <th>NAME_CONTRACT_TYPE</th>\n",
              "      <th>CODE_GENDER</th>\n",
              "      <th>FLAG_OWN_CAR</th>\n",
              "      <th>FLAG_OWN_REALTY</th>\n",
              "      <th>CNT_CHILDREN</th>\n",
              "      <th>AMT_INCOME_TOTAL</th>\n",
              "      <th>AMT_CREDIT</th>\n",
              "      <th>AMT_ANNUITY</th>\n",
              "      <th>AMT_GOODS_PRICE</th>\n",
              "      <th>NAME_TYPE_SUITE</th>\n",
              "      <th>NAME_INCOME_TYPE</th>\n",
              "      <th>NAME_EDUCATION_TYPE</th>\n",
              "      <th>NAME_FAMILY_STATUS</th>\n",
              "      <th>NAME_HOUSING_TYPE</th>\n",
              "      <th>REGION_POPULATION_RELATIVE</th>\n",
              "      <th>DAYS_BIRTH</th>\n",
              "      <th>DAYS_EMPLOYED</th>\n",
              "      <th>DAYS_REGISTRATION</th>\n",
              "      <th>DAYS_ID_PUBLISH</th>\n",
              "      <th>OWN_CAR_AGE</th>\n",
              "      <th>FLAG_MOBIL</th>\n",
              "      <th>FLAG_EMP_PHONE</th>\n",
              "      <th>FLAG_WORK_PHONE</th>\n",
              "      <th>FLAG_CONT_MOBILE</th>\n",
              "      <th>FLAG_PHONE</th>\n",
              "      <th>FLAG_EMAIL</th>\n",
              "      <th>OCCUPATION_TYPE</th>\n",
              "      <th>CNT_FAM_MEMBERS</th>\n",
              "      <th>REGION_RATING_CLIENT</th>\n",
              "      <th>REGION_RATING_CLIENT_W_CITY</th>\n",
              "      <th>WEEKDAY_APPR_PROCESS_START</th>\n",
              "      <th>HOUR_APPR_PROCESS_START</th>\n",
              "      <th>REG_REGION_NOT_LIVE_REGION</th>\n",
              "      <th>REG_REGION_NOT_WORK_REGION</th>\n",
              "      <th>LIVE_REGION_NOT_WORK_REGION</th>\n",
              "      <th>REG_CITY_NOT_LIVE_CITY</th>\n",
              "      <th>REG_CITY_NOT_WORK_CITY</th>\n",
              "      <th>LIVE_CITY_NOT_WORK_CITY</th>\n",
              "      <th>ORGANIZATION_TYPE</th>\n",
              "      <th>...</th>\n",
              "      <th>LIVINGAPARTMENTS_MEDI</th>\n",
              "      <th>LIVINGAREA_MEDI</th>\n",
              "      <th>NONLIVINGAPARTMENTS_MEDI</th>\n",
              "      <th>NONLIVINGAREA_MEDI</th>\n",
              "      <th>FONDKAPREMONT_MODE</th>\n",
              "      <th>HOUSETYPE_MODE</th>\n",
              "      <th>TOTALAREA_MODE</th>\n",
              "      <th>WALLSMATERIAL_MODE</th>\n",
              "      <th>EMERGENCYSTATE_MODE</th>\n",
              "      <th>OBS_30_CNT_SOCIAL_CIRCLE</th>\n",
              "      <th>DEF_30_CNT_SOCIAL_CIRCLE</th>\n",
              "      <th>OBS_60_CNT_SOCIAL_CIRCLE</th>\n",
              "      <th>DEF_60_CNT_SOCIAL_CIRCLE</th>\n",
              "      <th>DAYS_LAST_PHONE_CHANGE</th>\n",
              "      <th>FLAG_DOCUMENT_2</th>\n",
              "      <th>FLAG_DOCUMENT_3</th>\n",
              "      <th>FLAG_DOCUMENT_4</th>\n",
              "      <th>FLAG_DOCUMENT_5</th>\n",
              "      <th>FLAG_DOCUMENT_6</th>\n",
              "      <th>FLAG_DOCUMENT_7</th>\n",
              "      <th>FLAG_DOCUMENT_8</th>\n",
              "      <th>FLAG_DOCUMENT_9</th>\n",
              "      <th>FLAG_DOCUMENT_10</th>\n",
              "      <th>FLAG_DOCUMENT_11</th>\n",
              "      <th>FLAG_DOCUMENT_12</th>\n",
              "      <th>FLAG_DOCUMENT_13</th>\n",
              "      <th>FLAG_DOCUMENT_14</th>\n",
              "      <th>FLAG_DOCUMENT_15</th>\n",
              "      <th>FLAG_DOCUMENT_16</th>\n",
              "      <th>FLAG_DOCUMENT_17</th>\n",
              "      <th>FLAG_DOCUMENT_18</th>\n",
              "      <th>FLAG_DOCUMENT_19</th>\n",
              "      <th>FLAG_DOCUMENT_20</th>\n",
              "      <th>FLAG_DOCUMENT_21</th>\n",
              "      <th>AMT_REQ_CREDIT_BUREAU_HOUR</th>\n",
              "      <th>AMT_REQ_CREDIT_BUREAU_DAY</th>\n",
              "      <th>AMT_REQ_CREDIT_BUREAU_WEEK</th>\n",
              "      <th>AMT_REQ_CREDIT_BUREAU_MON</th>\n",
              "      <th>AMT_REQ_CREDIT_BUREAU_QRT</th>\n",
              "      <th>AMT_REQ_CREDIT_BUREAU_YEAR</th>\n",
              "    </tr>\n",
              "  </thead>\n",
              "  <tbody>\n",
              "    <tr>\n",
              "      <th>0</th>\n",
              "      <td>100001</td>\n",
              "      <td>Cash loans</td>\n",
              "      <td>F</td>\n",
              "      <td>N</td>\n",
              "      <td>Y</td>\n",
              "      <td>0</td>\n",
              "      <td>135000.0</td>\n",
              "      <td>568800.0</td>\n",
              "      <td>20560.5</td>\n",
              "      <td>450000.0</td>\n",
              "      <td>Unaccompanied</td>\n",
              "      <td>Working</td>\n",
              "      <td>Higher education</td>\n",
              "      <td>Married</td>\n",
              "      <td>House / apartment</td>\n",
              "      <td>0.018850</td>\n",
              "      <td>-19241</td>\n",
              "      <td>-2329</td>\n",
              "      <td>-5170.0</td>\n",
              "      <td>-812</td>\n",
              "      <td>NaN</td>\n",
              "      <td>1</td>\n",
              "      <td>1</td>\n",
              "      <td>0</td>\n",
              "      <td>1</td>\n",
              "      <td>0</td>\n",
              "      <td>1</td>\n",
              "      <td>NaN</td>\n",
              "      <td>2.0</td>\n",
              "      <td>2</td>\n",
              "      <td>2</td>\n",
              "      <td>TUESDAY</td>\n",
              "      <td>18</td>\n",
              "      <td>0</td>\n",
              "      <td>0</td>\n",
              "      <td>0</td>\n",
              "      <td>0</td>\n",
              "      <td>0</td>\n",
              "      <td>0</td>\n",
              "      <td>Kindergarten</td>\n",
              "      <td>...</td>\n",
              "      <td>NaN</td>\n",
              "      <td>0.0514</td>\n",
              "      <td>NaN</td>\n",
              "      <td>NaN</td>\n",
              "      <td>NaN</td>\n",
              "      <td>block of flats</td>\n",
              "      <td>0.0392</td>\n",
              "      <td>Stone, brick</td>\n",
              "      <td>No</td>\n",
              "      <td>0.0</td>\n",
              "      <td>0.0</td>\n",
              "      <td>0.0</td>\n",
              "      <td>0.0</td>\n",
              "      <td>-1740.0</td>\n",
              "      <td>0</td>\n",
              "      <td>1</td>\n",
              "      <td>0</td>\n",
              "      <td>0</td>\n",
              "      <td>0</td>\n",
              "      <td>0</td>\n",
              "      <td>0</td>\n",
              "      <td>0</td>\n",
              "      <td>0</td>\n",
              "      <td>0</td>\n",
              "      <td>0</td>\n",
              "      <td>0</td>\n",
              "      <td>0</td>\n",
              "      <td>0</td>\n",
              "      <td>0</td>\n",
              "      <td>0</td>\n",
              "      <td>0</td>\n",
              "      <td>0</td>\n",
              "      <td>0</td>\n",
              "      <td>0</td>\n",
              "      <td>0.0</td>\n",
              "      <td>0.0</td>\n",
              "      <td>0.0</td>\n",
              "      <td>0.0</td>\n",
              "      <td>0.0</td>\n",
              "      <td>0.0</td>\n",
              "    </tr>\n",
              "    <tr>\n",
              "      <th>1</th>\n",
              "      <td>100005</td>\n",
              "      <td>Cash loans</td>\n",
              "      <td>M</td>\n",
              "      <td>N</td>\n",
              "      <td>Y</td>\n",
              "      <td>0</td>\n",
              "      <td>99000.0</td>\n",
              "      <td>222768.0</td>\n",
              "      <td>17370.0</td>\n",
              "      <td>180000.0</td>\n",
              "      <td>Unaccompanied</td>\n",
              "      <td>Working</td>\n",
              "      <td>Secondary / secondary special</td>\n",
              "      <td>Married</td>\n",
              "      <td>House / apartment</td>\n",
              "      <td>0.035792</td>\n",
              "      <td>-18064</td>\n",
              "      <td>-4469</td>\n",
              "      <td>-9118.0</td>\n",
              "      <td>-1623</td>\n",
              "      <td>NaN</td>\n",
              "      <td>1</td>\n",
              "      <td>1</td>\n",
              "      <td>0</td>\n",
              "      <td>1</td>\n",
              "      <td>0</td>\n",
              "      <td>0</td>\n",
              "      <td>Low-skill Laborers</td>\n",
              "      <td>2.0</td>\n",
              "      <td>2</td>\n",
              "      <td>2</td>\n",
              "      <td>FRIDAY</td>\n",
              "      <td>9</td>\n",
              "      <td>0</td>\n",
              "      <td>0</td>\n",
              "      <td>0</td>\n",
              "      <td>0</td>\n",
              "      <td>0</td>\n",
              "      <td>0</td>\n",
              "      <td>Self-employed</td>\n",
              "      <td>...</td>\n",
              "      <td>NaN</td>\n",
              "      <td>NaN</td>\n",
              "      <td>NaN</td>\n",
              "      <td>NaN</td>\n",
              "      <td>NaN</td>\n",
              "      <td>NaN</td>\n",
              "      <td>NaN</td>\n",
              "      <td>NaN</td>\n",
              "      <td>NaN</td>\n",
              "      <td>0.0</td>\n",
              "      <td>0.0</td>\n",
              "      <td>0.0</td>\n",
              "      <td>0.0</td>\n",
              "      <td>0.0</td>\n",
              "      <td>0</td>\n",
              "      <td>1</td>\n",
              "      <td>0</td>\n",
              "      <td>0</td>\n",
              "      <td>0</td>\n",
              "      <td>0</td>\n",
              "      <td>0</td>\n",
              "      <td>0</td>\n",
              "      <td>0</td>\n",
              "      <td>0</td>\n",
              "      <td>0</td>\n",
              "      <td>0</td>\n",
              "      <td>0</td>\n",
              "      <td>0</td>\n",
              "      <td>0</td>\n",
              "      <td>0</td>\n",
              "      <td>0</td>\n",
              "      <td>0</td>\n",
              "      <td>0</td>\n",
              "      <td>0</td>\n",
              "      <td>0.0</td>\n",
              "      <td>0.0</td>\n",
              "      <td>0.0</td>\n",
              "      <td>0.0</td>\n",
              "      <td>0.0</td>\n",
              "      <td>3.0</td>\n",
              "    </tr>\n",
              "    <tr>\n",
              "      <th>2</th>\n",
              "      <td>100013</td>\n",
              "      <td>Cash loans</td>\n",
              "      <td>M</td>\n",
              "      <td>Y</td>\n",
              "      <td>Y</td>\n",
              "      <td>0</td>\n",
              "      <td>202500.0</td>\n",
              "      <td>663264.0</td>\n",
              "      <td>69777.0</td>\n",
              "      <td>630000.0</td>\n",
              "      <td>NaN</td>\n",
              "      <td>Working</td>\n",
              "      <td>Higher education</td>\n",
              "      <td>Married</td>\n",
              "      <td>House / apartment</td>\n",
              "      <td>0.019101</td>\n",
              "      <td>-20038</td>\n",
              "      <td>-4458</td>\n",
              "      <td>-2175.0</td>\n",
              "      <td>-3503</td>\n",
              "      <td>5.0</td>\n",
              "      <td>1</td>\n",
              "      <td>1</td>\n",
              "      <td>0</td>\n",
              "      <td>1</td>\n",
              "      <td>0</td>\n",
              "      <td>0</td>\n",
              "      <td>Drivers</td>\n",
              "      <td>2.0</td>\n",
              "      <td>2</td>\n",
              "      <td>2</td>\n",
              "      <td>MONDAY</td>\n",
              "      <td>14</td>\n",
              "      <td>0</td>\n",
              "      <td>0</td>\n",
              "      <td>0</td>\n",
              "      <td>0</td>\n",
              "      <td>0</td>\n",
              "      <td>0</td>\n",
              "      <td>Transport: type 3</td>\n",
              "      <td>...</td>\n",
              "      <td>NaN</td>\n",
              "      <td>NaN</td>\n",
              "      <td>NaN</td>\n",
              "      <td>NaN</td>\n",
              "      <td>NaN</td>\n",
              "      <td>NaN</td>\n",
              "      <td>NaN</td>\n",
              "      <td>NaN</td>\n",
              "      <td>NaN</td>\n",
              "      <td>0.0</td>\n",
              "      <td>0.0</td>\n",
              "      <td>0.0</td>\n",
              "      <td>0.0</td>\n",
              "      <td>-856.0</td>\n",
              "      <td>0</td>\n",
              "      <td>0</td>\n",
              "      <td>0</td>\n",
              "      <td>0</td>\n",
              "      <td>0</td>\n",
              "      <td>0</td>\n",
              "      <td>1</td>\n",
              "      <td>0</td>\n",
              "      <td>0</td>\n",
              "      <td>0</td>\n",
              "      <td>0</td>\n",
              "      <td>0</td>\n",
              "      <td>0</td>\n",
              "      <td>0</td>\n",
              "      <td>0</td>\n",
              "      <td>0</td>\n",
              "      <td>0</td>\n",
              "      <td>0</td>\n",
              "      <td>0</td>\n",
              "      <td>0</td>\n",
              "      <td>0.0</td>\n",
              "      <td>0.0</td>\n",
              "      <td>0.0</td>\n",
              "      <td>0.0</td>\n",
              "      <td>1.0</td>\n",
              "      <td>4.0</td>\n",
              "    </tr>\n",
              "  </tbody>\n",
              "</table>\n",
              "<p>3 rows × 121 columns</p>\n",
              "</div>"
            ],
            "text/plain": [
              "   SK_ID_CURR  ... AMT_REQ_CREDIT_BUREAU_YEAR\n",
              "0      100001  ...                        0.0\n",
              "1      100005  ...                        3.0\n",
              "2      100013  ...                        4.0\n",
              "\n",
              "[3 rows x 121 columns]"
            ]
          },
          "metadata": {
            "tags": []
          }
        }
      ]
    },
    {
      "cell_type": "code",
      "metadata": {
        "colab": {
          "base_uri": "https://localhost:8080/",
          "height": 287
        },
        "id": "xl2KcFxFmqq7",
        "outputId": "c7df331b-bde8-4865-95b9-38127ee27225"
      },
      "source": [
        "# trainデータを説明変数と目的変数にわける\n",
        "X = app_train.loc[:, app_train.columns != \"TARGET\"]\n",
        "y = app_train[\"TARGET\"]\n",
        "# 確認\n",
        "display(X.head(3))\n",
        "display(y.head(3))"
      ],
      "execution_count": 6,
      "outputs": [
        {
          "output_type": "display_data",
          "data": {
            "text/html": [
              "<div>\n",
              "<style scoped>\n",
              "    .dataframe tbody tr th:only-of-type {\n",
              "        vertical-align: middle;\n",
              "    }\n",
              "\n",
              "    .dataframe tbody tr th {\n",
              "        vertical-align: top;\n",
              "    }\n",
              "\n",
              "    .dataframe thead th {\n",
              "        text-align: right;\n",
              "    }\n",
              "</style>\n",
              "<table border=\"1\" class=\"dataframe\">\n",
              "  <thead>\n",
              "    <tr style=\"text-align: right;\">\n",
              "      <th></th>\n",
              "      <th>SK_ID_CURR</th>\n",
              "      <th>NAME_CONTRACT_TYPE</th>\n",
              "      <th>CODE_GENDER</th>\n",
              "      <th>FLAG_OWN_CAR</th>\n",
              "      <th>FLAG_OWN_REALTY</th>\n",
              "      <th>CNT_CHILDREN</th>\n",
              "      <th>AMT_INCOME_TOTAL</th>\n",
              "      <th>AMT_CREDIT</th>\n",
              "      <th>AMT_ANNUITY</th>\n",
              "      <th>AMT_GOODS_PRICE</th>\n",
              "      <th>NAME_TYPE_SUITE</th>\n",
              "      <th>NAME_INCOME_TYPE</th>\n",
              "      <th>NAME_EDUCATION_TYPE</th>\n",
              "      <th>NAME_FAMILY_STATUS</th>\n",
              "      <th>NAME_HOUSING_TYPE</th>\n",
              "      <th>REGION_POPULATION_RELATIVE</th>\n",
              "      <th>DAYS_BIRTH</th>\n",
              "      <th>DAYS_EMPLOYED</th>\n",
              "      <th>DAYS_REGISTRATION</th>\n",
              "      <th>DAYS_ID_PUBLISH</th>\n",
              "      <th>OWN_CAR_AGE</th>\n",
              "      <th>FLAG_MOBIL</th>\n",
              "      <th>FLAG_EMP_PHONE</th>\n",
              "      <th>FLAG_WORK_PHONE</th>\n",
              "      <th>FLAG_CONT_MOBILE</th>\n",
              "      <th>FLAG_PHONE</th>\n",
              "      <th>FLAG_EMAIL</th>\n",
              "      <th>OCCUPATION_TYPE</th>\n",
              "      <th>CNT_FAM_MEMBERS</th>\n",
              "      <th>REGION_RATING_CLIENT</th>\n",
              "      <th>REGION_RATING_CLIENT_W_CITY</th>\n",
              "      <th>WEEKDAY_APPR_PROCESS_START</th>\n",
              "      <th>HOUR_APPR_PROCESS_START</th>\n",
              "      <th>REG_REGION_NOT_LIVE_REGION</th>\n",
              "      <th>REG_REGION_NOT_WORK_REGION</th>\n",
              "      <th>LIVE_REGION_NOT_WORK_REGION</th>\n",
              "      <th>REG_CITY_NOT_LIVE_CITY</th>\n",
              "      <th>REG_CITY_NOT_WORK_CITY</th>\n",
              "      <th>LIVE_CITY_NOT_WORK_CITY</th>\n",
              "      <th>ORGANIZATION_TYPE</th>\n",
              "      <th>...</th>\n",
              "      <th>LIVINGAPARTMENTS_MEDI</th>\n",
              "      <th>LIVINGAREA_MEDI</th>\n",
              "      <th>NONLIVINGAPARTMENTS_MEDI</th>\n",
              "      <th>NONLIVINGAREA_MEDI</th>\n",
              "      <th>FONDKAPREMONT_MODE</th>\n",
              "      <th>HOUSETYPE_MODE</th>\n",
              "      <th>TOTALAREA_MODE</th>\n",
              "      <th>WALLSMATERIAL_MODE</th>\n",
              "      <th>EMERGENCYSTATE_MODE</th>\n",
              "      <th>OBS_30_CNT_SOCIAL_CIRCLE</th>\n",
              "      <th>DEF_30_CNT_SOCIAL_CIRCLE</th>\n",
              "      <th>OBS_60_CNT_SOCIAL_CIRCLE</th>\n",
              "      <th>DEF_60_CNT_SOCIAL_CIRCLE</th>\n",
              "      <th>DAYS_LAST_PHONE_CHANGE</th>\n",
              "      <th>FLAG_DOCUMENT_2</th>\n",
              "      <th>FLAG_DOCUMENT_3</th>\n",
              "      <th>FLAG_DOCUMENT_4</th>\n",
              "      <th>FLAG_DOCUMENT_5</th>\n",
              "      <th>FLAG_DOCUMENT_6</th>\n",
              "      <th>FLAG_DOCUMENT_7</th>\n",
              "      <th>FLAG_DOCUMENT_8</th>\n",
              "      <th>FLAG_DOCUMENT_9</th>\n",
              "      <th>FLAG_DOCUMENT_10</th>\n",
              "      <th>FLAG_DOCUMENT_11</th>\n",
              "      <th>FLAG_DOCUMENT_12</th>\n",
              "      <th>FLAG_DOCUMENT_13</th>\n",
              "      <th>FLAG_DOCUMENT_14</th>\n",
              "      <th>FLAG_DOCUMENT_15</th>\n",
              "      <th>FLAG_DOCUMENT_16</th>\n",
              "      <th>FLAG_DOCUMENT_17</th>\n",
              "      <th>FLAG_DOCUMENT_18</th>\n",
              "      <th>FLAG_DOCUMENT_19</th>\n",
              "      <th>FLAG_DOCUMENT_20</th>\n",
              "      <th>FLAG_DOCUMENT_21</th>\n",
              "      <th>AMT_REQ_CREDIT_BUREAU_HOUR</th>\n",
              "      <th>AMT_REQ_CREDIT_BUREAU_DAY</th>\n",
              "      <th>AMT_REQ_CREDIT_BUREAU_WEEK</th>\n",
              "      <th>AMT_REQ_CREDIT_BUREAU_MON</th>\n",
              "      <th>AMT_REQ_CREDIT_BUREAU_QRT</th>\n",
              "      <th>AMT_REQ_CREDIT_BUREAU_YEAR</th>\n",
              "    </tr>\n",
              "  </thead>\n",
              "  <tbody>\n",
              "    <tr>\n",
              "      <th>0</th>\n",
              "      <td>100002</td>\n",
              "      <td>Cash loans</td>\n",
              "      <td>M</td>\n",
              "      <td>N</td>\n",
              "      <td>Y</td>\n",
              "      <td>0</td>\n",
              "      <td>202500.0</td>\n",
              "      <td>406597.5</td>\n",
              "      <td>24700.5</td>\n",
              "      <td>351000.0</td>\n",
              "      <td>Unaccompanied</td>\n",
              "      <td>Working</td>\n",
              "      <td>Secondary / secondary special</td>\n",
              "      <td>Single / not married</td>\n",
              "      <td>House / apartment</td>\n",
              "      <td>0.018801</td>\n",
              "      <td>-9461</td>\n",
              "      <td>-637</td>\n",
              "      <td>-3648.0</td>\n",
              "      <td>-2120</td>\n",
              "      <td>NaN</td>\n",
              "      <td>1</td>\n",
              "      <td>1</td>\n",
              "      <td>0</td>\n",
              "      <td>1</td>\n",
              "      <td>1</td>\n",
              "      <td>0</td>\n",
              "      <td>Laborers</td>\n",
              "      <td>1.0</td>\n",
              "      <td>2</td>\n",
              "      <td>2</td>\n",
              "      <td>WEDNESDAY</td>\n",
              "      <td>10</td>\n",
              "      <td>0</td>\n",
              "      <td>0</td>\n",
              "      <td>0</td>\n",
              "      <td>0</td>\n",
              "      <td>0</td>\n",
              "      <td>0</td>\n",
              "      <td>Business Entity Type 3</td>\n",
              "      <td>...</td>\n",
              "      <td>0.0205</td>\n",
              "      <td>0.0193</td>\n",
              "      <td>0.0000</td>\n",
              "      <td>0.00</td>\n",
              "      <td>reg oper account</td>\n",
              "      <td>block of flats</td>\n",
              "      <td>0.0149</td>\n",
              "      <td>Stone, brick</td>\n",
              "      <td>No</td>\n",
              "      <td>2.0</td>\n",
              "      <td>2.0</td>\n",
              "      <td>2.0</td>\n",
              "      <td>2.0</td>\n",
              "      <td>-1134.0</td>\n",
              "      <td>0</td>\n",
              "      <td>1</td>\n",
              "      <td>0</td>\n",
              "      <td>0</td>\n",
              "      <td>0</td>\n",
              "      <td>0</td>\n",
              "      <td>0</td>\n",
              "      <td>0</td>\n",
              "      <td>0</td>\n",
              "      <td>0</td>\n",
              "      <td>0</td>\n",
              "      <td>0</td>\n",
              "      <td>0</td>\n",
              "      <td>0</td>\n",
              "      <td>0</td>\n",
              "      <td>0</td>\n",
              "      <td>0</td>\n",
              "      <td>0</td>\n",
              "      <td>0</td>\n",
              "      <td>0</td>\n",
              "      <td>0.0</td>\n",
              "      <td>0.0</td>\n",
              "      <td>0.0</td>\n",
              "      <td>0.0</td>\n",
              "      <td>0.0</td>\n",
              "      <td>1.0</td>\n",
              "    </tr>\n",
              "    <tr>\n",
              "      <th>1</th>\n",
              "      <td>100003</td>\n",
              "      <td>Cash loans</td>\n",
              "      <td>F</td>\n",
              "      <td>N</td>\n",
              "      <td>N</td>\n",
              "      <td>0</td>\n",
              "      <td>270000.0</td>\n",
              "      <td>1293502.5</td>\n",
              "      <td>35698.5</td>\n",
              "      <td>1129500.0</td>\n",
              "      <td>Family</td>\n",
              "      <td>State servant</td>\n",
              "      <td>Higher education</td>\n",
              "      <td>Married</td>\n",
              "      <td>House / apartment</td>\n",
              "      <td>0.003541</td>\n",
              "      <td>-16765</td>\n",
              "      <td>-1188</td>\n",
              "      <td>-1186.0</td>\n",
              "      <td>-291</td>\n",
              "      <td>NaN</td>\n",
              "      <td>1</td>\n",
              "      <td>1</td>\n",
              "      <td>0</td>\n",
              "      <td>1</td>\n",
              "      <td>1</td>\n",
              "      <td>0</td>\n",
              "      <td>Core staff</td>\n",
              "      <td>2.0</td>\n",
              "      <td>1</td>\n",
              "      <td>1</td>\n",
              "      <td>MONDAY</td>\n",
              "      <td>11</td>\n",
              "      <td>0</td>\n",
              "      <td>0</td>\n",
              "      <td>0</td>\n",
              "      <td>0</td>\n",
              "      <td>0</td>\n",
              "      <td>0</td>\n",
              "      <td>School</td>\n",
              "      <td>...</td>\n",
              "      <td>0.0787</td>\n",
              "      <td>0.0558</td>\n",
              "      <td>0.0039</td>\n",
              "      <td>0.01</td>\n",
              "      <td>reg oper account</td>\n",
              "      <td>block of flats</td>\n",
              "      <td>0.0714</td>\n",
              "      <td>Block</td>\n",
              "      <td>No</td>\n",
              "      <td>1.0</td>\n",
              "      <td>0.0</td>\n",
              "      <td>1.0</td>\n",
              "      <td>0.0</td>\n",
              "      <td>-828.0</td>\n",
              "      <td>0</td>\n",
              "      <td>1</td>\n",
              "      <td>0</td>\n",
              "      <td>0</td>\n",
              "      <td>0</td>\n",
              "      <td>0</td>\n",
              "      <td>0</td>\n",
              "      <td>0</td>\n",
              "      <td>0</td>\n",
              "      <td>0</td>\n",
              "      <td>0</td>\n",
              "      <td>0</td>\n",
              "      <td>0</td>\n",
              "      <td>0</td>\n",
              "      <td>0</td>\n",
              "      <td>0</td>\n",
              "      <td>0</td>\n",
              "      <td>0</td>\n",
              "      <td>0</td>\n",
              "      <td>0</td>\n",
              "      <td>0.0</td>\n",
              "      <td>0.0</td>\n",
              "      <td>0.0</td>\n",
              "      <td>0.0</td>\n",
              "      <td>0.0</td>\n",
              "      <td>0.0</td>\n",
              "    </tr>\n",
              "    <tr>\n",
              "      <th>2</th>\n",
              "      <td>100004</td>\n",
              "      <td>Revolving loans</td>\n",
              "      <td>M</td>\n",
              "      <td>Y</td>\n",
              "      <td>Y</td>\n",
              "      <td>0</td>\n",
              "      <td>67500.0</td>\n",
              "      <td>135000.0</td>\n",
              "      <td>6750.0</td>\n",
              "      <td>135000.0</td>\n",
              "      <td>Unaccompanied</td>\n",
              "      <td>Working</td>\n",
              "      <td>Secondary / secondary special</td>\n",
              "      <td>Single / not married</td>\n",
              "      <td>House / apartment</td>\n",
              "      <td>0.010032</td>\n",
              "      <td>-19046</td>\n",
              "      <td>-225</td>\n",
              "      <td>-4260.0</td>\n",
              "      <td>-2531</td>\n",
              "      <td>26.0</td>\n",
              "      <td>1</td>\n",
              "      <td>1</td>\n",
              "      <td>1</td>\n",
              "      <td>1</td>\n",
              "      <td>1</td>\n",
              "      <td>0</td>\n",
              "      <td>Laborers</td>\n",
              "      <td>1.0</td>\n",
              "      <td>2</td>\n",
              "      <td>2</td>\n",
              "      <td>MONDAY</td>\n",
              "      <td>9</td>\n",
              "      <td>0</td>\n",
              "      <td>0</td>\n",
              "      <td>0</td>\n",
              "      <td>0</td>\n",
              "      <td>0</td>\n",
              "      <td>0</td>\n",
              "      <td>Government</td>\n",
              "      <td>...</td>\n",
              "      <td>NaN</td>\n",
              "      <td>NaN</td>\n",
              "      <td>NaN</td>\n",
              "      <td>NaN</td>\n",
              "      <td>NaN</td>\n",
              "      <td>NaN</td>\n",
              "      <td>NaN</td>\n",
              "      <td>NaN</td>\n",
              "      <td>NaN</td>\n",
              "      <td>0.0</td>\n",
              "      <td>0.0</td>\n",
              "      <td>0.0</td>\n",
              "      <td>0.0</td>\n",
              "      <td>-815.0</td>\n",
              "      <td>0</td>\n",
              "      <td>0</td>\n",
              "      <td>0</td>\n",
              "      <td>0</td>\n",
              "      <td>0</td>\n",
              "      <td>0</td>\n",
              "      <td>0</td>\n",
              "      <td>0</td>\n",
              "      <td>0</td>\n",
              "      <td>0</td>\n",
              "      <td>0</td>\n",
              "      <td>0</td>\n",
              "      <td>0</td>\n",
              "      <td>0</td>\n",
              "      <td>0</td>\n",
              "      <td>0</td>\n",
              "      <td>0</td>\n",
              "      <td>0</td>\n",
              "      <td>0</td>\n",
              "      <td>0</td>\n",
              "      <td>0.0</td>\n",
              "      <td>0.0</td>\n",
              "      <td>0.0</td>\n",
              "      <td>0.0</td>\n",
              "      <td>0.0</td>\n",
              "      <td>0.0</td>\n",
              "    </tr>\n",
              "  </tbody>\n",
              "</table>\n",
              "<p>3 rows × 121 columns</p>\n",
              "</div>"
            ],
            "text/plain": [
              "   SK_ID_CURR  ... AMT_REQ_CREDIT_BUREAU_YEAR\n",
              "0      100002  ...                        1.0\n",
              "1      100003  ...                        0.0\n",
              "2      100004  ...                        0.0\n",
              "\n",
              "[3 rows x 121 columns]"
            ]
          },
          "metadata": {
            "tags": []
          }
        },
        {
          "output_type": "display_data",
          "data": {
            "text/plain": [
              "0    1\n",
              "1    0\n",
              "2    0\n",
              "Name: TARGET, dtype: int64"
            ]
          },
          "metadata": {
            "tags": []
          }
        }
      ]
    },
    {
      "cell_type": "code",
      "metadata": {
        "colab": {
          "base_uri": "https://localhost:8080/",
          "height": 32
        },
        "id": "5hekM9usmqq7",
        "outputId": "f40a2398-62f7-4e7d-f175-7a40d87c65c4"
      },
      "source": [
        "# 前処理\n",
        "X_selected = X.select_dtypes(include=float).dropna(how=\"any\", axis=1) #サンプル数は変わっていない\n",
        "display(X_selected.shape)"
      ],
      "execution_count": 7,
      "outputs": [
        {
          "output_type": "display_data",
          "data": {
            "text/plain": [
              "(307511, 4)"
            ]
          },
          "metadata": {
            "tags": []
          }
        }
      ]
    },
    {
      "cell_type": "code",
      "metadata": {
        "colab": {
          "base_uri": "https://localhost:8080/",
          "height": 131
        },
        "id": "wzfoquMWmqq8",
        "outputId": "93a249c0-2660-4683-f251-a68d8e086e86"
      },
      "source": [
        "# 標準化\n",
        "from sklearn.preprocessing import StandardScaler\n",
        "scaler = StandardScaler()\n",
        "\n",
        "scaler.fit(X_selected)\n",
        "X_selected_transformed = scaler.transform(X_selected)\n",
        "display(X_selected_transformed)"
      ],
      "execution_count": 8,
      "outputs": [
        {
          "output_type": "display_data",
          "data": {
            "text/plain": [
              "array([[ 0.14212925, -0.47809496, -0.14945221,  0.37983698],\n",
              "       [ 0.42679193,  1.7254498 , -1.25275029,  1.07869689],\n",
              "       [-0.4271961 , -1.15288792, -0.78345096,  0.20611551],\n",
              "       ...,\n",
              "       [-0.06662338,  0.19537871, -1.14711999, -0.49700228],\n",
              "       [ 0.00928667, -0.56875681, -1.12463468,  0.68810743],\n",
              "       [-0.04764587,  0.18875991,  1.83294163, -0.04027377]])"
            ]
          },
          "metadata": {
            "tags": []
          }
        }
      ]
    },
    {
      "cell_type": "markdown",
      "metadata": {
        "id": "2HBI6DUemqq8"
      },
      "source": [
        "## モデルと評価指標"
      ]
    },
    {
      "cell_type": "code",
      "metadata": {
        "id": "055bdy06mqq8"
      },
      "source": [
        "# 2値分類の評価指標を計算\n",
        "from sklearn import metrics\n",
        "from sklearn.metrics import roc_auc_score\n",
        "\n",
        "def evaluate(y_true, y_pred, y_pred_proba):\n",
        "    \"\"\"\n",
        "    2値分類の評価指標を計算する\n",
        "    \"\"\"\n",
        "    acc = metrics.accuracy_score(y_true, y_pred)\n",
        "    precision = metrics.precision_score(y_true, y_pred)\n",
        "    recall = metrics.recall_score(y_true, y_pred)\n",
        "    f1 = metrics.f1_score(y_true, y_pred)\n",
        "    confusion = metrics.confusion_matrix(y_true, y_pred)\n",
        "    auc = roc_auc_score(y_true, y_pred_proba[:, 1])\n",
        "    return acc, precision, recall, f1, confusion, auc"
      ],
      "execution_count": 9,
      "outputs": []
    },
    {
      "cell_type": "code",
      "metadata": {
        "id": "srqlf0gMmqq9"
      },
      "source": [
        "# ランダムフォレスト\n",
        "from sklearn.ensemble import RandomForestClassifier\n",
        "\n",
        "def pred_random_forest(X_train, X_test, y_train, y_test):\n",
        "    random_forest = RandomForestClassifier()\n",
        "    model = random_forest\n",
        "    model_name = \"Random Forest\"\n",
        "    print(model_name)\n",
        "    \n",
        "    model.fit(X_train, y_train)\n",
        "    y_pred = model.predict(X_test)\n",
        "    y_pred_proba = model.predict_proba(X_test)\n",
        "    print(\"acc : {}\\nprecision : {}\\nrecall : {}\\nf1 : {}\\nconfusion matrix \\n {}\\nauc \\n {}\".format(*evaluate(y_test, y_pred, y_pred_proba)))"
      ],
      "execution_count": 10,
      "outputs": []
    },
    {
      "cell_type": "markdown",
      "metadata": {
        "id": "7RQpy3sSmqq9"
      },
      "source": [
        "## 【問題1】クロスバリデーション"
      ]
    },
    {
      "cell_type": "code",
      "metadata": {
        "id": "KJ7DfHXVmqq9"
      },
      "source": [
        "# KFoldクラスによるクロスバリデーション\n",
        "from sklearn.model_selection import KFold\n",
        "\n",
        "n_splits = 4\n",
        "\"\"\"\n",
        "n_splits = k の値をどれくらいにするか。\n",
        "k = 1 : データが十分に多い場合は、Hold-Out法を用いる。\n",
        "k = 5,10\n",
        "k = n : データが少ない場合は、kの値はnに固定される。nはデータセットのサイズ。\n",
        "\"\"\"\n",
        "\n",
        "def kfold_cross_validation(X, y, n_splits=n_splits):\n",
        "    \"\"\"\n",
        "    KFoldクラスによるクロスバリデーションを行う関数\n",
        "    \"\"\"\n",
        "    kf = KFold(n_splits=n_splits)\n",
        "    print(kf)\n",
        "    # print(kf.get_n_splits(X))\n",
        "    print()\n",
        "    \n",
        "    # kf.split()はイテレータ\n",
        "    for train_index, test_index in kf.split(X):\n",
        "        print(\"TRAIN:\", train_index, \"TEST:\", test_index)\n",
        "        # print(len(train_index), len(test_index))\n",
        "        X_train, X_test = X[train_index], X[test_index]\n",
        "        y_train, y_test = y[train_index], y[test_index]\n",
        "        pred_random_forest(X_train, X_test, y_train, y_test)\n",
        "        print()"
      ],
      "execution_count": 11,
      "outputs": []
    },
    {
      "cell_type": "code",
      "metadata": {
        "colab": {
          "base_uri": "https://localhost:8080/"
        },
        "id": "SWNw0Wgdmqq-",
        "outputId": "538a3bd7-12bb-4e24-94f0-5ceea93318bc"
      },
      "source": [
        "kfold_cross_validation(X_selected_transformed, y)"
      ],
      "execution_count": 12,
      "outputs": [
        {
          "output_type": "stream",
          "text": [
            "KFold(n_splits=4, random_state=None, shuffle=False)\n",
            "\n",
            "TRAIN: [ 76878  76879  76880 ... 307508 307509 307510] TEST: [    0     1     2 ... 76875 76876 76877]\n",
            "Random Forest\n",
            "acc : 0.9180129555919769\n",
            "precision : 0.16751269035532995\n",
            "recall : 0.005346727154893065\n",
            "f1 : 0.010362694300518135\n",
            "confusion matrix \n",
            " [[70542   164]\n",
            " [ 6139    33]]\n",
            "auc \n",
            " 0.554991895552676\n",
            "\n",
            "TRAIN: [     0      1      2 ... 307508 307509 307510] TEST: [ 76878  76879  76880 ... 153753 153754 153755]\n",
            "Random Forest\n",
            "acc : 0.9152683472514894\n",
            "precision : 0.1164021164021164\n",
            "recall : 0.0034542314335060447\n",
            "f1 : 0.006709362610551998\n",
            "confusion matrix \n",
            " [[70342   167]\n",
            " [ 6347    22]]\n",
            "auc \n",
            " 0.5537445813149786\n",
            "\n",
            "TRAIN: [     0      1      2 ... 307508 307509 307510] TEST: [153756 153757 153758 ... 230631 230632 230633]\n",
            "Random Forest\n",
            "acc : 0.9179609251021098\n",
            "precision : 0.13131313131313133\n",
            "recall : 0.004220094140561597\n",
            "f1 : 0.008177386381506526\n",
            "confusion matrix \n",
            " [[70545   172]\n",
            " [ 6135    26]]\n",
            "auc \n",
            " 0.5510641829683971\n",
            "\n",
            "TRAIN: [     0      1      2 ... 230631 230632 230633] TEST: [230634 230635 230636 ... 307508 307509 307510]\n",
            "Random Forest\n",
            "acc : 0.918272044954928\n",
            "precision : 0.1261682242990654\n",
            "recall : 0.004409603135717786\n",
            "f1 : 0.008521382357582454\n",
            "confusion matrix \n",
            " [[70567   187]\n",
            " [ 6096    27]]\n",
            "auc \n",
            " 0.5527151207115465\n",
            "\n"
          ],
          "name": "stdout"
        }
      ]
    },
    {
      "cell_type": "markdown",
      "metadata": {
        "id": "WYIGrBE-mqq-"
      },
      "source": [
        "## 【問題2】グリッドサーチ"
      ]
    },
    {
      "cell_type": "code",
      "metadata": {
        "colab": {
          "base_uri": "https://localhost:8080/"
        },
        "id": "5pkfsQkpmqq-",
        "outputId": "7797992c-a648-440b-9b15-4c1c20641967"
      },
      "source": [
        "# グリッドサーチ\n",
        "from sklearn.model_selection import GridSearchCV\n",
        "# roc_aucで最適化した\n",
        "parameters = {'n_estimators':[10, 20, 30], 'max_depth':[5, 10]}\n",
        "random_forest = RandomForestClassifier()\n",
        "clf_r_f = GridSearchCV(random_forest, parameters, cv=4, scoring=\"roc_auc\")\n",
        "clf_r_f.fit(X_selected_transformed, y)"
      ],
      "execution_count": 13,
      "outputs": [
        {
          "output_type": "execute_result",
          "data": {
            "text/plain": [
              "GridSearchCV(cv=4, error_score=nan,\n",
              "             estimator=RandomForestClassifier(bootstrap=True, ccp_alpha=0.0,\n",
              "                                              class_weight=None,\n",
              "                                              criterion='gini', max_depth=None,\n",
              "                                              max_features='auto',\n",
              "                                              max_leaf_nodes=None,\n",
              "                                              max_samples=None,\n",
              "                                              min_impurity_decrease=0.0,\n",
              "                                              min_impurity_split=None,\n",
              "                                              min_samples_leaf=1,\n",
              "                                              min_samples_split=2,\n",
              "                                              min_weight_fraction_leaf=0.0,\n",
              "                                              n_estimators=100, n_jobs=None,\n",
              "                                              oob_score=False,\n",
              "                                              random_state=None, verbose=0,\n",
              "                                              warm_start=False),\n",
              "             iid='deprecated', n_jobs=None,\n",
              "             param_grid={'max_depth': [5, 10], 'n_estimators': [10, 20, 30]},\n",
              "             pre_dispatch='2*n_jobs', refit=True, return_train_score=False,\n",
              "             scoring='roc_auc', verbose=0)"
            ]
          },
          "metadata": {
            "tags": []
          },
          "execution_count": 13
        }
      ]
    },
    {
      "cell_type": "code",
      "metadata": {
        "colab": {
          "base_uri": "https://localhost:8080/"
        },
        "id": "2NJlzIr4mqq_",
        "outputId": "80c0f49f-85a8-4607-b28d-5e03312e0e1e"
      },
      "source": [
        "# 最適化されたモデルを取得\n",
        "random_forest_best = clf_r_f.best_estimator_\n",
        "# そのパラメータを取得\n",
        "random_forest_best_params = clf_r_f.best_params_\n",
        "print(random_forest_best_params)\n",
        "# そのスコアを確認\n",
        "random_forest_best_score = clf_r_f.best_score_\n",
        "print(\"best_score =\", random_forest_best_score)"
      ],
      "execution_count": 14,
      "outputs": [
        {
          "output_type": "stream",
          "text": [
            "{'max_depth': 10, 'n_estimators': 20}\n",
            "best_score = 0.5944808002099418\n"
          ],
          "name": "stdout"
        }
      ]
    },
    {
      "cell_type": "markdown",
      "metadata": {
        "id": "BghsYKiEmqq_"
      },
      "source": [
        "### 最適化したモデルでスコアを出してみる"
      ]
    },
    {
      "cell_type": "code",
      "metadata": {
        "colab": {
          "base_uri": "https://localhost:8080/",
          "height": 360
        },
        "id": "tXx58y1PmqrA",
        "outputId": "08bcd490-5e63-40c7-8f0f-931f937ee249"
      },
      "source": [
        "# 一例としてROC曲線を表示\n",
        "from sklearn.model_selection import train_test_split\n",
        "from sklearn.metrics import roc_curve\n",
        "from sklearn.metrics import roc_auc_score\n",
        "\n",
        "X_train, X_test, y_train, y_test = train_test_split(X_selected_transformed, y, test_size=0.25, random_state=42)\n",
        "y_pred = random_forest_best.predict_proba(X_test)\n",
        "roc = roc_curve(y_test, y_pred[:, 1])\n",
        "fpr, tpr, thresholds = roc\n",
        "\n",
        "plt.plot(fpr, tpr, marker='o')\n",
        "plt.xlabel('FPR: False positive rate')\n",
        "plt.ylabel('TPR: True positive rate')\n",
        "plt.grid()\n",
        "print(fpr)\n",
        "print(tpr)\n",
        "print(thresholds)\n",
        "\n",
        "roc_auc_score(y_test, y_pred[:, 1])"
      ],
      "execution_count": 15,
      "outputs": [
        {
          "output_type": "stream",
          "text": [
            "[0.         0.         0.         ... 0.99995756 0.99998585 1.        ]\n",
            "[0.00000000e+00 1.61524794e-04 4.19964465e-03 ... 1.00000000e+00\n",
            " 1.00000000e+00 1.00000000e+00]\n",
            "[1.73506427 0.73506427 0.28078949 ... 0.0054268  0.00467381 0.00342058]\n"
          ],
          "name": "stdout"
        },
        {
          "output_type": "execute_result",
          "data": {
            "text/plain": [
              "0.6660907880945448"
            ]
          },
          "metadata": {
            "tags": []
          },
          "execution_count": 15
        },
        {
          "output_type": "display_data",
          "data": {
            "image/png": "[encoded data removed]",
            "text/plain": [
              "<Figure size 432x288 with 1 Axes>"
            ]
          },
          "metadata": {
            "tags": [],
            "needs_background": "light"
          }
        }
      ]
    },
    {
      "cell_type": "markdown",
      "metadata": {
        "id": "q55iPrFJmqrA"
      },
      "source": [
        "### 提出用のデータで予測をする"
      ]
    },
    {
      "cell_type": "code",
      "metadata": {
        "colab": {
          "base_uri": "https://localhost:8080/"
        },
        "id": "ai6wX409mqrA",
        "outputId": "e3284eac-6424-4b85-deb6-23f8cf36b2ac"
      },
      "source": [
        "# 提出用\n",
        "app_test_selected = app_test.loc[:, X_selected.columns]\n",
        "app_test_selected_transformed = scaler.transform(app_test_selected)\n",
        "app_test_pred = random_forest_best.predict_proba(app_test_selected_transformed)[:, 1]\n",
        "app_test_pred"
      ],
      "execution_count": 16,
      "outputs": [
        {
          "output_type": "execute_result",
          "data": {
            "text/plain": [
              "array([0.10964706, 0.05110824, 0.10251786, ..., 0.10200559, 0.1113703 ,\n",
              "       0.11147821])"
            ]
          },
          "metadata": {
            "tags": []
          },
          "execution_count": 16
        }
      ]
    },
    {
      "cell_type": "code",
      "metadata": {
        "id": "Nb8Ap35FmqrB"
      },
      "source": [
        "# テスト値を再読み込みして，RandomForestでクラス分類したカラムを追加\n",
        "df_out = pd.read_csv(\"application_test.csv\")\n",
        "df_out[\"TARGET\"] = app_test_pred\n",
        "\n",
        "# outputディレクトリに出力する\n",
        "df_out[[\"SK_ID_CURR\",\"TARGET\"]].to_csv(\"submission.csv\",index=False)"
      ],
      "execution_count": 17,
      "outputs": []
    },
    {
      "cell_type": "markdown",
      "metadata": {
        "id": "zGp8YMoYmqrB"
      },
      "source": [
        "提出した結果、スコアは 0.58076 であった。"
      ]
    },
    {
      "cell_type": "markdown",
      "metadata": {
        "id": "tOzHajp3mqrB"
      },
      "source": [
        "## 【問題3】Kernelからの調査"
      ]
    },
    {
      "cell_type": "markdown",
      "metadata": {
        "id": "-UTSQb3gmqrC"
      },
      "source": [
        "### どんな人、どんなやり方があるか"
      ]
    },
    {
      "cell_type": "markdown",
      "metadata": {
        "id": "L0YMbwEomqrC"
      },
      "source": [
        "・StratifiedKFold()　を使っている人がいた。  \n",
        "・Automated Feature Engineering という特徴量エンジニアリングの方法がある。  \n",
        "・データを訓練データと検証データに分けてからグリッドサーチしている人がいた。  \n",
        "・ダブルクロスバリデーションというものがある。  \n",
        "・ランダムフォレストの引数をデフォルトから変えている人がいた。  "
      ]
    },
    {
      "cell_type": "markdown",
      "metadata": {
        "id": "FohtveoemqrC"
      },
      "source": [
        "#### ランダムフォレストの引数を変えていた例"
      ]
    },
    {
      "cell_type": "markdown",
      "metadata": {
        "id": "UPOnG5wYmqrC"
      },
      "source": [
        "clf = RandomForestClassifier(\n",
        "    n_estimators=50,\n",
        "    criterion='gini',\n",
        "    max_depth=5,\n",
        "    min_samples_split=2,\n",
        "    min_samples_leaf=1,\n",
        "    min_weight_fraction_leaf=0.0,\n",
        "    max_features='auto',\n",
        "    max_leaf_nodes=None,\n",
        "    min_impurity_decrease=0.0,\n",
        "    min_impurity_split=None,\n",
        "    bootstrap=True,\n",
        "    oob_score=False,\n",
        "    n_jobs=-1,\n",
        "    random_state=0,\n",
        "    verbose=0,\n",
        "    warm_start=False,\n",
        "    class_weight='balanced'\n",
        ")\n",
        "\n",
        "引用元 : https://www.kaggle.com/ynouri/random-forest-k-fold-cross-validation"
      ]
    },
    {
      "cell_type": "markdown",
      "metadata": {
        "id": "4fko5hnzmqrD"
      },
      "source": [
        "## 【問題4】高い汎化性能のモデル作成"
      ]
    },
    {
      "cell_type": "markdown",
      "metadata": {
        "id": "odVREsM6mqrD"
      },
      "source": [
        "### StratifiedKFoldクラスによるクロスバリデーション"
      ]
    },
    {
      "cell_type": "code",
      "metadata": {
        "id": "7zj5-v7ZmqrE"
      },
      "source": [
        "# StratifiedKFoldクラスによるクロスバリデーション\n",
        "from sklearn.model_selection import StratifiedKFold\n",
        "\n",
        "n_splits = 4\n",
        "def stratified_kfold_cross_validation(X, y, n_splits=n_splits):\n",
        "    \"\"\"\n",
        "    StratifiedKFoldクラスによるクロスバリデーションを行う関数\n",
        "    \"\"\"\n",
        "    kf = StratifiedKFold(n_splits=n_splits)\n",
        "    print(kf)\n",
        "    # print(kf.get_n_splits(X))\n",
        "    print()\n",
        "    \n",
        "    # kf.split()はイテレータ\n",
        "    for train_index, test_index in kf.split(X, y):\n",
        "        print(\"TRAIN:\", train_index, \"TEST:\", test_index)\n",
        "        # print(len(train_index), len(test_index))\n",
        "        X_train, X_test = X[train_index], X[test_index]\n",
        "        y_train, y_test = y[train_index], y[test_index]\n",
        "        pred_random_forest(X_train, X_test, y_train, y_test)\n",
        "        print()"
      ],
      "execution_count": 18,
      "outputs": []
    },
    {
      "cell_type": "code",
      "metadata": {
        "colab": {
          "base_uri": "https://localhost:8080/"
        },
        "id": "oSWIVUclmqrE",
        "outputId": "77624ef0-44f0-4511-8416-498c188453e0"
      },
      "source": [
        "stratified_kfold_cross_validation(X_selected_transformed, y)"
      ],
      "execution_count": 19,
      "outputs": [
        {
          "output_type": "stream",
          "text": [
            "StratifiedKFold(n_splits=4, random_state=None, shuffle=False)\n",
            "\n",
            "TRAIN: [ 76838  76839  76840 ... 307508 307509 307510] TEST: [    0     1     2 ... 77221 77223 77234]\n",
            "Random Forest\n",
            "acc : 0.9177788183875751\n",
            "precision : 0.1797752808988764\n",
            "recall : 0.005155469631061705\n",
            "f1 : 0.010023492560689117\n",
            "confusion matrix \n",
            " [[70525   146]\n",
            " [ 6175    32]]\n",
            "auc \n",
            " 0.5558344775528632\n",
            "\n",
            "TRAIN: [     0      1      2 ... 307508 307509 307510] TEST: [ 76838  76839  76840 ... 153894 153895 153896]\n",
            "Random Forest\n",
            "acc : 0.9170894143968366\n",
            "precision : 0.1111111111111111\n",
            "recall : 0.003867225265871737\n",
            "f1 : 0.00747430706944877\n",
            "confusion matrix \n",
            " [[70480   192]\n",
            " [ 6182    24]]\n",
            "auc \n",
            " 0.5546470243108268\n",
            "\n",
            "TRAIN: [     0      1      2 ... 307508 307509 307510] TEST: [152104 152116 152120 ... 230719 230720 230721]\n",
            "Random Forest\n",
            "acc : 0.9173625744686387\n",
            "precision : 0.1306532663316583\n",
            "recall : 0.004189494038027715\n",
            "f1 : 0.008118657298985168\n",
            "confusion matrix \n",
            " [[70499   173]\n",
            " [ 6180    26]]\n",
            "auc \n",
            " 0.5506837310577719\n",
            "\n",
            "TRAIN: [     0      1      2 ... 230719 230720 230721] TEST: [229720 229728 229732 ... 307508 307509 307510]\n",
            "Random Forest\n",
            "acc : 0.9172444294132185\n",
            "precision : 0.1320754716981132\n",
            "recall : 0.0045117628101836935\n",
            "f1 : 0.008725459644749143\n",
            "confusion matrix \n",
            " [[70487   184]\n",
            " [ 6178    28]]\n",
            "auc \n",
            " 0.5561838024243033\n",
            "\n"
          ],
          "name": "stdout"
        }
      ]
    },
    {
      "cell_type": "markdown",
      "metadata": {
        "id": "1eACw5dbmqrG"
      },
      "source": [
        "StratifiedKFold にしてもあまりaucは変わらなかった。"
      ]
    },
    {
      "cell_type": "markdown",
      "metadata": {
        "id": "DT44SxIXmqrH"
      },
      "source": [
        "### ランダムフォレストの引数を変えてみる"
      ]
    },
    {
      "cell_type": "code",
      "metadata": {
        "id": "4zIRWUQfmqrI"
      },
      "source": [
        "def pred_random_forest_1(X_train, X_test, y_train, y_test):\n",
        "    random_forest = RandomForestClassifier(n_estimators=50, criterion='gini', max_depth=5, min_samples_split=2, min_samples_leaf=1, min_weight_fraction_leaf=0.0, max_features='auto', max_leaf_nodes=None, min_impurity_decrease=0.0, min_impurity_split=None, bootstrap=True, oob_score=False, n_jobs=-1, random_state=0, verbose=0, warm_start=False, class_weight='balanced')\n",
        "    model = random_forest\n",
        "    model_name = \"Random Forest\"\n",
        "    print(model_name)\n",
        "    \n",
        "    model.fit(X_train, y_train)\n",
        "    y_pred = model.predict(X_test)\n",
        "    y_pred_proba = model.predict_proba(X_test)\n",
        "    print(\"acc : {}\\nprecision : {}\\nrecall : {}\\nf1 : {}\\nconfusion matrix \\n {}\\nauc \\n {}\".format(*evaluate(y_test, y_pred, y_pred_proba)))"
      ],
      "execution_count": 20,
      "outputs": []
    },
    {
      "cell_type": "code",
      "metadata": {
        "id": "B8Ret8VUmqrJ"
      },
      "source": [
        "n_splits = 4\n",
        "def stratified_kfold_cross_validation_1(X, y, n_splits=n_splits):\n",
        "    \"\"\"\n",
        "    StratifiedKFoldクラスによるクロスバリデーションを行う関数\n",
        "    \"\"\"\n",
        "    kf = StratifiedKFold(n_splits=n_splits)\n",
        "    print(kf)\n",
        "    # print(kf.get_n_splits(X))\n",
        "    print()\n",
        "    \n",
        "    # kf.split()はイテレータ\n",
        "    for train_index, test_index in kf.split(X, y):\n",
        "        print(\"TRAIN:\", train_index, \"TEST:\", test_index)\n",
        "        # print(len(train_index), len(test_index))\n",
        "        X_train, X_test = X[train_index], X[test_index]\n",
        "        y_train, y_test = y[train_index], y[test_index]\n",
        "        pred_random_forest_1(X_train, X_test, y_train, y_test)\n",
        "        print()"
      ],
      "execution_count": 21,
      "outputs": []
    },
    {
      "cell_type": "code",
      "metadata": {
        "colab": {
          "base_uri": "https://localhost:8080/"
        },
        "id": "dkC_LhWumqrJ",
        "outputId": "39f3c280-fb08-4633-bdb4-b8abf4a00562"
      },
      "source": [
        "stratified_kfold_cross_validation_1(X_selected_transformed, y)"
      ],
      "execution_count": 22,
      "outputs": [
        {
          "output_type": "stream",
          "text": [
            "StratifiedKFold(n_splits=4, random_state=None, shuffle=False)\n",
            "\n",
            "TRAIN: [ 76838  76839  76840 ... 307508 307509 307510] TEST: [    0     1     2 ... 77221 77223 77234]\n",
            "Random Forest\n",
            "acc : 0.5142433466011083\n",
            "precision : 0.09960651184322197\n",
            "recall : 0.623972933784437\n",
            "f1 : 0.17178975382568196\n",
            "confusion matrix \n",
            " [[35661 35010]\n",
            " [ 2334  3873]]\n",
            "auc \n",
            " 0.5950826681412837\n",
            "\n",
            "TRAIN: [     0      1      2 ... 307508 307509 307510] TEST: [ 76838  76839  76840 ... 153894 153895 153896]\n",
            "Random Forest\n",
            "acc : 0.5173261531257317\n",
            "precision : 0.0995100961663081\n",
            "recall : 0.6185949081533999\n",
            "f1 : 0.1714413308027241\n",
            "confusion matrix \n",
            " [[35932 34740]\n",
            " [ 2367  3839]]\n",
            "auc \n",
            " 0.5895607031846969\n",
            "\n",
            "TRAIN: [     0      1      2 ... 307508 307509 307510] TEST: [152104 152116 152120 ... 230719 230720 230721]\n",
            "Random Forest\n",
            "acc : 0.5038112333827623\n",
            "precision : 0.09894525364138623\n",
            "recall : 0.6348694811472768\n",
            "f1 : 0.17120757832529437\n",
            "confusion matrix \n",
            " [[34792 35880]\n",
            " [ 2266  3940]]\n",
            "auc \n",
            " 0.5918941421412495\n",
            "\n",
            "TRAIN: [     0      1      2 ... 230719 230720 230721] TEST: [229720 229728 229732 ... 307508 307509 307510]\n",
            "Random Forest\n",
            "acc : 0.5259050171052461\n",
            "precision : 0.09991268224274337\n",
            "recall : 0.6084434418304866\n",
            "f1 : 0.17164026455146708\n",
            "confusion matrix \n",
            " [[36654 34017]\n",
            " [ 2430  3776]]\n",
            "auc \n",
            " 0.5886386392747285\n",
            "\n"
          ],
          "name": "stdout"
        }
      ]
    },
    {
      "cell_type": "markdown",
      "metadata": {
        "id": "uI-HxCsymqrJ"
      },
      "source": [
        "#### さらにグリッドサーチしてみる"
      ]
    },
    {
      "cell_type": "code",
      "metadata": {
        "colab": {
          "base_uri": "https://localhost:8080/"
        },
        "id": "iOLyQ1qDmqrK",
        "outputId": "e940ce05-b6af-4383-be6d-faa643702f91"
      },
      "source": [
        "# roc_aucで最適化した\n",
        "parameters = {'min_samples_leaf':[1, 2, 5], 'max_features':[\"auto\", \"log2\", \"sqrt\"]}\n",
        "random_forest_1 = RandomForestClassifier(n_estimators=50, criterion='gini', max_depth=5, min_samples_split=2, min_samples_leaf=1, min_weight_fraction_leaf=0.0, max_features='auto', max_leaf_nodes=None, min_impurity_decrease=0.0, min_impurity_split=None, bootstrap=True, oob_score=False, n_jobs=-1, random_state=0, verbose=0, warm_start=False, class_weight='balanced')\n",
        "clf_1_r_f = GridSearchCV(random_forest_1, parameters, cv=4, scoring=\"roc_auc\")\n",
        "clf_1_r_f.fit(X_selected_transformed, y)"
      ],
      "execution_count": 23,
      "outputs": [
        {
          "output_type": "execute_result",
          "data": {
            "text/plain": [
              "GridSearchCV(cv=4, error_score=nan,\n",
              "             estimator=RandomForestClassifier(bootstrap=True, ccp_alpha=0.0,\n",
              "                                              class_weight='balanced',\n",
              "                                              criterion='gini', max_depth=5,\n",
              "                                              max_features='auto',\n",
              "                                              max_leaf_nodes=None,\n",
              "                                              max_samples=None,\n",
              "                                              min_impurity_decrease=0.0,\n",
              "                                              min_impurity_split=None,\n",
              "                                              min_samples_leaf=1,\n",
              "                                              min_samples_split=2,\n",
              "                                              min_weight_fraction_leaf=0.0,\n",
              "                                              n_estimators=50, n_jobs=-1,\n",
              "                                              oob_score=False, random_state=0,\n",
              "                                              verbose=0, warm_start=False),\n",
              "             iid='deprecated', n_jobs=None,\n",
              "             param_grid={'max_features': ['auto', 'log2', 'sqrt'],\n",
              "                         'min_samples_leaf': [1, 2, 5]},\n",
              "             pre_dispatch='2*n_jobs', refit=True, return_train_score=False,\n",
              "             scoring='roc_auc', verbose=0)"
            ]
          },
          "metadata": {
            "tags": []
          },
          "execution_count": 23
        }
      ]
    },
    {
      "cell_type": "code",
      "metadata": {
        "colab": {
          "base_uri": "https://localhost:8080/"
        },
        "id": "-aKIWqEAmqrK",
        "outputId": "6d9a8fb7-f891-452c-efcb-968c57c24c9a"
      },
      "source": [
        "# 最適化されたモデルを取得\n",
        "random_forest_best_1 = clf_1_r_f.best_estimator_\n",
        "# そのパラメータを取得\n",
        "random_forest_best_params_1 = clf_1_r_f.best_params_\n",
        "print(random_forest_best_params_1)\n",
        "# そのスコアを確認\n",
        "random_forest_best_score_1 = clf_1_r_f.best_score_\n",
        "print(\"best_score =\", random_forest_best_score_1)"
      ],
      "execution_count": 24,
      "outputs": [
        {
          "output_type": "stream",
          "text": [
            "{'max_features': 'auto', 'min_samples_leaf': 5}\n",
            "best_score = 0.5913404346041042\n"
          ],
          "name": "stdout"
        }
      ]
    },
    {
      "cell_type": "markdown",
      "metadata": {
        "id": "vViWgmUSmqrK"
      },
      "source": [
        "#### 提出してみる。"
      ]
    },
    {
      "cell_type": "code",
      "metadata": {
        "colab": {
          "base_uri": "https://localhost:8080/"
        },
        "id": "nORBKp5cmqrL",
        "outputId": "3be649f6-b17f-4c9c-b391-859836e5ffc2"
      },
      "source": [
        "# 提出用\n",
        "app_test_selected = app_test.loc[:, X_selected.columns]\n",
        "app_test_selected_transformed = scaler.transform(app_test_selected)\n",
        "app_test_pred_1 = random_forest_best_1.predict_proba(app_test_selected_transformed)[:, 1]\n",
        "app_test_pred_1"
      ],
      "execution_count": 25,
      "outputs": [
        {
          "output_type": "execute_result",
          "data": {
            "text/plain": [
              "array([0.57557973, 0.39124833, 0.56730113, ..., 0.56000945, 0.5725557 ,\n",
              "       0.5792076 ])"
            ]
          },
          "metadata": {
            "tags": []
          },
          "execution_count": 25
        }
      ]
    },
    {
      "cell_type": "code",
      "metadata": {
        "id": "yGED1sFzmqrM"
      },
      "source": [
        "# テスト値を再読み込みして，RandomForestでクラス分類したカラムを追加\n",
        "df_out = pd.read_csv(\"application_test.csv\")\n",
        "df_out[\"TARGET\"] = app_test_pred_1\n",
        "\n",
        "# outputディレクトリに出力する\n",
        "df_out[[\"SK_ID_CURR\",\"TARGET\"]].to_csv(\"submission_1.csv\",index=False)"
      ],
      "execution_count": 26,
      "outputs": []
    },
    {
      "cell_type": "markdown",
      "metadata": {
        "id": "nsSYYfswmqrM"
      },
      "source": [
        "結果は  \n",
        "Private Score : 0.58027  \n",
        "Public Score : 0.57445  \n",
        "だった。  "
      ]
    },
    {
      "cell_type": "code",
      "metadata": {
        "colab": {
          "base_uri": "https://localhost:8080/",
          "height": 174
        },
        "id": "YSYIcPIkmqrN",
        "outputId": "f859208e-ce05-4f85-df6e-8b5ae14f0462"
      },
      "source": [
        "print(\"app_test_pred\")\n",
        "display(pd.DataFrame(app_test_pred).describe().transpose())\n",
        "print(\"app_test_pred_1\")\n",
        "display(pd.DataFrame(app_test_pred_1).describe().transpose())"
      ],
      "execution_count": 27,
      "outputs": [
        {
          "output_type": "stream",
          "text": [
            "app_test_pred\n"
          ],
          "name": "stdout"
        },
        {
          "output_type": "display_data",
          "data": {
            "text/html": [
              "<div>\n",
              "<style scoped>\n",
              "    .dataframe tbody tr th:only-of-type {\n",
              "        vertical-align: middle;\n",
              "    }\n",
              "\n",
              "    .dataframe tbody tr th {\n",
              "        vertical-align: top;\n",
              "    }\n",
              "\n",
              "    .dataframe thead th {\n",
              "        text-align: right;\n",
              "    }\n",
              "</style>\n",
              "<table border=\"1\" class=\"dataframe\">\n",
              "  <thead>\n",
              "    <tr style=\"text-align: right;\">\n",
              "      <th></th>\n",
              "      <th>count</th>\n",
              "      <th>mean</th>\n",
              "      <th>std</th>\n",
              "      <th>min</th>\n",
              "      <th>25%</th>\n",
              "      <th>50%</th>\n",
              "      <th>75%</th>\n",
              "      <th>max</th>\n",
              "    </tr>\n",
              "  </thead>\n",
              "  <tbody>\n",
              "    <tr>\n",
              "      <th>0</th>\n",
              "      <td>48744.0</td>\n",
              "      <td>0.081505</td>\n",
              "      <td>0.025611</td>\n",
              "      <td>0.0065</td>\n",
              "      <td>0.06372</td>\n",
              "      <td>0.081205</td>\n",
              "      <td>0.10086</td>\n",
              "      <td>0.463223</td>\n",
              "    </tr>\n",
              "  </tbody>\n",
              "</table>\n",
              "</div>"
            ],
            "text/plain": [
              "     count      mean       std     min      25%       50%      75%       max\n",
              "0  48744.0  0.081505  0.025611  0.0065  0.06372  0.081205  0.10086  0.463223"
            ]
          },
          "metadata": {
            "tags": []
          }
        },
        {
          "output_type": "stream",
          "text": [
            "app_test_pred_1\n"
          ],
          "name": "stdout"
        },
        {
          "output_type": "display_data",
          "data": {
            "text/html": [
              "<div>\n",
              "<style scoped>\n",
              "    .dataframe tbody tr th:only-of-type {\n",
              "        vertical-align: middle;\n",
              "    }\n",
              "\n",
              "    .dataframe tbody tr th {\n",
              "        vertical-align: top;\n",
              "    }\n",
              "\n",
              "    .dataframe thead th {\n",
              "        text-align: right;\n",
              "    }\n",
              "</style>\n",
              "<table border=\"1\" class=\"dataframe\">\n",
              "  <thead>\n",
              "    <tr style=\"text-align: right;\">\n",
              "      <th></th>\n",
              "      <th>count</th>\n",
              "      <th>mean</th>\n",
              "      <th>std</th>\n",
              "      <th>min</th>\n",
              "      <th>25%</th>\n",
              "      <th>50%</th>\n",
              "      <th>75%</th>\n",
              "      <th>max</th>\n",
              "    </tr>\n",
              "  </thead>\n",
              "  <tbody>\n",
              "    <tr>\n",
              "      <th>0</th>\n",
              "      <td>48744.0</td>\n",
              "      <td>0.493175</td>\n",
              "      <td>0.07196</td>\n",
              "      <td>0.153724</td>\n",
              "      <td>0.452686</td>\n",
              "      <td>0.509296</td>\n",
              "      <td>0.551574</td>\n",
              "      <td>0.606369</td>\n",
              "    </tr>\n",
              "  </tbody>\n",
              "</table>\n",
              "</div>"
            ],
            "text/plain": [
              "     count      mean      std       min       25%       50%       75%       max\n",
              "0  48744.0  0.493175  0.07196  0.153724  0.452686  0.509296  0.551574  0.606369"
            ]
          },
          "metadata": {
            "tags": []
          }
        }
      ]
    },
    {
      "cell_type": "markdown",
      "metadata": {
        "id": "01--8CU1mqrN"
      },
      "source": [
        "前回提出したものとスコアがほとんど変わらなかったが、予測の中身がかなり変わった。  \n",
        "具体的には、前回は0に近い予測が多かったが、今回は0.5に近い予測が多かった。"
      ]
    },
    {
      "cell_type": "markdown",
      "metadata": {
        "id": "z_SXW0a4mqrN"
      },
      "source": [
        "### 特徴量が全てある状態でランダムフォレストで予測"
      ]
    },
    {
      "cell_type": "code",
      "metadata": {
        "id": "9DFhcrA4mqrN"
      },
      "source": [
        "n_splits = 4\n",
        "def stratified_kfold_cross_validation_2(X, y, n_splits=n_splits):\n",
        "    \"\"\"\n",
        "    StratifiedKFoldクラスによるクロスバリデーションを行う関数\n",
        "    \"\"\"\n",
        "    kf = StratifiedKFold(n_splits=n_splits)\n",
        "    print(kf)\n",
        "    # print(kf.get_n_splits(X))\n",
        "    print()\n",
        "    \n",
        "    # kf.split()はイテレータ\n",
        "    for train_index, test_index in kf.split(X, y):\n",
        "        print(\"TRAIN:\", train_index, \"TEST:\", test_index)\n",
        "        # print(len(train_index), len(test_index))\n",
        "        X_train, X_test = X.iloc[train_index], X.iloc[test_index]\n",
        "        y_train, y_test = y.iloc[train_index], y.iloc[test_index]\n",
        "        pred_random_forest_1(X_train, X_test, y_train, y_test)\n",
        "        print()"
      ],
      "execution_count": 28,
      "outputs": []
    },
    {
      "cell_type": "code",
      "metadata": {
        "id": "xWulHaHtmqrN"
      },
      "source": [
        "X_1 = X.copy()\n",
        "\n",
        "X_1_object_columns = X_1.select_dtypes(include=\"object\").columns\n",
        "X_1[X_1_object_columns] = X_1[X_1_object_columns].fillna(\"NaN\")\n",
        "X_1 = X_1.fillna(X_1.median())"
      ],
      "execution_count": 29,
      "outputs": []
    },
    {
      "cell_type": "code",
      "metadata": {
        "colab": {
          "base_uri": "https://localhost:8080/"
        },
        "id": "S45QcYyimqrN",
        "outputId": "fbd7f545-fc29-4562-f319-56a19c465872"
      },
      "source": [
        "from sklearn.preprocessing import LabelEncoder\n",
        "#LabelEncoderのインスタンスを生成\n",
        "le = LabelEncoder()\n",
        "\n",
        "for column in X_1_object_columns:\n",
        "    print(column)\n",
        "    #ラベルを覚えさせる\n",
        "    le = le.fit(X_1[column])\n",
        "    #ラベルを整数に変換\n",
        "    X_1[column] = le.transform(X_1[column])"
      ],
      "execution_count": 30,
      "outputs": [
        {
          "output_type": "stream",
          "text": [
            "NAME_CONTRACT_TYPE\n",
            "CODE_GENDER\n",
            "FLAG_OWN_CAR\n",
            "FLAG_OWN_REALTY\n",
            "NAME_TYPE_SUITE\n",
            "NAME_INCOME_TYPE\n",
            "NAME_EDUCATION_TYPE\n",
            "NAME_FAMILY_STATUS\n",
            "NAME_HOUSING_TYPE\n",
            "OCCUPATION_TYPE\n",
            "WEEKDAY_APPR_PROCESS_START\n",
            "ORGANIZATION_TYPE\n",
            "FONDKAPREMONT_MODE\n",
            "HOUSETYPE_MODE\n",
            "WALLSMATERIAL_MODE\n",
            "EMERGENCYSTATE_MODE\n"
          ],
          "name": "stdout"
        }
      ]
    },
    {
      "cell_type": "code",
      "metadata": {
        "colab": {
          "base_uri": "https://localhost:8080/"
        },
        "id": "0HAWECZCmqrO",
        "outputId": "7c2e386b-b4aa-46d7-8a04-c343ae5fbc0e"
      },
      "source": [
        "random_forest_2 = RandomForestClassifier(n_estimators=50, criterion='gini', max_depth=5, min_samples_split=2, min_samples_leaf=1, min_weight_fraction_leaf=0.0, max_features='auto', max_leaf_nodes=None, min_impurity_decrease=0.0, min_impurity_split=None, bootstrap=True, oob_score=False, n_jobs=-1, random_state=0, verbose=0, warm_start=False, class_weight='balanced')\n",
        "random_forest_2.fit(X_1, y)"
      ],
      "execution_count": 31,
      "outputs": [
        {
          "output_type": "execute_result",
          "data": {
            "text/plain": [
              "RandomForestClassifier(bootstrap=True, ccp_alpha=0.0, class_weight='balanced',\n",
              "                       criterion='gini', max_depth=5, max_features='auto',\n",
              "                       max_leaf_nodes=None, max_samples=None,\n",
              "                       min_impurity_decrease=0.0, min_impurity_split=None,\n",
              "                       min_samples_leaf=1, min_samples_split=2,\n",
              "                       min_weight_fraction_leaf=0.0, n_estimators=50, n_jobs=-1,\n",
              "                       oob_score=False, random_state=0, verbose=0,\n",
              "                       warm_start=False)"
            ]
          },
          "metadata": {
            "tags": []
          },
          "execution_count": 31
        }
      ]
    },
    {
      "cell_type": "code",
      "metadata": {
        "colab": {
          "base_uri": "https://localhost:8080/"
        },
        "id": "n13ZtXFZmqrO",
        "outputId": "aaba2f48-6887-49db-e676-3f802e4888b8"
      },
      "source": [
        "stratified_kfold_cross_validation_2(X_1, y)"
      ],
      "execution_count": 32,
      "outputs": [
        {
          "output_type": "stream",
          "text": [
            "StratifiedKFold(n_splits=4, random_state=None, shuffle=False)\n",
            "\n",
            "TRAIN: [ 76838  76839  76840 ... 307508 307509 307510] TEST: [    0     1     2 ... 77221 77223 77234]\n",
            "Random Forest\n",
            "acc : 0.6611124118733578\n",
            "precision : 0.14651610145340552\n",
            "recall : 0.6626389560173997\n",
            "f1 : 0.23997199451559262\n",
            "confusion matrix \n",
            " [[46712 23959]\n",
            " [ 2094  4113]]\n",
            "auc \n",
            " 0.7190949848212911\n",
            "\n",
            "TRAIN: [     0      1      2 ... 307508 307509 307510] TEST: [ 76838  76839  76840 ... 153894 153895 153896]\n",
            "Random Forest\n",
            "acc : 0.67413304196259\n",
            "precision : 0.15203101920236337\n",
            "recall : 0.6633902674830809\n",
            "f1 : 0.24737126719942315\n",
            "confusion matrix \n",
            " [[47709 22963]\n",
            " [ 2089  4117]]\n",
            "auc \n",
            " 0.7268272817679706\n",
            "\n",
            "TRAIN: [     0      1      2 ... 307508 307509 307510] TEST: [152104 152116 152120 ... 230719 230720 230721]\n",
            "Random Forest\n",
            "acc : 0.6657691407164599\n",
            "precision : 0.14799696564678683\n",
            "recall : 0.6601675797615211\n",
            "f1 : 0.24178937118238955\n",
            "confusion matrix \n",
            " [[47086 23586]\n",
            " [ 2109  4097]]\n",
            "auc \n",
            " 0.7179147891215284\n",
            "\n",
            "TRAIN: [     0      1      2 ... 230719 230720 230721] TEST: [229720 229728 229732 ... 307508 307509 307510]\n",
            "Random Forest\n",
            "acc : 0.6709939253612914\n",
            "precision : 0.14976696392528166\n",
            "recall : 0.6575894295842732\n",
            "f1 : 0.24396951128381406\n",
            "confusion matrix \n",
            " [[47503 23168]\n",
            " [ 2125  4081]]\n",
            "auc \n",
            " 0.7243194594508741\n",
            "\n"
          ],
          "name": "stdout"
        }
      ]
    },
    {
      "cell_type": "markdown",
      "metadata": {
        "id": "3W2XJpHbmqrO"
      },
      "source": [
        "### 特徴量が全てある状態でランダムフォレスト（改良版１）"
      ]
    },
    {
      "cell_type": "markdown",
      "metadata": {
        "id": "bgoorcxjmqrO"
      },
      "source": [
        "#### 前処理"
      ]
    },
    {
      "cell_type": "code",
      "metadata": {
        "id": "NfmimoLvmqrO"
      },
      "source": [
        "X_1 = X.copy()\n",
        "app_test_1 = app_test.copy()\n",
        "Xs = pd.concat([X_1, app_test_1])\n",
        "\n",
        "Xs_object_columns = Xs.select_dtypes(include=\"object\").columns\n",
        "Xs[Xs_object_columns] = Xs[Xs_object_columns].fillna(\"NaN\")\n",
        "Xs = Xs.fillna(Xs.median())"
      ],
      "execution_count": 33,
      "outputs": []
    },
    {
      "cell_type": "code",
      "metadata": {
        "colab": {
          "base_uri": "https://localhost:8080/"
        },
        "id": "TsSmNAaymqrP",
        "outputId": "94268e06-8539-484e-d820-e6092d8d4b1d"
      },
      "source": [
        "from sklearn.preprocessing import LabelEncoder\n",
        "#LabelEncoderのインスタンスを生成\n",
        "le = LabelEncoder()\n",
        "\n",
        "for column in Xs_object_columns:\n",
        "    print(column)\n",
        "    #ラベルを覚えさせる\n",
        "    le = le.fit(Xs[column])\n",
        "    #ラベルを整数に変換\n",
        "    Xs[column] = le.transform(Xs[column])"
      ],
      "execution_count": 34,
      "outputs": [
        {
          "output_type": "stream",
          "text": [
            "NAME_CONTRACT_TYPE\n",
            "CODE_GENDER\n",
            "FLAG_OWN_CAR\n",
            "FLAG_OWN_REALTY\n",
            "NAME_TYPE_SUITE\n",
            "NAME_INCOME_TYPE\n",
            "NAME_EDUCATION_TYPE\n",
            "NAME_FAMILY_STATUS\n",
            "NAME_HOUSING_TYPE\n",
            "OCCUPATION_TYPE\n",
            "WEEKDAY_APPR_PROCESS_START\n",
            "ORGANIZATION_TYPE\n",
            "FONDKAPREMONT_MODE\n",
            "HOUSETYPE_MODE\n",
            "WALLSMATERIAL_MODE\n",
            "EMERGENCYSTATE_MODE\n"
          ],
          "name": "stdout"
        }
      ]
    },
    {
      "cell_type": "code",
      "metadata": {
        "id": "2gp5ZSqImqrP"
      },
      "source": [
        "X_1 = Xs[:len(X_1)]\n",
        "app_test_1 = Xs[len(X_1):]"
      ],
      "execution_count": 35,
      "outputs": []
    },
    {
      "cell_type": "markdown",
      "metadata": {
        "id": "H-VS-B8VmqrP"
      },
      "source": [
        "#### 学習"
      ]
    },
    {
      "cell_type": "code",
      "metadata": {
        "colab": {
          "base_uri": "https://localhost:8080/"
        },
        "id": "Jg0pWM2amqrP",
        "outputId": "279cd946-6b0d-44b2-b85c-7be9395ea68b"
      },
      "source": [
        "random_forest_2 = RandomForestClassifier(n_estimators=50, criterion='gini', max_depth=5, min_samples_split=2, min_samples_leaf=1, min_weight_fraction_leaf=0.0, max_features='auto', max_leaf_nodes=None, min_impurity_decrease=0.0, min_impurity_split=None, bootstrap=True, oob_score=False, n_jobs=-1, random_state=0, verbose=0, warm_start=False, class_weight='balanced')\n",
        "random_forest_2.fit(X_1, y)"
      ],
      "execution_count": 36,
      "outputs": [
        {
          "output_type": "execute_result",
          "data": {
            "text/plain": [
              "RandomForestClassifier(bootstrap=True, ccp_alpha=0.0, class_weight='balanced',\n",
              "                       criterion='gini', max_depth=5, max_features='auto',\n",
              "                       max_leaf_nodes=None, max_samples=None,\n",
              "                       min_impurity_decrease=0.0, min_impurity_split=None,\n",
              "                       min_samples_leaf=1, min_samples_split=2,\n",
              "                       min_weight_fraction_leaf=0.0, n_estimators=50, n_jobs=-1,\n",
              "                       oob_score=False, random_state=0, verbose=0,\n",
              "                       warm_start=False)"
            ]
          },
          "metadata": {
            "tags": []
          },
          "execution_count": 36
        }
      ]
    },
    {
      "cell_type": "markdown",
      "metadata": {
        "id": "9ExlHECvmqrP"
      },
      "source": [
        "#### 予測"
      ]
    },
    {
      "cell_type": "code",
      "metadata": {
        "colab": {
          "base_uri": "https://localhost:8080/"
        },
        "id": "hGunyI_CmqrP",
        "outputId": "59fc8f5b-c9cd-461f-ac37-be5dbe631e2a"
      },
      "source": [
        "stratified_kfold_cross_validation_2(X_1, y)"
      ],
      "execution_count": 37,
      "outputs": [
        {
          "output_type": "stream",
          "text": [
            "StratifiedKFold(n_splits=4, random_state=None, shuffle=False)\n",
            "\n",
            "TRAIN: [ 76838  76839  76840 ... 307508 307509 307510] TEST: [    0     1     2 ... 77221 77223 77234]\n",
            "Random Forest\n",
            "acc : 0.6613595567002263\n",
            "precision : 0.1463884430176565\n",
            "recall : 0.6611889801836636\n",
            "f1 : 0.2397056246714561\n",
            "confusion matrix \n",
            " [[46740 23931]\n",
            " [ 2103  4104]]\n",
            "auc \n",
            " 0.7193193867387738\n",
            "\n",
            "TRAIN: [     0      1      2 ... 307508 307509 307510] TEST: [ 76838  76839  76840 ... 153894 153895 153896]\n",
            "Random Forest\n",
            "acc : 0.6747313925960613\n",
            "precision : 0.15205803968018952\n",
            "recall : 0.661940058008379\n",
            "f1 : 0.24730600204683645\n",
            "confusion matrix \n",
            " [[47764 22908]\n",
            " [ 2098  4108]]\n",
            "auc \n",
            " 0.7269723806925181\n",
            "\n",
            "TRAIN: [     0      1      2 ... 307508 307509 307510] TEST: [152104 152116 152120 ... 230719 230720 230721]\n",
            "Random Forest\n",
            "acc : 0.6653008663076563\n",
            "precision : 0.14821087528377355\n",
            "recall : 0.6627457299387689\n",
            "f1 : 0.24224754836999737\n",
            "confusion matrix \n",
            " [[47034 23638]\n",
            " [ 2093  4113]]\n",
            "auc \n",
            " 0.7178061878011966\n",
            "\n",
            "TRAIN: [     0      1      2 ... 230719 230720 230721] TEST: [229720 229728 229732 ... 307508 307509 307510]\n",
            "Random Forest\n",
            "acc : 0.6669615099444567\n",
            "precision : 0.14905011760448705\n",
            "recall : 0.6637125362552369\n",
            "f1 : 0.2434325226795898\n",
            "confusion matrix \n",
            " [[47155 23516]\n",
            " [ 2087  4119]]\n",
            "auc \n",
            " 0.7246899378912\n",
            "\n"
          ],
          "name": "stdout"
        }
      ]
    },
    {
      "cell_type": "markdown",
      "metadata": {
        "id": "eEaQ6WGHmqrQ"
      },
      "source": [
        "#### 予測（提出用）"
      ]
    },
    {
      "cell_type": "code",
      "metadata": {
        "colab": {
          "base_uri": "https://localhost:8080/"
        },
        "id": "1fB9TFBPmqrQ",
        "outputId": "47d63a20-4532-45d7-f6db-3b1408cb7ad7"
      },
      "source": [
        "app_test_pred_2 = random_forest_2.predict_proba(app_test_1)[:, 1]\n",
        "app_test_pred_2"
      ],
      "execution_count": 38,
      "outputs": [
        {
          "output_type": "execute_result",
          "data": {
            "text/plain": [
              "array([0.45610626, 0.54461963, 0.39185225, ..., 0.39642583, 0.44321371,\n",
              "       0.59522521])"
            ]
          },
          "metadata": {
            "tags": []
          },
          "execution_count": 38
        }
      ]
    },
    {
      "cell_type": "code",
      "metadata": {
        "id": "ylUDm7rmmqrQ"
      },
      "source": [
        "# テスト値を再読み込みして，RandomForestでクラス分類したカラムを追加\n",
        "df_out = pd.read_csv(\"application_test.csv\")\n",
        "df_out[\"TARGET\"] = app_test_pred_2\n",
        "\n",
        "# outputディレクトリに出力する\n",
        "df_out[[\"SK_ID_CURR\",\"TARGET\"]].to_csv(\"submission_2.csv\",index=False)"
      ],
      "execution_count": 39,
      "outputs": []
    },
    {
      "cell_type": "markdown",
      "metadata": {
        "id": "64wYrwpNmqrQ"
      },
      "source": [
        "結果は\n",
        "Private Score : 0.70969\n",
        "Public Score : 0.71188\n",
        "だった。"
      ]
    },
    {
      "cell_type": "markdown",
      "metadata": {
        "id": "3VikwoYYmqrQ"
      },
      "source": [
        "## 【問題5】最終的なモデルの選定"
      ]
    },
    {
      "cell_type": "markdown",
      "metadata": {
        "id": "_E3jh7uAmqrQ"
      },
      "source": [
        "最終的に一番結果が良かったモデルは、問題４の「特徴量が全てある状態でランダムフォレスト（改良版１）」のモデルで、スコアは、Private Score : 0.70969、Public Score : 0.71188　であった。\n",
        "\n",
        "RandomForestClassifierのハイパーパラメータは問題３のカーネルを参考にした。\n",
        "欠損値はobject型では特別な処理をせず、int型とfloat型にはmedianを代入した。\n",
        "その後、object型はラベルエンコーディングをした。"
      ]
    }
  ]
}