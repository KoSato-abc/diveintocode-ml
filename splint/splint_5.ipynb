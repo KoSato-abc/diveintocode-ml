{
 "cells": [
  {
   "cell_type": "code",
   "execution_count": 450,
   "metadata": {},
   "outputs": [],
   "source": [
    "import pandas as pd\n",
    "import numpy as np\n",
    "import matplotlib.pyplot as plt\n",
    "import seaborn as sns\n",
    "from sklearn import datasets"
   ]
  },
  {
   "cell_type": "code",
   "execution_count": 451,
   "metadata": {},
   "outputs": [],
   "source": [
    "class ScratchSVMClassifier():\n",
    "    \"\"\"\n",
    "    SVM分類器のスクラッチ実装\n",
    "    Parameters\n",
    "    ----------\n",
    "    num_iter : int\n",
    "      イテレーション数\n",
    "    lr : float\n",
    "      学習率\n",
    "    kernel : str\n",
    "      カーネルの種類。線形カーネル（linear）か多項式カーネル（polly）\n",
    "    threshold : float\n",
    "      サポートベクターを選ぶための閾値\n",
    "    verbose : bool\n",
    "      学習過程を出力する場合はTrue\n",
    "    Attributes\n",
    "    ----------\n",
    "    self.n_support_vectors : int\n",
    "      サポートベクターの数\n",
    "    self.index_support_vectors : 次の形のndarray, shape (n_support_vectors,)\n",
    "      サポートベクターのインデックス\n",
    "    self.X_sv :  次の形のndarray, shape(n_support_vectors, n_features)\n",
    "      サポートベクターの特徴量\n",
    "    self.lam_sv :  次の形のndarray, shape(n_support_vectors, 1)\n",
    "      サポートベクターの未定乗数\n",
    "    self.y_sv :  次の形のndarray, shape(n_support_vectors, 1)\n",
    "      サポートベクターのラベル\n",
    "    \"\"\"\n",
    "    def __init__(self, num_iter, lr, kernel='linear', threshold=1e-4, verbose=False):\n",
    "        # ハイパーパラメータを属性として記録\n",
    "        self.iter = num_iter\n",
    "        self.lr = lr\n",
    "        self.kernel = kernel\n",
    "        self.threshold = threshold\n",
    "        self.verbose = verbose\n",
    "        self.lambd_arr = []\n",
    "        \n",
    "        self.index_support_vectors = []\n",
    "        self.lam_sv = []\n",
    "        self.n_support_vectors = []\n",
    "        self.y_sv = []\n",
    "        self.x_sn = []\n",
    "        \n",
    "    def fit(self, X, y, X_val=None, y_val=None):\n",
    "        \"\"\"\n",
    "        SVM分類器を学習する。検証データが入力された場合はそれに対する精度もイテレーションごとに計算する。\n",
    "        Parameters\n",
    "        ----------\n",
    "        X : 次の形のndarray, shape (n_samples, n_features)\n",
    "            訓練データの特徴量\n",
    "        y : 次の形のndarray, shape (n_samples, )\n",
    "            訓練データの正解値\n",
    "        X_val : 次の形のndarray, shape (n_samples, n_features)\n",
    "            検証データの特徴量\n",
    "        y_val : 次の形のndarray, shape (n_samples, )\n",
    "            検証データの正解値\n",
    "        \"\"\"\n",
    "        # サンプル数分のラグランジュ乗数  λ を作成\n",
    "        self.lambd_arr = np.random.rand(X.shape[0])\n",
    "        # self.lambd_arr = np.array([8, 3, 5, 9, 1]) # TEST\n",
    "        self.lambd_arr = self.lambd_arr.reshape(-1, 1)\n",
    "        \n",
    "        # ラグランジュ未定乗数法により、ラムダの値を更新\n",
    "        self._lagrange(X, y)\n",
    "        # elf._test(\"self.lambd_arr\",self.lambd_arr)\n",
    "        \n",
    "        # サポートベクトルを決定\n",
    "        self.index_support_vectors = np.where(self.threshold < self.lambd_arr)[0].tolist()\n",
    "        self.lam_sv = self.lambd_arr[self.index_support_vectors]\n",
    "        self.n_support_vectors = self.lam_sv.shape[0]\n",
    "        self.y_sv = y[self.index_support_vectors].reshape(-1, 1)\n",
    "        self.x_sn = X[self.index_support_vectors]\n",
    "        \n",
    "        if self.verbose:\n",
    "            #verboseをTrueにした際は学習過程を出力\n",
    "            print()\n",
    "        pass\n",
    "    \n",
    "    # ラグランジュの未定乗数法によりラムダの値を更新\n",
    "    def _lagrange(self, X, y):\n",
    "\n",
    "        # イテレータ分繰り返す\n",
    "        for _itr in range(self.iter):\n",
    "            \n",
    "            # 現在のラムダ\n",
    "            now_lmd_arr = self.lambd_arr.copy()\n",
    "            # np.append(tmp,self.lambd_arr[0].copy)\n",
    "            # サンプル数分繰り返す\n",
    "            for i in range(X.shape[0]):\n",
    "\n",
    "                lmd_j = now_lmd_arr.reshape(-1,1)\n",
    "                y_i   = y.reshape(-1,1)\n",
    "                y_j   = y.reshape(-1,1).T\n",
    "                k = self._calc_kernel(X, X)\n",
    "                \n",
    "                #self._test(\"lmd_j\",lmd_j)\n",
    "                #self._test(\"y_i @ y_j\",y_i @ y_j)\n",
    "                #self._test(\"k\",k)\n",
    "                \n",
    "                # delta = 1 - np.sum( lmd_j @ (y_i @ y_j * k))\n",
    "                delta = np.sum( lmd_j.T @ (y_i @ y_j * k), axis = 0)\n",
    "                delta = delta.reshape(-1, 1)\n",
    "                \n",
    "                # パラメータ（ラムダ）の値を更新\n",
    "                self.lambd_arr = (now_lmd_arr + self.lr*(1-delta)).copy()\n",
    "                \n",
    "                # ゼロ以下のラムダをゼロに調整\n",
    "                self.lambd_arr = np.where(self.lambd_arr < 0, 0, self.lambd_arr)\n",
    "                \n",
    "        # plt.plot(np.arange(self.iter),tmp)\n",
    "        \n",
    "    # カーネル関数\n",
    "    def _calc_kernel(self, X, X2):\n",
    "        \n",
    "        x_i = X.T\n",
    "        x_j = X2\n",
    "        return x_j @ x_i\n",
    "    \n",
    "    def predict(self, X):\n",
    "        \"\"\"\n",
    "        SVM分類器を使いラベルを推定する。\n",
    "        Parameters\n",
    "        ----------\n",
    "        X : 次の形のndarray, shape (n_samples, n_features)\n",
    "            サンプル\n",
    "        Returns\n",
    "        -------\n",
    "            次の形のndarray, shape (n_samples, 1)\n",
    "            SVM分類器による推定結果\n",
    "        \"\"\"\n",
    "        k = self._calc_kernel(X, self.x_sn)\n",
    "        # self._test(\"k\",k)\n",
    "        tmp = np.sum(self.lam_sv)\n",
    "        # self._test(\"tmp\",tmp)\n",
    "        # self._test(\"self.y_sv\",self.y_sv)\n",
    "        fx = (tmp * self.y_sv).T@k\n",
    "        \n",
    "        result = np.where(fx < 0, -1, 1 )\n",
    "        return result\n",
    "    \n",
    "    def _test(self, name, obj):\n",
    "        m = \"      \"\n",
    "        print(m)\n",
    "        print(m, name)\n",
    "        print(m,\"shape:\", obj.shape)\n",
    "        print(m,obj)"
   ]
  },
  {
   "cell_type": "code",
   "execution_count": 453,
   "metadata": {},
   "outputs": [
    {
     "name": "stdout",
     "output_type": "stream",
     "text": [
      "\n"
     ]
    }
   ],
   "source": [
    "X = np.array([[1, 2],[3, 4], [5, 6], [7, 8], [9, 10]])#X_train\n",
    "y = np.array([1, -1, 1, -1, 1])\n",
    "y = y.reshape(-1, 1)\n",
    "\n",
    "scr_svm = ScratchSVMClassifier(1, 0.01, verbose=True)\n",
    "scr_svm.fit(X, y)\n",
    "X_tt = np.arange(10, 0, -1).reshape(-1, 2)#X_test\n",
    "\n",
    "# 検算用\n",
    "# plot_decision_regions(X, y.reshape(y.shape[0],), scr_svm)"
   ]
  },
  {
   "cell_type": "code",
   "execution_count": 454,
   "metadata": {},
   "outputs": [
    {
     "name": "stdout",
     "output_type": "stream",
     "text": [
      "  X_train.shape : (375, 2), X_test.shape : (125, 2)\n"
     ]
    }
   ],
   "source": [
    "# データの準備\n",
    "import numpy as np\n",
    "np.random.seed(seed=0)\n",
    "n_samples = 500#500\n",
    "f0 = [-1, 2]\n",
    "f1 = [2, -1]\n",
    "cov = [[1.0,0.8], [0.8, 1.0]]\n",
    "f0 = np.random.multivariate_normal(f0, cov, int(n_samples/2))\n",
    "f1 = np.random.multivariate_normal(f1, cov, int(n_samples/2))\n",
    "X = np.concatenate((f0, f1))\n",
    "y = np.concatenate((np.ones((int(n_samples/2))), np.ones((int(n_samples/2))) *(-1))).astype(np.int)\n",
    "random_index = np.random.permutation(np.arange(n_samples))\n",
    "X = X[random_index]\n",
    "y = y[random_index]\n",
    "\n",
    "# サンプルデータ１を分割\n",
    "from sklearn.model_selection import train_test_split\n",
    "\n",
    "# シード値は random_state（データを分割する際の乱数のシード値）で指定できます。\n",
    "X_train, X_test, y_train, y_test = train_test_split(X, y)\n",
    "\n",
    "print(\"  X_train.shape : {}, X_test.shape : {}\".format(X_train.shape, X_test.shape))\n",
    "# print(X)\n",
    "# print(y)"
   ]
  },
  {
   "cell_type": "code",
   "execution_count": 455,
   "metadata": {},
   "outputs": [
    {
     "name": "stdout",
     "output_type": "stream",
     "text": [
      "\n"
     ]
    },
    {
     "data": {
      "image/png": "[encoded data removed]",
      "text/plain": [
       "<Figure size 432x288 with 1 Axes>"
      ]
     },
     "metadata": {
      "needs_background": "light"
     },
     "output_type": "display_data"
    }
   ],
   "source": [
    "scr_svm = ScratchSVMClassifier(100, 0.0005, verbose=True)\n",
    "\n",
    "scr_svm.fit(X_train, y_train)\n",
    "scr_svm.predict(X_test)\n",
    "plot_decision_regions(X_train, y_train.reshape(y_train.shape[0],), scr_svm)"
   ]
  },
  {
   "cell_type": "code",
   "execution_count": null,
   "metadata": {},
   "outputs": [],
   "source": []
  },
  {
   "cell_type": "code",
   "execution_count": 456,
   "metadata": {},
   "outputs": [],
   "source": [
    "from matplotlib.colors import ListedColormap\n",
    "import matplotlib.pyplot as plt\n",
    "\n",
    "# 決定領域のプロット\n",
    "def plot_decision_regions(X, y, classifier, test_idx=None, resolution=0.02):\n",
    "\n",
    "    # マーカーとカラーマップの準備\n",
    "    markers = ('s', 'x', 'o', '^', 'v')\n",
    "    colors = ('red', 'blue', 'lightgreen', 'gray', 'cyan')\n",
    "    cmap = ListedColormap(colors[:len(np.unique(y))])\n",
    "\n",
    "    # 決定領域のプロット\n",
    "    x1_min, x1_max = X[:, 0].min() - 1, X[:, 0].max() + 1\n",
    "    x2_min, x2_max = X[:, 1].min() - 1, X[:, 1].max() + 1\n",
    "    xx1, xx2 = np.meshgrid(np.arange(x1_min, x1_max, resolution),\n",
    "                           np.arange(x2_min, x2_max, resolution))\n",
    "    # 各特徴量を1次元配列に変換して予測を実行\n",
    "    Z = classifier.predict(np.array([xx1.ravel(), xx2.ravel()]).T)\n",
    "    # 予測結果を元にグリッドポイントのデータサイズに変換\n",
    "    Z = Z.reshape(xx1.shape)\n",
    "    # グリッドポイントの等高線のプロット\n",
    "    plt.contourf(xx1, xx2, Z, alpha=0.3, cmap=cmap)\n",
    "    # 軸の範囲の設定\n",
    "    plt.xlim(xx1.min(), xx1.max())\n",
    "    plt.ylim(xx2.min(), xx2.max())\n",
    "\n",
    "    # クラス毎にサンプルをプロット\n",
    "    for idx, cl in enumerate(np.unique(y)):\n",
    "        plt.scatter(x=X[y == cl, 0],\n",
    "                    y=X[y == cl, 1],\n",
    "                    alpha=0.8,\n",
    "                    c=colors[idx],\n",
    "                    marker=markers[idx],\n",
    "                    label=cl,\n",
    "                    edgecolor='black')\n",
    "\n",
    "    # テストサンプルを目立たせる\n",
    "    if test_idx:\n",
    "        # すべてのサンプルをプロット\n",
    "        X_test, y_test = X[test_idx, :], y[test_idx]\n",
    "\n",
    "        plt.scatter(X_test[:, 0],\n",
    "                    X_test[:, 1],\n",
    "                    c='',\n",
    "                    edgecolor='black',\n",
    "                    alpha=1.0,\n",
    "                    linewidth=1,\n",
    "                    marker='o',\n",
    "                    s=100,\n",
    "                    label='test set')\n",
    "    plt.scatter(classifier.x_sn[:,0], classifier.x_sn[:,1], c=\"y\")"
   ]
  },
  {
   "cell_type": "code",
   "execution_count": 457,
   "metadata": {},
   "outputs": [
    {
     "data": {
      "text/plain": [
       "array([ 1.18894987,  2.20548127,  0.31731679,  0.17960016, -0.50179779,\n",
       "       -0.0791894 ,  0.9829958 , -0.97854994,  0.46861035,  2.49174927,\n",
       "        2.70709974,  0.14096048, -1.76320579, -1.11362696])"
      ]
     },
     "execution_count": 457,
     "metadata": {},
     "output_type": "execute_result"
    }
   ],
   "source": [
    "scr_svm.x_sn[:,0]"
   ]
  },
  {
   "cell_type": "code",
   "execution_count": null,
   "metadata": {},
   "outputs": [],
   "source": []
  },
  {
   "cell_type": "code",
   "execution_count": null,
   "metadata": {},
   "outputs": [],
   "source": []
  }
 ],
 "metadata": {
  "kernelspec": {
   "display_name": "Python 3",
   "language": "python",
   "name": "python3"
  },
  "language_info": {
   "codemirror_mode": {
    "name": "ipython",
    "version": 3
   },
   "file_extension": ".py",
   "mimetype": "text/x-python",
   "name": "python",
   "nbconvert_exporter": "python",
   "pygments_lexer": "ipython3",
   "version": "3.8.3"
  }
 },
 "nbformat": 4,
 "nbformat_minor": 4
}
