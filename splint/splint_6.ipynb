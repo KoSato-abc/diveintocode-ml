{
 "cells": [
  {
   "cell_type": "code",
   "execution_count": 53,
   "metadata": {},
   "outputs": [],
   "source": [
    "import pandas as pd\n",
    "import numpy as np\n",
    "import matplotlib.pyplot as plt\n",
    "import seaborn as sns\n",
    "from sklearn import datasets\n",
    "import scipy.stats as stats"
   ]
  },
  {
   "cell_type": "code",
   "execution_count": 119,
   "metadata": {},
   "outputs": [],
   "source": [
    "class ScratchDecesionTreeClassifierDepth1():\n",
    "    \"\"\"\n",
    "    深さ1の決定木分類器のスクラッチ実装\n",
    "    Parameters\n",
    "    ----------\n",
    "    verbose : bool\n",
    "      学習過程を出力する場合はTrue\n",
    "    \"\"\"\n",
    "    def __init__(self, verbose=False):\n",
    "        # ハイパーパラメータを属性として記録\n",
    "        self.verbose = verbose\n",
    "        self._ig = 0\n",
    "        self._threshold_val = 0\n",
    "        self._threshold_idx = 0\n",
    "        self._left_class = 0\n",
    "        self._right_class = 0\n",
    "        \n",
    "    # 【問題3】学習\n",
    "    def fit(self, X, y):\n",
    "        \"\"\"\n",
    "        決定木分類器を学習する\n",
    "        Parameters\n",
    "        ----------\n",
    "        X : 次の形のndarray, shape (n_samples, n_features)\n",
    "            訓練データの特徴量\n",
    "        y : 次の形のndarray, shape (n_samples, )\n",
    "            訓練データの正解値\n",
    "        \"\"\"\n",
    "        \n",
    "        # 親ノードのジニ不純度を求める\n",
    "        gini_base = self._get_gini(X, y, None)\n",
    "        \n",
    "        # Xの特徴量数分繰り返す\n",
    "        for i in range(X.shape[1]):\n",
    "            \n",
    "            # 処理対象のXのサンプル列を抽出\n",
    "            X_samples = X[:,i]\n",
    "            max_val = X_samples[np.argmax(X_samples)]\n",
    "            min_val = X_samples[np.argmin(X_samples)]\n",
    "            \n",
    "            # サンプル数分繰り返す\n",
    "            for j in range (len(X_samples)):\n",
    "                \n",
    "                # 閾値\n",
    "                threshold = X_samples[j]\n",
    "                \n",
    "                # 端っこの閾値の場合は次のループへ進む\n",
    "                if threshold == max_val or threshold == min_val:\n",
    "                    continue\n",
    "                \n",
    "                # ジニ不純度を計算する\n",
    "                gini_left, gini_right = self._get_gini( X_samples, y, threshold )\n",
    "                \n",
    "                # 【問題2】情報利得を求める関数\n",
    "                # 情報利得を計算する\n",
    "                ig = gini_base - gini_left - gini_right\n",
    "                \n",
    "                # 保持している情報利得より大きい場合は各値を更新する\n",
    "                if self._ig < ig:\n",
    "                    self._ig = ig\n",
    "                    self._threshold_val = threshold\n",
    "                    self._threshold_idx = i\n",
    "            \n",
    "        # 求めた閾値を元にデータを分割し、クラスの値を保持する\n",
    "        self._split_X(X, y)\n",
    "        \n",
    "        if self.verbose:\n",
    "            #verboseをTrueにした際は学習過程を出力\n",
    "            print()\n",
    "        pass\n",
    "    \n",
    "    # 【問題1】不純度を求める関数\n",
    "    # ジニ不純度を計算する\n",
    "    def _get_gini(self, X_values, y, threshold):\n",
    "        \n",
    "        if threshold is None:\n",
    "            Nt_all = len(X_values)\n",
    "            Nt_left = np.sum(y == np.unique(y)[0])\n",
    "            \n",
    "            # yの値が一種類の場合は右のノードのサンプル数を０にする分岐\n",
    "            if len(np.unique(y)) == 1:\n",
    "                Nt_right = 0\n",
    "            else:\n",
    "                Nt_right = np.sum(y == np.unique(y)[1])\n",
    "            \n",
    "            gini = 1 - ((Nt_left/Nt_all)**2 + (Nt_right/Nt_all)**2)\n",
    "        \n",
    "            return gini\n",
    "        else:\n",
    "            \n",
    "            left_idx = np.where(X_values <= threshold)\n",
    "            left_gini = self._get_gini(X_values[left_idx], y[left_idx], None)\n",
    "            \n",
    "            right_idx = np.where(X_values > threshold)\n",
    "            right_gini = self._get_gini(X_values[right_idx], y[right_idx], None)\n",
    "            \n",
    "            return left_gini, right_gini\n",
    "    \n",
    "    def _split_X(self, X, y):\n",
    "        \n",
    "        left_node_idx = X[:,self._threshold_idx] <= self._threshold_val\n",
    "        right_node_idx = X[:,self._threshold_idx] > self._threshold_val\n",
    "        \n",
    "        self._left_class = np.argmax(np.bincount(y[left_node_idx]))\n",
    "        self._right_class = np.argmax(np.bincount(y[right_node_idx]))\n",
    "        \n",
    "    # 【問題4】推定\n",
    "    def predict(self, X):\n",
    "        \"\"\"\n",
    "        決定木分類器を使いラベルを推定する\n",
    "        \"\"\"\n",
    "        y_pred = []\n",
    "        \n",
    "        for i in range(len(X)):\n",
    "            \n",
    "            x_val = X[i, self._threshold_idx]\n",
    "            \n",
    "            if x_val <= self._threshold_val:\n",
    "                y_pred.append(self._left_class)\n",
    "            else:\n",
    "                y_pred.append(self._right_class)\n",
    "        \n",
    "        return np.array(y_pred)"
   ]
  },
  {
   "cell_type": "code",
   "execution_count": 5,
   "metadata": {},
   "outputs": [],
   "source": [
    "# データの準備\n",
    "X = np.array([[-0.44699 , -2.8073  ],[-1.4621  , -2.4586  ],\n",
    "       [ 0.10645 ,  1.9242  ],[-3.5944  , -4.0112  ],\n",
    "       [-0.9888  ,  4.5718  ],[-3.1625  , -3.9606  ],\n",
    "       [ 0.56421 ,  0.72888 ],[-0.60216 ,  8.4636  ],\n",
    "       [-0.61251 , -0.75345 ],[-0.73535 , -2.2718  ],\n",
    "       [-0.80647 , -2.2135  ],[ 0.86291 ,  2.3946  ],\n",
    "       [-3.1108  ,  0.15394 ],[-2.9362  ,  2.5462  ],\n",
    "       [-0.57242 , -2.9915  ],[ 1.4771  ,  3.4896  ],\n",
    "       [ 0.58619 ,  0.37158 ],[ 0.6017  ,  4.3439  ],\n",
    "       [-2.1086  ,  8.3428  ],[-4.1013  , -4.353   ],\n",
    "       [-1.9948  , -1.3927  ],[ 0.35084 , -0.031994],\n",
    "       [ 0.96765 ,  7.8929  ],[-1.281   , 15.6824  ],\n",
    "       [ 0.96765 , 10.083   ],[ 1.3763  ,  1.3347  ],\n",
    "       [-2.234   , -2.5323  ],[-2.9452  , -1.8219  ],\n",
    "       [ 0.14654 , -0.28733 ],[ 0.5461  ,  5.8245  ],\n",
    "       [-0.65259 ,  9.3444  ],[ 0.59912 ,  5.3524  ],\n",
    "       [ 0.50214 , -0.31818 ],[-3.0603  , -3.6461  ],\n",
    "       [-6.6797  ,  0.67661 ],[-2.353   , -0.72261 ],\n",
    "       [ 1.1319  ,  2.4023  ],[-0.12243 ,  9.0162  ],\n",
    "       [-2.5677  , 13.1779  ],[ 0.057313,  5.4681  ]])\n",
    "y = np.array([0, 0, 0, 0, 0, 0, 0, 0, 0, 0, 0, 0, 0, 0, 0, 0, 0, 0, 0, 0, 1, 1,\n",
    "       1, 1, 1, 1, 1, 1, 1, 1, 1, 1, 1, 1, 1, 1, 1, 1, 1, 1])"
   ]
  },
  {
   "cell_type": "code",
   "execution_count": 122,
   "metadata": {},
   "outputs": [],
   "source": [
    "# 決定領域を可視化するメソッド\n",
    "from matplotlib.colors import ListedColormap\n",
    "import matplotlib.pyplot as plt\n",
    "\n",
    "# 決定領域のプロット\n",
    "def plot_decision_regions(X, y, classifier, test_idx=None, resolution=0.02):\n",
    "\n",
    "    # マーカーとカラーマップの準備\n",
    "    markers = ('s', 'x', 'o', '^', 'v')\n",
    "    colors = ('red', 'blue', 'lightgreen', 'gray', 'cyan')\n",
    "    cmap = ListedColormap(colors[:len(np.unique(y))])\n",
    "\n",
    "    # 決定領域のプロット\n",
    "    x1_min, x1_max = X[:, 0].min() - 1, X[:, 0].max() + 1\n",
    "    x2_min, x2_max = X[:, 1].min() - 1, X[:, 1].max() + 1\n",
    "    xx1, xx2 = np.meshgrid(np.arange(x1_min, x1_max, resolution),\n",
    "                           np.arange(x2_min, x2_max, resolution))\n",
    "    # 各特徴量を1次元配列に変換して予測を実行\n",
    "    Z = classifier.predict(np.array([xx1.ravel(), xx2.ravel()]).T)\n",
    "    # 予測結果を元にグリッドポイントのデータサイズに変換\n",
    "    Z = Z.reshape(xx1.shape)\n",
    "    # グリッドポイントの等高線のプロット\n",
    "    plt.contourf(xx1, xx2, Z, alpha=0.3, cmap=cmap)\n",
    "    # 軸の範囲の設定\n",
    "    plt.xlim(xx1.min(), xx1.max())\n",
    "    plt.ylim(xx2.min(), xx2.max())\n",
    "\n",
    "    # クラス毎にサンプルをプロット\n",
    "    for idx, cl in enumerate(np.unique(y)):\n",
    "        plt.scatter(x=X[y == cl, 0],\n",
    "                    y=X[y == cl, 1],\n",
    "                    alpha=0.8,\n",
    "                    c=colors[idx],\n",
    "                    marker=markers[idx],\n",
    "                    label=cl,\n",
    "                    edgecolor='black')\n",
    "\n",
    "    # テストサンプルを目立たせる\n",
    "    if test_idx:\n",
    "        # すべてのサンプルをプロット\n",
    "        X_test, y_test = X[test_idx, :], y[test_idx]\n",
    "\n",
    "        plt.scatter(X_test[:, 0],\n",
    "                    X_test[:, 1],\n",
    "                    c='',\n",
    "                    edgecolor='black',\n",
    "                    alpha=1.0,\n",
    "                    linewidth=1,\n",
    "                    marker='o',\n",
    "                    s=100,\n",
    "                    label='test set')"
   ]
  },
  {
   "cell_type": "code",
   "execution_count": 140,
   "metadata": {},
   "outputs": [
    {
     "name": "stdout",
     "output_type": "stream",
     "text": [
      "\n",
      "   スクラッチ： [0 0 0 0 0 0 0 0 0 0 0 0 0 0 0 0 0 0 0 0 0 0 0 1 1 0 0 0 0 0 1 0 0 0 0 0 0\n",
      " 1 1 0]\n",
      "   本家　　　： [0 0 0 0 0 0 0 1 0 0 0 0 0 0 0 0 0 0 1 0 0 0 1 1 1 0 0 0 0 1 1 1 0 0 0 0 0\n",
      " 1 1 1]\n"
     ]
    }
   ],
   "source": [
    "# 【問題5】学習と推定\n",
    "\n",
    "# スクラッチ\n",
    "scr_tree = ScratchDecesionTreeClassifierDepth1(True)\n",
    "scr_tree.fit(X, y)\n",
    "y_pred_scr = scr_tree.predict(X)\n",
    "\n",
    "# 本家\n",
    "from sklearn import tree\n",
    "clf = tree.DecisionTreeClassifier(max_depth=1)\n",
    "clf = clf.fit(X, y)\n",
    "y_pred = clf.predict(X)\n",
    "\n",
    "print(\"   スクラッチ：\",y_pred_scr)\n",
    "print(\"   本家　　　：\",y_pred)\n"
   ]
  },
  {
   "cell_type": "code",
   "execution_count": 138,
   "metadata": {},
   "outputs": [
    {
     "data": {
      "image/png": "[encoded data removed]",
      "text/plain": [
       "<Figure size 432x288 with 1 Axes>"
      ]
     },
     "metadata": {
      "needs_background": "light"
     },
     "output_type": "display_data"
    }
   ],
   "source": [
    "# 【問題6】決定領域の可視化\n",
    "# スクラッチ\n",
    "plot_decision_regions(X, y, scr_tree)"
   ]
  },
  {
   "cell_type": "code",
   "execution_count": 139,
   "metadata": {},
   "outputs": [
    {
     "data": {
      "image/png": "[encoded data removed]",
      "text/plain": [
       "<Figure size 432x288 with 1 Axes>"
      ]
     },
     "metadata": {
      "needs_background": "light"
     },
     "output_type": "display_data"
    }
   ],
   "source": [
    "# 本家\n",
    "plot_decision_regions(X, y, clf)"
   ]
  },
  {
   "cell_type": "code",
   "execution_count": null,
   "metadata": {},
   "outputs": [],
   "source": []
  }
 ],
 "metadata": {
  "kernelspec": {
   "display_name": "Python 3",
   "language": "python",
   "name": "python3"
  },
  "language_info": {
   "codemirror_mode": {
    "name": "ipython",
    "version": 3
   },
   "file_extension": ".py",
   "mimetype": "text/x-python",
   "name": "python",
   "nbconvert_exporter": "python",
   "pygments_lexer": "ipython3",
   "version": "3.8.3"
  }
 },
 "nbformat": 4,
 "nbformat_minor": 4
}
