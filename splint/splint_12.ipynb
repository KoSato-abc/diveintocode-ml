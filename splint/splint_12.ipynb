{
 "cells": [
  {
   "cell_type": "code",
   "execution_count": 139,
   "id": "excessive-heritage",
   "metadata": {},
   "outputs": [],
   "source": [
    "import numpy as np\n",
    "import math\n",
    "import matplotlib.pyplot as plt\n",
    "%matplotlib inline\n",
    "import time\n",
    "\n",
    "from keras.datasets import mnist\n",
    "\n",
    "from sklearn.preprocessing import OneHotEncoder\n",
    "from sklearn.model_selection import train_test_split\n",
    "\n",
    "from sklearn.metrics import accuracy_score\n",
    "from sklearn.metrics import precision_score\n",
    "from sklearn.metrics import recall_score\n",
    "from sklearn.metrics import f1_score\n",
    "from sklearn.metrics import confusion_matrix"
   ]
  },
  {
   "cell_type": "markdown",
   "id": "sitting-equality",
   "metadata": {},
   "source": [
    "### 【問題1】2次元畳み込み層の作成"
   ]
  },
  {
   "cell_type": "code",
   "execution_count": 140,
   "id": "homeless-institution",
   "metadata": {},
   "outputs": [],
   "source": [
    "\"\"\"\n",
    "確率的勾配降下法\n",
    "\"\"\"\n",
    "class SGD:\n",
    "    \n",
    "    def __init__(self, lr):\n",
    "        self.lr = lr\n",
    "    def update(self, layer):\n",
    "        layer.W -= self.lr * layer.dW\n",
    "        layer.B -= self.lr * layer.dB\n",
    "        return layer\n",
    "\n",
    "\"\"\"\n",
    "ガウス分布によるシンプルな初期化\n",
    "\"\"\"\n",
    "class SimpleInitializer:\n",
    "\n",
    "    def __init__(self, sigma):\n",
    "        self.sigma = sigma\n",
    "    \n",
    "    def W(self, *shape):\n",
    "        return self.sigma * np.random.randn(*shape)\n",
    "    \n",
    "    def B(self, *shape):\n",
    "        return self.sigma * np.random.randn(*shape)"
   ]
  },
  {
   "cell_type": "code",
   "execution_count": 141,
   "id": "plain-seeker",
   "metadata": {},
   "outputs": [],
   "source": [
    "\"\"\"\n",
    "2次元畳み込み層\n",
    "\"\"\"\n",
    "class Conv2d_3:\n",
    "    \n",
    "    def __init__(self, filter_size, initializer, optimizer, n_in_channels=1, n_out_channels=1, pa=0, st=1):\n",
    "        self.optimizer = optimizer\n",
    "        if type(filter_size) == int:\n",
    "            self.filter_size_h = self.filter_size_w = filter_size\n",
    "        else:\n",
    "            self.filter_size_h = filter_size[0]\n",
    "            self.filter_size_w = filter_size[1]\n",
    "        if type(pa) == int:\n",
    "            self.pa_h = self.pa_w = pa\n",
    "        else:\n",
    "            self.pa_h = pa[0]\n",
    "            self.pa_w = pa[1]\n",
    "        if type(st) == int:\n",
    "            self.st_h = self.st_w = st\n",
    "        else:\n",
    "            self.st_h = st[0]\n",
    "            self.st_w = st[1]\n",
    "        self.W = initializer.W(n_out_channels, n_in_channels, self.filter_size_h, self.filter_size_w)\n",
    "        self.B = initializer.B(n_out_channels)\n",
    "        self.n_in_channels = n_in_channels\n",
    "        self.n_out_channels = n_out_channels\n",
    "        self.n_out_h = None\n",
    "        self.n_out_w = None\n",
    "    \n",
    "    \"\"\"\n",
    "    フォワードプロパゲーション\n",
    "    ----------\n",
    "    X : shape (n_samples, n_in_channels, n_in_h, n_in_w)\n",
    "    A : shape (n_samples, n_out_channels, n_out_h, n_out_w)\n",
    "    \"\"\"\n",
    "    def forward(self, X):\n",
    "        self.n_samples = X.shape[0]\n",
    "        self.n_in_h = X.shape[-2]\n",
    "        self.n_in_w = X.shape[-1]\n",
    "        self.n_out_h = self.out_size(self.n_in_h, self.filter_size_h, self.pa_h, self.st_h)\n",
    "        self.n_out_w = self.out_size(self.n_in_w, self.filter_size_w, self.pa_w, self.st_w)\n",
    "        \n",
    "        # Xをフィルターの大きさに合わせてパディング\n",
    "        X = X.reshape(self.n_samples, self.n_in_channels, self.n_in_h, self.n_in_w) # 念の為\n",
    "        self.X = np.pad(X, ((0,0), (0,0), ((self.filter_size_h-1),0), ((self.filter_size_w-1), 0)))        \n",
    "        \n",
    "        self.X1 = np.zeros((self.n_samples, self.n_in_channels, self.filter_size_h, self.filter_size_w, self.n_in_h+(self.filter_size_h-1), self.n_in_w+(self.filter_size_w-1)))\n",
    "        \n",
    "        for i in range(self.filter_size_h):\n",
    "            for j in range(self.filter_size_w):\n",
    "                self.X1[:, :, i, j] = np.roll(self.X, (-i, -j), axis=(-2, -1))\n",
    "                \n",
    "        # print(self.X1[:, np.newaxis, :, :, :, self.filter_size_h-1-self.pa_h:self.n_in_h+self.pa_h:self.st_h, self.filter_size_w-1-self.pa_w:self.n_in_w+self.pa_w:self.st_w])        \n",
    "        A = np.sum(self.X1[:, np.newaxis, :, :, :, self.filter_size_h-1-self.pa_h:self.n_in_h+self.pa_h:self.st_h, self.filter_size_w-1-self.pa_w:self.n_in_w+self.pa_w:self.st_w]*self.W[:, :, :, :, np.newaxis, np.newaxis], axis=(2, 3, 4)) + self.B.reshape(-1,1,1)\n",
    "        \n",
    "        return A\n",
    "    \n",
    "    def backward(self, dA):\n",
    "        \"\"\"\n",
    "        バックワード\n",
    "        ----------\n",
    "        dA : shape (n_samples, n_out_channels, n_out_h, n_out_w)\n",
    "        ----------\n",
    "        dX : shape (n_samples, n_in_channels, n_in_h, n_in_w)\n",
    "        \"\"\"\n",
    "        self.dW = np.sum(dA[:, :, np.newaxis, np.newaxis, np.newaxis]*self.X1[:, np.newaxis, :, :, :, self.filter_size_h-1-self.pa_h:self.n_in_h+self.pa_h:self.st_h, self.filter_size_w-1-self.pa_w:self.n_in_w+self.pa_w:self.st_w], axis=(0, -2, -1))\n",
    "        self.dB = np.sum(dA, axis=(0, -2, -1))\n",
    "        self.dA = np.pad(dA, ((0,0), (0,0), (0, (self.filter_size_h-1)), (0, (self.filter_size_w-1))))\n",
    "        self.dA1 = np.zeros((self.n_samples, self.n_out_channels, self.filter_size_h, self.filter_size_w, self.dA.shape[-2], self.dA.shape[-1]))\n",
    "        for i in range(self.filter_size_h):\n",
    "            for j in range(self.filter_size_w):\n",
    "                self.dA1[:, :, i, j] = np.roll(self.dA, (i, j), axis=(-2, -1))\n",
    "        dX = np.sum(self.W[:, :, :, :, np.newaxis, np.newaxis]*self.dA1[:, :, np.newaxis, np.newaxis], axis=(1,4,5))\n",
    "        \n",
    "        self.optimizer.update(self)\n",
    "        return dX\n",
    "    \n",
    "    \"\"\"\n",
    "    【問題3】2次元畳み込み後の出力サイズ\n",
    "    \"\"\"\n",
    "    def out_size(self, in_size, f, p=0, s=1): \n",
    "        return int((in_size+2*p-f) // s) + 1"
   ]
  },
  {
   "cell_type": "markdown",
   "id": "valuable-intermediate",
   "metadata": {},
   "source": [
    "### 【問題2】小さな配列での2次元畳み込み層の実験"
   ]
  },
  {
   "cell_type": "code",
   "execution_count": 142,
   "id": "technical-hughes",
   "metadata": {},
   "outputs": [],
   "source": [
    "conv2d_3 = Conv2d_3(filter_size=[1, 3], initializer=SimpleInitializer(0.01), optimizer=SGD(0.01), n_in_channels=1, n_out_channels=1, pa=[0, 0])"
   ]
  },
  {
   "cell_type": "code",
   "execution_count": 143,
   "id": "stylish-aerospace",
   "metadata": {},
   "outputs": [
    {
     "name": "stdout",
     "output_type": "stream",
     "text": [
      "(2, 1, 2, 6)\n",
      "(1, 1, 1, 3)\n"
     ]
    }
   ],
   "source": [
    "x = np.array([[[[1,5,0,2,8,1], [1,5,0,2,8,1]]], [[[1,5,0,2,8,1], [1,5,0,2,8,1]]]])\n",
    "conv2d_3.W = np.array([[[[-1, 2, -1]]]], dtype=float)\n",
    "conv2d_3.B = np.array([0], dtype=float)\n",
    "\n",
    "print(x.shape)\n",
    "print(conv2d_3.W.shape)"
   ]
  },
  {
   "cell_type": "code",
   "execution_count": 144,
   "id": "skilled-research",
   "metadata": {},
   "outputs": [
    {
     "data": {
      "text/plain": [
       "array([[[[1, 5, 0, 2, 8, 1],\n",
       "         [1, 5, 0, 2, 8, 1]]],\n",
       "\n",
       "\n",
       "       [[[1, 5, 0, 2, 8, 1],\n",
       "         [1, 5, 0, 2, 8, 1]]]])"
      ]
     },
     "execution_count": 144,
     "metadata": {},
     "output_type": "execute_result"
    }
   ],
   "source": [
    "x"
   ]
  },
  {
   "cell_type": "code",
   "execution_count": 145,
   "id": "necessary-paraguay",
   "metadata": {},
   "outputs": [
    {
     "name": "stdout",
     "output_type": "stream",
     "text": [
      "[[[[ 9. -7. -4. 13.]\n",
      "   [ 9. -7. -4. 13.]]]\n",
      "\n",
      "\n",
      " [[[ 9. -7. -4. 13.]\n",
      "   [ 9. -7. -4. 13.]]]]\n"
     ]
    }
   ],
   "source": [
    "a = conv2d_3.forward(x)\n",
    "print(a)"
   ]
  },
  {
   "cell_type": "code",
   "execution_count": 146,
   "id": "applicable-colon",
   "metadata": {},
   "outputs": [
    {
     "data": {
      "text/plain": [
       "array([[[[[-1.,  0.,  0.,  0.,  5., -4.],\n",
       "          [-1.,  0.,  0.,  0.,  5., -4.]]]],\n",
       "\n",
       "\n",
       "\n",
       "       [[[[-1.,  0.,  0.,  0.,  5., -4.],\n",
       "          [-1.,  0.,  0.,  0.,  5., -4.]]]]])"
      ]
     },
     "execution_count": 146,
     "metadata": {},
     "output_type": "execute_result"
    }
   ],
   "source": [
    "delta_a = np.array([[[[1,2,3,4], [1,2,3,4]]], [[[1,2,3,4], [1,2,3,4]]]])\n",
    "delta_x = conv2d_3.backward(delta_a)\n",
    "delta_x"
   ]
  },
  {
   "cell_type": "code",
   "execution_count": 147,
   "id": "compact-camping",
   "metadata": {},
   "outputs": [
    {
     "data": {
      "text/plain": [
       "(array([[[[ 76., 172., 128.]]]]), array([40]))"
      ]
     },
     "execution_count": 147,
     "metadata": {},
     "output_type": "execute_result"
    }
   ],
   "source": [
    "delta_w = conv2d_3.dW\n",
    "delta_b = conv2d_3.dB\n",
    "delta_w, delta_b"
   ]
  },
  {
   "cell_type": "markdown",
   "id": "sporting-findings",
   "metadata": {},
   "source": [
    "### 【問題4】最大プーリング層の作成"
   ]
  },
  {
   "cell_type": "code",
   "execution_count": 151,
   "id": "developed-bosnia",
   "metadata": {},
   "outputs": [],
   "source": [
    "class MaxPool2D:\n",
    "    def __init__(self, st):\n",
    "        self.st_h = st[0]\n",
    "        self.st_w = st[1]\n",
    "    \n",
    "    def forward(self, X):\n",
    "        \"\"\"\n",
    "        フォワード\n",
    "        Parameters\n",
    "        ----------\n",
    "        X : 次の形のndarray, shape (n_samples, n_in_channels, n_in_h, n_in_w)\n",
    "            入力\n",
    "        \"\"\"\n",
    "        self.X = X\n",
    "        self.n_samples, self.n_in_channels, self.n_in_h, self.n_in_w = X.shape\n",
    "        A = np.zeros((self.n_samples, self.n_in_channels, self.n_in_h//self.st_h, self.n_in_w//self.st_w))\n",
    "        self.Aij = np.zeros(((self.n_in_h*self.n_in_w)//(self.st_h*self.st_w), X.ndim), dtype=int)\n",
    "        for t in range(self.n_samples):\n",
    "            for m in range(self.n_in_channels):\n",
    "                for i in range(self.n_in_h//self.st_h):\n",
    "                    for j in range(self.n_in_w//self.st_w):\n",
    "                        X1 = X[t, m, i*self.st_h:(i+1)*self.st_h, j*self.st_w:(j+1)*self.st_w]\n",
    "                        A[t, m, i, j] = np.max(X1)\n",
    "                        idx = np.argmax(X1)\n",
    "                        self.Aij[i*(self.n_in_w//self.st_w) + j] = np.array([t, m, i*self.st_h + idx//self.st_h, j*self.st_w + idx%self.st_h], dtype=int)\n",
    "        return A\n",
    "    \n",
    "    def backward(self, dA):\n",
    "        a = np.zeros(self.X.shape)\n",
    "        a[tuple(self.Aij.T)] = 1\n",
    "        return a*dA"
   ]
  },
  {
   "cell_type": "code",
   "execution_count": 152,
   "id": "prostate-scout",
   "metadata": {},
   "outputs": [
    {
     "name": "stdout",
     "output_type": "stream",
     "text": [
      "[[[[ 9. 11. 13. 15.]\n",
      "   [25. 27. 29. 31.]\n",
      "   [41. 43. 45. 47.]]]]\n",
      "[[0 0 1 1]\n",
      " [0 0 1 3]\n",
      " [0 0 1 5]\n",
      " [0 0 1 7]\n",
      " [0 0 3 1]\n",
      " [0 0 3 3]\n",
      " [0 0 3 5]\n",
      " [0 0 3 7]\n",
      " [0 0 5 1]\n",
      " [0 0 5 3]\n",
      " [0 0 5 5]\n",
      " [0 0 5 7]]\n"
     ]
    }
   ],
   "source": [
    "maxpool2d = MaxPool2D([2,2])\n",
    "print(maxpool2d.forward(np.arange(1*1*6*8).reshape(1,1,6,8)))\n",
    "print(maxpool2d.Aij)"
   ]
  },
  {
   "cell_type": "code",
   "execution_count": 153,
   "id": "limiting-mortgage",
   "metadata": {},
   "outputs": [
    {
     "data": {
      "text/plain": [
       "array([[[[ 0.,  0.,  0.,  0.,  0.,  0.,  0.,  0.],\n",
       "         [ 0.,  9.,  0., 11.,  0., 13.,  0., 15.],\n",
       "         [ 0.,  0.,  0.,  0.,  0.,  0.,  0.,  0.],\n",
       "         [ 0., 25.,  0., 27.,  0., 29.,  0., 31.],\n",
       "         [ 0.,  0.,  0.,  0.,  0.,  0.,  0.,  0.],\n",
       "         [ 0., 41.,  0., 43.,  0., 45.,  0., 47.]]]])"
      ]
     },
     "execution_count": 153,
     "metadata": {},
     "output_type": "execute_result"
    }
   ],
   "source": [
    "maxpool2d.backward(np.arange(1*1*6*8).reshape(1,1,6,8))"
   ]
  },
  {
   "cell_type": "markdown",
   "id": "blocked-opposition",
   "metadata": {},
   "source": [
    "### 【問題6】平滑化"
   ]
  },
  {
   "cell_type": "code",
   "execution_count": 154,
   "id": "antique-secretary",
   "metadata": {},
   "outputs": [],
   "source": [
    "class Flatten:\n",
    "    \n",
    "    def forward(self, A):\n",
    "        self.n_samples, self.n_out_channels, self.n_out_h, self.n_out_w = A.shape\n",
    "        return A.reshape(self.n_samples, -1)\n",
    "    \n",
    "    def backward(self, dA):\n",
    "        return dA.reshape(self.n_samples, self.n_out_channels, self.n_out_h, self.n_out_w)"
   ]
  },
  {
   "cell_type": "markdown",
   "id": "wrong-afternoon",
   "metadata": {},
   "source": [
    "### 【問題7】学習と推定"
   ]
  },
  {
   "cell_type": "code",
   "execution_count": 155,
   "id": "fuzzy-manufacturer",
   "metadata": {},
   "outputs": [],
   "source": [
    "class ActSigmoid:\n",
    "    \n",
    "    def forward(self, A):\n",
    "        self.A = A\n",
    "        return self.sigmoid(A)\n",
    "    \n",
    "    def backward(self, dZ):\n",
    "        _sig = self.sigmoid(self.A)\n",
    "        return dZ * (1 - _sig)*_sig\n",
    "    \n",
    "    def sigmoid(self, X):\n",
    "        return 1 / (1 + np.exp(-X))\n",
    "\n",
    "class ActTanh:\n",
    "    \n",
    "    def forward(self, A):\n",
    "        self.A = A\n",
    "        return np.tanh(A)\n",
    "    \n",
    "    def backward(self, dZ):\n",
    "        return dZ * (1 - (np.tanh(self.A))**2)\n",
    "\n",
    "class ActSoftmax:\n",
    "    \n",
    "    def forward(self, X):\n",
    "        self.Z = np.exp(X) / np.sum(np.exp(X), axis=1).reshape(-1,1)\n",
    "        return self.Z\n",
    "    \n",
    "    def backward(self, Y):\n",
    "        self.loss = self.loss_func(Y)\n",
    "        return self.Z - Y\n",
    "    \n",
    "    def loss_func(self, Y, Z=None):\n",
    "        \"\"\"\n",
    "        y_true : (n_samples, n_output)\n",
    "        z : (n_samples, n_output)\n",
    "        \"\"\"\n",
    "        if Z is None:\n",
    "            Z = self.Z\n",
    "        return (-1)*np.average(np.sum(Y*np.log(Z), axis=1))\n",
    "\n",
    "class ActReLU:\n",
    "    def forward(self, A):\n",
    "        self.A = A\n",
    "        return np.clip(A, 0, None)\n",
    "    \n",
    "    def backward(self, dZ):\n",
    "        return dZ * np.clip(np.sign(self.A), 0, None)\n",
    "\n",
    "class ScratchConvNeuralNetrowkClassifier:\n",
    "    \n",
    "    def __init__(self, num_epoch=10, lr=0.01, batch_size=20, \n",
    "                 n_features=784, n_nodes1=400, n_nodes2=200, n_output=10, \n",
    "                 verbose=True, Activater=ActTanh, Optimizer=AdaGrad):\n",
    "        self.num_epoch = num_epoch\n",
    "        self.lr = lr\n",
    "        self.verbose = verbose\n",
    "        \n",
    "        self.batch_size = batch_size # バッチサイズ\n",
    "        self.n_features = n_features # 特徴量の数\n",
    "        # self.n_nodes1 = n_nodes1 # 1層目のノード数 # self.conv2d_3.n_out になる\n",
    "        self.n_nodes2 = n_nodes2 # 2層目のノード数\n",
    "        self.n_output = n_output # 出力のクラス数（3層目のノード数）\n",
    "        \n",
    "        self.Activater = Activater\n",
    "        if Activater == ActSigmoid or Activater == ActTanh:\n",
    "            self.Initializer = XavierInitializer\n",
    "        elif Activater == ActReLU:\n",
    "            self.Initializer = HeInitializer\n",
    "        else:\n",
    "            print(\"活性化関数が不適切\")\n",
    "        self.Optimizer = Optimizer\n",
    "    \n",
    "    def fit(self, X, y, X_val=None, y_val=None):\n",
    "        \n",
    "        self.val_enable = False\n",
    "        if X_val is not None:\n",
    "            self.val_enable = True\n",
    "        \n",
    "        #optimizer = self.Optimizer(self.lr)\n",
    "        self.conv2d_3 = Conv2d_3(filter_size=[7, 7], initializer=SimpleInitializer(0.01), optimizer=self.Optimizer(self.lr), n_in_channels=1, n_out_channels=1, pa=[3, 3], st=[2, 2])\n",
    "        self.conv2d_3.n_out_h = out_size(X.shape[-2], self.conv2d_3.filter_size_h, self.conv2d_3.pa_h, self.conv2d_3.st_h)\n",
    "        self.conv2d_3.n_out_w = out_size(X.shape[-1], self.conv2d_3.filter_size_w, self.conv2d_3.pa_w, self.conv2d_3.st_w)\n",
    "        self.flatten = Flatten()\n",
    "        self.activation1 = self.Activater()\n",
    "        self.FC2 = FC(1*self.conv2d_3.n_out_h*self.conv2d_3.n_out_w, self.n_nodes2, self.Initializer(), self.Optimizer(self.lr))\n",
    "        self.activation2 = self.Activater()\n",
    "        self.FC3 = FC(self.n_nodes2, self.n_output, self.Initializer(), self.Optimizer(self.lr))\n",
    "        self.activation3 = ActSoftmax()\n",
    "        \n",
    "        self.loss = []\n",
    "        self.loss_epoch = [self.activation3.loss_func(y, self.forward_propagation(X))]\n",
    "        \n",
    "        for i in range(self.num_epoch):\n",
    "            time0 = time.time()\n",
    "            get_mini_batch = GetMiniBatch(X, y, batch_size=self.batch_size)\n",
    "            self.iter = len(get_mini_batch)\n",
    "            for mini_X, mini_y in get_mini_batch:\n",
    "                self.forward_propagation(mini_X)\n",
    "                self.back_propagation(mini_X, mini_y)\n",
    "                self.loss.append(self.activation3.loss)\n",
    "            self.loss_epoch.append(self.activation3.loss_func(y, self.forward_propagation(X)))\n",
    "            print(\"epoch[\", i+1, \"] : \", round(time.time()-time0, 2), \"(s)\", sep=\"\")\n",
    "        \n",
    "        if self.verbose:\n",
    "            self.learning_curve()\n",
    "            print()\n",
    "        \n",
    "    def predict(self, X):\n",
    "        return np.argmax(self.forward_propagation(X), axis=1)\n",
    "    \n",
    "    def forward_propagation(self, X):\n",
    "        A1 = self.conv2d_3.forward(X)\n",
    "        A1 = self.flatten.forward(A1)\n",
    "        Z1 = self.activation1.forward(A1)\n",
    "        A2 = self.FC2.forward(Z1)\n",
    "        Z2 = self.activation2.forward(A2)\n",
    "        A3 = self.FC3.forward(Z2)\n",
    "        Z3 = self.activation3.forward(A3)\n",
    "        return Z3\n",
    "        \n",
    "    def back_propagation(self, X, y_true):\n",
    "        dA3 = self.activation3.backward(y_true) # 交差エントロピー誤差とソフトマックスを合わせている\n",
    "        dZ2 = self.FC3.backward(dA3)\n",
    "        dA2 = self.activation2.backward(dZ2)\n",
    "        dZ1 = self.FC2.backward(dA2)\n",
    "        dA1 = self.activation1.backward(dZ1)\n",
    "        dA1 = self.flatten.backward(dA1)\n",
    "        dZ0 = self.conv2d_3.backward(dA1) # dZ0は使用しない\n",
    "    \n",
    "    def learning_curve(self):\n",
    "        plt.title(\"model loss\")\n",
    "        plt.xlabel(\"num_epoch\")\n",
    "        plt.ylabel(\"loss\")\n",
    "        plt.plot(np.arange(1, self.num_epoch*self.iter + 1), self.loss, label=\"train_loss\")\n",
    "        plt.plot(np.arange(0, self.num_epoch + 1)*self.iter, self.loss_epoch, label=\"epoch_loss\")\n",
    "        if self.val_enable:\n",
    "            plt.plot(np.arange(1, self.num_epoch + 1), self.val_loss, label=\"val_loss\")\n",
    "        plt.legend()\n",
    "        plt.show()\n",
    "        return\n",
    "\n",
    "class FC:\n",
    "    \"\"\"\n",
    "    ノード数n_nodes1からn_nodes2への全結合層\n",
    "    Parameters\n",
    "    ----------\n",
    "    n_nodes1 : int\n",
    "      前の層のノード数\n",
    "    n_nodes2 : int\n",
    "      後の層のノード数\n",
    "    initializer : 初期化方法のインスタンス\n",
    "    optimizer : 最適化手法のインスタンス\n",
    "    \"\"\"\n",
    "    def __init__(self, n_nodes1, n_nodes2, initializer, optimizer):\n",
    "        self.optimizer = optimizer\n",
    "        # 初期化\n",
    "        # initializerのメソッドを使い、self.Wとself.Bを初期化する\n",
    "        self.W = initializer.W(n_nodes1, n_nodes2)\n",
    "        self.B = initializer.B(n_nodes2)\n",
    "        \n",
    "    def forward(self, X):\n",
    "        \"\"\"\n",
    "        フォワード\n",
    "        Parameters\n",
    "        ----------\n",
    "        X : 次の形のndarray, shape (batch_size, n_nodes1)\n",
    "            入力\n",
    "        Returns\n",
    "        ----------\n",
    "        A : 次の形のndarray, shape (batch_size, n_nodes2)\n",
    "            出力\n",
    "        \"\"\"\n",
    "        self.X = X\n",
    "        A = X@self.W + self.B\n",
    "        return A\n",
    "    \n",
    "    def backward(self, dA):\n",
    "        \"\"\"\n",
    "        バックワード\n",
    "        Parameters\n",
    "        ----------\n",
    "        dA : 次の形のndarray, shape (batch_size, n_nodes2)\n",
    "            後ろから流れてきた勾配\n",
    "        Returns\n",
    "        ----------\n",
    "        dZ : 次の形のndarray, shape (batch_size, n_nodes1)\n",
    "            前に流す勾配\n",
    "        \"\"\"\n",
    "        dZ = dA@self.W.T\n",
    "        self.dB = np.sum(dA, axis=0)\n",
    "        self.dW = self.X.T@dA\n",
    "        self.optimizer.update(self)\n",
    "        return dZ\n",
    "\n",
    "class XavierInitializer:\n",
    "    def W(self, n_nodes1, n_nodes2):\n",
    "        self.sigma = math.sqrt(1 / n_nodes1)\n",
    "        W = self.sigma * np.random.randn(n_nodes1, n_nodes2)\n",
    "        return W\n",
    "    def B(self, n_nodes2):\n",
    "        B = self.sigma * np.random.randn(n_nodes2)\n",
    "        return B\n",
    "    \n",
    "class HeInitializer():\n",
    "    def W(self, n_nodes1, n_nodes2):\n",
    "        self.sigma = math.sqrt(2 / n_nodes1)\n",
    "        W = self.sigma * np.random.randn(n_nodes1, n_nodes2)\n",
    "        return W\n",
    "    def B(self, n_nodes2):\n",
    "        B = self.sigma * np.random.randn(n_nodes2)\n",
    "        return B\n",
    "\n",
    "class GetMiniBatch:\n",
    "    \"\"\"\n",
    "    ミニバッチを取得するイテレータ\n",
    "\n",
    "    Parameters\n",
    "    ----------\n",
    "    X : 次の形のndarray, shape (n_samples, n_features)\n",
    "      訓練用データ\n",
    "    y : 次の形のndarray, shape (n_samples, 1)\n",
    "      正解値\n",
    "    batch_size : int\n",
    "      バッチサイズ\n",
    "    seed : int\n",
    "      NumPyの乱数のシード\n",
    "    \"\"\"\n",
    "    def __init__(self, X, y, batch_size = 20, seed=0):\n",
    "        self.batch_size = batch_size\n",
    "        np.random.seed(seed)\n",
    "        shuffle_index = np.random.permutation(np.arange(X.shape[0]))\n",
    "        self._X = X[shuffle_index]\n",
    "        self._y = y[shuffle_index]\n",
    "        self._stop = np.ceil(X.shape[0]/self.batch_size).astype(np.int)\n",
    "\n",
    "    def __len__(self):\n",
    "        return self._stop\n",
    "\n",
    "    def __getitem__(self,item):\n",
    "        p0 = item*self.batch_size\n",
    "        p1 = item*self.batch_size + self.batch_size\n",
    "        return self._X[p0:p1], self._y[p0:p1]        \n",
    "\n",
    "    def __iter__(self):\n",
    "        self._counter = 0\n",
    "        return self\n",
    "\n",
    "    def __next__(self):\n",
    "        if self._counter >= self._stop:\n",
    "            raise StopIteration()\n",
    "        p0 = self._counter*self.batch_size\n",
    "        p1 = self._counter*self.batch_size + self.batch_size\n",
    "        self._counter += 1\n",
    "        return self._X[p0:p1], self._y[p0:p1]"
   ]
  },
  {
   "cell_type": "code",
   "execution_count": 164,
   "id": "reduced-memphis",
   "metadata": {},
   "outputs": [],
   "source": [
    "def evaluate(y_true, y_pred):\n",
    "    print(\"  accuracy =\", accuracy_score(y_true, y_pred))\n",
    "    print(\"  precision =\", precision_score(y_true, y_pred, average='macro'))\n",
    "    print(\"  recall =\", recall_score(y_true, y_pred, average='macro'))\n",
    "    print(\"  f1 =\", f1_score(y_true, y_pred, average='macro'))\n",
    "    # print(confusion_matrix(y_true, y_pred))"
   ]
  },
  {
   "cell_type": "code",
   "execution_count": 157,
   "id": "beneficial-induction",
   "metadata": {},
   "outputs": [],
   "source": [
    "(X_train, y_train), (X_test, y_test) = mnist.load_data()\n",
    "\n",
    "X_train = X_train.astype(np.float)\n",
    "X_test = X_test.astype(np.float)\n",
    "X_train /= 255\n",
    "X_test /= 255\n",
    "\n",
    "enc = OneHotEncoder(handle_unknown='ignore', sparse=False)\n",
    "y_train_one_hot = enc.fit_transform(y_train[:, np.newaxis])\n",
    "y_test_one_hot = enc.transform(y_test[:, np.newaxis])\n",
    "# print(y_train.shape) # (60000,)\n",
    "# print(y_train_one_hot.shape) # (60000, 10)\n",
    "# print(y_train_one_hot.dtype) # float64\n",
    "X_train_, X_val, y_train_, y_val = train_test_split(X_train, y_train_one_hot, test_size=0.2)\n",
    "# print(\"X_train.shape =\", X_train_.shape) # (48000, 784)\n",
    "# print(\"X_val.shape =\", X_val.shape) # (12000, 784)\n",
    "# print(\"y_train.shape =\", y_train_.shape) # (48000, 784)\n",
    "# print(\"y_val.shape =\", y_val.shape) # (12000, 784)"
   ]
  },
  {
   "cell_type": "code",
   "execution_count": 158,
   "id": "nonprofit-village",
   "metadata": {},
   "outputs": [
    {
     "name": "stdout",
     "output_type": "stream",
     "text": [
      "epoch[1] : 83.06(s)\n",
      "epoch[2] : 86.93(s)\n",
      "epoch[3] : 85.74(s)\n",
      "epoch[4] : 90.05(s)\n",
      "epoch[5] : 85.54(s)\n",
      "epoch[6] : 88.79(s)\n",
      "epoch[7] : 88.04(s)\n",
      "epoch[8] : 89.37(s)\n",
      "epoch[9] : 93.62(s)\n",
      "epoch[10] : 92.36(s)\n",
      "epoch[11] : 92.35(s)\n",
      "epoch[12] : 93.02(s)\n",
      "epoch[13] : 91.27(s)\n",
      "epoch[14] : 89.74(s)\n",
      "epoch[15] : 88.86(s)\n",
      "epoch[16] : 89.72(s)\n",
      "epoch[17] : 95.17(s)\n",
      "epoch[18] : 92.67(s)\n",
      "epoch[19] : 93.25(s)\n",
      "epoch[20] : 92.13(s)\n",
      "epoch[21] : 88.92(s)\n",
      "epoch[22] : 90.34(s)\n",
      "epoch[23] : 89.87(s)\n",
      "epoch[24] : 92.98(s)\n",
      "epoch[25] : 92.12(s)\n",
      "epoch[26] : 90.41(s)\n",
      "epoch[27] : 90.07(s)\n",
      "epoch[28] : 89.2(s)\n",
      "epoch[29] : 92.91(s)\n",
      "epoch[30] : 87.98(s)\n"
     ]
    },
    {
     "data": {
      "image/png": "[encoded data removed]",
      "text/plain": [
       "<Figure size 432x288 with 1 Axes>"
      ]
     },
     "metadata": {
      "needs_background": "light"
     },
     "output_type": "display_data"
    },
    {
     "name": "stdout",
     "output_type": "stream",
     "text": [
      "\n"
     ]
    }
   ],
   "source": [
    "scratch_cnn1 = ScratchConvNeuralNetrowkClassifier(num_epoch=30, lr=0.01, batch_size=20, \n",
    "                                                  n_features=784, n_nodes1=400, n_nodes2=200, n_output=10, \n",
    "                                                  verbose=True, Activater=ActReLU, Optimizer=AdaGrad)\n",
    "scratch_cnn1.fit(X_train_, y_train_)"
   ]
  },
  {
   "cell_type": "code",
   "execution_count": 165,
   "id": "aerial-priority",
   "metadata": {},
   "outputs": [
    {
     "name": "stdout",
     "output_type": "stream",
     "text": [
      "  accuracy = 0.9754\n",
      "  precision = 0.9754076376601164\n",
      "  recall = 0.9750523062551611\n",
      "  f1 = 0.9751868549142453\n"
     ]
    }
   ],
   "source": [
    "y_pred1 = scratch_cnn1.predict(X_test)\n",
    "evaluate(y_test, y_pred1)"
   ]
  },
  {
   "cell_type": "markdown",
   "id": "artistic-camera",
   "metadata": {},
   "source": [
    "### 【問題10】出力サイズとパラメータ数の計算"
   ]
  },
  {
   "cell_type": "markdown",
   "id": "stretch-channels",
   "metadata": {},
   "source": [
    "\n",
    "入力サイズ : 144×144, 3チャンネル  \n",
    "フィルタサイズ : 3×3, 6チャンネル  \n",
    "ストライド : 1  \n",
    "パディング : なし  \n",
    "→ 出力サイズ : 142×142, 6チャンネル  \n",
    "→ パラメータサイズ : 54  \n",
    "\n",
    "\n",
    "入力サイズ : 60×60, 24チャンネル  \n",
    "フィルタサイズ : 3×3, 48チャンネル  \n",
    "ストライド　: 1  \n",
    "パディング : なし  \n",
    "→ 出力サイズ : 58×58, 48チャンネル  \n",
    "→ パラメータサイズ : 432  \n",
    "\n",
    "\n",
    "入力サイズ : 20×20, 10チャンネル  \n",
    "フィルタサイズ: 3×3, 20チャンネル  \n",
    "ストライド : 2  \n",
    "パディング : なし  \n",
    "→ 出力サイズ : 9×9, 20チャンネル  \n",
    "→ パラメータサイズ : 180  "
   ]
  },
  {
   "cell_type": "code",
   "execution_count": null,
   "id": "white-biotechnology",
   "metadata": {},
   "outputs": [],
   "source": []
  }
 ],
 "metadata": {
  "kernelspec": {
   "display_name": "Python 3",
   "language": "python",
   "name": "python3"
  },
  "language_info": {
   "codemirror_mode": {
    "name": "ipython",
    "version": 3
   },
   "file_extension": ".py",
   "mimetype": "text/x-python",
   "name": "python",
   "nbconvert_exporter": "python",
   "pygments_lexer": "ipython3",
   "version": "3.8.8"
  }
 },
 "nbformat": 4,
 "nbformat_minor": 5
}
