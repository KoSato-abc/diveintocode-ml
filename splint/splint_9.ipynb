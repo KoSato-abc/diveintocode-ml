{
 "cells": [
  {
   "cell_type": "code",
   "execution_count": 1,
   "metadata": {},
   "outputs": [],
   "source": [
    "import numpy as np\n",
    "from sklearn.model_selection import train_test_split"
   ]
  },
  {
   "cell_type": "code",
   "execution_count": 2,
   "metadata": {},
   "outputs": [
    {
     "name": "stdout",
     "output_type": "stream",
     "text": [
      "  (60000, 28, 28)\n",
      "  (10000, 28, 28)\n",
      "  uint8\n"
     ]
    }
   ],
   "source": [
    "\"\"\"\n",
    "データセットの確認\n",
    "\"\"\"\n",
    "from keras.datasets import mnist\n",
    "(X_train, y_train), (X_test, y_test) = mnist.load_data()\n",
    "\n",
    "print(\" \",X_train.shape) # (60000, 28, 28)\n",
    "print(\" \",X_test.shape) # (10000, 28, 28)\n",
    "print(\" \",X_train[0].dtype) # uint8"
   ]
  },
  {
   "cell_type": "code",
   "execution_count": 3,
   "metadata": {},
   "outputs": [
    {
     "name": "stdout",
     "output_type": "stream",
     "text": [
      "  (60000, 784)\n",
      "  (10000, 784)\n",
      "  uint8\n"
     ]
    }
   ],
   "source": [
    "\"\"\"\n",
    "平滑化\n",
    "\"\"\"\n",
    "X_train = X_train.reshape(-1, 784)\n",
    "X_test = X_test.reshape(-1, 784)\n",
    "\n",
    "print(\" \",X_train.shape) # (60000, 784)\n",
    "print(\" \",X_test.shape) # (10000, 784)\n",
    "print(\" \",X_train[0].dtype) # uint8"
   ]
  },
  {
   "cell_type": "code",
   "execution_count": 4,
   "metadata": {},
   "outputs": [
    {
     "data": {
      "image/png": "[encoded data removed]",
      "text/plain": [
       "<Figure size 432x288 with 1 Axes>"
      ]
     },
     "metadata": {
      "needs_background": "light"
     },
     "output_type": "display_data"
    }
   ],
   "source": [
    "\"\"\"\n",
    "画像データの可視化\n",
    "\"\"\"\n",
    "import matplotlib.pyplot as plt\n",
    "%matplotlib inline\n",
    "index = 0\n",
    "image = X_train[index].reshape(28,28)\n",
    "# X_train[index]: (784,)\n",
    "# image: (28, 28)\n",
    "plt.imshow(image, 'gray', vmin = 0, vmax = 255)\n",
    "plt.title('label : {}'.format(y_train[index]))\n",
    "plt.show()"
   ]
  },
  {
   "cell_type": "code",
   "execution_count": 5,
   "metadata": {},
   "outputs": [
    {
     "name": "stdout",
     "output_type": "stream",
     "text": [
      " 1.0\n",
      " 0.0\n"
     ]
    }
   ],
   "source": [
    "\"\"\"\n",
    "前処理\n",
    "\"\"\"\n",
    "# 0から255のuint8型で表される画像データを0から1のfloat型に変換\n",
    "X_train = X_train.astype(np.float)\n",
    "X_test = X_test.astype(np.float)\n",
    "X_train /= 255\n",
    "X_test /= 255\n",
    "print(\"\",X_train.max()) # 1.0\n",
    "print(\"\",X_train.min()) # 0.0"
   ]
  },
  {
   "cell_type": "code",
   "execution_count": 6,
   "metadata": {},
   "outputs": [
    {
     "name": "stdout",
     "output_type": "stream",
     "text": [
      " (60000,)\n",
      " (60000, 10)\n",
      " float64\n"
     ]
    }
   ],
   "source": [
    "# 正解ラベルをone-hot表現に変換\n",
    "from sklearn.preprocessing import OneHotEncoder\n",
    "enc = OneHotEncoder(handle_unknown='ignore', sparse=False)\n",
    "y_train_one_hot = enc.fit_transform(y_train[:, np.newaxis])\n",
    "y_test_one_hot = enc.transform(y_test[:, np.newaxis])\n",
    "print(\"\", y_train.shape) # (60000,)\n",
    "print(\"\", y_train_one_hot.shape) # (60000, 10)\n",
    "print(\"\", y_train_one_hot.dtype) # float64"
   ]
  },
  {
   "cell_type": "code",
   "execution_count": 7,
   "metadata": {},
   "outputs": [
    {
     "name": "stdout",
     "output_type": "stream",
     "text": [
      " (48000, 784)\n",
      " (12000, 784)\n"
     ]
    }
   ],
   "source": [
    "# 訓練データ6万枚の内2割を検証データとして分割(訓練データが48000枚、検証データが12000枚)\n",
    "X_train, X_val, y_train, y_val = train_test_split(X_train, y_train, test_size=0.2)\n",
    "print(\"\", X_train.shape) # (48000, 784)\n",
    "print(\"\", X_val.shape) # (12000, 784)"
   ]
  },
  {
   "cell_type": "markdown",
   "metadata": {},
   "source": [
    "***ニューラルネットワークスクラッチ***"
   ]
  },
  {
   "cell_type": "code",
   "execution_count": 8,
   "metadata": {},
   "outputs": [],
   "source": [
    "# ミニバッチ処理\n",
    "class GetMiniBatch:\n",
    "    \"\"\"\n",
    "    ミニバッチを取得するイテレータ\n",
    "    Parameters\n",
    "    ----------\n",
    "    X : 次の形のndarray, shape (n_samples, n_features)\n",
    "      訓練データ\n",
    "    y : 次の形のndarray, shape (n_samples, 1)\n",
    "      正解値\n",
    "    batch_size : int\n",
    "      バッチサイズ\n",
    "    seed : int\n",
    "      NumPyの乱数のシード\n",
    "    \"\"\"\n",
    "    def __init__(self, X, y, batch_size = 20, seed=0):\n",
    "        self.batch_size = batch_size\n",
    "        np.random.seed(seed)\n",
    "        shuffle_index = np.random.permutation(np.arange(X.shape[0]))\n",
    "        self._X = X[shuffle_index]\n",
    "        self._y = y[shuffle_index]\n",
    "        self._stop = np.ceil(X.shape[0]/self.batch_size).astype(np.int)\n",
    "    def __len__(self):\n",
    "        return self._stop\n",
    "    def __getitem__(self,item):\n",
    "        p0 = item*self.batch_size\n",
    "        p1 = item*self.batch_size + self.batch_size\n",
    "        return self._X[p0:p1], self._y[p0:p1]        \n",
    "    def __iter__(self):\n",
    "        self._counter = 0\n",
    "        return self\n",
    "    def __next__(self):\n",
    "        if self._counter >= self._stop:\n",
    "            raise StopIteration()\n",
    "        p0 = self._counter*self.batch_size\n",
    "        p1 = self._counter*self.batch_size + self.batch_size\n",
    "        self._counter += 1\n",
    "        return self._X[p0:p1], self._y[p0:p1]"
   ]
  },
  {
   "cell_type": "code",
   "execution_count": 9,
   "metadata": {},
   "outputs": [],
   "source": [
    "class ScratchSimpleNeuralNetrowkClassifier():\n",
    "    \n",
    "    SIGMOID, TAN_H = 0, 1 # 使用する活性化関数を識別するための定数\n",
    "    \n",
    "    \"\"\"\n",
    "    シンプルな三層ニューラルネットワーク分類器\n",
    "    ----------\n",
    "    alpha : 学習率\n",
    "    n_epochs : エポック数\n",
    "    activation_function_flg : 活性化関数フラグ（０＝シグモイド関数、１＝ハイパボリックタンジェント関数）\n",
    "    sigma : ガウス分布の標準偏差\n",
    "    verbose : Trueの場合、学習曲線をプロット\n",
    "    ----------\n",
    "    \"\"\"\n",
    "    def __init__(self, alpha = 0.01, n_epochs = 30, activation_function_flg = 1, sigma = 0.01, verbose = True):\n",
    "        \n",
    "        self.alpha = alpha\n",
    "        self.n_epochs = n_epochs\n",
    "        self.verbose = verbose\n",
    "        self.activation_function_flg = activation_function_flg\n",
    "        self.sigma = sigma\n",
    "        \n",
    "        self.n_nodes1, self.n_nodes2, self.n_output = 400, 200, 10 # 各層のノード数\n",
    "        self.batch_size = 20 # バッチサイズ\n",
    "        \n",
    "        self.n_features = None # 特徴量の数\n",
    "        self.w1, self.w2, self.w3 = None, None, None # 重み\n",
    "        self.b1, self.b2, self.b3 = None, None, None # バイアス\n",
    "        self.a1, self.a2, self.a3 = None, None, None # 出力\n",
    "        self.z1, self.z2, self.z3 = None, None, None # 出力（活性化後）\n",
    "    \n",
    "    \"\"\"\n",
    "    ニューラルネットワーク分類器を学習する。\n",
    "    ----------\n",
    "    X : 訓練データの特徴量\n",
    "    y : 訓練データの正解値\n",
    "    X_val : 検証データの特徴量\n",
    "    y_val : 検証データの正解値\n",
    "    \"\"\"\n",
    "    def fit(self, X, y, X_val=None, y_val=None):\n",
    "\n",
    "        # クラス変数の設定\n",
    "        self.n_features = X.shape[1] # 特徴量の数\n",
    "        # 重みの初期値を設定（ランダム）\n",
    "        self.w1 = self._get_ini_w(self.n_features, self.n_nodes1) # (784, 400)\n",
    "        self.w2 = self._get_ini_w(self.n_nodes1, self.n_nodes2) # (400, 200)\n",
    "        self.w3 = self._get_ini_w(self.n_nodes2, self.n_output) # (200, １０)\n",
    "        # バイアスの初期値を設定\n",
    "        self.b1 = np.ones((self.n_nodes1))# (400, )\n",
    "        self.b2 = np.ones((self.n_nodes2)) # (200, )\n",
    "        self.b3 = np.ones((self.n_output)) # (10, )\n",
    "        # 学習過程出力用の変数の設定\n",
    "        val_is_None = X_val is None\n",
    "        train_loss_list = np.zeros((self.n_epochs))\n",
    "        val_loss_list = np.zeros((self.n_epochs))\n",
    "        \n",
    "        # エポック数分繰り返す\n",
    "        for i in range(self.n_epochs):\n",
    "            \n",
    "            # ミニバッチ取得\n",
    "            get_mini_batch = GetMiniBatch(X, y, self.batch_size)\n",
    "            # ミニバッチの個数分ループ\n",
    "            for mini_X_train, mini_y_train in get_mini_batch:\n",
    "            \n",
    "                # フォワードプロバゲーション\n",
    "                self._forward_propagation(mini_X_train)\n",
    "                # one-hot 表現に変換\n",
    "                mini_y_one_hot = self._convert_one_hot(mini_y_train)\n",
    "                # 誤差を算出\n",
    "                loss = self._get_loss(mini_y_one_hot)\n",
    "                # バックプロパゲーション\n",
    "                self._back_propagation(mini_X_train, mini_y_one_hot, loss)\n",
    "            \n",
    "            # 検証用データが存在する場合\n",
    "            if not(val_is_None):\n",
    "                # フォワードプロバゲーション\n",
    "                self._forward_propagation(X_val) # ロスを算出する際に使用するself.z3の値が更新される\n",
    "                # 誤差を記録（バリデーションデータ）\n",
    "                val_loss_list[i] = self._get_loss(self._convert_one_hot(y_val))\n",
    "            # 誤差を記録（トレインデータ）\n",
    "            train_loss_list[i] = loss\n",
    "            \n",
    "        # verboseをTrueにした際は学習過程などを出力する\n",
    "        if self.verbose:\n",
    "            \n",
    "            plt.plot(range(self.n_epochs), train_loss_list, color='r', label='train_loss')\n",
    "            if not(val_is_None):\n",
    "                plt.plot(range(self.n_epochs), val_loss_list, color='b', label='val_loss')\n",
    "            plt.xlabel('epoch')\n",
    "            plt.ylabel('loss')\n",
    "            plt.show()\n",
    "    \n",
    "    \"\"\"\n",
    "    【問題2】フォワードプロパゲーションの実装\n",
    "    \"\"\"\n",
    "    def _forward_propagation(self, X):\n",
    "        \n",
    "        # 一層目の処理\n",
    "        self.a1 = X@self.w1 + self.b1\n",
    "        self.z1 = self._activation(self.a1)\n",
    "        # 二層目の処理\n",
    "        self.a2 = self.z1@self.w2 + self.b2\n",
    "        self.z2 = self._activation(self.a2)\n",
    "        # 三層目の処理\n",
    "        self.a3 = self.z2@self.w3 + self.b3\n",
    "        self.z3 = self._softmax(self.a3)\n",
    "        \n",
    "        return self.z3\n",
    "    \n",
    "    \"\"\"\n",
    "    【問題4】バックプロパゲーションの実装\n",
    "    \"\"\"\n",
    "    def _back_propagation(self, X, y_one_hot, loss):\n",
    "        \n",
    "        # 三層目の処理\n",
    "        a3_grad = (self.z3 - y_one_hot) / self.batch_size\n",
    "        self.w3 -= self.alpha * self.z2.T.dot(a3_grad)\n",
    "        self.b3 -= self.alpha * a3_grad.sum(axis=0)\n",
    "        # 二層目の処理\n",
    "        z2_grad = a3_grad.dot(self.w3.T)\n",
    "        a2_grad = z2_grad * (1 - self.z2 ** 2)\n",
    "        self.w2 -= self.alpha * self.z1.T.dot(a2_grad)\n",
    "        self.b2 -= self.alpha * a2_grad.sum(axis=0)\n",
    "        # 一層目の処理\n",
    "        z1_grad = a2_grad.dot(self.w2.T)\n",
    "        a1_grad = z1_grad * (1 - self.z1 ** 2)\n",
    "        self.w1 -= self.alpha * X.T.dot(a1_grad)\n",
    "        self.b1 -= self.alpha * a1_grad.sum(axis=0)\n",
    "    \n",
    "    \"\"\"\n",
    "    one-hot表現に変換するメソッド\n",
    "    \"\"\"\n",
    "    def _convert_one_hot(self, y):\n",
    "        return (y.reshape(-1, 1) == np.arange(self.n_output)).astype(np.float64)\n",
    "    \n",
    "    \"\"\"\n",
    "    【問題3】交差エントロピー誤差の実装\n",
    "    損失関数（目的関数）:交差エントロピー誤差\n",
    "    \"\"\"\n",
    "    def _get_loss(self, y_one_hot):\n",
    "        return -(y_one_hot * np.log(self.z3)).mean(axis=0).sum()\n",
    "    \n",
    "    \"\"\"\n",
    "    活性化関数\n",
    "    \"\"\"\n",
    "    def _activation(self, a):\n",
    "        \n",
    "        # シグモイド関数の場合\n",
    "        if self.SIGMOID == self.activation_function_flg:\n",
    "            z = 1/(1+np.exp(-1*a))\n",
    "            \n",
    "        # ハイパボリックタンジェントの場合（本来は入力チェックすべきだが、面倒臭いから一旦なし）\n",
    "        else: # elif self.TAN_H == self.activation_function_flg:\n",
    "            z = np.tanh(a)\n",
    "        \n",
    "        return z\n",
    "    \n",
    "    \"\"\"\n",
    "    ソフトマックス関数\n",
    "    \"\"\"\n",
    "    def _softmax(self, a):\n",
    "        a = a - np.max(a, axis=-1, keepdims=True) # オーバーフロー対策\n",
    "        return np.exp(a) / np.sum(np.exp(a), axis=-1, keepdims=True)\n",
    "        \n",
    "    \"\"\"\n",
    "    【問題1】重みの初期値を決めるコードの作成\n",
    "    \"\"\"\n",
    "    def _get_ini_w(self, n_features, n_nodes):\n",
    "        return self.sigma * np.random.randn(n_features, n_nodes) # shape(n_features, n_nodes)\n",
    "    \n",
    "    \"\"\"\n",
    "    【問題5】推定\n",
    "    \"\"\"\n",
    "    def predict(self, X):\n",
    "        return self._forward_propagation(X).argmax(axis=1)"
   ]
  },
  {
   "cell_type": "code",
   "execution_count": 10,
   "metadata": {
    "scrolled": true
   },
   "outputs": [
    {
     "name": "stdout",
     "output_type": "stream",
     "text": [
      "   accuracy_score :  0.9654166666666667\n"
     ]
    }
   ],
   "source": [
    "\"\"\"\n",
    "【問題6】学習と推定\n",
    "\"\"\"\n",
    "scr_nn = ScratchSimpleNeuralNetrowkClassifier(verbose = False) # インスタンス生成\n",
    "scr_nn.fit(X_train, y_train) # 学習\n",
    "y_pred = scr_nn.predict(X_val) # 推定\n",
    "# Accuracyを計算\n",
    "from sklearn.metrics import accuracy_score\n",
    "print(\"   accuracy_score : \", accuracy_score(y_val, y_pred))"
   ]
  },
  {
   "cell_type": "code",
   "execution_count": 11,
   "metadata": {},
   "outputs": [
    {
     "data": {
      "image/png": "[encoded data removed]",
      "text/plain": [
       "<Figure size 432x288 with 1 Axes>"
      ]
     },
     "metadata": {
      "needs_background": "light"
     },
     "output_type": "display_data"
    }
   ],
   "source": [
    "\"\"\"\n",
    "【問題7】学習曲線のプロット\n",
    "\"\"\"\n",
    "scr_nn = ScratchSimpleNeuralNetrowkClassifier()\n",
    "scr_nn.fit(X_train, y_train, X_val, y_val)"
   ]
  },
  {
   "cell_type": "code",
   "execution_count": 12,
   "metadata": {},
   "outputs": [
    {
     "data": {
      "image/png": "[encoded data removed]",
      "text/plain": [
       "<Figure size 432x432 with 36 Axes>"
      ]
     },
     "metadata": {},
     "output_type": "display_data"
    }
   ],
   "source": [
    "\"\"\"\n",
    "【問題8】（アドバンス課題）誤分類の確認\n",
    "\n",
    "語分類結果を並べて表示する。画像の上の表示は「推定結果/正解」である。\n",
    "Parameters:\n",
    "----------\n",
    "y_pred : 推定値のndarray (n_samples,)\n",
    "y_val : 検証データの正解ラベル(n_samples,)\n",
    "X_val : 検証データの特徴量（n_samples, n_features)\n",
    "\"\"\"\n",
    "import numpy as np\n",
    "import matplotlib.pyplot as plt\n",
    "num = 36 # いくつ表示するか\n",
    "\n",
    "true_false = y_pred==y_val\n",
    "false_list = np.where(true_false==False)[0].astype(np.int)\n",
    "if false_list.shape[0] < num:\n",
    "    num = false_list.shape[0]\n",
    "fig = plt.figure(figsize=(6, 6))\n",
    "fig.subplots_adjust(left=0, right=0.8,  bottom=0, top=0.8, hspace=1, wspace=0.5)\n",
    "for i in range(num):\n",
    "    ax = fig.add_subplot(6, 6, i + 1, xticks=[], yticks=[])\n",
    "    ax.set_title(\"{} / {}\".format(y_pred[false_list[i]],y_val[false_list[i]]))\n",
    "    ax.imshow(X_val.reshape(-1,28,28)[false_list[i]], cmap='gray')"
   ]
  },
  {
   "cell_type": "code",
   "execution_count": null,
   "metadata": {},
   "outputs": [],
   "source": []
  },
  {
   "cell_type": "code",
   "execution_count": null,
   "metadata": {},
   "outputs": [],
   "source": []
  },
  {
   "cell_type": "code",
   "execution_count": null,
   "metadata": {},
   "outputs": [],
   "source": []
  },
  {
   "cell_type": "code",
   "execution_count": null,
   "metadata": {},
   "outputs": [],
   "source": []
  }
 ],
 "metadata": {
  "kernelspec": {
   "display_name": "Python 3",
   "language": "python",
   "name": "python3"
  },
  "language_info": {
   "codemirror_mode": {
    "name": "ipython",
    "version": 3
   },
   "file_extension": ".py",
   "mimetype": "text/x-python",
   "name": "python",
   "nbconvert_exporter": "python",
   "pygments_lexer": "ipython3",
   "version": "3.8.8"
  }
 },
 "nbformat": 4,
 "nbformat_minor": 4
}
